{
 "cells": [
  {
   "cell_type": "code",
   "execution_count": 1,
   "metadata": {},
   "outputs": [
    {
     "name": "stderr",
     "output_type": "stream",
     "text": [
      "/anaconda3/envs/anacondapy2/lib/python2.7/site-packages/h5py/__init__.py:36: FutureWarning: Conversion of the second argument of issubdtype from `float` to `np.floating` is deprecated. In future, it will be treated as `np.float64 == np.dtype(float).type`.\n",
      "  from ._conv import register_converters as _register_converters\n"
     ]
    }
   ],
   "source": [
    "import tensorflow as tf\n",
    "import h5py \n",
    "import matplotlib.pyplot as plt\n",
    "import numpy as np\n",
    "import timeit\n",
    "from sklearn import preprocessing"
   ]
  },
  {
   "cell_type": "markdown",
   "metadata": {},
   "source": [
    "# batched data generating function"
   ]
  },
  {
   "cell_type": "code",
   "execution_count": 2,
   "metadata": {},
   "outputs": [],
   "source": [
    "def batch_generator(filename, batch_size):\n",
    "    f = h5py.File(filename, 'r')\n",
    "    batch_count = 0\n",
    "    while True:\n",
    "        if batch_count * batch_size + batch_size > f['label'].shape[0]: #若batchsize不能整除的話，最後餘下的資料永遠不會讀出\n",
    "            batch_count = 0\n",
    "        start_idx = batch_count * batch_size\n",
    "        end_idx = start_idx + batch_size\n",
    "        batch_count += 1\n",
    "        yield f['data'][start_idx : end_idx] , f['label'][start_idx : end_idx]\n",
    "    f.close()"
   ]
  },
  {
   "cell_type": "markdown",
   "metadata": {},
   "source": [
    "# weight function"
   ]
  },
  {
   "cell_type": "code",
   "execution_count": 3,
   "metadata": {},
   "outputs": [],
   "source": [
    "def w(shape): #weight\n",
    "    return tf.Variable(tf.truncated_normal(shape, stddev=0.1), name='w')\n",
    "\n",
    "def b(shape): #bias\n",
    "    return tf.Variable(tf.constant(0.1,shape=shape), name='b')\n",
    "\n",
    "def conv2d(x,w): #x:輸入影像，須為4維張量。 w:filter權重\n",
    "    return tf.nn.conv2d(x, w, strides=[1,1,1,1], padding='SAME')\n",
    "\n",
    "def maxpool2x2(x):\n",
    "    return tf.nn.max_pool(x, ksize=[1,2,2,1], strides=[1,2,2,1], padding='SAME')\n"
   ]
  },
  {
   "cell_type": "markdown",
   "metadata": {},
   "source": [
    "# model"
   ]
  },
  {
   "cell_type": "code",
   "execution_count": 4,
   "metadata": {},
   "outputs": [],
   "source": [
    "pr = 2\n",
    "traindatafile_ =  '/Volumes/Mac/GW/spec/withoutoverlap/5~75/trainingdatawo_spec16-8_freq1024_pr'+str(pr)+'.h5'\n",
    "modelstore = '/Volumes/Mac/GW/model/model-resnet3-1.ckpt'"
   ]
  },
  {
   "cell_type": "code",
   "execution_count": 5,
   "metadata": {},
   "outputs": [
    {
     "name": "stdout",
     "output_type": "stream",
     "text": [
      "6390\n"
     ]
    }
   ],
   "source": [
    "f = h5py.File(traindatafile_, 'r')\n",
    "ll = len(f['data'])\n",
    "print ll"
   ]
  },
  {
   "cell_type": "code",
   "execution_count": 6,
   "metadata": {},
   "outputs": [
    {
     "name": "stdout",
     "output_type": "stream",
     "text": [
      "lenth f = 257\n",
      "lenth t = 121\n",
      "total 31097\n",
      "idx1024= 64\n"
     ]
    }
   ],
   "source": [
    "sample_rate = 8192\n",
    "data_length = 8192 \n",
    "T = data_length / sample_rate\n",
    "\n",
    "nitv = 16.0\n",
    "novl = 8.0\n",
    "#f\n",
    "lenf = int(sample_rate/nitv/2+1)\n",
    "print 'lenth f =',lenf\n",
    "#t\n",
    "lent = int((nitv*T-1)*novl+1)\n",
    "print 'lenth t =',lent\n",
    "#total\n",
    "totalpix = lenf*lent\n",
    "print 'total',totalpix\n",
    "#idx of f=1024\n",
    "idx1024 = (lenf-1)/4\n",
    "print 'idx1024=',idx1024\n",
    "\n",
    "\n",
    "batchSize = 10\n",
    "datasize = ll\n",
    "totalBatchs = datasize/batchSize\n",
    "\n",
    "c1fs = 7 #conv1 filter size\n",
    "c1fn = 2 #conv1 filter number\n",
    "c2fs = 5 #conv2 filter size\n",
    "c2fn = 4 #conv2 filter number\n",
    "c3fs = 3 #conv3 filter size\n",
    "c3fn = 8 #conv3 filter number\n",
    "dos1 = idx1024+1 #1st dim of spectrogram\n",
    "dos2 = lent #2nd din of spectrogram\n",
    "lnn1 = 128 #layer1 neuron number\n",
    "lnn2 =32 #layer1 neuron number"
   ]
  },
  {
   "cell_type": "code",
   "execution_count": 7,
   "metadata": {},
   "outputs": [
    {
     "name": "stdout",
     "output_type": "stream",
     "text": [
      "WARNING:tensorflow:From <ipython-input-7-3333c91ca97a>:67: softmax_cross_entropy_with_logits (from tensorflow.python.ops.nn_ops) is deprecated and will be removed in a future version.\n",
      "Instructions for updating:\n",
      "\n",
      "Future major versions of TensorFlow will allow gradients to flow\n",
      "into the labels input on backprop by default.\n",
      "\n",
      "See @{tf.nn.softmax_cross_entropy_with_logits_v2}.\n",
      "\n"
     ]
    }
   ],
   "source": [
    "with tf.name_scope('input_layer'):\n",
    "    x = tf.placeholder('float', shape=[None, dos1, dos2], name='x')\n",
    "    x_image = tf.reshape(x, [-1, dos1, dos2, 1]) #(筆數,頻率維度,時間維度,通道維度)\n",
    "    \n",
    "with tf.name_scope('c1_conv'):\n",
    "    w1 = w([c1fs ,c1fs ,1, c1fn])\n",
    "    b1 = b([c1fn])\n",
    "    conv1 = conv2d(x_image, w1) + b1\n",
    "    c1_conv = tf.nn.relu(conv1)\n",
    "#輸出[dos1, dos2, 2] \n",
    "\n",
    "with tf.name_scope('c1_pool'):\n",
    "    c1_pool = maxpool2x2(c1_conv)\n",
    "#輸出[dos1/2, dos2/2, 2]\n",
    "    \n",
    "with tf.name_scope('c2_conv'):\n",
    "    w2 = w([c2fs ,c2fs , c1fn, c2fn])\n",
    "    b2 = b([c2fn])\n",
    "    conv2 = conv2d(c1_pool,w2) +b2\n",
    "    c2_conv = tf.nn.relu(conv2)\n",
    "#輸出[dos1/2, dos2/2, 4]\n",
    "    \n",
    "with tf.name_scope('c3_conv'):\n",
    "    w3 = w([c3fs ,c3fs ,c2fn, c3fn])\n",
    "    b3 = b([c3fn])\n",
    "    conv3 = conv2d(c2_conv, w3) + b3\n",
    "#輸出[dos1/2, dos2/2, 8]\n",
    "    #datanum = conv3.shape.as_list()[0]\n",
    "    #dim1 = conv3.shape.as_list()[1]\n",
    "    #dim2 = conv3.shape.as_list()[2]\n",
    "    increase_dim3 = conv3.shape.as_list()[3]-c1_pool.shape.as_list()[3]\n",
    "    #shape = tf.constant([,dim1,dim2,increase_dim3],shape=[4])\n",
    "    #zeropadding = tf.zeros(shape)\n",
    "    zeropadding = tf.zeros_like(conv3)[:,:,:,0:increase_dim3]\n",
    "    \n",
    "    \n",
    "    #shortcut connection\n",
    "    c3_rl = conv3 + tf.concat([c1_pool,zeropadding], 3)\n",
    "    c3_conv = tf.nn.relu(c3_rl)\n",
    "\n",
    "    \n",
    "\n",
    "#neurons = dos1/8*dos2/8*c3fn\n",
    "with tf.name_scope('D_flat'):\n",
    "    D_Flat = tf.layers.Flatten()(c3_conv)\n",
    "\n",
    "with tf.name_scope('D_hidden_layer1'):\n",
    "    inputdim = D_Flat.shape.as_list()[1]\n",
    "    wl1 = w([inputdim, lnn1])\n",
    "    bl1 = b([lnn1])\n",
    "    D_hidden1 = tf.nn.relu(tf.matmul(D_Flat, wl1)+bl1)\n",
    "    \n",
    "with tf.name_scope('D_hidden_layer2'):\n",
    "    wl2 = w([lnn1, lnn2])\n",
    "    bl2 = b([lnn2])\n",
    "    D_hidden2 = tf.nn.relu(tf.matmul(D_hidden1, wl2)+bl2)\n",
    "    \n",
    "with tf.name_scope('output_layer'):\n",
    "    wo = w([lnn2,2])\n",
    "    bo = b([2])\n",
    "    #y_predict = tf.sigmoid(tf.matmul(D_hidden2,wo)+bo)\n",
    "    y_predict = tf.nn.softmax(tf.matmul(D_hidden2,wo)+bo)\n",
    "    \n",
    "with tf.name_scope('optimizer'):\n",
    "    y_label = tf.placeholder('float', shape=[None,2], name='y_label')\n",
    "    #lossfunction = tf.reduce_mean(tf.nn.sigmoid_cross_entropy_with_logits(logits=y_predict, labels=y_label))\n",
    "    lossfunction = tf.reduce_mean(tf.nn.softmax_cross_entropy_with_logits(logits=y_predict, labels=y_label))\n",
    "    optimizer = tf.train.AdamOptimizer(learning_rate=0.0001).minimize(lossfunction)\n",
    "    \n",
    "with tf.name_scope('evaluate_model'):\n",
    "    correct_prediction = tf.equal(tf.argmax(y_predict,1), tf.argmax(y_label,1))\n",
    "    accuracy = tf.reduce_mean(tf.cast(correct_prediction,'float'))"
   ]
  },
  {
   "cell_type": "markdown",
   "metadata": {},
   "source": [
    "# evaluate"
   ]
  },
  {
   "cell_type": "code",
   "execution_count": 8,
   "metadata": {},
   "outputs": [],
   "source": [
    "def evaluate(trainEpochs,peakratio):\n",
    "\n",
    "    start_time = timeit.default_timer()\n",
    "    sess = tf.Session()\n",
    "\n",
    "    saver = tf.train.Saver()\n",
    "\n",
    "    try: #第一次之後執行\n",
    "        saver.restore(sess, modelstore)\n",
    "    except: #第一次跑時執行\n",
    "        sess.run(tf.global_variables_initializer())\n",
    "\n",
    "    traindatafile =  '/Volumes/Mac/GW/spec/withoutoverlap/5~75/trainingdatawo_spec16-8_freq1024_pr'+str(peakratio)+'.h5'\n",
    "    valdatafile = '/Volumes/Mac/GW/spec/overlap/5~75/validationdata_spec16-8_freq1024_pr'+str(peakratio)+'.h5'\n",
    "    \n",
    "    \n",
    "    bg = batch_generator(traindatafile, batchSize)\n",
    "    fval = h5py.File(valdatafile, 'r')\n",
    "    val_x = fval['data'][...]\n",
    "    val_y = fval['label'][...]\n",
    "    #np_utils.to_categorical\n",
    "    for epoch in range(trainEpochs):\n",
    "        for i in range(totalBatchs):\n",
    "            #每次讀取100筆資料\n",
    "            batch_x, batch_y = next(bg)\n",
    "            #將feature和label輸入並計算執行圖\n",
    "            sess.run(optimizer, feed_dict={x : batch_x, y_label : sess.run(tf.one_hot(batch_y, 2)) })\n",
    "        #使用驗證資料計算一次epoch的loss和acc    \n",
    "        loss, acc = sess.run([lossfunction,accuracy],feed_dict={x : val_x, y_label : sess.run(tf.one_hot(val_y, 2))})\n",
    "    \n",
    "        print 'Train Epoch:', '%02d'%(epoch+1), 'Loss=', '{:.9f}'.format(loss), 'Accuracy=',acc\n",
    "    \n",
    "\n",
    "    saver.save(sess, modelstore)\n",
    "\n",
    "    fval.close()\n",
    "    stop_time = timeit.default_timer()\n",
    "    print 'period(s) =', stop_time - start_time\n",
    "    \n",
    "    \n",
    "def estimate(testdatafile):\n",
    "    sess = tf.Session()\n",
    "    saver = tf.train.Saver()\n",
    "    saver.restore(sess, modelstore)\n",
    "    ftest = h5py.File(testdatafile, 'r')\n",
    "    test_x = ftest['data'][...]\n",
    "    test_y = ftest['label'][...]\n",
    "    ftest.close()\n",
    "    \n",
    "    start_time = timeit.default_timer()\n",
    "    print 'acc :', sess.run(accuracy, feed_dict={x : test_x, y_label : sess.run(tf.one_hot(test_y, 2)) })\n",
    "    stop_time = timeit.default_timer()\n",
    "    print 'period of estimate =', stop_time - start_time, '(s)'\n",
    "    \n",
    "def prediction_result(testdatafile):\n",
    "    sess = tf.Session()\n",
    "    saver = tf.train.Saver()\n",
    "    saver.restore(sess, modelstore)\n",
    "    ftest = h5py.File(testdatafile, 'r')\n",
    "    test_x = ftest['data'][...]\n",
    "    test_y = ftest['label'][...]\n",
    "    ftest.close()\n",
    "    \n",
    "    start_time = timeit.default_timer()\n",
    "    predictresult = sess.run(tf.argmax(y_predict, 1), feed_dict={x : test_x, y_label : sess.run(tf.one_hot(test_y, 2))})\n",
    "    stop_time = timeit.default_timer()\n",
    "    print 'period of prediction =', stop_time - start_time, '(s)'\n",
    "    return predictresult"
   ]
  },
  {
   "cell_type": "code",
   "execution_count": 9,
   "metadata": {},
   "outputs": [],
   "source": [
    "def relation(n):\n",
    "    d = '/Volumes/Mac/GW/spec/withoutoverlap/5.5~74.5/testdatawo_spec16-8_freq1024_pr0.5_2time10_'\n",
    "    rm = np.zeros([70,70])\n",
    "    cm = np.zeros([2,2])\n",
    "    for j in range(n):\n",
    "        data =  d+str(j)+'.h5'\n",
    "        test = h5py.File(data, 'r')\n",
    "        test_par = test['parameter'][...]\n",
    "        test_lab = test['label'][...]\n",
    "        test.close()\n",
    "        predict = prediction_result(data)\n",
    "        cm += confusionmatrix(predict,test_lab)\n",
    "        for i in range(len(test_par)):\n",
    "            if test_par[i,0] != 0: #選擇有訊號的數據\n",
    "                if test_lab[i] != predict[i]: #預測不正確則顏色加深\n",
    "                    row = int(test_par[i,0]-5.5)\n",
    "                    col =  int(test_par[i,1]-5.5)\n",
    "                    rm[row,col] += 1.\n",
    "    acc(cm)\n",
    "    sensitivity(cm)\n",
    "    false_alarm_rate(cm)\n",
    "    scale = preprocessing.MinMaxScaler(feature_range=(0,1))\n",
    "    rmr = rm.reshape(70*70,1)\n",
    "    rmrn = scale.fit_transform(rmr)\n",
    "    rm = rmrn.reshape(70, 70)\n",
    "    \n",
    "    plt.imshow(rm, cmap='binary')\n",
    "    tick_idx = [0,10,20,30,40,50,60]\n",
    "    tick_mass = [5.5,15.5,25.5,35.5,45.5,55.5,65.5]\n",
    "    plt.yticks(tick_idx , tick_mass)\n",
    "    plt.xticks(tick_idx , tick_mass)\n",
    "\n",
    "def confusionmatrix(prediction_result,test_y):\n",
    "    sess = tf.Session()\n",
    "    cm = sess.run(tf.confusion_matrix(test_y, prediction_result))\n",
    "    print 'confusionmatrix ='\n",
    "    print cm\n",
    "    return cm\n",
    "\n",
    "def false_alarm_rate(cm):\n",
    "    fp = cm[0,1].astype('float64')\n",
    "    tn = cm[0,0].astype('float64')\n",
    "    print 'false alarm rate =',fp/(fp+tn) #false alarm rate\n",
    "\n",
    "def sensitivity(cm):\n",
    "    tp = cm[1,1].astype('float64')\n",
    "    fn = cm[1,0].astype('float64')\n",
    "    print 'sensitivity =',tp/(tp+fn) #sensitivity\n",
    "    \n",
    "\n",
    "def acc(cm):\n",
    "    print 'acc =',(cm[0,0]+cm[1,1])/np.sum(cm)\n",
    "def summary():\n",
    "    estimate()\n",
    "    pr = prediction_result()\n",
    "    cm = confusionmatrix(pr)\n",
    "    false_alarm_rate(cm)\n",
    "    sensitivity(cm)"
   ]
  },
  {
   "cell_type": "code",
   "execution_count": 10,
   "metadata": {},
   "outputs": [
    {
     "name": "stdout",
     "output_type": "stream",
     "text": [
      "INFO:tensorflow:Restoring parameters from /Volumes/Mac/GW/model/model-resnet3-1.ckpt\n",
      "Train Epoch: 01 Loss= 0.313516021 Accuracy= 1.0\n",
      "Train Epoch: 02 Loss= 0.313296974 Accuracy= 1.0\n",
      "period(s) = 274.745117903\n"
     ]
    }
   ],
   "source": [
    "evaluate(2,2)"
   ]
  },
  {
   "cell_type": "code",
   "execution_count": 10,
   "metadata": {},
   "outputs": [
    {
     "name": "stdout",
     "output_type": "stream",
     "text": [
      "INFO:tensorflow:Restoring parameters from /Volumes/Mac/GW/model/model-resnet3-1.ckpt\n",
      "Train Epoch: 01 Loss= 0.314177930 Accuracy= 0.9993333\n",
      "Train Epoch: 02 Loss= 0.314425528 Accuracy= 0.999\n",
      "period(s) = 257.759809971\n"
     ]
    }
   ],
   "source": [
    "evaluate(2,1.5)"
   ]
  },
  {
   "cell_type": "code",
   "execution_count": 10,
   "metadata": {},
   "outputs": [
    {
     "name": "stdout",
     "output_type": "stream",
     "text": [
      "INFO:tensorflow:Restoring parameters from /Volumes/Mac/GW/model/model-resnet3-1.ckpt\n",
      "Train Epoch: 01 Loss= 0.314229399 Accuracy= 0.999\n",
      "Train Epoch: 02 Loss= 0.313352972 Accuracy= 1.0\n",
      "period(s) = 258.773273945\n"
     ]
    }
   ],
   "source": [
    "evaluate(2,1.5)"
   ]
  },
  {
   "cell_type": "code",
   "execution_count": 10,
   "metadata": {},
   "outputs": [
    {
     "name": "stdout",
     "output_type": "stream",
     "text": [
      "INFO:tensorflow:Restoring parameters from /Volumes/Mac/GW/model/model-resnet3-1.ckpt\n",
      "Train Epoch: 01 Loss= 0.338244468 Accuracy= 0.97466666\n",
      "Train Epoch: 02 Loss= 0.315348804 Accuracy= 0.99833333\n",
      "Train Epoch: 03 Loss= 0.317228407 Accuracy= 0.9956667\n",
      "Train Epoch: 04 Loss= 0.317294568 Accuracy= 0.996\n",
      "period(s) = 692.270844936\n"
     ]
    }
   ],
   "source": [
    "evaluate(4,1.2)"
   ]
  },
  {
   "cell_type": "code",
   "execution_count": 10,
   "metadata": {},
   "outputs": [
    {
     "name": "stdout",
     "output_type": "stream",
     "text": [
      "INFO:tensorflow:Restoring parameters from /Volumes/Mac/GW/model/model-resnet3-1.ckpt\n",
      "Train Epoch: 01 Loss= 0.317127168 Accuracy= 0.996\n",
      "Train Epoch: 02 Loss= 0.317669272 Accuracy= 0.9953333\n",
      "Train Epoch: 03 Loss= 0.315189034 Accuracy= 0.99766666\n",
      "Train Epoch: 04 Loss= 0.317229778 Accuracy= 0.996\n",
      "period(s) = 697.945161819\n"
     ]
    }
   ],
   "source": [
    "evaluate(4,1.2)"
   ]
  },
  {
   "cell_type": "code",
   "execution_count": 10,
   "metadata": {},
   "outputs": [
    {
     "name": "stdout",
     "output_type": "stream",
     "text": [
      "INFO:tensorflow:Restoring parameters from /Volumes/Mac/GW/model/model-resnet3-1.ckpt\n",
      "Train Epoch: 01 Loss= 0.318542063 Accuracy= 0.9946667\n",
      "Train Epoch: 02 Loss= 0.320680827 Accuracy= 0.9913333\n",
      "Train Epoch: 03 Loss= 0.314132571 Accuracy= 0.9993333\n",
      "Train Epoch: 04 Loss= 0.317405939 Accuracy= 0.9956667\n",
      "period(s) = 783.960751057\n"
     ]
    }
   ],
   "source": [
    "evaluate(4,1.2)"
   ]
  },
  {
   "cell_type": "code",
   "execution_count": 10,
   "metadata": {},
   "outputs": [
    {
     "name": "stdout",
     "output_type": "stream",
     "text": [
      "INFO:tensorflow:Restoring parameters from /Volumes/Mac/GW/model/model-resnet3-1.ckpt\n",
      "Train Epoch: 01 Loss= 0.324232310 Accuracy= 0.989\n",
      "Train Epoch: 02 Loss= 0.328446120 Accuracy= 0.98466665\n",
      "Train Epoch: 03 Loss= 0.327699214 Accuracy= 0.98466665\n",
      "Train Epoch: 04 Loss= 0.323519737 Accuracy= 0.98933333\n",
      "period(s) = 730.287761927\n"
     ]
    }
   ],
   "source": [
    "evaluate(4,1)"
   ]
  },
  {
   "cell_type": "code",
   "execution_count": 10,
   "metadata": {},
   "outputs": [
    {
     "name": "stdout",
     "output_type": "stream",
     "text": [
      "INFO:tensorflow:Restoring parameters from /Volumes/Mac/GW/model/model-resnet3-1.ckpt\n",
      "Train Epoch: 01 Loss= 0.320838064 Accuracy= 0.992\n",
      "Train Epoch: 02 Loss= 0.321181178 Accuracy= 0.99233335\n",
      "Train Epoch: 03 Loss= 0.319793582 Accuracy= 0.994\n",
      "Train Epoch: 04 Loss= 0.317263961 Accuracy= 0.997\n",
      "period(s) = 703.902709007\n"
     ]
    }
   ],
   "source": [
    "evaluate(4,1)"
   ]
  },
  {
   "cell_type": "code",
   "execution_count": 10,
   "metadata": {},
   "outputs": [
    {
     "name": "stdout",
     "output_type": "stream",
     "text": [
      "INFO:tensorflow:Restoring parameters from /Volumes/Mac/GW/model/model-resnet3-1.ckpt\n",
      "Train Epoch: 01 Loss= 0.316783935 Accuracy= 0.997\n",
      "Train Epoch: 02 Loss= 0.317056119 Accuracy= 0.99633336\n",
      "Train Epoch: 03 Loss= 0.316506952 Accuracy= 0.99666667\n",
      "Train Epoch: 04 Loss= 0.317714959 Accuracy= 0.9956667\n",
      "period(s) = 693.213109016\n"
     ]
    }
   ],
   "source": [
    "evaluate(4,1)"
   ]
  },
  {
   "cell_type": "code",
   "execution_count": 10,
   "metadata": {},
   "outputs": [
    {
     "name": "stdout",
     "output_type": "stream",
     "text": [
      "INFO:tensorflow:Restoring parameters from /Volumes/Mac/GW/model/model-resnet3-1.ckpt\n",
      "Train Epoch: 01 Loss= 0.330945760 Accuracy= 0.983\n",
      "Train Epoch: 02 Loss= 0.328800738 Accuracy= 0.98433334\n",
      "Train Epoch: 03 Loss= 0.326840729 Accuracy= 0.9866667\n",
      "Train Epoch: 04 Loss= 0.327278376 Accuracy= 0.987\n",
      "period(s) = 725.642460108\n"
     ]
    }
   ],
   "source": [
    "evaluate(4,0.8)"
   ]
  },
  {
   "cell_type": "code",
   "execution_count": 10,
   "metadata": {},
   "outputs": [
    {
     "name": "stdout",
     "output_type": "stream",
     "text": [
      "INFO:tensorflow:Restoring parameters from /Volumes/Mac/GW/model/model-resnet3-1.ckpt\n",
      "Train Epoch: 01 Loss= 0.325450361 Accuracy= 0.98733336\n",
      "Train Epoch: 02 Loss= 0.324147880 Accuracy= 0.98833334\n",
      "Train Epoch: 03 Loss= 0.324037999 Accuracy= 0.98833334\n",
      "Train Epoch: 04 Loss= 0.323464543 Accuracy= 0.99\n",
      "period(s) = 731.075989008\n"
     ]
    }
   ],
   "source": [
    "evaluate(4,0.8)"
   ]
  },
  {
   "cell_type": "code",
   "execution_count": 10,
   "metadata": {},
   "outputs": [
    {
     "name": "stdout",
     "output_type": "stream",
     "text": [
      "INFO:tensorflow:Restoring parameters from /Volumes/Mac/GW/model/model-resnet3-1.ckpt\n",
      "Train Epoch: 01 Loss= 0.323258132 Accuracy= 0.98933333\n",
      "Train Epoch: 02 Loss= 0.323080480 Accuracy= 0.98933333\n",
      "Train Epoch: 03 Loss= 0.322726041 Accuracy= 0.98966664\n",
      "Train Epoch: 04 Loss= 0.322719812 Accuracy= 0.99\n",
      "period(s) = 716.194238186\n"
     ]
    }
   ],
   "source": [
    "evaluate(4,0.8)"
   ]
  },
  {
   "cell_type": "code",
   "execution_count": 10,
   "metadata": {},
   "outputs": [
    {
     "name": "stdout",
     "output_type": "stream",
     "text": [
      "INFO:tensorflow:Restoring parameters from /Volumes/Mac/GW/model/model-resnet3-1.ckpt\n",
      "Train Epoch: 01 Loss= 0.334716439 Accuracy= 0.97866666\n",
      "Train Epoch: 02 Loss= 0.331770658 Accuracy= 0.9816667\n",
      "Train Epoch: 03 Loss= 0.331056654 Accuracy= 0.982\n",
      "Train Epoch: 04 Loss= 0.329332203 Accuracy= 0.98333335\n",
      "period(s) = 684.49573493\n"
     ]
    }
   ],
   "source": [
    "evaluate(4,0.7)"
   ]
  },
  {
   "cell_type": "code",
   "execution_count": 10,
   "metadata": {},
   "outputs": [
    {
     "name": "stdout",
     "output_type": "stream",
     "text": [
      "INFO:tensorflow:Restoring parameters from /Volumes/Mac/GW/model/model-resnet3-1.ckpt\n",
      "Train Epoch: 01 Loss= 0.328875899 Accuracy= 0.98433334\n",
      "Train Epoch: 02 Loss= 0.329320103 Accuracy= 0.98366666\n",
      "Train Epoch: 03 Loss= 0.329428703 Accuracy= 0.98366666\n",
      "Train Epoch: 04 Loss= 0.328561217 Accuracy= 0.98433334\n",
      "period(s) = 690.302572966\n"
     ]
    }
   ],
   "source": [
    "evaluate(4,0.7)"
   ]
  },
  {
   "cell_type": "code",
   "execution_count": 10,
   "metadata": {},
   "outputs": [
    {
     "name": "stdout",
     "output_type": "stream",
     "text": [
      "INFO:tensorflow:Restoring parameters from /Volumes/Mac/GW/model/model-resnet3-1.ckpt\n",
      "Train Epoch: 01 Loss= 0.329323411 Accuracy= 0.98333335\n",
      "Train Epoch: 02 Loss= 0.330503374 Accuracy= 0.982\n",
      "Train Epoch: 03 Loss= 0.329053760 Accuracy= 0.98366666\n",
      "Train Epoch: 04 Loss= 0.329416662 Accuracy= 0.983\n",
      "period(s) = 748.868665934\n"
     ]
    }
   ],
   "source": [
    "evaluate(4,0.7)"
   ]
  },
  {
   "cell_type": "code",
   "execution_count": 10,
   "metadata": {},
   "outputs": [
    {
     "name": "stdout",
     "output_type": "stream",
     "text": [
      "INFO:tensorflow:Restoring parameters from /Volumes/Mac/GW/model/model-resnet3-1.ckpt\n",
      "Train Epoch: 01 Loss= 0.369815588 Accuracy= 0.9406667\n",
      "Train Epoch: 02 Loss= 0.365702718 Accuracy= 0.9443333\n",
      "Train Epoch: 03 Loss= 0.363857001 Accuracy= 0.946\n",
      "Train Epoch: 04 Loss= 0.356376380 Accuracy= 0.9536667\n",
      "period(s) = 763.629023075\n"
     ]
    }
   ],
   "source": [
    "evaluate(4,0.6)"
   ]
  },
  {
   "cell_type": "code",
   "execution_count": 10,
   "metadata": {},
   "outputs": [
    {
     "name": "stdout",
     "output_type": "stream",
     "text": [
      "INFO:tensorflow:Restoring parameters from /Volumes/Mac/GW/model/model-resnet3-1.ckpt\n",
      "Train Epoch: 01 Loss= 0.357889801 Accuracy= 0.9533333\n",
      "Train Epoch: 02 Loss= 0.355432540 Accuracy= 0.95633334\n",
      "Train Epoch: 03 Loss= 0.355623037 Accuracy= 0.95633334\n",
      "Train Epoch: 04 Loss= 0.357020766 Accuracy= 0.955\n",
      "period(s) = 719.623903036\n"
     ]
    }
   ],
   "source": [
    "evaluate(4,0.6)"
   ]
  },
  {
   "cell_type": "code",
   "execution_count": 10,
   "metadata": {},
   "outputs": [
    {
     "name": "stdout",
     "output_type": "stream",
     "text": [
      "INFO:tensorflow:Restoring parameters from /Volumes/Mac/GW/model/model-resnet3-1.ckpt\n",
      "Train Epoch: 01 Loss= 0.359920084 Accuracy= 0.95133334\n",
      "Train Epoch: 02 Loss= 0.362891912 Accuracy= 0.94733334\n",
      "Train Epoch: 03 Loss= 0.360547572 Accuracy= 0.951\n",
      "Train Epoch: 04 Loss= 0.361077040 Accuracy= 0.95033336\n",
      "period(s) = 693.182389021\n"
     ]
    }
   ],
   "source": [
    "evaluate(4,0.6)"
   ]
  },
  {
   "cell_type": "code",
   "execution_count": 10,
   "metadata": {},
   "outputs": [
    {
     "name": "stdout",
     "output_type": "stream",
     "text": [
      "INFO:tensorflow:Restoring parameters from /Volumes/Mac/GW/model/model-resnet3-1.ckpt\n",
      "Train Epoch: 01 Loss= 0.419100463 Accuracy= 0.8883333\n",
      "Train Epoch: 02 Loss= 0.414881200 Accuracy= 0.8936667\n",
      "Train Epoch: 03 Loss= 0.412902623 Accuracy= 0.896\n",
      "Train Epoch: 04 Loss= 0.410978109 Accuracy= 0.896\n",
      "period(s) = 733.256481171\n"
     ]
    }
   ],
   "source": [
    "evaluate(4,0.5)"
   ]
  },
  {
   "cell_type": "code",
   "execution_count": 10,
   "metadata": {},
   "outputs": [
    {
     "name": "stdout",
     "output_type": "stream",
     "text": [
      "INFO:tensorflow:Restoring parameters from /Volumes/Mac/GW/model/model-resnet3-1.ckpt\n",
      "Train Epoch: 01 Loss= 0.413537681 Accuracy= 0.896\n",
      "Train Epoch: 02 Loss= 0.413923860 Accuracy= 0.8936667\n",
      "Train Epoch: 03 Loss= 0.416018486 Accuracy= 0.89133334\n",
      "Train Epoch: 04 Loss= 0.415821940 Accuracy= 0.893\n",
      "period(s) = 716.445924044\n"
     ]
    }
   ],
   "source": [
    "evaluate(4,0.5)"
   ]
  },
  {
   "cell_type": "code",
   "execution_count": 10,
   "metadata": {},
   "outputs": [
    {
     "name": "stdout",
     "output_type": "stream",
     "text": [
      "INFO:tensorflow:Restoring parameters from /Volumes/Mac/GW/model/model-resnet3-1.ckpt\n",
      "Train Epoch: 01 Loss= 0.413838893 Accuracy= 0.89666665\n",
      "Train Epoch: 02 Loss= 0.416070402 Accuracy= 0.8946667\n",
      "Train Epoch: 03 Loss= 0.418201506 Accuracy= 0.8923333\n",
      "Train Epoch: 04 Loss= 0.419128329 Accuracy= 0.89066666\n",
      "period(s) = 727.077152967\n"
     ]
    }
   ],
   "source": [
    "evaluate(4,0.5)"
   ]
  },
  {
   "cell_type": "code",
   "execution_count": 10,
   "metadata": {},
   "outputs": [
    {
     "name": "stdout",
     "output_type": "stream",
     "text": [
      "INFO:tensorflow:Restoring parameters from /Volumes/Mac/GW/model/model-resnet3-1.ckpt\n",
      "acc : 0.90260786\n",
      "period of estimate = 36.7751820087 (s)\n"
     ]
    }
   ],
   "source": [
    "estimate('/Volumes/Mac/GW/spec/withoutoverlap/5.5~74.5/testdatawo_spec16-8_freq1024_pr0.5.h5')"
   ]
  },
  {
   "cell_type": "code",
   "execution_count": 11,
   "metadata": {},
   "outputs": [
    {
     "name": "stdout",
     "output_type": "stream",
     "text": [
      "INFO:tensorflow:Restoring parameters from /Volumes/Mac/GW/model/model-resnet3-1.ckpt\n",
      "period of prediction = 36.2578709126 (s)\n",
      "confusionmatrix =\n",
      "[[3547  180]\n",
      " [ 425 2060]]\n"
     ]
    }
   ],
   "source": [
    "test = h5py.File('/Volumes/Mac/GW/spec/withoutoverlap/5.5~74.5/testdatawo_spec16-8_freq1024_pr0.5.h5', 'r')\n",
    "test_label = test['label'][...]\n",
    "test.close()\n",
    "cc=confusionmatrix(prediction_result('/Volumes/Mac/GW/spec/withoutoverlap/5.5~74.5/testdatawo_spec16-8_freq1024_pr0.5.h5'),\n",
    "               test_label)"
   ]
  },
  {
   "cell_type": "code",
   "execution_count": 12,
   "metadata": {},
   "outputs": [
    {
     "name": "stdout",
     "output_type": "stream",
     "text": [
      "false alarm rate = 0.04829621679635095\n",
      "sensitivity = 0.8289738430583501\n"
     ]
    }
   ],
   "source": [
    "false_alarm_rate(cc)\n",
    "sensitivity(cc)"
   ]
  },
  {
   "cell_type": "code",
   "execution_count": 13,
   "metadata": {
    "scrolled": true
   },
   "outputs": [
    {
     "name": "stdout",
     "output_type": "stream",
     "text": [
      "INFO:tensorflow:Restoring parameters from /Volumes/Mac/GW/model/model-resnet3-1.ckpt\n",
      "period of prediction = 29.7791030407 (s)\n",
      "confusionmatrix =\n",
      "[[ 536   16]\n",
      " [ 874 4096]]\n",
      "INFO:tensorflow:Restoring parameters from /Volumes/Mac/GW/model/model-resnet3-1.ckpt\n",
      "period of prediction = 29.4480140209 (s)\n",
      "confusionmatrix =\n",
      "[[ 520   32]\n",
      " [ 869 4101]]\n",
      "INFO:tensorflow:Restoring parameters from /Volumes/Mac/GW/model/model-resnet3-1.ckpt\n",
      "period of prediction = 30.2278888226 (s)\n",
      "confusionmatrix =\n",
      "[[ 527   25]\n",
      " [ 880 4090]]\n",
      "INFO:tensorflow:Restoring parameters from /Volumes/Mac/GW/model/model-resnet3-1.ckpt\n",
      "period of prediction = 29.861768961 (s)\n",
      "confusionmatrix =\n",
      "[[ 526   26]\n",
      " [ 839 4131]]\n",
      "INFO:tensorflow:Restoring parameters from /Volumes/Mac/GW/model/model-resnet3-1.ckpt\n",
      "period of prediction = 29.4365561008 (s)\n",
      "confusionmatrix =\n",
      "[[ 524   28]\n",
      " [ 835 4135]]\n",
      "INFO:tensorflow:Restoring parameters from /Volumes/Mac/GW/model/model-resnet3-1.ckpt\n",
      "period of prediction = 29.5375580788 (s)\n",
      "confusionmatrix =\n",
      "[[ 527   25]\n",
      " [ 864 4106]]\n",
      "INFO:tensorflow:Restoring parameters from /Volumes/Mac/GW/model/model-resnet3-1.ckpt\n",
      "period of prediction = 30.237319231 (s)\n",
      "confusionmatrix =\n",
      "[[ 513   39]\n",
      " [ 902 4068]]\n",
      "INFO:tensorflow:Restoring parameters from /Volumes/Mac/GW/model/model-resnet3-1.ckpt\n",
      "period of prediction = 30.6815810204 (s)\n",
      "confusionmatrix =\n",
      "[[ 532   20]\n",
      " [ 876 4094]]\n",
      "INFO:tensorflow:Restoring parameters from /Volumes/Mac/GW/model/model-resnet3-1.ckpt\n",
      "period of prediction = 29.9803030491 (s)\n",
      "confusionmatrix =\n",
      "[[ 524   28]\n",
      " [ 902 4068]]\n",
      "INFO:tensorflow:Restoring parameters from /Volumes/Mac/GW/model/model-resnet3-1.ckpt\n",
      "period of prediction = 30.2659089565 (s)\n",
      "confusionmatrix =\n",
      "[[ 524   28]\n",
      " [ 840 4130]]\n",
      "INFO:tensorflow:Restoring parameters from /Volumes/Mac/GW/model/model-resnet3-1.ckpt\n",
      "period of prediction = 29.7937119007 (s)\n",
      "confusionmatrix =\n",
      "[[ 522   30]\n",
      " [ 837 4133]]\n",
      "INFO:tensorflow:Restoring parameters from /Volumes/Mac/GW/model/model-resnet3-1.ckpt\n",
      "period of prediction = 33.528110981 (s)\n",
      "confusionmatrix =\n",
      "[[ 527   25]\n",
      " [ 811 4159]]\n",
      "INFO:tensorflow:Restoring parameters from /Volumes/Mac/GW/model/model-resnet3-1.ckpt\n",
      "period of prediction = 34.0655889511 (s)\n",
      "confusionmatrix =\n",
      "[[ 529   23]\n",
      " [ 870 4100]]\n",
      "INFO:tensorflow:Restoring parameters from /Volumes/Mac/GW/model/model-resnet3-1.ckpt\n",
      "period of prediction = 30.9653639793 (s)\n",
      "confusionmatrix =\n",
      "[[ 529   23]\n",
      " [ 865 4105]]\n",
      "INFO:tensorflow:Restoring parameters from /Volumes/Mac/GW/model/model-resnet3-1.ckpt\n",
      "period of prediction = 30.5125701427 (s)\n",
      "confusionmatrix =\n",
      "[[ 527   25]\n",
      " [ 865 4105]]\n",
      "INFO:tensorflow:Restoring parameters from /Volumes/Mac/GW/model/model-resnet3-1.ckpt\n",
      "period of prediction = 30.4987740517 (s)\n",
      "confusionmatrix =\n",
      "[[ 536   16]\n",
      " [ 839 4131]]\n",
      "INFO:tensorflow:Restoring parameters from /Volumes/Mac/GW/model/model-resnet3-1.ckpt\n",
      "period of prediction = 29.6233589649 (s)\n",
      "confusionmatrix =\n",
      "[[ 518   34]\n",
      " [ 871 4099]]\n",
      "INFO:tensorflow:Restoring parameters from /Volumes/Mac/GW/model/model-resnet3-1.ckpt\n",
      "period of prediction = 29.7694840431 (s)\n",
      "confusionmatrix =\n",
      "[[ 522   30]\n",
      " [ 852 4118]]\n",
      "INFO:tensorflow:Restoring parameters from /Volumes/Mac/GW/model/model-resnet3-1.ckpt\n",
      "period of prediction = 30.0584762096 (s)\n",
      "confusionmatrix =\n",
      "[[ 521   31]\n",
      " [ 852 4118]]\n",
      "INFO:tensorflow:Restoring parameters from /Volumes/Mac/GW/model/model-resnet3-1.ckpt\n",
      "period of prediction = 30.6551427841 (s)\n",
      "confusionmatrix =\n",
      "[[ 526   26]\n",
      " [ 875 4095]]\n",
      "INFO:tensorflow:Restoring parameters from /Volumes/Mac/GW/model/model-resnet3-1.ckpt\n",
      "period of prediction = 30.4365320206 (s)\n",
      "confusionmatrix =\n",
      "[[ 527   25]\n",
      " [ 884 4086]]\n",
      "INFO:tensorflow:Restoring parameters from /Volumes/Mac/GW/model/model-resnet3-1.ckpt\n",
      "period of prediction = 30.3199050426 (s)\n",
      "confusionmatrix =\n",
      "[[ 522   30]\n",
      " [ 855 4115]]\n",
      "INFO:tensorflow:Restoring parameters from /Volumes/Mac/GW/model/model-resnet3-1.ckpt\n",
      "period of prediction = 33.6786739826 (s)\n",
      "confusionmatrix =\n",
      "[[ 531   21]\n",
      " [ 863 4107]]\n",
      "INFO:tensorflow:Restoring parameters from /Volumes/Mac/GW/model/model-resnet3-1.ckpt\n",
      "period of prediction = 31.4330999851 (s)\n",
      "confusionmatrix =\n",
      "[[ 519   33]\n",
      " [ 826 4144]]\n",
      "INFO:tensorflow:Restoring parameters from /Volumes/Mac/GW/model/model-resnet3-1.ckpt\n",
      "period of prediction = 30.6365220547 (s)\n",
      "confusionmatrix =\n",
      "[[ 535   17]\n",
      " [ 840 4130]]\n",
      "INFO:tensorflow:Restoring parameters from /Volumes/Mac/GW/model/model-resnet3-1.ckpt\n",
      "period of prediction = 30.1182661057 (s)\n",
      "confusionmatrix =\n",
      "[[ 524   28]\n",
      " [ 828 4142]]\n",
      "INFO:tensorflow:Restoring parameters from /Volumes/Mac/GW/model/model-resnet3-1.ckpt\n",
      "period of prediction = 29.9653990269 (s)\n",
      "confusionmatrix =\n",
      "[[ 524   28]\n",
      " [ 851 4119]]\n",
      "INFO:tensorflow:Restoring parameters from /Volumes/Mac/GW/model/model-resnet3-1.ckpt\n",
      "period of prediction = 30.0112929344 (s)\n",
      "confusionmatrix =\n",
      "[[ 531   21]\n",
      " [ 809 4161]]\n",
      "INFO:tensorflow:Restoring parameters from /Volumes/Mac/GW/model/model-resnet3-1.ckpt\n",
      "period of prediction = 29.8712449074 (s)\n",
      "confusionmatrix =\n",
      "[[ 522   30]\n",
      " [ 924 4046]]\n",
      "INFO:tensorflow:Restoring parameters from /Volumes/Mac/GW/model/model-resnet3-1.ckpt\n",
      "period of prediction = 30.1164259911 (s)\n",
      "confusionmatrix =\n",
      "[[ 527   25]\n",
      " [ 855 4115]]\n",
      "INFO:tensorflow:Restoring parameters from /Volumes/Mac/GW/model/model-resnet3-1.ckpt\n",
      "period of prediction = 29.7549359798 (s)\n",
      "confusionmatrix =\n",
      "[[ 525   27]\n",
      " [ 821 4149]]\n",
      "INFO:tensorflow:Restoring parameters from /Volumes/Mac/GW/model/model-resnet3-1.ckpt\n",
      "period of prediction = 30.0070199966 (s)\n",
      "confusionmatrix =\n",
      "[[ 530   22]\n",
      " [ 870 4100]]\n",
      "INFO:tensorflow:Restoring parameters from /Volumes/Mac/GW/model/model-resnet3-1.ckpt\n",
      "period of prediction = 30.5505170822 (s)\n",
      "confusionmatrix =\n",
      "[[ 534   18]\n",
      " [ 830 4140]]\n",
      "INFO:tensorflow:Restoring parameters from /Volumes/Mac/GW/model/model-resnet3-1.ckpt\n",
      "period of prediction = 30.2884960175 (s)\n",
      "confusionmatrix =\n",
      "[[ 529   23]\n",
      " [ 923 4047]]\n",
      "INFO:tensorflow:Restoring parameters from /Volumes/Mac/GW/model/model-resnet3-1.ckpt\n",
      "period of prediction = 30.1834020615 (s)\n",
      "confusionmatrix =\n",
      "[[ 525   27]\n",
      " [ 883 4087]]\n",
      "INFO:tensorflow:Restoring parameters from /Volumes/Mac/GW/model/model-resnet3-1.ckpt\n",
      "period of prediction = 37.5602378845 (s)\n",
      "confusionmatrix =\n",
      "[[ 526   26]\n",
      " [ 841 4129]]\n",
      "INFO:tensorflow:Restoring parameters from /Volumes/Mac/GW/model/model-resnet3-1.ckpt\n",
      "period of prediction = 34.8668019772 (s)\n",
      "confusionmatrix =\n",
      "[[ 528   24]\n",
      " [ 878 4092]]\n",
      "INFO:tensorflow:Restoring parameters from /Volumes/Mac/GW/model/model-resnet3-1.ckpt\n",
      "period of prediction = 31.5017549992 (s)\n",
      "confusionmatrix =\n",
      "[[ 525   27]\n",
      " [ 883 4087]]\n",
      "INFO:tensorflow:Restoring parameters from /Volumes/Mac/GW/model/model-resnet3-1.ckpt\n",
      "period of prediction = 33.60156703 (s)\n",
      "confusionmatrix =\n",
      "[[ 521   31]\n",
      " [ 827 4143]]\n",
      "INFO:tensorflow:Restoring parameters from /Volumes/Mac/GW/model/model-resnet3-1.ckpt\n",
      "period of prediction = 32.5518240929 (s)\n",
      "confusionmatrix =\n",
      "[[ 524   28]\n",
      " [ 828 4142]]\n",
      "INFO:tensorflow:Restoring parameters from /Volumes/Mac/GW/model/model-resnet3-1.ckpt\n",
      "period of prediction = 36.4606819153 (s)\n",
      "confusionmatrix =\n",
      "[[ 523   29]\n",
      " [ 848 4122]]\n",
      "INFO:tensorflow:Restoring parameters from /Volumes/Mac/GW/model/model-resnet3-1.ckpt\n",
      "period of prediction = 30.7807991505 (s)\n",
      "confusionmatrix =\n",
      "[[ 526   26]\n",
      " [ 840 4130]]\n",
      "INFO:tensorflow:Restoring parameters from /Volumes/Mac/GW/model/model-resnet3-1.ckpt\n",
      "period of prediction = 29.9589521885 (s)\n",
      "confusionmatrix =\n",
      "[[ 527   25]\n",
      " [ 865 4105]]\n",
      "INFO:tensorflow:Restoring parameters from /Volumes/Mac/GW/model/model-resnet3-1.ckpt\n",
      "period of prediction = 30.1990890503 (s)\n",
      "confusionmatrix =\n",
      "[[ 529   23]\n",
      " [ 840 4130]]\n",
      "INFO:tensorflow:Restoring parameters from /Volumes/Mac/GW/model/model-resnet3-1.ckpt\n",
      "period of prediction = 33.1119170189 (s)\n",
      "confusionmatrix =\n",
      "[[ 540   12]\n",
      " [ 885 4085]]\n",
      "INFO:tensorflow:Restoring parameters from /Volumes/Mac/GW/model/model-resnet3-1.ckpt\n",
      "period of prediction = 33.1876909733 (s)\n",
      "confusionmatrix =\n",
      "[[ 525   27]\n",
      " [ 887 4083]]\n",
      "INFO:tensorflow:Restoring parameters from /Volumes/Mac/GW/model/model-resnet3-1.ckpt\n",
      "period of prediction = 35.467592001 (s)\n",
      "confusionmatrix =\n",
      "[[ 530   22]\n",
      " [ 842 4128]]\n",
      "INFO:tensorflow:Restoring parameters from /Volumes/Mac/GW/model/model-resnet3-1.ckpt\n",
      "period of prediction = 33.7360510826 (s)\n",
      "confusionmatrix =\n",
      "[[ 524   28]\n",
      " [ 864 4106]]\n",
      "INFO:tensorflow:Restoring parameters from /Volumes/Mac/GW/model/model-resnet3-1.ckpt\n"
     ]
    },
    {
     "name": "stdout",
     "output_type": "stream",
     "text": [
      "period of prediction = 34.9545660019 (s)\n",
      "confusionmatrix =\n",
      "[[ 531   21]\n",
      " [ 886 4084]]\n",
      "INFO:tensorflow:Restoring parameters from /Volumes/Mac/GW/model/model-resnet3-1.ckpt\n",
      "period of prediction = 32.2659168243 (s)\n",
      "confusionmatrix =\n",
      "[[ 526   26]\n",
      " [ 869 4101]]\n",
      "INFO:tensorflow:Restoring parameters from /Volumes/Mac/GW/model/model-resnet3-1.ckpt\n",
      "period of prediction = 33.8553049564 (s)\n",
      "confusionmatrix =\n",
      "[[ 518   34]\n",
      " [ 842 4128]]\n",
      "INFO:tensorflow:Restoring parameters from /Volumes/Mac/GW/model/model-resnet3-1.ckpt\n",
      "period of prediction = 32.4970228672 (s)\n",
      "confusionmatrix =\n",
      "[[ 529   23]\n",
      " [ 875 4095]]\n",
      "INFO:tensorflow:Restoring parameters from /Volumes/Mac/GW/model/model-resnet3-1.ckpt\n",
      "period of prediction = 30.9258730412 (s)\n",
      "confusionmatrix =\n",
      "[[ 521   31]\n",
      " [ 849 4121]]\n",
      "INFO:tensorflow:Restoring parameters from /Volumes/Mac/GW/model/model-resnet3-1.ckpt\n",
      "period of prediction = 30.2244079113 (s)\n",
      "confusionmatrix =\n",
      "[[ 530   22]\n",
      " [ 872 4098]]\n",
      "INFO:tensorflow:Restoring parameters from /Volumes/Mac/GW/model/model-resnet3-1.ckpt\n",
      "period of prediction = 29.9909060001 (s)\n",
      "confusionmatrix =\n",
      "[[ 535   17]\n",
      " [ 859 4111]]\n",
      "INFO:tensorflow:Restoring parameters from /Volumes/Mac/GW/model/model-resnet3-1.ckpt\n",
      "period of prediction = 30.7328891754 (s)\n",
      "confusionmatrix =\n",
      "[[ 522   30]\n",
      " [ 881 4089]]\n",
      "INFO:tensorflow:Restoring parameters from /Volumes/Mac/GW/model/model-resnet3-1.ckpt\n",
      "period of prediction = 31.6165099144 (s)\n",
      "confusionmatrix =\n",
      "[[ 516   36]\n",
      " [ 828 4142]]\n",
      "INFO:tensorflow:Restoring parameters from /Volumes/Mac/GW/model/model-resnet3-1.ckpt\n",
      "period of prediction = 31.1226940155 (s)\n",
      "confusionmatrix =\n",
      "[[ 526   26]\n",
      " [ 865 4105]]\n",
      "INFO:tensorflow:Restoring parameters from /Volumes/Mac/GW/model/model-resnet3-1.ckpt\n",
      "period of prediction = 31.2711851597 (s)\n",
      "confusionmatrix =\n",
      "[[ 518   34]\n",
      " [ 833 4137]]\n",
      "INFO:tensorflow:Restoring parameters from /Volumes/Mac/GW/model/model-resnet3-1.ckpt\n",
      "period of prediction = 30.6008019447 (s)\n",
      "confusionmatrix =\n",
      "[[ 531   21]\n",
      " [ 818 4152]]\n",
      "INFO:tensorflow:Restoring parameters from /Volumes/Mac/GW/model/model-resnet3-1.ckpt\n",
      "period of prediction = 30.2345628738 (s)\n",
      "confusionmatrix =\n",
      "[[ 530   22]\n",
      " [ 818 4152]]\n",
      "INFO:tensorflow:Restoring parameters from /Volumes/Mac/GW/model/model-resnet3-1.ckpt\n",
      "period of prediction = 29.9622528553 (s)\n",
      "confusionmatrix =\n",
      "[[ 530   22]\n",
      " [ 872 4098]]\n",
      "INFO:tensorflow:Restoring parameters from /Volumes/Mac/GW/model/model-resnet3-1.ckpt\n",
      "period of prediction = 35.895840168 (s)\n",
      "confusionmatrix =\n",
      "[[ 531   21]\n",
      " [ 841 4129]]\n",
      "INFO:tensorflow:Restoring parameters from /Volumes/Mac/GW/model/model-resnet3-1.ckpt\n",
      "period of prediction = 30.9945950508 (s)\n",
      "confusionmatrix =\n",
      "[[ 520   32]\n",
      " [ 865 4105]]\n",
      "INFO:tensorflow:Restoring parameters from /Volumes/Mac/GW/model/model-resnet3-1.ckpt\n",
      "period of prediction = 31.6919460297 (s)\n",
      "confusionmatrix =\n",
      "[[ 528   24]\n",
      " [ 855 4115]]\n",
      "INFO:tensorflow:Restoring parameters from /Volumes/Mac/GW/model/model-resnet3-1.ckpt\n",
      "period of prediction = 37.9519169331 (s)\n",
      "confusionmatrix =\n",
      "[[ 526   26]\n",
      " [ 887 4083]]\n",
      "INFO:tensorflow:Restoring parameters from /Volumes/Mac/GW/model/model-resnet3-1.ckpt\n",
      "period of prediction = 32.5840938091 (s)\n",
      "confusionmatrix =\n",
      "[[ 524   28]\n",
      " [ 861 4109]]\n",
      "INFO:tensorflow:Restoring parameters from /Volumes/Mac/GW/model/model-resnet3-1.ckpt\n",
      "period of prediction = 34.9582498074 (s)\n",
      "confusionmatrix =\n",
      "[[ 533   19]\n",
      " [ 826 4144]]\n",
      "INFO:tensorflow:Restoring parameters from /Volumes/Mac/GW/model/model-resnet3-1.ckpt\n",
      "period of prediction = 32.7053949833 (s)\n",
      "confusionmatrix =\n",
      "[[ 520   32]\n",
      " [ 834 4136]]\n",
      "INFO:tensorflow:Restoring parameters from /Volumes/Mac/GW/model/model-resnet3-1.ckpt\n",
      "period of prediction = 33.7299439907 (s)\n",
      "confusionmatrix =\n",
      "[[ 526   26]\n",
      " [ 836 4134]]\n",
      "INFO:tensorflow:Restoring parameters from /Volumes/Mac/GW/model/model-resnet3-1.ckpt\n",
      "period of prediction = 31.4803719521 (s)\n",
      "confusionmatrix =\n",
      "[[ 534   18]\n",
      " [ 831 4139]]\n",
      "INFO:tensorflow:Restoring parameters from /Volumes/Mac/GW/model/model-resnet3-1.ckpt\n",
      "period of prediction = 31.6954078674 (s)\n",
      "confusionmatrix =\n",
      "[[ 528   24]\n",
      " [ 854 4116]]\n",
      "INFO:tensorflow:Restoring parameters from /Volumes/Mac/GW/model/model-resnet3-1.ckpt\n",
      "period of prediction = 32.6127440929 (s)\n",
      "confusionmatrix =\n",
      "[[ 533   19]\n",
      " [ 801 4169]]\n",
      "INFO:tensorflow:Restoring parameters from /Volumes/Mac/GW/model/model-resnet3-1.ckpt\n",
      "period of prediction = 35.5829319954 (s)\n",
      "confusionmatrix =\n",
      "[[ 525   27]\n",
      " [ 885 4085]]\n",
      "INFO:tensorflow:Restoring parameters from /Volumes/Mac/GW/model/model-resnet3-1.ckpt\n",
      "period of prediction = 34.5792610645 (s)\n",
      "confusionmatrix =\n",
      "[[ 523   29]\n",
      " [ 846 4124]]\n",
      "INFO:tensorflow:Restoring parameters from /Volumes/Mac/GW/model/model-resnet3-1.ckpt\n",
      "period of prediction = 36.7107641697 (s)\n",
      "confusionmatrix =\n",
      "[[ 520   32]\n",
      " [ 881 4089]]\n",
      "INFO:tensorflow:Restoring parameters from /Volumes/Mac/GW/model/model-resnet3-1.ckpt\n",
      "period of prediction = 34.9020218849 (s)\n",
      "confusionmatrix =\n",
      "[[ 528   24]\n",
      " [ 825 4145]]\n",
      "INFO:tensorflow:Restoring parameters from /Volumes/Mac/GW/model/model-resnet3-1.ckpt\n",
      "period of prediction = 35.1700649261 (s)\n",
      "confusionmatrix =\n",
      "[[ 518   34]\n",
      " [ 828 4142]]\n",
      "INFO:tensorflow:Restoring parameters from /Volumes/Mac/GW/model/model-resnet3-1.ckpt\n",
      "period of prediction = 35.7615399361 (s)\n",
      "confusionmatrix =\n",
      "[[ 525   27]\n",
      " [ 863 4107]]\n",
      "INFO:tensorflow:Restoring parameters from /Volumes/Mac/GW/model/model-resnet3-1.ckpt\n",
      "period of prediction = 36.6491901875 (s)\n",
      "confusionmatrix =\n",
      "[[ 526   26]\n",
      " [ 836 4134]]\n",
      "INFO:tensorflow:Restoring parameters from /Volumes/Mac/GW/model/model-resnet3-1.ckpt\n",
      "period of prediction = 37.2740311623 (s)\n",
      "confusionmatrix =\n",
      "[[ 530   22]\n",
      " [ 881 4089]]\n",
      "INFO:tensorflow:Restoring parameters from /Volumes/Mac/GW/model/model-resnet3-1.ckpt\n",
      "period of prediction = 35.9628019333 (s)\n",
      "confusionmatrix =\n",
      "[[ 528   24]\n",
      " [ 838 4132]]\n",
      "INFO:tensorflow:Restoring parameters from /Volumes/Mac/GW/model/model-resnet3-1.ckpt\n",
      "period of prediction = 36.7439339161 (s)\n",
      "confusionmatrix =\n",
      "[[ 524   28]\n",
      " [ 855 4115]]\n",
      "INFO:tensorflow:Restoring parameters from /Volumes/Mac/GW/model/model-resnet3-1.ckpt\n",
      "period of prediction = 34.4038310051 (s)\n",
      "confusionmatrix =\n",
      "[[ 524   28]\n",
      " [ 880 4090]]\n",
      "INFO:tensorflow:Restoring parameters from /Volumes/Mac/GW/model/model-resnet3-1.ckpt\n",
      "period of prediction = 33.8327159882 (s)\n",
      "confusionmatrix =\n",
      "[[ 535   17]\n",
      " [ 858 4112]]\n",
      "INFO:tensorflow:Restoring parameters from /Volumes/Mac/GW/model/model-resnet3-1.ckpt\n",
      "period of prediction = 32.1044998169 (s)\n",
      "confusionmatrix =\n",
      "[[ 516   36]\n",
      " [ 845 4125]]\n",
      "INFO:tensorflow:Restoring parameters from /Volumes/Mac/GW/model/model-resnet3-1.ckpt\n",
      "period of prediction = 30.8428230286 (s)\n",
      "confusionmatrix =\n",
      "[[ 524   28]\n",
      " [ 854 4116]]\n",
      "INFO:tensorflow:Restoring parameters from /Volumes/Mac/GW/model/model-resnet3-1.ckpt\n",
      "period of prediction = 32.5238668919 (s)\n",
      "confusionmatrix =\n",
      "[[ 521   31]\n",
      " [ 837 4133]]\n",
      "INFO:tensorflow:Restoring parameters from /Volumes/Mac/GW/model/model-resnet3-1.ckpt\n",
      "period of prediction = 32.9082398415 (s)\n",
      "confusionmatrix =\n",
      "[[ 527   25]\n",
      " [ 814 4156]]\n",
      "INFO:tensorflow:Restoring parameters from /Volumes/Mac/GW/model/model-resnet3-1.ckpt\n",
      "period of prediction = 32.2716109753 (s)\n",
      "confusionmatrix =\n",
      "[[ 527   25]\n",
      " [ 854 4116]]\n",
      "INFO:tensorflow:Restoring parameters from /Volumes/Mac/GW/model/model-resnet3-1.ckpt\n",
      "period of prediction = 31.4374649525 (s)\n",
      "confusionmatrix =\n",
      "[[ 519   33]\n",
      " [ 871 4099]]\n",
      "INFO:tensorflow:Restoring parameters from /Volumes/Mac/GW/model/model-resnet3-1.ckpt\n",
      "period of prediction = 31.6080138683 (s)\n",
      "confusionmatrix =\n",
      "[[ 525   27]\n",
      " [ 853 4117]]\n",
      "INFO:tensorflow:Restoring parameters from /Volumes/Mac/GW/model/model-resnet3-1.ckpt\n",
      "period of prediction = 30.5084218979 (s)\n",
      "confusionmatrix =\n",
      "[[ 526   26]\n",
      " [ 874 4096]]\n",
      "INFO:tensorflow:Restoring parameters from /Volumes/Mac/GW/model/model-resnet3-1.ckpt\n",
      "period of prediction = 30.827381134 (s)\n",
      "confusionmatrix =\n",
      "[[ 526   26]\n",
      " [ 808 4162]]\n",
      "INFO:tensorflow:Restoring parameters from /Volumes/Mac/GW/model/model-resnet3-1.ckpt\n",
      "period of prediction = 30.4769101143 (s)\n",
      "confusionmatrix =\n",
      "[[ 535   17]\n",
      " [ 818 4152]]\n",
      "INFO:tensorflow:Restoring parameters from /Volumes/Mac/GW/model/model-resnet3-1.ckpt\n",
      "period of prediction = 30.1980440617 (s)\n",
      "confusionmatrix =\n",
      "[[ 526   26]\n",
      " [ 874 4096]]\n",
      "INFO:tensorflow:Restoring parameters from /Volumes/Mac/GW/model/model-resnet3-1.ckpt\n"
     ]
    },
    {
     "name": "stdout",
     "output_type": "stream",
     "text": [
      "period of prediction = 30.2024960518 (s)\n",
      "confusionmatrix =\n",
      "[[ 533   19]\n",
      " [ 814 4156]]\n",
      "INFO:tensorflow:Restoring parameters from /Volumes/Mac/GW/model/model-resnet3-1.ckpt\n",
      "period of prediction = 30.540004015 (s)\n",
      "confusionmatrix =\n",
      "[[ 520   32]\n",
      " [ 837 4133]]\n",
      "INFO:tensorflow:Restoring parameters from /Volumes/Mac/GW/model/model-resnet3-1.ckpt\n",
      "period of prediction = 30.0627770424 (s)\n",
      "confusionmatrix =\n",
      "[[ 521   31]\n",
      " [ 890 4080]]\n",
      "INFO:tensorflow:Restoring parameters from /Volumes/Mac/GW/model/model-resnet3-1.ckpt\n",
      "period of prediction = 30.9728419781 (s)\n",
      "confusionmatrix =\n",
      "[[ 527   25]\n",
      " [ 852 4118]]\n",
      "acc = 0.8405849329952916\n",
      "sensitivity = 0.8280945674044266\n",
      "false alarm rate = 0.04695652173913043\n"
     ]
    },
    {
     "data": {
      "image/png": "[encoded data removed]",
      "text/plain": [
       "<Figure size 432x288 with 1 Axes>"
      ]
     },
     "metadata": {},
     "output_type": "display_data"
    }
   ],
   "source": [
    "relation(100)"
   ]
  },
  {
   "cell_type": "code",
   "execution_count": null,
   "metadata": {},
   "outputs": [],
   "source": []
  }
 ],
 "metadata": {
  "kernelspec": {
   "display_name": "Python 2",
   "language": "python",
   "name": "python2"
  },
  "language_info": {
   "codemirror_mode": {
    "name": "ipython",
    "version": 2
   },
   "file_extension": ".py",
   "mimetype": "text/x-python",
   "name": "python",
   "nbconvert_exporter": "python",
   "pygments_lexer": "ipython2",
   "version": "2.7.15"
  }
 },
 "nbformat": 4,
 "nbformat_minor": 2
}
