{
 "cells": [
  {
   "cell_type": "code",
   "execution_count": 1,
   "metadata": {},
   "outputs": [
    {
     "name": "stderr",
     "output_type": "stream",
     "text": [
      "/anaconda3/envs/anacondapy2/lib/python2.7/site-packages/h5py/__init__.py:36: FutureWarning: Conversion of the second argument of issubdtype from `float` to `np.floating` is deprecated. In future, it will be treated as `np.float64 == np.dtype(float).type`.\n",
      "  from ._conv import register_converters as _register_converters\n"
     ]
    }
   ],
   "source": [
    "import tensorflow as tf\n",
    "import h5py \n",
    "import matplotlib.pyplot as plt\n",
    "import numpy as np\n",
    "import timeit\n",
    "from sklearn import preprocessing"
   ]
  },
  {
   "cell_type": "code",
   "execution_count": 10,
   "metadata": {},
   "outputs": [],
   "source": [
    "sess = tf.Session()\n",
    "c=tf.constant(np.array([[[1.,2.],[1.,2.]],[[3.,4.],[3.,4.]]]))\n",
    "a=tf.concat([c,tf.zeros([2,2,2],tf.float64)],2)"
   ]
  },
  {
   "cell_type": "code",
   "execution_count": 11,
   "metadata": {},
   "outputs": [
    {
     "data": {
      "text/plain": [
       "array([[[1., 2.],\n",
       "        [1., 2.]],\n",
       "\n",
       "       [[3., 4.],\n",
       "        [3., 4.]]])"
      ]
     },
     "execution_count": 11,
     "metadata": {},
     "output_type": "execute_result"
    }
   ],
   "source": [
    "sess.run(c)"
   ]
  },
  {
   "cell_type": "code",
   "execution_count": 18,
   "metadata": {},
   "outputs": [
    {
     "data": {
      "text/plain": [
       "array([[[1., 2.],\n",
       "        [1., 2.]],\n",
       "\n",
       "       [[3., 4.],\n",
       "        [3., 4.]]])"
      ]
     },
     "execution_count": 18,
     "metadata": {},
     "output_type": "execute_result"
    }
   ],
   "source": [
    "sess.run(a[:,:,0:2])"
   ]
  },
  {
   "cell_type": "code",
   "execution_count": 15,
   "metadata": {},
   "outputs": [
    {
     "data": {
      "text/plain": [
       "[2, 2, 4]"
      ]
     },
     "execution_count": 15,
     "metadata": {},
     "output_type": "execute_result"
    }
   ],
   "source": [
    "a.shape.as_list()"
   ]
  },
  {
   "cell_type": "code",
   "execution_count": 2,
   "metadata": {},
   "outputs": [],
   "source": [
    "sess = tf.Session()\n",
    "a=tf.constant(np.array([[[1.,2.],[1.,2.]],[[3.,4.],[3.,4.]]]))\n",
    "b=tf.constant(np.array([[[1.,2.,3.],[1.,2.,3.]],[[3.,4.,5.],[3.,4.,5.]]]))\n",
    "\n",
    "dim0 = a.shape.as_list()[0]\n",
    "dim1 = a.shape.as_list()[1]\n",
    "increase_dim2 = b.shape.as_list()[2]-a.shape.as_list()[2]\n",
    "zeropadding = np.zeros([dim0, dim1, increase_dim2])\n",
    "c = b + tf.concat([a,zeropadding], 2)"
   ]
  },
  {
   "cell_type": "code",
   "execution_count": 3,
   "metadata": {},
   "outputs": [
    {
     "data": {
      "text/plain": [
       "array([[[1., 2.],\n",
       "        [1., 2.]],\n",
       "\n",
       "       [[3., 4.],\n",
       "        [3., 4.]]])"
      ]
     },
     "execution_count": 3,
     "metadata": {},
     "output_type": "execute_result"
    }
   ],
   "source": [
    "sess.run(a)"
   ]
  },
  {
   "cell_type": "code",
   "execution_count": 4,
   "metadata": {},
   "outputs": [
    {
     "data": {
      "text/plain": [
       "array([[[1., 2., 3.],\n",
       "        [1., 2., 3.]],\n",
       "\n",
       "       [[3., 4., 5.],\n",
       "        [3., 4., 5.]]])"
      ]
     },
     "execution_count": 4,
     "metadata": {},
     "output_type": "execute_result"
    }
   ],
   "source": [
    "sess.run(b)"
   ]
  },
  {
   "cell_type": "code",
   "execution_count": 5,
   "metadata": {},
   "outputs": [
    {
     "data": {
      "text/plain": [
       "array([[[2., 4., 3.],\n",
       "        [2., 4., 3.]],\n",
       "\n",
       "       [[6., 8., 5.],\n",
       "        [6., 8., 5.]]])"
      ]
     },
     "execution_count": 5,
     "metadata": {},
     "output_type": "execute_result"
    }
   ],
   "source": [
    "sess.run(c)"
   ]
  },
  {
   "cell_type": "code",
   "execution_count": 2,
   "metadata": {},
   "outputs": [],
   "source": [
    "def batch_generator(filename, batch_size):\n",
    "    f = h5py.File(filename, 'r')\n",
    "    batch_count = 0\n",
    "    while True:\n",
    "        if batch_count * batch_size + batch_size > f['label'].shape[0]: #若batchsize不能整除的話，最後餘下的資料永遠不會讀出\n",
    "            batch_count = 0\n",
    "        start_idx = batch_count * batch_size\n",
    "        end_idx = start_idx + batch_size\n",
    "        batch_count += 1\n",
    "        yield f['data'][start_idx : end_idx] , f['label'][start_idx : end_idx]\n",
    "    f.close()\n",
    "    \n",
    "def w(shape): #weight\n",
    "    return tf.Variable(tf.truncated_normal(shape, stddev=0.1), name='w')\n",
    "\n",
    "def b(shape): #bias\n",
    "    return tf.Variable(tf.constant(0.1,shape=shape), name='b')\n",
    "\n",
    "def conv2d(x,w): #x:輸入影像，須為4維張量。 w:filter權重\n",
    "    return tf.nn.conv2d(x, w, strides=[1,1,1,1], padding='SAME')\n",
    "\n",
    "def maxpool2x2(x):\n",
    "    return tf.nn.max_pool(x, ksize=[1,2,2,1], strides=[1,2,2,1], padding='SAME')"
   ]
  },
  {
   "cell_type": "code",
   "execution_count": 3,
   "metadata": {},
   "outputs": [],
   "source": [
    "pr = 0.8\n",
    "mod = 5\n",
    "traindatafile =  '/Volumes/Mac/GW/spec/withoutoverlap/5~75/trainingdatawo_spec16-8_freq1024_pr'+str(pr)+'.h5'\n",
    "valdatafile = '/Volumes/Mac/GW/spec/overlap/5~75/validationdata_spec16-8_freq1024_pr'+str(pr)+'.h5'\n",
    "modelstore = '/Volumes/Mac/GW/model/model'+str(mod)+'.ckpt'\n",
    "testdatafile = '/Volumes/Mac/GW/spec/withoutoverlap/5.5~74.5/testdatawo_spec16-8_freq1024_pr'+str(pr)+'.h5'\n",
    "testdatapar = '/Volumes/Mac/GW/time/withoutoverlap/5.5~74.5/testdata_time_pr0.5.h5'"
   ]
  },
  {
   "cell_type": "code",
   "execution_count": 4,
   "metadata": {},
   "outputs": [
    {
     "name": "stdout",
     "output_type": "stream",
     "text": [
      "6390\n"
     ]
    }
   ],
   "source": [
    "f = h5py.File(traindatafile, 'r')\n",
    "ll = len(f['data'])\n",
    "print ll"
   ]
  },
  {
   "cell_type": "code",
   "execution_count": 9,
   "metadata": {},
   "outputs": [
    {
     "name": "stdout",
     "output_type": "stream",
     "text": [
      "2556\n"
     ]
    }
   ],
   "source": [
    "f = h5py.File('/Volumes/Mac/GW/waveform/GWwaveform5~75_step1', 'r')\n",
    "ll = len(f['data'])\n",
    "print ll"
   ]
  },
  {
   "cell_type": "code",
   "execution_count": 5,
   "metadata": {},
   "outputs": [
    {
     "name": "stdout",
     "output_type": "stream",
     "text": [
      "lenth f = 257\n",
      "lenth t = 121\n",
      "total 31097\n",
      "idx1024= 64\n"
     ]
    }
   ],
   "source": [
    "sample_rate = 8192\n",
    "data_length = 8192 \n",
    "T = data_length / sample_rate\n",
    "\n",
    "nitv = 16.0\n",
    "novl = 8.0\n",
    "#f\n",
    "lenf = int(sample_rate/nitv/2+1)\n",
    "print 'lenth f =',lenf\n",
    "#t\n",
    "lent = int((nitv*T-1)*novl+1)\n",
    "print 'lenth t =',lent\n",
    "#total\n",
    "totalpix = lenf*lent\n",
    "print 'total',totalpix\n",
    "#idx of f=1024\n",
    "idx1024 = (lenf-1)/4\n",
    "print 'idx1024=',idx1024\n",
    "\n",
    "\n",
    "batchSize = 10\n",
    "datasize = ll\n",
    "totalBatchs = datasize/batchSize\n",
    "\n",
    "c1fs = 7 #conv1 filter size\n",
    "c1fn = 2 #conv1 filter number\n",
    "c2fs = 5 #conv2 filter size\n",
    "c2fn = 4 #conv2 filter number\n",
    "c3fs = 3 #conv3 filter size\n",
    "c3fn = 8 #conv3 filter number\n",
    "dos1 = idx1024+1 #1st dim of spectrogram\n",
    "dos2 = lent #2nd dim of spectrogram\n",
    "lnn1 = 128 #layer1 neuron number\n",
    "lnn2 =64 #layer1 neuron number"
   ]
  },
  {
   "cell_type": "code",
   "execution_count": 6,
   "metadata": {},
   "outputs": [
    {
     "name": "stdout",
     "output_type": "stream",
     "text": [
      "WARNING:tensorflow:From <ipython-input-6-e21281bd1acd>:53: softmax_cross_entropy_with_logits (from tensorflow.python.ops.nn_ops) is deprecated and will be removed in a future version.\n",
      "Instructions for updating:\n",
      "\n",
      "Future major versions of TensorFlow will allow gradients to flow\n",
      "into the labels input on backprop by default.\n",
      "\n",
      "See @{tf.nn.softmax_cross_entropy_with_logits_v2}.\n",
      "\n"
     ]
    }
   ],
   "source": [
    "with tf.name_scope('input_layer'):\n",
    "    x = tf.placeholder('float', shape=[None, dos1, dos2], name='x')\n",
    "    x_image = tf.reshape(x, [-1, dos1, dos2, 1]) #(筆數,頻率維度,時間維度,顏色維度)\n",
    "    \n",
    "with tf.name_scope('c1_conv'):\n",
    "    w1 = w([c1fs ,c1fs ,1, c1fn])\n",
    "    b1 = b([c1fn])\n",
    "    conv1 = conv2d(x_image, w1) + b1\n",
    "    c1_conv = tf.nn.relu(conv1)\n",
    "    \n",
    "with tf.name_scope('c1_pool'):\n",
    "    c1_pool = maxpool2x2(c1_conv)\n",
    "    \n",
    "with tf.name_scope('c2_conv'):\n",
    "    w2 = w([c2fs ,c2fs , c1fn, c2fn])\n",
    "    b2 = b([c2fn])\n",
    "    conv2 = conv2d(c1_pool,w2) +b2\n",
    "    c2_conv = tf.nn.relu(conv2)\n",
    "    \n",
    "with tf.name_scope('c2_pool'):\n",
    "    c2_pool = maxpool2x2(c2_conv)\n",
    "    \n",
    "with tf.name_scope('c3_conv'):\n",
    "    w3 = w([c3fs ,c3fs ,c2fn, c3fn])\n",
    "    b3 = b([c3fn])\n",
    "    conv3 = conv2d(c2_pool, w3) + b3\n",
    "    c3_conv = tf.nn.relu(conv3)\n",
    "    \n",
    "#neurons = dos1/8*dos2/8*c3fn\n",
    "with tf.name_scope('D_flat'):\n",
    "    D_Flat = tf.layers.Flatten()(c3_conv)\n",
    "\n",
    "with tf.name_scope('D_hidden_layer1'):\n",
    "    inputdim = D_Flat.shape.as_list()[1]\n",
    "    wl1 = w([inputdim, lnn1])\n",
    "    bl1 = b([lnn1])\n",
    "    D_hidden1 = tf.nn.relu(tf.matmul(D_Flat, wl1)+bl1)\n",
    "    \n",
    "with tf.name_scope('D_hidden_layer2'):\n",
    "    wl2 = w([lnn1, lnn2])\n",
    "    bl2 = b([lnn2])\n",
    "    D_hidden2 = tf.nn.relu(tf.matmul(D_hidden1, wl2)+bl2)\n",
    "    \n",
    "with tf.name_scope('output_layer'):\n",
    "    wo = w([lnn2,2])\n",
    "    bo = b([2])\n",
    "    #y_predict = tf.sigmoid(tf.matmul(D_hidden_dropout2,wo)+bo)\n",
    "    y_predict = tf.nn.softmax(tf.matmul(D_hidden2,wo)+bo)\n",
    "    \n",
    "with tf.name_scope('optimizer'):\n",
    "    y_label = tf.placeholder('float', shape=[None,2], name='y_label')\n",
    "    #lossfunction = tf.reduce_mean(tf.nn.sigmoid_cross_entropy_with_logits(logits=y_predict, labels=y_label))\n",
    "    lossfunction = tf.reduce_mean(tf.nn.softmax_cross_entropy_with_logits(logits=y_predict, labels=y_label))\n",
    "    optimizer = tf.train.AdamOptimizer(learning_rate=0.0001).minimize(lossfunction)\n",
    "    \n",
    "with tf.name_scope('evaluate_model'):\n",
    "    correct_prediction = tf.equal(tf.argmax(y_predict,1), tf.argmax(y_label,1))\n",
    "    accuracy = tf.reduce_mean(tf.cast(correct_prediction,'float'))"
   ]
  },
  {
   "cell_type": "code",
   "execution_count": 7,
   "metadata": {},
   "outputs": [],
   "source": [
    "def evaluate(trainEpochs):\n",
    "    loss_list = [] ; epoch_list = [] ; accuracy_list = []\n",
    "\n",
    "    start_time = timeit.default_timer()\n",
    "    sess = tf.Session()\n",
    "\n",
    "    saver = tf.train.Saver()\n",
    "\n",
    "    try: #第一次後執行\n",
    "        saver.restore(sess, modelstore)\n",
    "    except: #第一次跑時執行\n",
    "        sess.run(tf.global_variables_initializer())\n",
    "\n",
    "\n",
    "    bg = batch_generator(traindatafile, batchSize)\n",
    "    fval = h5py.File(valdatafile, 'r')\n",
    "    val_x = fval['data'][...]\n",
    "    val_y = fval['label'][...]\n",
    "    #np_utils.to_categorical\n",
    "    for epoch in range(trainEpochs):\n",
    "        for i in range(totalBatchs):\n",
    "            #每次讀取100筆資料\n",
    "            batch_x, batch_y = next(bg)\n",
    "            #將feature和label輸入並計算執行圖\n",
    "            sess.run(optimizer, feed_dict={x : batch_x, y_label : sess.run(tf.one_hot(batch_y, 2)) })\n",
    "        #使用驗證資料計算一次epoch的loss和acc    \n",
    "        loss, acc = sess.run([lossfunction,accuracy],feed_dict={x : val_x, y_label : sess.run(tf.one_hot(val_y, 2))})\n",
    "    \n",
    "        epoch_list.append(epoch) ; loss_list.append(loss) ; accuracy_list.append(acc)\n",
    "        print 'Train Epoch:', '%02d'%(epoch+1), 'Loss=', '{:.9f}'.format(loss), 'Accuracy=',acc\n",
    "    \n",
    "\n",
    "    saver.save(sess, modelstore)\n",
    "\n",
    "    fval.close()\n",
    "    stop_time = timeit.default_timer()\n",
    "    print 'period(s) =', stop_time - start_time\n",
    "\n",
    "def estimate(testdata):\n",
    "    ftest = h5py.File(testdata, 'r')\n",
    "    test_x = ftest['data'][...]\n",
    "    test_y = ftest['label'][...]\n",
    "    ftest.close()\n",
    "    \n",
    "    sess = tf.Session()\n",
    "    saver = tf.train.Saver()\n",
    "    saver.restore(sess, modelstore)\n",
    "    start_time = timeit.default_timer()\n",
    "    print 'acc :', sess.run(accuracy, feed_dict={x : test_x, y_label : sess.run(tf.one_hot(test_y, 2)) })\n",
    "    stop_time = timeit.default_timer()\n",
    "    print 'period of estimate =', stop_time - start_time, '(s)'\n",
    "    \n",
    "def prediction_result(testdata):\n",
    "    ftest = h5py.File(testdata, 'r')\n",
    "    test_x = ftest['data'][...]\n",
    "    test_y = ftest['label'][...]\n",
    "    ftest.close()\n",
    "    \n",
    "    sess = tf.Session()\n",
    "    saver = tf.train.Saver()\n",
    "    saver.restore(sess, modelstore)\n",
    "    start_time = timeit.default_timer()\n",
    "    pr = sess.run(tf.argmax(y_predict, 1), feed_dict={x : test_x, y_label : sess.run(tf.one_hot(test_y, 2))})\n",
    "    stop_time = timeit.default_timer()\n",
    "    print 'period of prediction =', stop_time - start_time, '(s)'\n",
    "    return pr"
   ]
  },
  {
   "cell_type": "code",
   "execution_count": 8,
   "metadata": {},
   "outputs": [
    {
     "name": "stdout",
     "output_type": "stream",
     "text": [
      "INFO:tensorflow:Restoring parameters from /Volumes/Mac/GW/model/model5.ckpt\n",
      "Train Epoch: 01 Loss= 0.406934172 Accuracy= 0.90933335\n",
      "Train Epoch: 02 Loss= 0.395069987 Accuracy= 0.915\n",
      "period(s) = 262.612557888\n"
     ]
    }
   ],
   "source": [
    "evaluate(2) #pr=1.5"
   ]
  },
  {
   "cell_type": "code",
   "execution_count": 9,
   "metadata": {},
   "outputs": [
    {
     "name": "stdout",
     "output_type": "stream",
     "text": [
      "INFO:tensorflow:Restoring parameters from /Volumes/Mac/GW/model/model5.ckpt\n",
      "Train Epoch: 01 Loss= 0.384797901 Accuracy= 0.925\n",
      "Train Epoch: 02 Loss= 0.367084146 Accuracy= 0.9486667\n",
      "period(s) = 489.221810102\n"
     ]
    }
   ],
   "source": [
    "evaluate(2) #pr=1.5"
   ]
  },
  {
   "cell_type": "code",
   "execution_count": 10,
   "metadata": {},
   "outputs": [
    {
     "name": "stdout",
     "output_type": "stream",
     "text": [
      "INFO:tensorflow:Restoring parameters from /Volumes/Mac/GW/model/model5.ckpt\n",
      "Train Epoch: 01 Loss= 0.345329255 Accuracy= 0.972\n",
      "Train Epoch: 02 Loss= 0.337785780 Accuracy= 0.9776667\n",
      "Train Epoch: 03 Loss= 0.332563996 Accuracy= 0.983\n"
     ]
    },
    {
     "ename": "KeyboardInterrupt",
     "evalue": "",
     "output_type": "error",
     "traceback": [
      "\u001b[0;31m---------------------------------------------------------------------------\u001b[0m",
      "\u001b[0;31mKeyboardInterrupt\u001b[0m                         Traceback (most recent call last)",
      "\u001b[0;32m<ipython-input-10-0b73de8cfe4a>\u001b[0m in \u001b[0;36m<module>\u001b[0;34m()\u001b[0m\n\u001b[0;32m----> 1\u001b[0;31m \u001b[0mevaluate\u001b[0m\u001b[0;34m(\u001b[0m\u001b[0;36m5\u001b[0m\u001b[0;34m)\u001b[0m \u001b[0;31m#1.5\u001b[0m\u001b[0;34m\u001b[0m\u001b[0m\n\u001b[0m",
      "\u001b[0;32m<ipython-input-7-5166c448f488>\u001b[0m in \u001b[0;36mevaluate\u001b[0;34m(trainEpochs)\u001b[0m\n\u001b[1;32m     23\u001b[0m             \u001b[0mbatch_x\u001b[0m\u001b[0;34m,\u001b[0m \u001b[0mbatch_y\u001b[0m \u001b[0;34m=\u001b[0m \u001b[0mnext\u001b[0m\u001b[0;34m(\u001b[0m\u001b[0mbg\u001b[0m\u001b[0;34m)\u001b[0m\u001b[0;34m\u001b[0m\u001b[0m\n\u001b[1;32m     24\u001b[0m             \u001b[0;31m#將feature和label輸入並計算執行圖\u001b[0m\u001b[0;34m\u001b[0m\u001b[0;34m\u001b[0m\u001b[0m\n\u001b[0;32m---> 25\u001b[0;31m             \u001b[0msess\u001b[0m\u001b[0;34m.\u001b[0m\u001b[0mrun\u001b[0m\u001b[0;34m(\u001b[0m\u001b[0moptimizer\u001b[0m\u001b[0;34m,\u001b[0m \u001b[0mfeed_dict\u001b[0m\u001b[0;34m=\u001b[0m\u001b[0;34m{\u001b[0m\u001b[0mx\u001b[0m \u001b[0;34m:\u001b[0m \u001b[0mbatch_x\u001b[0m\u001b[0;34m,\u001b[0m \u001b[0my_label\u001b[0m \u001b[0;34m:\u001b[0m \u001b[0msess\u001b[0m\u001b[0;34m.\u001b[0m\u001b[0mrun\u001b[0m\u001b[0;34m(\u001b[0m\u001b[0mtf\u001b[0m\u001b[0;34m.\u001b[0m\u001b[0mone_hot\u001b[0m\u001b[0;34m(\u001b[0m\u001b[0mbatch_y\u001b[0m\u001b[0;34m,\u001b[0m \u001b[0;36m2\u001b[0m\u001b[0;34m)\u001b[0m\u001b[0;34m)\u001b[0m \u001b[0;34m}\u001b[0m\u001b[0;34m)\u001b[0m\u001b[0;34m\u001b[0m\u001b[0m\n\u001b[0m\u001b[1;32m     26\u001b[0m         \u001b[0;31m#使用驗證資料計算一次epoch的loss和acc\u001b[0m\u001b[0;34m\u001b[0m\u001b[0;34m\u001b[0m\u001b[0m\n\u001b[1;32m     27\u001b[0m         \u001b[0mloss\u001b[0m\u001b[0;34m,\u001b[0m \u001b[0macc\u001b[0m \u001b[0;34m=\u001b[0m \u001b[0msess\u001b[0m\u001b[0;34m.\u001b[0m\u001b[0mrun\u001b[0m\u001b[0;34m(\u001b[0m\u001b[0;34m[\u001b[0m\u001b[0mlossfunction\u001b[0m\u001b[0;34m,\u001b[0m\u001b[0maccuracy\u001b[0m\u001b[0;34m]\u001b[0m\u001b[0;34m,\u001b[0m\u001b[0mfeed_dict\u001b[0m\u001b[0;34m=\u001b[0m\u001b[0;34m{\u001b[0m\u001b[0mx\u001b[0m \u001b[0;34m:\u001b[0m \u001b[0mval_x\u001b[0m\u001b[0;34m,\u001b[0m \u001b[0my_label\u001b[0m \u001b[0;34m:\u001b[0m \u001b[0msess\u001b[0m\u001b[0;34m.\u001b[0m\u001b[0mrun\u001b[0m\u001b[0;34m(\u001b[0m\u001b[0mtf\u001b[0m\u001b[0;34m.\u001b[0m\u001b[0mone_hot\u001b[0m\u001b[0;34m(\u001b[0m\u001b[0mval_y\u001b[0m\u001b[0;34m,\u001b[0m \u001b[0;36m2\u001b[0m\u001b[0;34m)\u001b[0m\u001b[0;34m)\u001b[0m\u001b[0;34m}\u001b[0m\u001b[0;34m)\u001b[0m\u001b[0;34m\u001b[0m\u001b[0m\n",
      "\u001b[0;32m/anaconda3/envs/anacondapy2/lib/python2.7/site-packages/tensorflow/python/client/session.pyc\u001b[0m in \u001b[0;36mrun\u001b[0;34m(self, fetches, feed_dict, options, run_metadata)\u001b[0m\n\u001b[1;32m    898\u001b[0m     \u001b[0;32mtry\u001b[0m\u001b[0;34m:\u001b[0m\u001b[0;34m\u001b[0m\u001b[0m\n\u001b[1;32m    899\u001b[0m       result = self._run(None, fetches, feed_dict, options_ptr,\n\u001b[0;32m--> 900\u001b[0;31m                          run_metadata_ptr)\n\u001b[0m\u001b[1;32m    901\u001b[0m       \u001b[0;32mif\u001b[0m \u001b[0mrun_metadata\u001b[0m\u001b[0;34m:\u001b[0m\u001b[0;34m\u001b[0m\u001b[0m\n\u001b[1;32m    902\u001b[0m         \u001b[0mproto_data\u001b[0m \u001b[0;34m=\u001b[0m \u001b[0mtf_session\u001b[0m\u001b[0;34m.\u001b[0m\u001b[0mTF_GetBuffer\u001b[0m\u001b[0;34m(\u001b[0m\u001b[0mrun_metadata_ptr\u001b[0m\u001b[0;34m)\u001b[0m\u001b[0;34m\u001b[0m\u001b[0m\n",
      "\u001b[0;32m/anaconda3/envs/anacondapy2/lib/python2.7/site-packages/tensorflow/python/client/session.pyc\u001b[0m in \u001b[0;36m_run\u001b[0;34m(self, handle, fetches, feed_dict, options, run_metadata)\u001b[0m\n\u001b[1;32m   1133\u001b[0m     \u001b[0;32mif\u001b[0m \u001b[0mfinal_fetches\u001b[0m \u001b[0;32mor\u001b[0m \u001b[0mfinal_targets\u001b[0m \u001b[0;32mor\u001b[0m \u001b[0;34m(\u001b[0m\u001b[0mhandle\u001b[0m \u001b[0;32mand\u001b[0m \u001b[0mfeed_dict_tensor\u001b[0m\u001b[0;34m)\u001b[0m\u001b[0;34m:\u001b[0m\u001b[0;34m\u001b[0m\u001b[0m\n\u001b[1;32m   1134\u001b[0m       results = self._do_run(handle, final_targets, final_fetches,\n\u001b[0;32m-> 1135\u001b[0;31m                              feed_dict_tensor, options, run_metadata)\n\u001b[0m\u001b[1;32m   1136\u001b[0m     \u001b[0;32melse\u001b[0m\u001b[0;34m:\u001b[0m\u001b[0;34m\u001b[0m\u001b[0m\n\u001b[1;32m   1137\u001b[0m       \u001b[0mresults\u001b[0m \u001b[0;34m=\u001b[0m \u001b[0;34m[\u001b[0m\u001b[0;34m]\u001b[0m\u001b[0;34m\u001b[0m\u001b[0m\n",
      "\u001b[0;32m/anaconda3/envs/anacondapy2/lib/python2.7/site-packages/tensorflow/python/client/session.pyc\u001b[0m in \u001b[0;36m_do_run\u001b[0;34m(self, handle, target_list, fetch_list, feed_dict, options, run_metadata)\u001b[0m\n\u001b[1;32m   1314\u001b[0m     \u001b[0;32mif\u001b[0m \u001b[0mhandle\u001b[0m \u001b[0;32mis\u001b[0m \u001b[0mNone\u001b[0m\u001b[0;34m:\u001b[0m\u001b[0;34m\u001b[0m\u001b[0m\n\u001b[1;32m   1315\u001b[0m       return self._do_call(_run_fn, feeds, fetches, targets, options,\n\u001b[0;32m-> 1316\u001b[0;31m                            run_metadata)\n\u001b[0m\u001b[1;32m   1317\u001b[0m     \u001b[0;32melse\u001b[0m\u001b[0;34m:\u001b[0m\u001b[0;34m\u001b[0m\u001b[0m\n\u001b[1;32m   1318\u001b[0m       \u001b[0;32mreturn\u001b[0m \u001b[0mself\u001b[0m\u001b[0;34m.\u001b[0m\u001b[0m_do_call\u001b[0m\u001b[0;34m(\u001b[0m\u001b[0m_prun_fn\u001b[0m\u001b[0;34m,\u001b[0m \u001b[0mhandle\u001b[0m\u001b[0;34m,\u001b[0m \u001b[0mfeeds\u001b[0m\u001b[0;34m,\u001b[0m \u001b[0mfetches\u001b[0m\u001b[0;34m)\u001b[0m\u001b[0;34m\u001b[0m\u001b[0m\n",
      "\u001b[0;32m/anaconda3/envs/anacondapy2/lib/python2.7/site-packages/tensorflow/python/client/session.pyc\u001b[0m in \u001b[0;36m_do_call\u001b[0;34m(self, fn, *args)\u001b[0m\n\u001b[1;32m   1320\u001b[0m   \u001b[0;32mdef\u001b[0m \u001b[0m_do_call\u001b[0m\u001b[0;34m(\u001b[0m\u001b[0mself\u001b[0m\u001b[0;34m,\u001b[0m \u001b[0mfn\u001b[0m\u001b[0;34m,\u001b[0m \u001b[0;34m*\u001b[0m\u001b[0margs\u001b[0m\u001b[0;34m)\u001b[0m\u001b[0;34m:\u001b[0m\u001b[0;34m\u001b[0m\u001b[0m\n\u001b[1;32m   1321\u001b[0m     \u001b[0;32mtry\u001b[0m\u001b[0;34m:\u001b[0m\u001b[0;34m\u001b[0m\u001b[0m\n\u001b[0;32m-> 1322\u001b[0;31m       \u001b[0;32mreturn\u001b[0m \u001b[0mfn\u001b[0m\u001b[0;34m(\u001b[0m\u001b[0;34m*\u001b[0m\u001b[0margs\u001b[0m\u001b[0;34m)\u001b[0m\u001b[0;34m\u001b[0m\u001b[0m\n\u001b[0m\u001b[1;32m   1323\u001b[0m     \u001b[0;32mexcept\u001b[0m \u001b[0merrors\u001b[0m\u001b[0;34m.\u001b[0m\u001b[0mOpError\u001b[0m \u001b[0;32mas\u001b[0m \u001b[0me\u001b[0m\u001b[0;34m:\u001b[0m\u001b[0;34m\u001b[0m\u001b[0m\n\u001b[1;32m   1324\u001b[0m       \u001b[0mmessage\u001b[0m \u001b[0;34m=\u001b[0m \u001b[0mcompat\u001b[0m\u001b[0;34m.\u001b[0m\u001b[0mas_text\u001b[0m\u001b[0;34m(\u001b[0m\u001b[0me\u001b[0m\u001b[0;34m.\u001b[0m\u001b[0mmessage\u001b[0m\u001b[0;34m)\u001b[0m\u001b[0;34m\u001b[0m\u001b[0m\n",
      "\u001b[0;32m/anaconda3/envs/anacondapy2/lib/python2.7/site-packages/tensorflow/python/client/session.pyc\u001b[0m in \u001b[0;36m_run_fn\u001b[0;34m(feed_dict, fetch_list, target_list, options, run_metadata)\u001b[0m\n\u001b[1;32m   1303\u001b[0m     \u001b[0;32mdef\u001b[0m \u001b[0m_run_fn\u001b[0m\u001b[0;34m(\u001b[0m\u001b[0mfeed_dict\u001b[0m\u001b[0;34m,\u001b[0m \u001b[0mfetch_list\u001b[0m\u001b[0;34m,\u001b[0m \u001b[0mtarget_list\u001b[0m\u001b[0;34m,\u001b[0m \u001b[0moptions\u001b[0m\u001b[0;34m,\u001b[0m \u001b[0mrun_metadata\u001b[0m\u001b[0;34m)\u001b[0m\u001b[0;34m:\u001b[0m\u001b[0;34m\u001b[0m\u001b[0m\n\u001b[1;32m   1304\u001b[0m       \u001b[0;31m# Ensure any changes to the graph are reflected in the runtime.\u001b[0m\u001b[0;34m\u001b[0m\u001b[0;34m\u001b[0m\u001b[0m\n\u001b[0;32m-> 1305\u001b[0;31m       \u001b[0mself\u001b[0m\u001b[0;34m.\u001b[0m\u001b[0m_extend_graph\u001b[0m\u001b[0;34m(\u001b[0m\u001b[0;34m)\u001b[0m\u001b[0;34m\u001b[0m\u001b[0m\n\u001b[0m\u001b[1;32m   1306\u001b[0m       return self._call_tf_sessionrun(\n\u001b[1;32m   1307\u001b[0m           options, feed_dict, fetch_list, target_list, run_metadata)\n",
      "\u001b[0;32m/anaconda3/envs/anacondapy2/lib/python2.7/site-packages/tensorflow/python/client/session.pyc\u001b[0m in \u001b[0;36m_extend_graph\u001b[0;34m(self)\u001b[0m\n\u001b[1;32m   1338\u001b[0m     \u001b[0;32mif\u001b[0m \u001b[0mself\u001b[0m\u001b[0;34m.\u001b[0m\u001b[0m_created_with_new_api\u001b[0m\u001b[0;34m:\u001b[0m\u001b[0;34m\u001b[0m\u001b[0m\n\u001b[1;32m   1339\u001b[0m       \u001b[0;32mwith\u001b[0m \u001b[0mself\u001b[0m\u001b[0;34m.\u001b[0m\u001b[0m_graph\u001b[0m\u001b[0;34m.\u001b[0m\u001b[0m_lock\u001b[0m\u001b[0;34m:\u001b[0m  \u001b[0;31m# pylint: disable=protected-access\u001b[0m\u001b[0;34m\u001b[0m\u001b[0m\n\u001b[0;32m-> 1340\u001b[0;31m         \u001b[0mtf_session\u001b[0m\u001b[0;34m.\u001b[0m\u001b[0mExtendSession\u001b[0m\u001b[0;34m(\u001b[0m\u001b[0mself\u001b[0m\u001b[0;34m.\u001b[0m\u001b[0m_session\u001b[0m\u001b[0;34m)\u001b[0m\u001b[0;34m\u001b[0m\u001b[0m\n\u001b[0m\u001b[1;32m   1341\u001b[0m     \u001b[0;32melse\u001b[0m\u001b[0;34m:\u001b[0m\u001b[0;34m\u001b[0m\u001b[0m\n\u001b[1;32m   1342\u001b[0m       \u001b[0;31m# Ensure any changes to the graph are reflected in the runtime.\u001b[0m\u001b[0;34m\u001b[0m\u001b[0;34m\u001b[0m\u001b[0m\n",
      "\u001b[0;31mKeyboardInterrupt\u001b[0m: "
     ]
    }
   ],
   "source": [
    "evaluate(5) #1.5"
   ]
  },
  {
   "cell_type": "code",
   "execution_count": 12,
   "metadata": {},
   "outputs": [
    {
     "name": "stdout",
     "output_type": "stream",
     "text": [
      "INFO:tensorflow:Restoring parameters from /Volumes/Mac/GW/model/model3.ckpt\n",
      "Train Epoch: 01 Loss= 0.326502681 Accuracy= 0.9863333\n",
      "Train Epoch: 02 Loss= 0.325302392 Accuracy= 0.988\n",
      "Train Epoch: 03 Loss= 0.327876866 Accuracy= 0.9853333\n",
      "Train Epoch: 04 Loss= 0.330673069 Accuracy= 0.9826667\n",
      "Train Epoch: 05 Loss= 0.322347015 Accuracy= 0.991\n",
      "period(s) = 2794.75981903\n"
     ]
    }
   ],
   "source": [
    "evaluate(5) #1"
   ]
  },
  {
   "cell_type": "code",
   "execution_count": 9,
   "metadata": {},
   "outputs": [
    {
     "name": "stdout",
     "output_type": "stream",
     "text": [
      "INFO:tensorflow:Restoring parameters from /Volumes/Mac/GW/model/model3.ckpt\n",
      "Train Epoch: 01 Loss= 0.313783079 Accuracy= 0.9993333\n",
      "Train Epoch: 02 Loss= 0.313746214 Accuracy= 0.9993333\n",
      "Train Epoch: 03 Loss= 0.313826352 Accuracy= 0.9993333\n",
      "Train Epoch: 04 Loss= 0.313550889 Accuracy= 1.0\n",
      "Train Epoch: 05 Loss= 0.314091623 Accuracy= 0.9993333\n",
      "period(s) = 1007.16630006\n"
     ]
    }
   ],
   "source": [
    "evaluate(5) #pr=1.2"
   ]
  },
  {
   "cell_type": "code",
   "execution_count": 11,
   "metadata": {},
   "outputs": [
    {
     "name": "stdout",
     "output_type": "stream",
     "text": [
      "INFO:tensorflow:Restoring parameters from /Volumes/Mac/GW/model/model3.ckpt\n",
      "Train Epoch: 01 Loss= 0.319688886 Accuracy= 0.99366665\n",
      "Train Epoch: 02 Loss= 0.317988575 Accuracy= 0.9953333\n",
      "Train Epoch: 03 Loss= 0.319385529 Accuracy= 0.9946667\n",
      "Train Epoch: 04 Loss= 0.316449255 Accuracy= 0.997\n",
      "Train Epoch: 05 Loss= 0.316285521 Accuracy= 0.99666667\n",
      "period(s) = 11006.7617369\n"
     ]
    }
   ],
   "source": [
    "evaluate(5) #pr=1"
   ]
  },
  {
   "cell_type": "code",
   "execution_count": 15,
   "metadata": {},
   "outputs": [
    {
     "name": "stdout",
     "output_type": "stream",
     "text": [
      "INFO:tensorflow:Restoring parameters from /Volumes/Mac/GW/model/model3.ckpt\n",
      "Train Epoch: 01 Loss= 0.427587479 Accuracy= 0.879\n",
      "Train Epoch: 02 Loss= 0.433307588 Accuracy= 0.8703333\n",
      "Train Epoch: 03 Loss= 0.424093634 Accuracy= 0.883\n",
      "Train Epoch: 04 Loss= 0.425914347 Accuracy= 0.883\n",
      "Train Epoch: 05 Loss= 0.426102042 Accuracy= 0.88133335\n",
      "period(s) = 937.025388002\n"
     ]
    }
   ],
   "source": [
    "evaluate(5) #pr="
   ]
  },
  {
   "cell_type": "code",
   "execution_count": 14,
   "metadata": {},
   "outputs": [],
   "source": [
    "d = '/Volumes/Mac/GW/spec/withoutoverlap/5.5~74.5/testdatawo_spec16-8_freq1024_pr0.5_2time10_'"
   ]
  },
  {
   "cell_type": "code",
   "execution_count": 23,
   "metadata": {},
   "outputs": [],
   "source": [
    "def relation(n):\n",
    "    rm = np.zeros([70,70])\n",
    "    count_total = 0\n",
    "    count_wrong = 0\n",
    "    cm = np.zeros([2,2])\n",
    "    for j in range(n):\n",
    "        data =  d+str(j)+'.h5'\n",
    "        test = h5py.File(data, 'r')\n",
    "        test_par = test['parameter'][...]\n",
    "        test_lab = test['label'][...]\n",
    "        test.close()\n",
    "        predict = prediction_result(data)\n",
    "        cm += confusionmatrix(predict,test_lab)\n",
    "        for i in range(len(test_par)):\n",
    "            if test_par[i,0] != 0: #選擇有訊號的數據\n",
    "                count_total += 1.\n",
    "                if test_lab[i] != predict[i]: #預測不正確則顏色加深\n",
    "                    row = int(test_par[i,0]-5.5)\n",
    "                    col =  int(test_par[i,1]-5.5)\n",
    "                    rm[row,col] += 1.\n",
    "                    count_wrong +=1.\n",
    "    print 'sensitivity =',(count_total-count_wrong)/count_total\n",
    "    print 'acc =',acc(cm)\n",
    "    print 'sensitivity =', sensitivity(cm)\n",
    "    print 'far =',false_alarm_rate(cm)\n",
    "    scale = preprocessing.MinMaxScaler(feature_range=(0,1))\n",
    "    rmr = rm.reshape(70*70,1)\n",
    "    rmrn = scale.fit_transform(rmr)\n",
    "    rm = rmrn.reshape(70, 70)\n",
    "    return rm\n",
    "\n",
    "def confusionmatrix(prediction_result,test_y):\n",
    "    sess = tf.Session()\n",
    "    cm = sess.run(tf.confusion_matrix(test_y, prediction_result))\n",
    "    print 'confusionmatrix ='\n",
    "    print cm\n",
    "    return cm\n",
    "\n",
    "def false_alarm_rate(cm):\n",
    "    fp = cm[0,1].astype('float64')\n",
    "    tn = cm[0,0].astype('float64')\n",
    "    print 'false alarm rate =',fp/(fp+tn) #false alarm rate\n",
    "\n",
    "def sensitivity(cm):\n",
    "    tp = cm[1,1].astype('float64')\n",
    "    fn = cm[1,0].astype('float64')\n",
    "    print 'sensitivity =',tp/(tp+fn) #sensitivity\n",
    "    \n",
    "\n",
    "def acc(cm):\n",
    "    print 'acc =',(cm[0,0]+cm[1,1])/np.sum(cm)\n",
    "def summary():\n",
    "    estimate()\n",
    "    pr = prediction_result()\n",
    "    cm = confusionmatrix(pr)\n",
    "    false_alarm_rate(cm)\n",
    "    sensitivity(cm)"
   ]
  },
  {
   "cell_type": "code",
   "execution_count": null,
   "metadata": {},
   "outputs": [],
   "source": []
  },
  {
   "cell_type": "code",
   "execution_count": null,
   "metadata": {},
   "outputs": [],
   "source": []
  },
  {
   "cell_type": "code",
   "execution_count": 10,
   "metadata": {},
   "outputs": [
    {
     "name": "stdout",
     "output_type": "stream",
     "text": [
      "INFO:tensorflow:Restoring parameters from /Volumes/Mac/GW/model/model3.ckpt\n",
      "period of prediction = 20.533698082 (s)\n",
      "INFO:tensorflow:Restoring parameters from /Volumes/Mac/GW/model/model3.ckpt\n",
      "period of prediction = 20.0136342049 (s)\n",
      "INFO:tensorflow:Restoring parameters from /Volumes/Mac/GW/model/model3.ckpt\n",
      "period of prediction = 22.212143898 (s)\n",
      "INFO:tensorflow:Restoring parameters from /Volumes/Mac/GW/model/model3.ckpt\n",
      "period of prediction = 21.0090949535 (s)\n",
      "INFO:tensorflow:Restoring parameters from /Volumes/Mac/GW/model/model3.ckpt\n",
      "period of prediction = 19.6757888794 (s)\n",
      "INFO:tensorflow:Restoring parameters from /Volumes/Mac/GW/model/model3.ckpt\n",
      "period of prediction = 19.6111841202 (s)\n",
      "INFO:tensorflow:Restoring parameters from /Volumes/Mac/GW/model/model3.ckpt\n",
      "period of prediction = 19.2658708096 (s)\n",
      "INFO:tensorflow:Restoring parameters from /Volumes/Mac/GW/model/model3.ckpt\n",
      "period of prediction = 19.4742348194 (s)\n",
      "INFO:tensorflow:Restoring parameters from /Volumes/Mac/GW/model/model3.ckpt\n",
      "period of prediction = 19.2512319088 (s)\n",
      "INFO:tensorflow:Restoring parameters from /Volumes/Mac/GW/model/model3.ckpt\n",
      "period of prediction = 22.4409639835 (s)\n",
      "INFO:tensorflow:Restoring parameters from /Volumes/Mac/GW/model/model3.ckpt\n",
      "period of prediction = 19.1738798618 (s)\n",
      "INFO:tensorflow:Restoring parameters from /Volumes/Mac/GW/model/model3.ckpt\n",
      "period of prediction = 19.3143630028 (s)\n",
      "INFO:tensorflow:Restoring parameters from /Volumes/Mac/GW/model/model3.ckpt\n",
      "period of prediction = 19.2957968712 (s)\n",
      "INFO:tensorflow:Restoring parameters from /Volumes/Mac/GW/model/model3.ckpt\n",
      "period of prediction = 20.1364140511 (s)\n",
      "INFO:tensorflow:Restoring parameters from /Volumes/Mac/GW/model/model3.ckpt\n",
      "period of prediction = 19.3165829182 (s)\n",
      "INFO:tensorflow:Restoring parameters from /Volumes/Mac/GW/model/model3.ckpt\n",
      "period of prediction = 19.2671370506 (s)\n",
      "INFO:tensorflow:Restoring parameters from /Volumes/Mac/GW/model/model3.ckpt\n",
      "period of prediction = 19.2281320095 (s)\n",
      "INFO:tensorflow:Restoring parameters from /Volumes/Mac/GW/model/model3.ckpt\n",
      "period of prediction = 20.8776259422 (s)\n",
      "INFO:tensorflow:Restoring parameters from /Volumes/Mac/GW/model/model3.ckpt\n",
      "period of prediction = 19.2506129742 (s)\n",
      "INFO:tensorflow:Restoring parameters from /Volumes/Mac/GW/model/model3.ckpt\n",
      "period of prediction = 20.9771490097 (s)\n",
      "INFO:tensorflow:Restoring parameters from /Volumes/Mac/GW/model/model3.ckpt\n",
      "period of prediction = 19.4402139187 (s)\n",
      "INFO:tensorflow:Restoring parameters from /Volumes/Mac/GW/model/model3.ckpt\n",
      "period of prediction = 19.536864996 (s)\n",
      "INFO:tensorflow:Restoring parameters from /Volumes/Mac/GW/model/model3.ckpt\n",
      "period of prediction = 21.2486112118 (s)\n",
      "INFO:tensorflow:Restoring parameters from /Volumes/Mac/GW/model/model3.ckpt\n",
      "period of prediction = 19.7137298584 (s)\n",
      "INFO:tensorflow:Restoring parameters from /Volumes/Mac/GW/model/model3.ckpt\n",
      "period of prediction = 20.2239971161 (s)\n",
      "INFO:tensorflow:Restoring parameters from /Volumes/Mac/GW/model/model3.ckpt\n",
      "period of prediction = 20.789222002 (s)\n",
      "INFO:tensorflow:Restoring parameters from /Volumes/Mac/GW/model/model3.ckpt\n",
      "period of prediction = 19.2166640759 (s)\n",
      "INFO:tensorflow:Restoring parameters from /Volumes/Mac/GW/model/model3.ckpt\n",
      "period of prediction = 19.3750240803 (s)\n",
      "INFO:tensorflow:Restoring parameters from /Volumes/Mac/GW/model/model3.ckpt\n",
      "period of prediction = 22.1134240627 (s)\n",
      "INFO:tensorflow:Restoring parameters from /Volumes/Mac/GW/model/model3.ckpt\n",
      "period of prediction = 21.8530948162 (s)\n",
      "INFO:tensorflow:Restoring parameters from /Volumes/Mac/GW/model/model3.ckpt\n",
      "period of prediction = 22.7160618305 (s)\n",
      "INFO:tensorflow:Restoring parameters from /Volumes/Mac/GW/model/model3.ckpt\n",
      "period of prediction = 22.76947999 (s)\n",
      "INFO:tensorflow:Restoring parameters from /Volumes/Mac/GW/model/model3.ckpt\n",
      "period of prediction = 18.5791609287 (s)\n",
      "INFO:tensorflow:Restoring parameters from /Volumes/Mac/GW/model/model3.ckpt\n",
      "period of prediction = 18.6444368362 (s)\n",
      "INFO:tensorflow:Restoring parameters from /Volumes/Mac/GW/model/model3.ckpt\n",
      "period of prediction = 19.9275121689 (s)\n",
      "INFO:tensorflow:Restoring parameters from /Volumes/Mac/GW/model/model3.ckpt\n",
      "period of prediction = 21.2563090324 (s)\n",
      "INFO:tensorflow:Restoring parameters from /Volumes/Mac/GW/model/model3.ckpt\n",
      "period of prediction = 20.9750161171 (s)\n",
      "INFO:tensorflow:Restoring parameters from /Volumes/Mac/GW/model/model3.ckpt\n",
      "period of prediction = 22.03256917 (s)\n",
      "INFO:tensorflow:Restoring parameters from /Volumes/Mac/GW/model/model3.ckpt\n",
      "period of prediction = 23.18608284 (s)\n",
      "INFO:tensorflow:Restoring parameters from /Volumes/Mac/GW/model/model3.ckpt\n",
      "period of prediction = 21.5996210575 (s)\n",
      "INFO:tensorflow:Restoring parameters from /Volumes/Mac/GW/model/model3.ckpt\n",
      "period of prediction = 24.5456709862 (s)\n",
      "INFO:tensorflow:Restoring parameters from /Volumes/Mac/GW/model/model3.ckpt\n",
      "period of prediction = 18.8087859154 (s)\n",
      "INFO:tensorflow:Restoring parameters from /Volumes/Mac/GW/model/model3.ckpt\n",
      "period of prediction = 18.6126821041 (s)\n",
      "INFO:tensorflow:Restoring parameters from /Volumes/Mac/GW/model/model3.ckpt\n",
      "period of prediction = 18.4041340351 (s)\n",
      "INFO:tensorflow:Restoring parameters from /Volumes/Mac/GW/model/model3.ckpt\n",
      "period of prediction = 23.7396931648 (s)\n",
      "INFO:tensorflow:Restoring parameters from /Volumes/Mac/GW/model/model3.ckpt\n",
      "period of prediction = 19.1242821217 (s)\n",
      "INFO:tensorflow:Restoring parameters from /Volumes/Mac/GW/model/model3.ckpt\n",
      "period of prediction = 20.5880820751 (s)\n",
      "INFO:tensorflow:Restoring parameters from /Volumes/Mac/GW/model/model3.ckpt\n",
      "period of prediction = 20.1265609264 (s)\n",
      "INFO:tensorflow:Restoring parameters from /Volumes/Mac/GW/model/model3.ckpt\n",
      "period of prediction = 21.4739649296 (s)\n",
      "INFO:tensorflow:Restoring parameters from /Volumes/Mac/GW/model/model3.ckpt\n",
      "period of prediction = 20.6426131725 (s)\n",
      "0.17492555332\n"
     ]
    }
   ],
   "source": [
    "rm = relation(50)"
   ]
  },
  {
   "cell_type": "code",
   "execution_count": 11,
   "metadata": {},
   "outputs": [
    {
     "data": {
      "text/plain": [
       "([<matplotlib.axis.XTick at 0x1a2824a650>,\n",
       "  <matplotlib.axis.XTick at 0x1a2824a050>,\n",
       "  <matplotlib.axis.XTick at 0x1a28220b90>,\n",
       "  <matplotlib.axis.XTick at 0x1a1f7f3e90>,\n",
       "  <matplotlib.axis.XTick at 0x1a1f800410>,\n",
       "  <matplotlib.axis.XTick at 0x1a1f7e8f90>,\n",
       "  <matplotlib.axis.XTick at 0x1a1f800110>],\n",
       " <a list of 7 Text xticklabel objects>)"
      ]
     },
     "execution_count": 11,
     "metadata": {},
     "output_type": "execute_result"
    },
    {
     "data": {
      "image/png": "[encoded data removed]",
      "text/plain": [
       "<Figure size 432x288 with 1 Axes>"
      ]
     },
     "metadata": {},
     "output_type": "display_data"
    }
   ],
   "source": [
    "plt.imshow(rm, cmap='binary')\n",
    "tick_idx = [0,10,20,30,40,50,60]\n",
    "tick_mass = [5.5,15.5,25.5,35.5,45.5,55.5,65.5]\n",
    "plt.yticks(tick_idx , tick_mass)\n",
    "plt.xticks(tick_idx , tick_mass) "
   ]
  },
  {
   "cell_type": "code",
   "execution_count": 16,
   "metadata": {},
   "outputs": [
    {
     "name": "stdout",
     "output_type": "stream",
     "text": [
      "INFO:tensorflow:Restoring parameters from /Volumes/Mac/GW/model/model3.ckpt\n",
      "period of prediction = 25.411965847 (s)\n",
      "INFO:tensorflow:Restoring parameters from /Volumes/Mac/GW/model/model3.ckpt\n",
      "period of prediction = 18.9637608528 (s)\n",
      "INFO:tensorflow:Restoring parameters from /Volumes/Mac/GW/model/model3.ckpt\n",
      "period of prediction = 18.8773200512 (s)\n",
      "INFO:tensorflow:Restoring parameters from /Volumes/Mac/GW/model/model3.ckpt\n",
      "period of prediction = 19.0978441238 (s)\n",
      "INFO:tensorflow:Restoring parameters from /Volumes/Mac/GW/model/model3.ckpt\n",
      "period of prediction = 18.8775670528 (s)\n",
      "INFO:tensorflow:Restoring parameters from /Volumes/Mac/GW/model/model3.ckpt\n",
      "period of prediction = 19.5179491043 (s)\n",
      "INFO:tensorflow:Restoring parameters from /Volumes/Mac/GW/model/model3.ckpt\n",
      "period of prediction = 20.3131799698 (s)\n",
      "INFO:tensorflow:Restoring parameters from /Volumes/Mac/GW/model/model3.ckpt\n",
      "period of prediction = 19.0117518902 (s)\n",
      "INFO:tensorflow:Restoring parameters from /Volumes/Mac/GW/model/model3.ckpt\n",
      "period of prediction = 22.293118 (s)\n",
      "INFO:tensorflow:Restoring parameters from /Volumes/Mac/GW/model/model3.ckpt\n",
      "period of prediction = 22.3415510654 (s)\n",
      "INFO:tensorflow:Restoring parameters from /Volumes/Mac/GW/model/model3.ckpt\n",
      "period of prediction = 23.6765627861 (s)\n",
      "INFO:tensorflow:Restoring parameters from /Volumes/Mac/GW/model/model3.ckpt\n",
      "period of prediction = 22.3774690628 (s)\n",
      "INFO:tensorflow:Restoring parameters from /Volumes/Mac/GW/model/model3.ckpt\n",
      "period of prediction = 23.8157811165 (s)\n",
      "INFO:tensorflow:Restoring parameters from /Volumes/Mac/GW/model/model3.ckpt\n",
      "period of prediction = 23.9793281555 (s)\n",
      "INFO:tensorflow:Restoring parameters from /Volumes/Mac/GW/model/model3.ckpt\n",
      "period of prediction = 24.2530248165 (s)\n",
      "INFO:tensorflow:Restoring parameters from /Volumes/Mac/GW/model/model3.ckpt\n",
      "period of prediction = 24.2806608677 (s)\n",
      "INFO:tensorflow:Restoring parameters from /Volumes/Mac/GW/model/model3.ckpt\n",
      "period of prediction = 23.8595170975 (s)\n",
      "INFO:tensorflow:Restoring parameters from /Volumes/Mac/GW/model/model3.ckpt\n",
      "period of prediction = 19.8373548985 (s)\n",
      "INFO:tensorflow:Restoring parameters from /Volumes/Mac/GW/model/model3.ckpt\n",
      "period of prediction = 19.6020140648 (s)\n",
      "INFO:tensorflow:Restoring parameters from /Volumes/Mac/GW/model/model3.ckpt\n",
      "period of prediction = 19.2519760132 (s)\n",
      "INFO:tensorflow:Restoring parameters from /Volumes/Mac/GW/model/model3.ckpt\n",
      "period of prediction = 21.1248960495 (s)\n",
      "INFO:tensorflow:Restoring parameters from /Volumes/Mac/GW/model/model3.ckpt\n",
      "period of prediction = 20.8576991558 (s)\n",
      "INFO:tensorflow:Restoring parameters from /Volumes/Mac/GW/model/model3.ckpt\n",
      "period of prediction = 21.6689851284 (s)\n",
      "INFO:tensorflow:Restoring parameters from /Volumes/Mac/GW/model/model3.ckpt\n",
      "period of prediction = 21.7240259647 (s)\n",
      "INFO:tensorflow:Restoring parameters from /Volumes/Mac/GW/model/model3.ckpt\n",
      "period of prediction = 21.8641009331 (s)\n",
      "INFO:tensorflow:Restoring parameters from /Volumes/Mac/GW/model/model3.ckpt\n",
      "period of prediction = 23.2892961502 (s)\n",
      "INFO:tensorflow:Restoring parameters from /Volumes/Mac/GW/model/model3.ckpt\n",
      "period of prediction = 22.0500109196 (s)\n",
      "INFO:tensorflow:Restoring parameters from /Volumes/Mac/GW/model/model3.ckpt\n",
      "period of prediction = 22.0403389931 (s)\n",
      "INFO:tensorflow:Restoring parameters from /Volumes/Mac/GW/model/model3.ckpt\n",
      "period of prediction = 22.6225039959 (s)\n",
      "INFO:tensorflow:Restoring parameters from /Volumes/Mac/GW/model/model3.ckpt\n",
      "period of prediction = 22.7070319653 (s)\n",
      "INFO:tensorflow:Restoring parameters from /Volumes/Mac/GW/model/model3.ckpt\n",
      "period of prediction = 22.1276819706 (s)\n",
      "INFO:tensorflow:Restoring parameters from /Volumes/Mac/GW/model/model3.ckpt\n",
      "period of prediction = 25.4741449356 (s)\n",
      "INFO:tensorflow:Restoring parameters from /Volumes/Mac/GW/model/model3.ckpt\n",
      "period of prediction = 27.03886199 (s)\n",
      "INFO:tensorflow:Restoring parameters from /Volumes/Mac/GW/model/model3.ckpt\n",
      "period of prediction = 25.5765810013 (s)\n",
      "INFO:tensorflow:Restoring parameters from /Volumes/Mac/GW/model/model3.ckpt\n",
      "period of prediction = 23.7231299877 (s)\n",
      "INFO:tensorflow:Restoring parameters from /Volumes/Mac/GW/model/model3.ckpt\n",
      "period of prediction = 24.6101081371 (s)\n",
      "INFO:tensorflow:Restoring parameters from /Volumes/Mac/GW/model/model3.ckpt\n",
      "period of prediction = 20.0813579559 (s)\n",
      "INFO:tensorflow:Restoring parameters from /Volumes/Mac/GW/model/model3.ckpt\n",
      "period of prediction = 25.7664029598 (s)\n",
      "INFO:tensorflow:Restoring parameters from /Volumes/Mac/GW/model/model3.ckpt\n",
      "period of prediction = 27.8171069622 (s)\n",
      "INFO:tensorflow:Restoring parameters from /Volumes/Mac/GW/model/model3.ckpt\n",
      "period of prediction = 26.1829249859 (s)\n",
      "INFO:tensorflow:Restoring parameters from /Volumes/Mac/GW/model/model3.ckpt\n",
      "period of prediction = 24.7960278988 (s)\n",
      "INFO:tensorflow:Restoring parameters from /Volumes/Mac/GW/model/model3.ckpt\n",
      "period of prediction = 23.4545378685 (s)\n",
      "INFO:tensorflow:Restoring parameters from /Volumes/Mac/GW/model/model3.ckpt\n",
      "period of prediction = 25.3847529888 (s)\n",
      "INFO:tensorflow:Restoring parameters from /Volumes/Mac/GW/model/model3.ckpt\n",
      "period of prediction = 23.6085991859 (s)\n",
      "INFO:tensorflow:Restoring parameters from /Volumes/Mac/GW/model/model3.ckpt\n",
      "period of prediction = 24.2555658817 (s)\n",
      "INFO:tensorflow:Restoring parameters from /Volumes/Mac/GW/model/model3.ckpt\n",
      "period of prediction = 24.3764300346 (s)\n",
      "INFO:tensorflow:Restoring parameters from /Volumes/Mac/GW/model/model3.ckpt\n",
      "period of prediction = 19.9056398869 (s)\n",
      "INFO:tensorflow:Restoring parameters from /Volumes/Mac/GW/model/model3.ckpt\n",
      "period of prediction = 19.6483869553 (s)\n",
      "INFO:tensorflow:Restoring parameters from /Volumes/Mac/GW/model/model3.ckpt\n",
      "period of prediction = 20.5542719364 (s)\n",
      "INFO:tensorflow:Restoring parameters from /Volumes/Mac/GW/model/model3.ckpt\n",
      "period of prediction = 21.7888319492 (s)\n",
      "0.188036217304\n"
     ]
    }
   ],
   "source": [
    "rm2 = relation(50)"
   ]
  },
  {
   "cell_type": "code",
   "execution_count": 17,
   "metadata": {},
   "outputs": [
    {
     "data": {
      "text/plain": [
       "([<matplotlib.axis.XTick at 0x1a1da2c910>,\n",
       "  <matplotlib.axis.XTick at 0x1a1da2c4d0>,\n",
       "  <matplotlib.axis.XTick at 0x1a1da0ce10>,\n",
       "  <matplotlib.axis.XTick at 0x1a1dc24190>,\n",
       "  <matplotlib.axis.XTick at 0x1a1dc246d0>,\n",
       "  <matplotlib.axis.XTick at 0x1a1dc24c10>,\n",
       "  <matplotlib.axis.XTick at 0x1a1dc1ae50>],\n",
       " <a list of 7 Text xticklabel objects>)"
      ]
     },
     "execution_count": 17,
     "metadata": {},
     "output_type": "execute_result"
    },
    {
     "data": {
      "image/png": "[encoded data removed]",
      "text/plain": [
       "<Figure size 432x288 with 1 Axes>"
      ]
     },
     "metadata": {},
     "output_type": "display_data"
    }
   ],
   "source": [
    "plt.imshow(rm2, cmap='binary')\n",
    "tick_idx = [0,10,20,30,40,50,60]\n",
    "tick_mass = [5.5,15.5,25.5,35.5,45.5,55.5,65.5]\n",
    "plt.yticks(tick_idx , tick_mass)\n",
    "plt.xticks(tick_idx , tick_mass) "
   ]
  },
  {
   "cell_type": "code",
   "execution_count": null,
   "metadata": {},
   "outputs": [],
   "source": []
  },
  {
   "cell_type": "code",
   "execution_count": 24,
   "metadata": {
    "scrolled": true
   },
   "outputs": [
    {
     "name": "stdout",
     "output_type": "stream",
     "text": [
      "INFO:tensorflow:Restoring parameters from /Volumes/Mac/GW/model/model3.ckpt\n",
      "period of prediction = 22.7802128792 (s)\n",
      "confusionmatrix =\n",
      "[[ 535   17]\n",
      " [ 939 4031]]\n",
      "INFO:tensorflow:Restoring parameters from /Volumes/Mac/GW/model/model3.ckpt\n",
      "period of prediction = 23.4226930141 (s)\n",
      "confusionmatrix =\n",
      "[[ 511   41]\n",
      " [ 943 4027]]\n",
      "INFO:tensorflow:Restoring parameters from /Volumes/Mac/GW/model/model3.ckpt\n",
      "period of prediction = 19.5220189095 (s)\n",
      "confusionmatrix =\n",
      "[[ 526   26]\n",
      " [ 955 4015]]\n",
      "INFO:tensorflow:Restoring parameters from /Volumes/Mac/GW/model/model3.ckpt\n",
      "period of prediction = 21.4098260403 (s)\n",
      "confusionmatrix =\n",
      "[[ 520   32]\n",
      " [ 907 4063]]\n",
      "INFO:tensorflow:Restoring parameters from /Volumes/Mac/GW/model/model3.ckpt\n",
      "period of prediction = 23.6170661449 (s)\n",
      "confusionmatrix =\n",
      "[[ 526   26]\n",
      " [ 944 4026]]\n",
      "INFO:tensorflow:Restoring parameters from /Volumes/Mac/GW/model/model3.ckpt\n",
      "period of prediction = 22.7778811455 (s)\n",
      "confusionmatrix =\n",
      "[[ 520   32]\n",
      " [ 950 4020]]\n",
      "INFO:tensorflow:Restoring parameters from /Volumes/Mac/GW/model/model3.ckpt\n",
      "period of prediction = 22.4490978718 (s)\n",
      "confusionmatrix =\n",
      "[[ 522   30]\n",
      " [ 946 4024]]\n",
      "INFO:tensorflow:Restoring parameters from /Volumes/Mac/GW/model/model3.ckpt\n",
      "period of prediction = 22.413214922 (s)\n",
      "confusionmatrix =\n",
      "[[ 526   26]\n",
      " [ 929 4041]]\n",
      "INFO:tensorflow:Restoring parameters from /Volumes/Mac/GW/model/model3.ckpt\n",
      "period of prediction = 22.4850370884 (s)\n",
      "confusionmatrix =\n",
      "[[ 519   33]\n",
      " [ 971 3999]]\n",
      "INFO:tensorflow:Restoring parameters from /Volumes/Mac/GW/model/model3.ckpt\n",
      "period of prediction = 23.4676849842 (s)\n",
      "confusionmatrix =\n",
      "[[ 526   26]\n",
      " [ 923 4047]]\n",
      "INFO:tensorflow:Restoring parameters from /Volumes/Mac/GW/model/model3.ckpt\n",
      "period of prediction = 23.001046896 (s)\n",
      "confusionmatrix =\n",
      "[[ 522   30]\n",
      " [ 924 4046]]\n",
      "INFO:tensorflow:Restoring parameters from /Volumes/Mac/GW/model/model3.ckpt\n",
      "period of prediction = 24.8904659748 (s)\n",
      "confusionmatrix =\n",
      "[[ 523   29]\n",
      " [ 886 4084]]\n",
      "INFO:tensorflow:Restoring parameters from /Volumes/Mac/GW/model/model3.ckpt\n",
      "period of prediction = 19.2876279354 (s)\n",
      "confusionmatrix =\n",
      "[[ 522   30]\n",
      " [ 968 4002]]\n",
      "INFO:tensorflow:Restoring parameters from /Volumes/Mac/GW/model/model3.ckpt\n",
      "period of prediction = 23.7740809917 (s)\n",
      "confusionmatrix =\n",
      "[[ 528   24]\n",
      " [ 941 4029]]\n",
      "INFO:tensorflow:Restoring parameters from /Volumes/Mac/GW/model/model3.ckpt\n",
      "period of prediction = 25.773255825 (s)\n",
      "confusionmatrix =\n",
      "[[ 526   26]\n",
      " [ 949 4021]]\n",
      "INFO:tensorflow:Restoring parameters from /Volumes/Mac/GW/model/model3.ckpt\n",
      "period of prediction = 24.9322071075 (s)\n",
      "confusionmatrix =\n",
      "[[ 531   21]\n",
      " [ 955 4015]]\n",
      "INFO:tensorflow:Restoring parameters from /Volumes/Mac/GW/model/model3.ckpt\n",
      "period of prediction = 23.7005951405 (s)\n",
      "confusionmatrix =\n",
      "[[ 513   39]\n",
      " [ 959 4011]]\n",
      "INFO:tensorflow:Restoring parameters from /Volumes/Mac/GW/model/model3.ckpt\n",
      "period of prediction = 23.5620110035 (s)\n",
      "confusionmatrix =\n",
      "[[ 524   28]\n",
      " [ 945 4025]]\n",
      "INFO:tensorflow:Restoring parameters from /Volumes/Mac/GW/model/model3.ckpt\n",
      "period of prediction = 24.0572619438 (s)\n",
      "confusionmatrix =\n",
      "[[ 521   31]\n",
      " [ 953 4017]]\n",
      "INFO:tensorflow:Restoring parameters from /Volumes/Mac/GW/model/model3.ckpt\n",
      "period of prediction = 23.7495868206 (s)\n",
      "confusionmatrix =\n",
      "[[ 525   27]\n",
      " [ 965 4005]]\n",
      "INFO:tensorflow:Restoring parameters from /Volumes/Mac/GW/model/model3.ckpt\n",
      "period of prediction = 22.7366909981 (s)\n",
      "confusionmatrix =\n",
      "[[ 525   27]\n",
      " [ 939 4031]]\n",
      "INFO:tensorflow:Restoring parameters from /Volumes/Mac/GW/model/model3.ckpt\n",
      "period of prediction = 23.3954060078 (s)\n",
      "confusionmatrix =\n",
      "[[ 518   34]\n",
      " [ 917 4053]]\n",
      "INFO:tensorflow:Restoring parameters from /Volumes/Mac/GW/model/model3.ckpt\n",
      "period of prediction = 24.0504291058 (s)\n",
      "confusionmatrix =\n",
      "[[ 527   25]\n",
      " [ 913 4057]]\n",
      "INFO:tensorflow:Restoring parameters from /Volumes/Mac/GW/model/model3.ckpt\n",
      "period of prediction = 25.4327571392 (s)\n",
      "confusionmatrix =\n",
      "[[ 525   27]\n",
      " [ 892 4078]]\n",
      "INFO:tensorflow:Restoring parameters from /Volumes/Mac/GW/model/model3.ckpt\n",
      "period of prediction = 24.6689651012 (s)\n",
      "confusionmatrix =\n",
      "[[ 529   23]\n",
      " [ 939 4031]]\n",
      "INFO:tensorflow:Restoring parameters from /Volumes/Mac/GW/model/model3.ckpt\n",
      "period of prediction = 25.8250899315 (s)\n",
      "confusionmatrix =\n",
      "[[ 518   34]\n",
      " [ 941 4029]]\n",
      "INFO:tensorflow:Restoring parameters from /Volumes/Mac/GW/model/model3.ckpt\n",
      "period of prediction = 25.3691790104 (s)\n",
      "confusionmatrix =\n",
      "[[ 510   42]\n",
      " [ 951 4019]]\n",
      "INFO:tensorflow:Restoring parameters from /Volumes/Mac/GW/model/model3.ckpt\n",
      "period of prediction = 24.8638198376 (s)\n",
      "confusionmatrix =\n",
      "[[ 527   25]\n",
      " [ 914 4056]]\n",
      "INFO:tensorflow:Restoring parameters from /Volumes/Mac/GW/model/model3.ckpt\n",
      "period of prediction = 25.2167439461 (s)\n",
      "confusionmatrix =\n",
      "[[ 519   33]\n",
      " [ 969 4001]]\n",
      "INFO:tensorflow:Restoring parameters from /Volumes/Mac/GW/model/model3.ckpt\n",
      "period of prediction = 25.4626741409 (s)\n",
      "confusionmatrix =\n",
      "[[ 515   37]\n",
      " [ 965 4005]]\n",
      "INFO:tensorflow:Restoring parameters from /Volumes/Mac/GW/model/model3.ckpt\n",
      "period of prediction = 23.3056869507 (s)\n",
      "confusionmatrix =\n",
      "[[ 518   34]\n",
      " [ 904 4066]]\n",
      "INFO:tensorflow:Restoring parameters from /Volumes/Mac/GW/model/model3.ckpt\n",
      "period of prediction = 23.8131711483 (s)\n",
      "confusionmatrix =\n",
      "[[ 528   24]\n",
      " [ 960 4010]]\n",
      "INFO:tensorflow:Restoring parameters from /Volumes/Mac/GW/model/model3.ckpt\n",
      "period of prediction = 19.7965071201 (s)\n",
      "confusionmatrix =\n",
      "[[ 523   29]\n",
      " [ 892 4078]]\n",
      "INFO:tensorflow:Restoring parameters from /Volumes/Mac/GW/model/model3.ckpt\n",
      "period of prediction = 20.762709856 (s)\n",
      "confusionmatrix =\n",
      "[[ 534   18]\n",
      " [1013 3957]]\n",
      "INFO:tensorflow:Restoring parameters from /Volumes/Mac/GW/model/model3.ckpt\n",
      "period of prediction = 21.2062389851 (s)\n",
      "confusionmatrix =\n",
      "[[ 526   26]\n",
      " [ 958 4012]]\n",
      "INFO:tensorflow:Restoring parameters from /Volumes/Mac/GW/model/model3.ckpt\n",
      "period of prediction = 25.8156569004 (s)\n",
      "confusionmatrix =\n",
      "[[ 525   27]\n",
      " [ 918 4052]]\n",
      "INFO:tensorflow:Restoring parameters from /Volumes/Mac/GW/model/model3.ckpt\n",
      "period of prediction = 32.0259029865 (s)\n",
      "confusionmatrix =\n",
      "[[ 519   33]\n",
      " [ 970 4000]]\n",
      "INFO:tensorflow:Restoring parameters from /Volumes/Mac/GW/model/model3.ckpt\n",
      "period of prediction = 35.1517488956 (s)\n",
      "confusionmatrix =\n",
      "[[ 526   26]\n",
      " [ 920 4050]]\n",
      "INFO:tensorflow:Restoring parameters from /Volumes/Mac/GW/model/model3.ckpt\n",
      "period of prediction = 29.5300090313 (s)\n",
      "confusionmatrix =\n",
      "[[ 532   20]\n",
      " [ 940 4030]]\n",
      "INFO:tensorflow:Restoring parameters from /Volumes/Mac/GW/model/model3.ckpt\n",
      "period of prediction = 27.5865740776 (s)\n",
      "confusionmatrix =\n",
      "[[ 523   29]\n",
      " [ 920 4050]]\n",
      "INFO:tensorflow:Restoring parameters from /Volumes/Mac/GW/model/model3.ckpt\n",
      "period of prediction = 28.9659321308 (s)\n",
      "confusionmatrix =\n",
      "[[ 524   28]\n",
      " [ 938 4032]]\n",
      "INFO:tensorflow:Restoring parameters from /Volumes/Mac/GW/model/model3.ckpt\n",
      "period of prediction = 30.8441271782 (s)\n",
      "confusionmatrix =\n",
      "[[ 518   34]\n",
      " [ 933 4037]]\n",
      "INFO:tensorflow:Restoring parameters from /Volumes/Mac/GW/model/model3.ckpt\n",
      "period of prediction = 21.8872787952 (s)\n",
      "confusionmatrix =\n",
      "[[ 528   24]\n",
      " [ 938 4032]]\n",
      "INFO:tensorflow:Restoring parameters from /Volumes/Mac/GW/model/model3.ckpt\n",
      "period of prediction = 24.9293470383 (s)\n",
      "confusionmatrix =\n",
      "[[ 523   29]\n",
      " [ 931 4039]]\n",
      "INFO:tensorflow:Restoring parameters from /Volumes/Mac/GW/model/model3.ckpt\n",
      "period of prediction = 22.7084999084 (s)\n",
      "confusionmatrix =\n",
      "[[ 531   21]\n",
      " [ 996 3974]]\n",
      "INFO:tensorflow:Restoring parameters from /Volumes/Mac/GW/model/model3.ckpt\n",
      "period of prediction = 23.8816671371 (s)\n",
      "confusionmatrix =\n",
      "[[ 519   33]\n",
      " [ 978 3992]]\n",
      "INFO:tensorflow:Restoring parameters from /Volumes/Mac/GW/model/model3.ckpt\n",
      "period of prediction = 24.2900230885 (s)\n",
      "confusionmatrix =\n",
      "[[ 523   29]\n",
      " [ 937 4033]]\n",
      "INFO:tensorflow:Restoring parameters from /Volumes/Mac/GW/model/model3.ckpt\n",
      "period of prediction = 20.5626699924 (s)\n",
      "confusionmatrix =\n",
      "[[ 524   28]\n",
      " [ 953 4017]]\n",
      "INFO:tensorflow:Restoring parameters from /Volumes/Mac/GW/model/model3.ckpt\n",
      "period of prediction = 22.9887430668 (s)\n",
      "confusionmatrix =\n",
      "[[ 524   28]\n",
      " [ 967 4003]]\n",
      "INFO:tensorflow:Restoring parameters from /Volumes/Mac/GW/model/model3.ckpt\n",
      "period of prediction = 23.2436718941 (s)\n",
      "confusionmatrix =\n",
      "[[ 523   29]\n",
      " [ 967 4003]]\n",
      "INFO:tensorflow:Restoring parameters from /Volumes/Mac/GW/model/model3.ckpt\n",
      "period of prediction = 24.7175900936 (s)\n"
     ]
    },
    {
     "name": "stdout",
     "output_type": "stream",
     "text": [
      "confusionmatrix =\n",
      "[[ 515   37]\n",
      " [ 958 4012]]\n",
      "INFO:tensorflow:Restoring parameters from /Volumes/Mac/GW/model/model3.ckpt\n",
      "period of prediction = 32.4492199421 (s)\n",
      "confusionmatrix =\n",
      "[[ 513   39]\n",
      " [ 964 4006]]\n",
      "INFO:tensorflow:Restoring parameters from /Volumes/Mac/GW/model/model3.ckpt\n",
      "period of prediction = 24.1133379936 (s)\n",
      "confusionmatrix =\n",
      "[[ 513   39]\n",
      " [ 909 4061]]\n",
      "INFO:tensorflow:Restoring parameters from /Volumes/Mac/GW/model/model3.ckpt\n",
      "period of prediction = 24.0887269974 (s)\n",
      "confusionmatrix =\n",
      "[[ 531   21]\n",
      " [ 966 4004]]\n",
      "INFO:tensorflow:Restoring parameters from /Volumes/Mac/GW/model/model3.ckpt\n",
      "period of prediction = 19.7996180058 (s)\n",
      "confusionmatrix =\n",
      "[[ 526   26]\n",
      " [ 937 4033]]\n",
      "INFO:tensorflow:Restoring parameters from /Volumes/Mac/GW/model/model3.ckpt\n",
      "period of prediction = 19.8305590153 (s)\n",
      "confusionmatrix =\n",
      "[[ 523   29]\n",
      " [ 980 3990]]\n",
      "INFO:tensorflow:Restoring parameters from /Volumes/Mac/GW/model/model3.ckpt\n",
      "period of prediction = 22.9518539906 (s)\n",
      "confusionmatrix =\n",
      "[[ 525   27]\n",
      " [ 913 4057]]\n",
      "INFO:tensorflow:Restoring parameters from /Volumes/Mac/GW/model/model3.ckpt\n",
      "period of prediction = 26.8424360752 (s)\n",
      "confusionmatrix =\n",
      "[[ 526   26]\n",
      " [ 973 3997]]\n",
      "INFO:tensorflow:Restoring parameters from /Volumes/Mac/GW/model/model3.ckpt\n",
      "period of prediction = 25.1291880608 (s)\n",
      "confusionmatrix =\n",
      "[[ 521   31]\n",
      " [ 929 4041]]\n",
      "INFO:tensorflow:Restoring parameters from /Volumes/Mac/GW/model/model3.ckpt\n",
      "period of prediction = 19.387378931 (s)\n",
      "confusionmatrix =\n",
      "[[ 522   30]\n",
      " [ 890 4080]]\n",
      "INFO:tensorflow:Restoring parameters from /Volumes/Mac/GW/model/model3.ckpt\n",
      "period of prediction = 23.0191879272 (s)\n",
      "confusionmatrix =\n",
      "[[ 526   26]\n",
      " [ 884 4086]]\n",
      "INFO:tensorflow:Restoring parameters from /Volumes/Mac/GW/model/model3.ckpt\n",
      "period of prediction = 19.1788580418 (s)\n",
      "confusionmatrix =\n",
      "[[ 516   36]\n",
      " [ 955 4015]]\n",
      "INFO:tensorflow:Restoring parameters from /Volumes/Mac/GW/model/model3.ckpt\n",
      "period of prediction = 22.7284140587 (s)\n",
      "confusionmatrix =\n",
      "[[ 525   27]\n",
      " [ 962 4008]]\n",
      "INFO:tensorflow:Restoring parameters from /Volumes/Mac/GW/model/model3.ckpt\n",
      "period of prediction = 24.34790802 (s)\n",
      "confusionmatrix =\n",
      "[[ 523   29]\n",
      " [ 952 4018]]\n",
      "INFO:tensorflow:Restoring parameters from /Volumes/Mac/GW/model/model3.ckpt\n",
      "period of prediction = 20.4347600937 (s)\n",
      "confusionmatrix =\n",
      "[[ 528   24]\n",
      " [ 970 4000]]\n",
      "INFO:tensorflow:Restoring parameters from /Volumes/Mac/GW/model/model3.ckpt\n",
      "period of prediction = 25.2557778358 (s)\n",
      "confusionmatrix =\n",
      "[[ 523   29]\n",
      " [ 945 4025]]\n",
      "INFO:tensorflow:Restoring parameters from /Volumes/Mac/GW/model/model3.ckpt\n",
      "period of prediction = 19.8908071518 (s)\n",
      "confusionmatrix =\n",
      "[[ 519   33]\n",
      " [ 934 4036]]\n",
      "INFO:tensorflow:Restoring parameters from /Volumes/Mac/GW/model/model3.ckpt\n",
      "period of prediction = 23.0137109756 (s)\n",
      "confusionmatrix =\n",
      "[[ 528   24]\n",
      " [ 933 4037]]\n",
      "INFO:tensorflow:Restoring parameters from /Volumes/Mac/GW/model/model3.ckpt\n",
      "period of prediction = 24.2376320362 (s)\n",
      "confusionmatrix =\n",
      "[[ 525   27]\n",
      " [ 882 4088]]\n",
      "INFO:tensorflow:Restoring parameters from /Volumes/Mac/GW/model/model3.ckpt\n",
      "period of prediction = 24.7547128201 (s)\n",
      "confusionmatrix =\n",
      "[[ 522   30]\n",
      " [ 911 4059]]\n",
      "INFO:tensorflow:Restoring parameters from /Volumes/Mac/GW/model/model3.ckpt\n",
      "period of prediction = 23.9615521431 (s)\n",
      "confusionmatrix =\n",
      "[[ 538   14]\n",
      " [ 903 4067]]\n",
      "INFO:tensorflow:Restoring parameters from /Volumes/Mac/GW/model/model3.ckpt\n",
      "period of prediction = 23.7775490284 (s)\n",
      "confusionmatrix =\n",
      "[[ 518   34]\n",
      " [ 939 4031]]\n",
      "INFO:tensorflow:Restoring parameters from /Volumes/Mac/GW/model/model3.ckpt\n",
      "period of prediction = 24.2349298 (s)\n",
      "confusionmatrix =\n",
      "[[ 522   30]\n",
      " [ 929 4041]]\n",
      "INFO:tensorflow:Restoring parameters from /Volumes/Mac/GW/model/model3.ckpt\n",
      "period of prediction = 19.8210890293 (s)\n",
      "confusionmatrix =\n",
      "[[ 520   32]\n",
      " [ 951 4019]]\n",
      "INFO:tensorflow:Restoring parameters from /Volumes/Mac/GW/model/model3.ckpt\n",
      "period of prediction = 20.0547761917 (s)\n",
      "confusionmatrix =\n",
      "[[ 517   35]\n",
      " [ 950 4020]]\n",
      "INFO:tensorflow:Restoring parameters from /Volumes/Mac/GW/model/model3.ckpt\n",
      "period of prediction = 19.384693861 (s)\n",
      "confusionmatrix =\n",
      "[[ 519   33]\n",
      " [ 962 4008]]\n",
      "INFO:tensorflow:Restoring parameters from /Volumes/Mac/GW/model/model3.ckpt\n",
      "period of prediction = 19.4401891232 (s)\n",
      "confusionmatrix =\n",
      "[[ 527   25]\n",
      " [ 932 4038]]\n",
      "INFO:tensorflow:Restoring parameters from /Volumes/Mac/GW/model/model3.ckpt\n",
      "period of prediction = 22.0782999992 (s)\n",
      "confusionmatrix =\n",
      "[[ 513   39]\n",
      " [ 917 4053]]\n",
      "INFO:tensorflow:Restoring parameters from /Volumes/Mac/GW/model/model3.ckpt\n",
      "period of prediction = 23.6496319771 (s)\n",
      "confusionmatrix =\n",
      "[[ 524   28]\n",
      " [ 942 4028]]\n",
      "INFO:tensorflow:Restoring parameters from /Volumes/Mac/GW/model/model3.ckpt\n",
      "period of prediction = 24.6175990105 (s)\n",
      "confusionmatrix =\n",
      "[[ 516   36]\n",
      " [ 961 4009]]\n",
      "INFO:tensorflow:Restoring parameters from /Volumes/Mac/GW/model/model3.ckpt\n",
      "period of prediction = 22.4683129787 (s)\n",
      "confusionmatrix =\n",
      "[[ 526   26]\n",
      " [ 948 4022]]\n",
      "INFO:tensorflow:Restoring parameters from /Volumes/Mac/GW/model/model3.ckpt\n",
      "period of prediction = 23.4286620617 (s)\n",
      "confusionmatrix =\n",
      "[[ 527   25]\n",
      " [ 923 4047]]\n",
      "INFO:tensorflow:Restoring parameters from /Volumes/Mac/GW/model/model3.ckpt\n",
      "period of prediction = 24.0182909966 (s)\n",
      "confusionmatrix =\n",
      "[[ 523   29]\n",
      " [ 935 4035]]\n",
      "INFO:tensorflow:Restoring parameters from /Volumes/Mac/GW/model/model3.ckpt\n",
      "period of prediction = 22.9578549862 (s)\n",
      "confusionmatrix =\n",
      "[[ 523   29]\n",
      " [ 945 4025]]\n",
      "INFO:tensorflow:Restoring parameters from /Volumes/Mac/GW/model/model3.ckpt\n",
      "period of prediction = 24.3768742085 (s)\n",
      "confusionmatrix =\n",
      "[[ 528   24]\n",
      " [ 951 4019]]\n",
      "INFO:tensorflow:Restoring parameters from /Volumes/Mac/GW/model/model3.ckpt\n",
      "period of prediction = 20.0293910503 (s)\n",
      "confusionmatrix =\n",
      "[[ 516   36]\n",
      " [ 914 4056]]\n",
      "INFO:tensorflow:Restoring parameters from /Volumes/Mac/GW/model/model3.ckpt\n",
      "period of prediction = 24.0833370686 (s)\n",
      "confusionmatrix =\n",
      "[[ 513   39]\n",
      " [ 928 4042]]\n",
      "INFO:tensorflow:Restoring parameters from /Volumes/Mac/GW/model/model3.ckpt\n",
      "period of prediction = 24.1958069801 (s)\n",
      "confusionmatrix =\n",
      "[[ 518   34]\n",
      " [ 904 4066]]\n",
      "INFO:tensorflow:Restoring parameters from /Volumes/Mac/GW/model/model3.ckpt\n",
      "period of prediction = 23.8938269615 (s)\n",
      "confusionmatrix =\n",
      "[[ 520   32]\n",
      " [ 893 4077]]\n",
      "INFO:tensorflow:Restoring parameters from /Volumes/Mac/GW/model/model3.ckpt\n",
      "period of prediction = 23.9911739826 (s)\n",
      "confusionmatrix =\n",
      "[[ 521   31]\n",
      " [ 941 4029]]\n",
      "INFO:tensorflow:Restoring parameters from /Volumes/Mac/GW/model/model3.ckpt\n",
      "period of prediction = 24.0915470123 (s)\n",
      "confusionmatrix =\n",
      "[[ 517   35]\n",
      " [ 938 4032]]\n",
      "INFO:tensorflow:Restoring parameters from /Volumes/Mac/GW/model/model3.ckpt\n",
      "period of prediction = 20.0391318798 (s)\n",
      "confusionmatrix =\n",
      "[[ 519   33]\n",
      " [ 950 4020]]\n",
      "INFO:tensorflow:Restoring parameters from /Volumes/Mac/GW/model/model3.ckpt\n",
      "period of prediction = 24.4277918339 (s)\n",
      "confusionmatrix =\n",
      "[[ 521   31]\n",
      " [ 932 4038]]\n",
      "INFO:tensorflow:Restoring parameters from /Volumes/Mac/GW/model/model3.ckpt\n",
      "period of prediction = 24.2903711796 (s)\n",
      "confusionmatrix =\n",
      "[[ 521   31]\n",
      " [ 886 4084]]\n",
      "INFO:tensorflow:Restoring parameters from /Volumes/Mac/GW/model/model3.ckpt\n",
      "period of prediction = 22.8022408485 (s)\n",
      "confusionmatrix =\n",
      "[[ 536   16]\n",
      " [ 916 4054]]\n",
      "INFO:tensorflow:Restoring parameters from /Volumes/Mac/GW/model/model3.ckpt\n",
      "period of prediction = 23.1681168079 (s)\n",
      "confusionmatrix =\n",
      "[[ 523   29]\n",
      " [ 926 4044]]\n",
      "INFO:tensorflow:Restoring parameters from /Volumes/Mac/GW/model/model3.ckpt\n",
      "period of prediction = 24.1049540043 (s)\n",
      "confusionmatrix =\n",
      "[[ 531   21]\n",
      " [ 929 4041]]\n",
      "INFO:tensorflow:Restoring parameters from /Volumes/Mac/GW/model/model3.ckpt\n",
      "period of prediction = 24.3673241138 (s)\n",
      "confusionmatrix =\n",
      "[[ 526   26]\n",
      " [ 948 4022]]\n",
      "INFO:tensorflow:Restoring parameters from /Volumes/Mac/GW/model/model3.ckpt\n",
      "period of prediction = 22.8552119732 (s)\n",
      "confusionmatrix =\n",
      "[[ 520   32]\n",
      " [ 979 3991]]\n",
      "INFO:tensorflow:Restoring parameters from /Volumes/Mac/GW/model/model3.ckpt\n",
      "period of prediction = 23.9519658089 (s)\n",
      "confusionmatrix =\n",
      "[[ 527   25]\n",
      " [ 926 4044]]\n",
      "sensitivity = 0.811126760563\n",
      "acc = acc = 0.8247374139804419\n",
      "None\n",
      "sensitivity = sensitivity = 0.8111267605633803\n",
      "None\n",
      "far = false alarm rate = 0.05271739130434783\n",
      "None\n"
     ]
    }
   ],
   "source": [
    "rm3 = relation(100)"
   ]
  },
  {
   "cell_type": "code",
   "execution_count": 25,
   "metadata": {},
   "outputs": [
    {
     "data": {
      "text/plain": [
       "([<matplotlib.axis.XTick at 0x1a2207d450>,\n",
       "  <matplotlib.axis.XTick at 0x1a22078f10>,\n",
       "  <matplotlib.axis.XTick at 0x1a22078850>,\n",
       "  <matplotlib.axis.XTick at 0x1a2200f850>,\n",
       "  <matplotlib.axis.XTick at 0x1a2200fd90>,\n",
       "  <matplotlib.axis.XTick at 0x1a22012310>,\n",
       "  <matplotlib.axis.XTick at 0x1a22012850>],\n",
       " <a list of 7 Text xticklabel objects>)"
      ]
     },
     "execution_count": 25,
     "metadata": {},
     "output_type": "execute_result"
    },
    {
     "data": {
      "image/png": "[encoded data removed]",
      "text/plain": [
       "<Figure size 432x288 with 1 Axes>"
      ]
     },
     "metadata": {},
     "output_type": "display_data"
    }
   ],
   "source": [
    "plt.imshow(rm3, cmap='binary')\n",
    "tick_idx = [0,10,20,30,40,50,60]\n",
    "tick_mass = [5.5,15.5,25.5,35.5,45.5,55.5,65.5]\n",
    "plt.yticks(tick_idx , tick_mass)\n",
    "plt.xticks(tick_idx , tick_mass) "
   ]
  },
  {
   "cell_type": "code",
   "execution_count": null,
   "metadata": {},
   "outputs": [],
   "source": []
  }
 ],
 "metadata": {
  "kernelspec": {
   "display_name": "Python 2",
   "language": "python",
   "name": "python2"
  },
  "language_info": {
   "codemirror_mode": {
    "name": "ipython",
    "version": 2
   },
   "file_extension": ".py",
   "mimetype": "text/x-python",
   "name": "python",
   "nbconvert_exporter": "python",
   "pygments_lexer": "ipython2",
   "version": "2.7.15"
  }
 },
 "nbformat": 4,
 "nbformat_minor": 2
}
