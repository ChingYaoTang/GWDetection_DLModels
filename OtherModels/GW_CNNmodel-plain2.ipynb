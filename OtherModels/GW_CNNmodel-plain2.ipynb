{
 "cells": [
  {
   "cell_type": "code",
   "execution_count": 1,
   "metadata": {},
   "outputs": [
    {
     "name": "stderr",
     "output_type": "stream",
     "text": [
      "/anaconda3/envs/anacondapy2/lib/python2.7/site-packages/h5py/__init__.py:36: FutureWarning: Conversion of the second argument of issubdtype from `float` to `np.floating` is deprecated. In future, it will be treated as `np.float64 == np.dtype(float).type`.\n",
      "  from ._conv import register_converters as _register_converters\n"
     ]
    }
   ],
   "source": [
    "import tensorflow as tf\n",
    "import h5py \n",
    "import matplotlib.pyplot as plt\n",
    "import numpy as np\n",
    "import timeit\n",
    "from sklearn import preprocessing"
   ]
  },
  {
   "cell_type": "markdown",
   "metadata": {},
   "source": [
    "# batched data generating function"
   ]
  },
  {
   "cell_type": "code",
   "execution_count": 2,
   "metadata": {},
   "outputs": [],
   "source": [
    "def batch_generator(filename, batch_size):\n",
    "    f = h5py.File(filename, 'r')\n",
    "    batch_count = 0\n",
    "    while True:\n",
    "        if batch_count * batch_size + batch_size > f['label'].shape[0]: #若batchsize不能整除的話，最後餘下的資料永遠不會讀出\n",
    "            batch_count = 0\n",
    "        start_idx = batch_count * batch_size\n",
    "        end_idx = start_idx + batch_size\n",
    "        batch_count += 1\n",
    "        yield f['data'][start_idx : end_idx] , f['label'][start_idx : end_idx]\n",
    "    f.close()"
   ]
  },
  {
   "cell_type": "markdown",
   "metadata": {},
   "source": [
    "# weight function"
   ]
  },
  {
   "cell_type": "code",
   "execution_count": 3,
   "metadata": {},
   "outputs": [],
   "source": [
    "def w(shape): #weight\n",
    "    return tf.Variable(tf.truncated_normal(shape, stddev=0.1), name='w')\n",
    "\n",
    "def b(shape): #bias\n",
    "    return tf.Variable(tf.constant(0.1,shape=shape), name='b')\n",
    "\n",
    "def conv2d(x,w): #x:輸入影像，須為4維張量。 w:filter權重\n",
    "    return tf.nn.conv2d(x, w, strides=[1,1,1,1], padding='SAME')\n",
    "\n",
    "def maxpool2x2(x):\n",
    "    return tf.nn.max_pool(x, ksize=[1,2,2,1], strides=[1,2,2,1], padding='SAME')\n"
   ]
  },
  {
   "cell_type": "markdown",
   "metadata": {},
   "source": [
    "# model"
   ]
  },
  {
   "cell_type": "code",
   "execution_count": 4,
   "metadata": {},
   "outputs": [],
   "source": [
    "modelname = 'plain2'"
   ]
  },
  {
   "cell_type": "code",
   "execution_count": 5,
   "metadata": {},
   "outputs": [],
   "source": [
    "pr = 2\n",
    "traindatafile_ =  '/Volumes/Mac/GW/spec/withoutoverlap/5~75/trainingdatawo_spec16-8_freq512_pr'+str(pr)+'_mr<=10.h5'\n",
    "modelstore = '/Volumes/Mac/GW/model/model-'+modelname+'.ckpt'"
   ]
  },
  {
   "cell_type": "code",
   "execution_count": 6,
   "metadata": {},
   "outputs": [
    {
     "name": "stdout",
     "output_type": "stream",
     "text": [
      "6312\n"
     ]
    }
   ],
   "source": [
    "f = h5py.File(traindatafile_, 'r')\n",
    "ll = len(f['data'])\n",
    "print ll"
   ]
  },
  {
   "cell_type": "code",
   "execution_count": 7,
   "metadata": {},
   "outputs": [
    {
     "name": "stdout",
     "output_type": "stream",
     "text": [
      "lenth f = 257\n",
      "lenth t = 121\n",
      "idx512= 32\n",
      "batch size = 24\n"
     ]
    }
   ],
   "source": [
    "sample_rate = 8192\n",
    "data_length = 8192 \n",
    "T = data_length / sample_rate\n",
    "\n",
    "nitv = 16.0\n",
    "novl = 8.0\n",
    "#f\n",
    "lenf = int(sample_rate/nitv/2+1)\n",
    "print 'lenth f =',lenf\n",
    "#t\n",
    "lent = int((nitv*T-1)*novl+1)\n",
    "print 'lenth t =',lent\n",
    "\n",
    "#idx of f=512\n",
    "idx512 = (lenf-1)/8\n",
    "print 'idx512=',idx512\n",
    "\n",
    "\n",
    "batchSize = 24\n",
    "print 'batch size =' ,batchSize\n",
    "datasize = ll\n",
    "totalBatchs = datasize/batchSize\n",
    "\n",
    "c1fs = 11 #conv1 filter size\n",
    "c1fn = 3 #conv1 output channel number\n",
    "c2fs = 8 #conv2 filter size\n",
    "c2fn = 5 #conv2 output channel number\n",
    "dos1 = idx512+1 #1st dim of spectrogram\n",
    "dos2 = lent #2nd din of spectrogram\n",
    "lnn1 = 128 #layer1 neuron number\n",
    "lnn2 =32 #layer1 neuron number"
   ]
  },
  {
   "cell_type": "code",
   "execution_count": 8,
   "metadata": {},
   "outputs": [
    {
     "name": "stdout",
     "output_type": "stream",
     "text": [
      "WARNING:tensorflow:From <ipython-input-8-a2f244e8479d>:46: softmax_cross_entropy_with_logits (from tensorflow.python.ops.nn_ops) is deprecated and will be removed in a future version.\n",
      "Instructions for updating:\n",
      "\n",
      "Future major versions of TensorFlow will allow gradients to flow\n",
      "into the labels input on backprop by default.\n",
      "\n",
      "See @{tf.nn.softmax_cross_entropy_with_logits_v2}.\n",
      "\n"
     ]
    }
   ],
   "source": [
    "with tf.name_scope('input_layer'):\n",
    "    x = tf.placeholder('float', shape=[None, dos1, dos2], name='x')\n",
    "    x_image = tf.reshape(x, [-1, dos1, dos2, 1]) #(筆數,頻率維度,時間維度,顏色維度)\n",
    "    \n",
    "    \n",
    "with tf.name_scope('c1_conv'):\n",
    "    w1 = w([c1fs ,c1fs ,1, c1fn])\n",
    "    b1 = b([c1fn])\n",
    "    conv1 = conv2d(x_image, w1) + b1\n",
    "    c1_conv = tf.nn.relu(conv1)\n",
    "    \n",
    "with tf.name_scope('c2_conv'):\n",
    "    w2 = w([c2fs ,c2fs , c1fn, c2fn])\n",
    "    b2 = b([c2fn])\n",
    "    conv2 = conv2d(c1_conv,w2) +b2\n",
    "    c2_conv = tf.nn.relu(conv2)\n",
    "    \n",
    "with tf.name_scope('c2_pool'):\n",
    "    c2_pool = maxpool2x2(c2_conv)\n",
    "\n",
    "\n",
    "#neurons = dos1/8*dos2/8*c3fn\n",
    "with tf.name_scope('D_flat'):\n",
    "    D_Flat = tf.layers.Flatten()(c2_pool)\n",
    "\n",
    "with tf.name_scope('D_hidden_layer1'):\n",
    "    inputdim = D_Flat.shape.as_list()[1]\n",
    "    wl1 = w([inputdim, lnn1])\n",
    "    bl1 = b([lnn1])\n",
    "    D_hidden1 = tf.nn.relu(tf.matmul(D_Flat, wl1)+bl1)\n",
    "    \n",
    "with tf.name_scope('D_hidden_layer2'):\n",
    "    wl2 = w([lnn1, lnn2])\n",
    "    bl2 = b([lnn2])\n",
    "    D_hidden2 = tf.nn.relu(tf.matmul(D_hidden1, wl2)+bl2)\n",
    "    \n",
    "with tf.name_scope('output_layer'):\n",
    "    wo = w([lnn2,2])\n",
    "    bo = b([2])\n",
    "    #y_predict = tf.sigmoid(tf.matmul(D_hidden2,wo)+bo)\n",
    "    y_predict = tf.nn.softmax(tf.matmul(D_hidden2,wo)+bo)\n",
    "    \n",
    "with tf.name_scope('optimizer'):\n",
    "    y_label = tf.placeholder('float', shape=[None,2], name='y_label')\n",
    "    #lossfunction = tf.reduce_mean(tf.nn.sigmoid_cross_entropy_with_logits(logits=y_predict, labels=y_label))\n",
    "    lossfunction = tf.reduce_mean(tf.nn.softmax_cross_entropy_with_logits(logits=y_predict, labels=y_label))\n",
    "    optimizer = tf.train.AdamOptimizer(learning_rate=0.0001).minimize(lossfunction)\n",
    "    \n",
    "with tf.name_scope('evaluate_model'):\n",
    "    correct_prediction = tf.equal(tf.argmax(y_predict,1), tf.argmax(y_label,1))\n",
    "    accuracy = tf.reduce_mean(tf.cast(correct_prediction,'float'))"
   ]
  },
  {
   "cell_type": "markdown",
   "metadata": {},
   "source": [
    "# evaluate"
   ]
  },
  {
   "cell_type": "code",
   "execution_count": 9,
   "metadata": {},
   "outputs": [],
   "source": [
    "def evaluate(trainEpochs,peakratio):\n",
    "\n",
    "    start_time = timeit.default_timer()\n",
    "    sess = tf.Session()\n",
    "\n",
    "    saver = tf.train.Saver()\n",
    "\n",
    "    try: #第一次之後執行\n",
    "        saver.restore(sess, modelstore)\n",
    "    except: #第一次跑時執行\n",
    "        sess.run(tf.global_variables_initializer())\n",
    "\n",
    "    traindatafile =  '/Volumes/Mac/GW/spec/withoutoverlap/5~75/trainingdatawo_spec16-8_freq512_pr'+str(peakratio)+'_mr<=10.h5'\n",
    "    valdatafile = '/Volumes/Mac/GW/spec/overlap/5~75/validationdata_spec16-8_freq512_pr'+str(peakratio)+'_mr<=10.h5'\n",
    "    \n",
    "    \n",
    "    bg = batch_generator(traindatafile, batchSize)\n",
    "    fval = h5py.File(valdatafile, 'r')\n",
    "    val_x = fval['data'][...]\n",
    "    val_y = fval['label'][...]\n",
    "    #np_utils.to_categorical\n",
    "    for epoch in range(trainEpochs):\n",
    "        for i in range(totalBatchs):\n",
    "            #每次讀取100筆資料\n",
    "            batch_x, batch_y = next(bg)\n",
    "            #將feature和label輸入並計算執行圖\n",
    "            sess.run(optimizer, feed_dict={x : batch_x, y_label : sess.run(tf.one_hot(batch_y, 2)) })\n",
    "        #使用驗證資料計算一次epoch的loss和acc    \n",
    "        loss, acc = sess.run([lossfunction,accuracy],feed_dict={x : val_x, y_label : sess.run(tf.one_hot(val_y, 2))})\n",
    "    \n",
    "        print 'Train Epoch:', '%02d'%(epoch+1), 'Loss=', '{:.9f}'.format(loss), 'Accuracy=',acc\n",
    "    \n",
    "\n",
    "    saver.save(sess, modelstore)\n",
    "\n",
    "    fval.close()\n",
    "    stop_time = timeit.default_timer()\n",
    "    print 'period(s) =', stop_time - start_time\n",
    "    \n",
    "    \n",
    "def estimate(testdatafile):\n",
    "    sess = tf.Session()\n",
    "    saver = tf.train.Saver()\n",
    "    saver.restore(sess, modelstore)\n",
    "    ftest = h5py.File(testdatafile, 'r')\n",
    "    test_x = ftest['data'][...]\n",
    "    test_y = ftest['label'][...]\n",
    "    ftest.close()\n",
    "    \n",
    "    start_time = timeit.default_timer()\n",
    "    acc =  sess.run(accuracy, feed_dict={x : test_x, y_label : sess.run(tf.one_hot(test_y, 2)) })\n",
    "    print 'acc :', acc\n",
    "    stop_time = timeit.default_timer()\n",
    "    print 'period of estimate =', stop_time - start_time, '(s)'\n",
    "    return acc\n",
    "    \n",
    "def prediction_result(testdatafile):\n",
    "    sess = tf.Session()\n",
    "    saver = tf.train.Saver()\n",
    "    saver.restore(sess, modelstore)\n",
    "    ftest = h5py.File(testdatafile, 'r')\n",
    "    test_x = ftest['data'][...]\n",
    "    test_y = ftest['label'][...]\n",
    "    ftest.close()\n",
    "    \n",
    "    start_time = timeit.default_timer()\n",
    "    predictresult = sess.run(tf.argmax(y_predict, 1), feed_dict={x : test_x, y_label : sess.run(tf.one_hot(test_y, 2))})\n",
    "    stop_time = timeit.default_timer()\n",
    "    print 'period of prediction =', stop_time - start_time, '(s)'\n",
    "    return predictresult"
   ]
  },
  {
   "cell_type": "code",
   "execution_count": 10,
   "metadata": {},
   "outputs": [],
   "source": [
    "def relation(n):\n",
    "    d = '/Volumes/Mac/GW/spec/withoutoverlap/5.5~74.5/testdatawo_spec16-8_freq512_pr0.5_2time10_'\n",
    "    rm = np.zeros([70,70])\n",
    "    cm = np.zeros([2,2])\n",
    "    for j in range(n):\n",
    "        data =  d+str(j)+'_mr<=10.h5'\n",
    "        test = h5py.File(data, 'r')\n",
    "        test_par = test['parameter'][...]\n",
    "        test_lab = test['label'][...]\n",
    "        test.close()\n",
    "        predict = prediction_result(data)\n",
    "        cm += confusionmatrix(predict,test_lab)\n",
    "        for i in range(len(test_par)):\n",
    "            if test_par[i,0] != 0: #選擇有訊號的數據\n",
    "                if test_lab[i] != predict[i]: #預測不正確則顏色加深\n",
    "                    row = int(test_par[i,0]-5.5)\n",
    "                    col =  int(test_par[i,1]-5.5)\n",
    "                    rm[row,col] += 1.\n",
    "    acc(cm)\n",
    "    sensitivity(cm)\n",
    "    false_alarm_rate(cm)\n",
    "    scale = preprocessing.MinMaxScaler(feature_range=(0,1))\n",
    "    rmr = rm.reshape(70*70,1)\n",
    "    rmrn = scale.fit_transform(rmr)\n",
    "    rm = rmrn.reshape(70, 70)\n",
    "    \n",
    "    plt.imshow(rm, cmap='binary')\n",
    "    tick_idx = [0,10,20,30,40,50,60]\n",
    "    tick_mass = [5.5,15.5,25.5,35.5,45.5,55.5,65.5]\n",
    "    plt.yticks(tick_idx , tick_mass)\n",
    "    plt.xticks(tick_idx , tick_mass)\n",
    "    plt.xlabel('m2')\n",
    "    plt.ylabel('m1')\n",
    "\n",
    "def confusionmatrix(prediction_result,test_y):\n",
    "    sess = tf.Session()\n",
    "    cm = sess.run(tf.confusion_matrix(test_y, prediction_result))\n",
    "    print 'confusionmatrix ='\n",
    "    print cm\n",
    "    return cm\n",
    "\n",
    "def false_alarm_rate(cm):\n",
    "    fp = cm[0,1].astype('float64')\n",
    "    tn = cm[0,0].astype('float64')\n",
    "    print 'false alarm rate =',fp/(fp+tn) #false alarm rate\n",
    "    return fp/(fp+tn)\n",
    "\n",
    "def sensitivity(cm):\n",
    "    tp = cm[1,1].astype('float64')\n",
    "    fn = cm[1,0].astype('float64')\n",
    "    print 'sensitivity =',tp/(tp+fn) #sensitivity\n",
    "    return tp/(tp+fn)\n",
    "\n",
    "def acc(cm):\n",
    "    print 'acc =',(cm[0,0]+cm[1,1])/np.sum(cm)\n",
    "def summary():\n",
    "    estimate()\n",
    "    pr = prediction_result()\n",
    "    cm = confusionmatrix(pr)\n",
    "    false_alarm_rate(cm)\n",
    "    sensitivity(cm)\n",
    "    \n",
    "def show_the_wrong_predict(testdata):\n",
    "    rm = np.zeros([70,70])\n",
    "    FPlist = np.array([[]])\n",
    "    FNlist = np.array([[]])\n",
    "    data = testdata\n",
    "    test = h5py.File(data, 'r')\n",
    "    test_par = test['parameter'][...]\n",
    "    test_lab = test['label'][...]\n",
    "    test.close()\n",
    "    predict = prediction_result(data)\n",
    "    for i in range(len(test_par)):\n",
    "        if test_lab[i] != predict[i]: #預測不正確的數據\n",
    "            if test_par[i,0] == 0: #無訊號卻預測有\n",
    "                FPlist = np.append(FPlist,test_par[i])\n",
    "            else: #有訊號卻預測無\n",
    "                FNlist = np.append(FNlist,test_par[i])\n",
    "    \n",
    "    \n",
    "    plt.imshow(rm, cmap='binary')\n",
    "    tick_idx = [0,10,20,30,40,50,60]\n",
    "    tick_mass = [5.5,15.5,25.5,35.5,45.5,55.5,65.5]\n",
    "    plt.yticks(tick_idx , tick_mass)\n",
    "    plt.xticks(tick_idx , tick_mass)\n",
    "    plt.xlabel('m2')\n",
    "    plt.ylabel('m1')"
   ]
  },
  {
   "cell_type": "code",
   "execution_count": null,
   "metadata": {},
   "outputs": [],
   "source": []
  },
  {
   "cell_type": "code",
   "execution_count": 11,
   "metadata": {},
   "outputs": [
    {
     "data": {
      "text/plain": [
       "<HDF5 dataset \"pr\": shape (8,), type \"<f4\">"
      ]
     },
     "execution_count": 11,
     "metadata": {},
     "output_type": "execute_result"
    }
   ],
   "source": [
    "th = h5py.File('/Volumes/Mac/GW/traininghistory/traininghistory-'+modelname, 'a')\n",
    "th.create_dataset('sen', (8,), maxshape=(None,))\n",
    "th.create_dataset('far', (8,), maxshape=(None,))\n",
    "th.create_dataset('acc', (8,), maxshape=(None,))\n",
    "th.create_dataset('pr', (8,), maxshape=(None,))"
   ]
  },
  {
   "cell_type": "code",
   "execution_count": 14,
   "metadata": {},
   "outputs": [
    {
     "name": "stdout",
     "output_type": "stream",
     "text": [
      "INFO:tensorflow:Restoring parameters from /Volumes/Mac/GW/model/model-plain2.ckpt\n",
      "Train Epoch: 01 Loss= 0.313696742 Accuracy= 1.0\n",
      "Train Epoch: 02 Loss= 0.313345909 Accuracy= 1.0\n",
      "Train Epoch: 03 Loss= 0.313296944 Accuracy= 1.0\n",
      "Train Epoch: 04 Loss= 0.313281119 Accuracy= 1.0\n",
      "period(s) = 507.393037081\n"
     ]
    }
   ],
   "source": [
    "pr=2\n",
    "evaluate(4,pr)"
   ]
  },
  {
   "cell_type": "code",
   "execution_count": 15,
   "metadata": {},
   "outputs": [
    {
     "name": "stdout",
     "output_type": "stream",
     "text": [
      "INFO:tensorflow:Restoring parameters from /Volumes/Mac/GW/model/model-plain2.ckpt\n",
      "Train Epoch: 01 Loss= 0.313273996 Accuracy= 1.0\n",
      "Train Epoch: 02 Loss= 0.313270152 Accuracy= 1.0\n",
      "Train Epoch: 03 Loss= 0.313267559 Accuracy= 1.0\n",
      "Train Epoch: 04 Loss= 0.313265920 Accuracy= 1.0\n",
      "period(s) = 612.001243114\n"
     ]
    }
   ],
   "source": [
    "evaluate(4,pr)"
   ]
  },
  {
   "cell_type": "code",
   "execution_count": 16,
   "metadata": {},
   "outputs": [
    {
     "name": "stdout",
     "output_type": "stream",
     "text": [
      "INFO:tensorflow:Restoring parameters from /Volumes/Mac/GW/model/model-plain2.ckpt\n",
      "Train Epoch: 01 Loss= 0.313264936 Accuracy= 1.0\n",
      "Train Epoch: 02 Loss= 0.313264310 Accuracy= 1.0\n",
      "Train Epoch: 03 Loss= 0.313263893 Accuracy= 1.0\n",
      "Train Epoch: 04 Loss= 0.313263595 Accuracy= 1.0\n",
      "period(s) = 785.66762805\n"
     ]
    }
   ],
   "source": [
    "evaluate(4,pr)"
   ]
  },
  {
   "cell_type": "code",
   "execution_count": 17,
   "metadata": {},
   "outputs": [
    {
     "name": "stdout",
     "output_type": "stream",
     "text": [
      "INFO:tensorflow:Restoring parameters from /Volumes/Mac/GW/model/model-plain2.ckpt\n",
      "Train Epoch: 01 Loss= 0.313263386 Accuracy= 1.0\n",
      "Train Epoch: 02 Loss= 0.313263267 Accuracy= 1.0\n",
      "Train Epoch: 03 Loss= 0.313263148 Accuracy= 1.0\n",
      "Train Epoch: 04 Loss= 0.313263029 Accuracy= 1.0\n",
      "period(s) = 1683.67373896\n"
     ]
    }
   ],
   "source": [
    "evaluate(4,pr)"
   ]
  },
  {
   "cell_type": "code",
   "execution_count": 18,
   "metadata": {},
   "outputs": [
    {
     "name": "stdout",
     "output_type": "stream",
     "text": [
      "INFO:tensorflow:Restoring parameters from /Volumes/Mac/GW/model/model-plain2.ckpt\n",
      "acc : 1.0\n",
      "period of estimate = 108.273947001 (s)\n",
      "INFO:tensorflow:Restoring parameters from /Volumes/Mac/GW/model/model-plain2.ckpt\n",
      "period of prediction = 104.47343111 (s)\n",
      "confusionmatrix =\n",
      "[[3682    0]\n",
      " [   0 2455]]\n",
      "false alarm rate = 0.0\n",
      "sensitivity = 1.0\n",
      "[1. 0. 0. 0. 0. 0. 0. 0.]\n",
      "[0. 0. 0. 0. 0. 0. 0. 0.]\n",
      "[1. 0. 0. 0. 0. 0. 0. 0.]\n",
      "[2. 0. 0. 0. 0. 0. 0. 0.]\n"
     ]
    }
   ],
   "source": [
    "th = h5py.File('/Volumes/Mac/GW/traininghistory/traininghistory-'+modelname, 'a')\n",
    "a=estimate('/Volumes/Mac/GW/spec/withoutoverlap/5.5~74.5/testdatawo_spec16-8_freq512_pr'+str(pr)+'_mr<=10.h5')\n",
    "th['acc'][0]=a\n",
    "\n",
    "testd = h5py.File('/Volumes/Mac/GW/spec/withoutoverlap/5.5~74.5/testdatawo_spec16-8_freq512_pr'+str(pr)+'_mr<=10.h5', 'r')\n",
    "testd_lab = testd['label'][...]\n",
    "testd.close()\n",
    "cm = confusionmatrix(prediction_result('/Volumes/Mac/GW/spec/withoutoverlap/5.5~74.5/testdatawo_spec16-8_freq512_pr'+str(pr)+'_mr<=10.h5'),\n",
    "               testd_lab)\n",
    "\n",
    "far = false_alarm_rate(cm)\n",
    "th['far'][0]=far\n",
    "\n",
    "sen = sensitivity(cm)\n",
    "th['sen'][0]=sen\n",
    "\n",
    "th['pr'][0]=pr\n",
    "\n",
    "print th['acc'][...]\n",
    "print th['far'][...]\n",
    "print th['sen'][...]\n",
    "print th['pr'][...]\n",
    "th.close()"
   ]
  },
  {
   "cell_type": "code",
   "execution_count": 11,
   "metadata": {},
   "outputs": [
    {
     "name": "stdout",
     "output_type": "stream",
     "text": [
      "INFO:tensorflow:Restoring parameters from /Volumes/Mac/GW/model/model-plain2.ckpt\n",
      "Train Epoch: 01 Loss= 0.313264489 Accuracy= 1.0\n",
      "Train Epoch: 02 Loss= 0.313264251 Accuracy= 1.0\n",
      "Train Epoch: 03 Loss= 0.313264102 Accuracy= 1.0\n",
      "Train Epoch: 04 Loss= 0.313263983 Accuracy= 1.0\n",
      "period(s) = 475.841710091\n"
     ]
    }
   ],
   "source": [
    "pr=1.5 ; i=1\n",
    "evaluate(4,pr)"
   ]
  },
  {
   "cell_type": "code",
   "execution_count": 12,
   "metadata": {},
   "outputs": [
    {
     "name": "stdout",
     "output_type": "stream",
     "text": [
      "INFO:tensorflow:Restoring parameters from /Volumes/Mac/GW/model/model-plain2.ckpt\n",
      "Train Epoch: 01 Loss= 0.313263863 Accuracy= 1.0\n",
      "Train Epoch: 02 Loss= 0.313263744 Accuracy= 1.0\n",
      "Train Epoch: 03 Loss= 0.313263685 Accuracy= 1.0\n",
      "Train Epoch: 04 Loss= 0.313263595 Accuracy= 1.0\n",
      "period(s) = 588.239040136\n"
     ]
    }
   ],
   "source": [
    "evaluate(4,pr)"
   ]
  },
  {
   "cell_type": "code",
   "execution_count": 11,
   "metadata": {},
   "outputs": [
    {
     "name": "stdout",
     "output_type": "stream",
     "text": [
      "INFO:tensorflow:Restoring parameters from /Volumes/Mac/GW/model/model-plain2.ckpt\n",
      "Train Epoch: 01 Loss= 0.313263506 Accuracy= 1.0\n",
      "Train Epoch: 02 Loss= 0.313263446 Accuracy= 1.0\n",
      "Train Epoch: 03 Loss= 0.313263357 Accuracy= 1.0\n",
      "Train Epoch: 04 Loss= 0.313263297 Accuracy= 1.0\n",
      "period(s) = 499.874572992\n"
     ]
    }
   ],
   "source": [
    "pr=1.5 ; i=1\n",
    "evaluate(4,pr)"
   ]
  },
  {
   "cell_type": "code",
   "execution_count": 12,
   "metadata": {},
   "outputs": [
    {
     "name": "stdout",
     "output_type": "stream",
     "text": [
      "INFO:tensorflow:Restoring parameters from /Volumes/Mac/GW/model/model-plain2.ckpt\n",
      "Train Epoch: 01 Loss= 0.313263237 Accuracy= 1.0\n",
      "Train Epoch: 02 Loss= 0.313263208 Accuracy= 1.0\n",
      "Train Epoch: 03 Loss= 0.313263178 Accuracy= 1.0\n",
      "Train Epoch: 04 Loss= 0.313263088 Accuracy= 1.0\n",
      "period(s) = 611.374113083\n"
     ]
    }
   ],
   "source": [
    "evaluate(4,pr)"
   ]
  },
  {
   "cell_type": "code",
   "execution_count": 13,
   "metadata": {},
   "outputs": [
    {
     "name": "stdout",
     "output_type": "stream",
     "text": [
      "INFO:tensorflow:Restoring parameters from /Volumes/Mac/GW/model/model-plain2.ckpt\n",
      "acc : 1.0\n",
      "period of estimate = 104.651211023 (s)\n",
      "INFO:tensorflow:Restoring parameters from /Volumes/Mac/GW/model/model-plain2.ckpt\n",
      "period of prediction = 101.009696007 (s)\n",
      "confusionmatrix =\n",
      "[[3682    0]\n",
      " [   0 2455]]\n",
      "false alarm rate = 0.0\n",
      "sensitivity = 1.0\n",
      "[1. 1. 0. 0. 0. 0. 0. 0.]\n",
      "[0. 0. 0. 0. 0. 0. 0. 0.]\n",
      "[1. 1. 0. 0. 0. 0. 0. 0.]\n",
      "[2.  1.5 0.  0.  0.  0.  0.  0. ]\n"
     ]
    }
   ],
   "source": [
    "th = h5py.File('/Volumes/Mac/GW/traininghistory/traininghistory-'+modelname, 'a')\n",
    "a=estimate('/Volumes/Mac/GW/spec/withoutoverlap/5.5~74.5/testdatawo_spec16-8_freq512_pr'+str(pr)+'_mr<=10.h5')\n",
    "th['acc'][i]=a\n",
    "\n",
    "testd = h5py.File('/Volumes/Mac/GW/spec/withoutoverlap/5.5~74.5/testdatawo_spec16-8_freq512_pr'+str(pr)+'_mr<=10.h5', 'r')\n",
    "testd_lab = testd['label'][...]\n",
    "testd.close()\n",
    "cm = confusionmatrix(prediction_result('/Volumes/Mac/GW/spec/withoutoverlap/5.5~74.5/testdatawo_spec16-8_freq512_pr'+str(pr)+'_mr<=10.h5'),\n",
    "               testd_lab)\n",
    "\n",
    "far = false_alarm_rate(cm)\n",
    "th['far'][i]=far\n",
    "\n",
    "sen = sensitivity(cm)\n",
    "th['sen'][i]=sen\n",
    "\n",
    "th['pr'][i]=pr\n",
    "\n",
    "print th['acc'][...]\n",
    "print th['far'][...]\n",
    "print th['sen'][...]\n",
    "print th['pr'][...]\n",
    "th.close()"
   ]
  },
  {
   "cell_type": "code",
   "execution_count": 11,
   "metadata": {},
   "outputs": [
    {
     "name": "stdout",
     "output_type": "stream",
     "text": [
      "INFO:tensorflow:Restoring parameters from /Volumes/Mac/GW/model/model-plain2.ckpt\n",
      "Train Epoch: 01 Loss= 0.313600600 Accuracy= 0.9996667\n",
      "Train Epoch: 02 Loss= 0.313565999 Accuracy= 0.9996667\n",
      "Train Epoch: 03 Loss= 0.313555151 Accuracy= 0.9996667\n",
      "Train Epoch: 04 Loss= 0.313558459 Accuracy= 0.9993333\n",
      "period(s) = 456.286004066\n"
     ]
    }
   ],
   "source": [
    "pr=1.2 ; i=2\n",
    "evaluate(4,pr)"
   ]
  },
  {
   "cell_type": "code",
   "execution_count": 12,
   "metadata": {},
   "outputs": [
    {
     "name": "stdout",
     "output_type": "stream",
     "text": [
      "INFO:tensorflow:Restoring parameters from /Volumes/Mac/GW/model/model-plain2.ckpt\n",
      "Train Epoch: 01 Loss= 0.313558131 Accuracy= 0.9993333\n",
      "Train Epoch: 02 Loss= 0.313557178 Accuracy= 0.9996667\n",
      "Train Epoch: 03 Loss= 0.313894659 Accuracy= 0.9993333\n",
      "Train Epoch: 04 Loss= 0.313530445 Accuracy= 0.9996667\n",
      "period(s) = 592.811072111\n"
     ]
    }
   ],
   "source": [
    "evaluate(4,pr)"
   ]
  },
  {
   "cell_type": "code",
   "execution_count": 11,
   "metadata": {},
   "outputs": [
    {
     "name": "stdout",
     "output_type": "stream",
     "text": [
      "INFO:tensorflow:Restoring parameters from /Volumes/Mac/GW/model/model-plain2.ckpt\n",
      "Train Epoch: 01 Loss= 0.313500166 Accuracy= 0.9996667\n",
      "Train Epoch: 02 Loss= 0.313518703 Accuracy= 0.9996667\n",
      "Train Epoch: 03 Loss= 0.313430160 Accuracy= 1.0\n",
      "Train Epoch: 04 Loss= 0.313444555 Accuracy= 0.9996667\n",
      "period(s) = 462.337567091\n"
     ]
    }
   ],
   "source": [
    "pr=1.2 ; i=2\n",
    "evaluate(4,pr)"
   ]
  },
  {
   "cell_type": "code",
   "execution_count": 12,
   "metadata": {},
   "outputs": [
    {
     "name": "stdout",
     "output_type": "stream",
     "text": [
      "INFO:tensorflow:Restoring parameters from /Volumes/Mac/GW/model/model-plain2.ckpt\n",
      "Train Epoch: 01 Loss= 0.313442618 Accuracy= 0.9996667\n",
      "Train Epoch: 02 Loss= 0.313440204 Accuracy= 0.9996667\n",
      "Train Epoch: 03 Loss= 0.313438296 Accuracy= 0.9996667\n",
      "Train Epoch: 04 Loss= 0.313436538 Accuracy= 1.0\n",
      "period(s) = 602.505089045\n"
     ]
    }
   ],
   "source": [
    "evaluate(4,pr)"
   ]
  },
  {
   "cell_type": "code",
   "execution_count": 13,
   "metadata": {},
   "outputs": [
    {
     "name": "stdout",
     "output_type": "stream",
     "text": [
      "INFO:tensorflow:Restoring parameters from /Volumes/Mac/GW/model/model-plain2.ckpt\n",
      "acc : 0.9995112\n",
      "period of estimate = 104.80393219 (s)\n",
      "INFO:tensorflow:Restoring parameters from /Volumes/Mac/GW/model/model-plain2.ckpt\n",
      "period of prediction = 104.099542856 (s)\n",
      "confusionmatrix =\n",
      "[[3680    2]\n",
      " [   1 2454]]\n",
      "false alarm rate = 0.0005431830526887561\n",
      "sensitivity = 0.9995926680244399\n",
      "[1.        1.        0.9995112 0.        0.        0.        0.\n",
      " 0.       ]\n",
      "[0.         0.         0.00054318 0.         0.         0.\n",
      " 0.         0.        ]\n",
      "[1.         1.         0.99959266 0.         0.         0.\n",
      " 0.         0.        ]\n",
      "[2.  1.5 1.2 0.  0.  0.  0.  0. ]\n"
     ]
    }
   ],
   "source": [
    "th = h5py.File('/Volumes/Mac/GW/traininghistory/traininghistory-'+modelname, 'a')\n",
    "a=estimate('/Volumes/Mac/GW/spec/withoutoverlap/5.5~74.5/testdatawo_spec16-8_freq512_pr'+str(pr)+'_mr<=10.h5')\n",
    "th['acc'][i]=a\n",
    "\n",
    "testd = h5py.File('/Volumes/Mac/GW/spec/withoutoverlap/5.5~74.5/testdatawo_spec16-8_freq512_pr'+str(pr)+'_mr<=10.h5', 'r')\n",
    "testd_lab = testd['label'][...]\n",
    "testd.close()\n",
    "cm = confusionmatrix(prediction_result('/Volumes/Mac/GW/spec/withoutoverlap/5.5~74.5/testdatawo_spec16-8_freq512_pr'+str(pr)+'_mr<=10.h5'),\n",
    "               testd_lab)\n",
    "\n",
    "far = false_alarm_rate(cm)\n",
    "th['far'][i]=far\n",
    "\n",
    "sen = sensitivity(cm)\n",
    "th['sen'][i]=sen\n",
    "\n",
    "th['pr'][i]=pr\n",
    "\n",
    "print th['acc'][...]\n",
    "print th['far'][...]\n",
    "print th['sen'][...]\n",
    "print th['pr'][...]\n",
    "th.close()"
   ]
  },
  {
   "cell_type": "code",
   "execution_count": 11,
   "metadata": {},
   "outputs": [
    {
     "name": "stdout",
     "output_type": "stream",
     "text": [
      "INFO:tensorflow:Restoring parameters from /Volumes/Mac/GW/model/model-plain2.ckpt\n",
      "Train Epoch: 01 Loss= 0.318576872 Accuracy= 0.9946667\n",
      "Train Epoch: 02 Loss= 0.320933342 Accuracy= 0.992\n",
      "Train Epoch: 03 Loss= 0.320701241 Accuracy= 0.99233335\n",
      "Train Epoch: 04 Loss= 0.318390131 Accuracy= 0.995\n",
      "period(s) = 459.926497936\n"
     ]
    }
   ],
   "source": [
    "pr=1 ; i=3\n",
    "evaluate(4,pr)"
   ]
  },
  {
   "cell_type": "code",
   "execution_count": 12,
   "metadata": {},
   "outputs": [
    {
     "name": "stdout",
     "output_type": "stream",
     "text": [
      "INFO:tensorflow:Restoring parameters from /Volumes/Mac/GW/model/model-plain2.ckpt\n",
      "Train Epoch: 01 Loss= 0.318262607 Accuracy= 0.995\n",
      "Train Epoch: 02 Loss= 0.317865342 Accuracy= 0.9953333\n",
      "Train Epoch: 03 Loss= 0.317534417 Accuracy= 0.9953333\n",
      "Train Epoch: 04 Loss= 0.317789972 Accuracy= 0.995\n",
      "period(s) = 569.209105015\n"
     ]
    }
   ],
   "source": [
    "evaluate(4,pr)"
   ]
  },
  {
   "cell_type": "code",
   "execution_count": 11,
   "metadata": {},
   "outputs": [
    {
     "name": "stdout",
     "output_type": "stream",
     "text": [
      "INFO:tensorflow:Restoring parameters from /Volumes/Mac/GW/model/model-plain2.ckpt\n",
      "Train Epoch: 01 Loss= 0.317690015 Accuracy= 0.995\n",
      "Train Epoch: 02 Loss= 0.317575067 Accuracy= 0.995\n",
      "Train Epoch: 03 Loss= 0.316703051 Accuracy= 0.997\n",
      "Train Epoch: 04 Loss= 0.316163361 Accuracy= 0.99733335\n",
      "period(s) = 447.80442214\n"
     ]
    }
   ],
   "source": [
    "pr=1 ; i=3\n",
    "evaluate(4,pr)"
   ]
  },
  {
   "cell_type": "code",
   "execution_count": 12,
   "metadata": {},
   "outputs": [
    {
     "name": "stdout",
     "output_type": "stream",
     "text": [
      "INFO:tensorflow:Restoring parameters from /Volumes/Mac/GW/model/model-plain2.ckpt\n",
      "Train Epoch: 01 Loss= 0.316953838 Accuracy= 0.996\n",
      "Train Epoch: 02 Loss= 0.315733731 Accuracy= 0.99766666\n",
      "Train Epoch: 03 Loss= 0.315616161 Accuracy= 0.99766666\n",
      "Train Epoch: 04 Loss= 0.315409273 Accuracy= 0.998\n",
      "period(s) = 566.403264046\n"
     ]
    }
   ],
   "source": [
    "evaluate(4,pr)"
   ]
  },
  {
   "cell_type": "code",
   "execution_count": 13,
   "metadata": {},
   "outputs": [
    {
     "name": "stdout",
     "output_type": "stream",
     "text": [
      "INFO:tensorflow:Restoring parameters from /Volumes/Mac/GW/model/model-plain2.ckpt\n",
      "acc : 0.9983705\n",
      "period of estimate = 90.173625946 (s)\n",
      "INFO:tensorflow:Restoring parameters from /Volumes/Mac/GW/model/model-plain2.ckpt\n",
      "period of prediction = 89.0402472019 (s)\n",
      "confusionmatrix =\n",
      "[[3678    4]\n",
      " [   6 2449]]\n",
      "false alarm rate = 0.0010863661053775121\n",
      "sensitivity = 0.9975560081466395\n",
      "[1.        1.        0.9995112 0.9983705 0.        0.        0.\n",
      " 0.       ]\n",
      "[0.         0.         0.00054318 0.00108637 0.         0.\n",
      " 0.         0.        ]\n",
      "[1.         1.         0.99959266 0.99755603 0.         0.\n",
      " 0.         0.        ]\n",
      "[2.  1.5 1.2 1.  0.  0.  0.  0. ]\n"
     ]
    }
   ],
   "source": [
    "th = h5py.File('/Volumes/Mac/GW/traininghistory/traininghistory-'+modelname, 'a')\n",
    "a=estimate('/Volumes/Mac/GW/spec/withoutoverlap/5.5~74.5/testdatawo_spec16-8_freq512_pr'+str(pr)+'_mr<=10.h5')\n",
    "th['acc'][i]=a\n",
    "\n",
    "testd = h5py.File('/Volumes/Mac/GW/spec/withoutoverlap/5.5~74.5/testdatawo_spec16-8_freq512_pr'+str(pr)+'_mr<=10.h5', 'r')\n",
    "testd_lab = testd['label'][...]\n",
    "testd.close()\n",
    "cm = confusionmatrix(prediction_result('/Volumes/Mac/GW/spec/withoutoverlap/5.5~74.5/testdatawo_spec16-8_freq512_pr'+str(pr)+'_mr<=10.h5'),\n",
    "               testd_lab)\n",
    "\n",
    "far = false_alarm_rate(cm)\n",
    "th['far'][i]=far\n",
    "\n",
    "sen = sensitivity(cm)\n",
    "th['sen'][i]=sen\n",
    "\n",
    "th['pr'][i]=pr\n",
    "\n",
    "print th['acc'][...]\n",
    "print th['far'][...]\n",
    "print th['sen'][...]\n",
    "print th['pr'][...]\n",
    "th.close()"
   ]
  },
  {
   "cell_type": "code",
   "execution_count": 11,
   "metadata": {},
   "outputs": [
    {
     "name": "stdout",
     "output_type": "stream",
     "text": [
      "INFO:tensorflow:Restoring parameters from /Volumes/Mac/GW/model/model-plain2.ckpt\n",
      "Train Epoch: 01 Loss= 0.329981208 Accuracy= 0.9826667\n",
      "Train Epoch: 02 Loss= 0.327175647 Accuracy= 0.9856667\n",
      "Train Epoch: 03 Loss= 0.334659249 Accuracy= 0.9766667\n",
      "Train Epoch: 04 Loss= 0.329199314 Accuracy= 0.983\n",
      "period(s) = 470.139775038\n"
     ]
    }
   ],
   "source": [
    "pr=0.8 ; i=4\n",
    "evaluate(4,pr)"
   ]
  },
  {
   "cell_type": "code",
   "execution_count": 12,
   "metadata": {},
   "outputs": [
    {
     "name": "stdout",
     "output_type": "stream",
     "text": [
      "INFO:tensorflow:Restoring parameters from /Volumes/Mac/GW/model/model-plain2.ckpt\n",
      "Train Epoch: 01 Loss= 0.327645808 Accuracy= 0.9853333\n",
      "Train Epoch: 02 Loss= 0.326233149 Accuracy= 0.987\n",
      "Train Epoch: 03 Loss= 0.325038642 Accuracy= 0.98733336\n",
      "Train Epoch: 04 Loss= 0.323506087 Accuracy= 0.989\n",
      "period(s) = 569.131325006\n"
     ]
    }
   ],
   "source": [
    "evaluate(4,pr)"
   ]
  },
  {
   "cell_type": "code",
   "execution_count": 11,
   "metadata": {},
   "outputs": [
    {
     "name": "stdout",
     "output_type": "stream",
     "text": [
      "INFO:tensorflow:Restoring parameters from /Volumes/Mac/GW/model/model-plain2.ckpt\n",
      "Train Epoch: 01 Loss= 0.323055536 Accuracy= 0.98966664\n",
      "Train Epoch: 02 Loss= 0.321842968 Accuracy= 0.9913333\n",
      "Train Epoch: 03 Loss= 0.321662635 Accuracy= 0.991\n",
      "Train Epoch: 04 Loss= 0.321746975 Accuracy= 0.9916667\n",
      "period(s) = 439.916965008\n"
     ]
    }
   ],
   "source": [
    "pr=0.8 ; i=4\n",
    "evaluate(4,pr)"
   ]
  },
  {
   "cell_type": "code",
   "execution_count": 12,
   "metadata": {},
   "outputs": [
    {
     "name": "stdout",
     "output_type": "stream",
     "text": [
      "INFO:tensorflow:Restoring parameters from /Volumes/Mac/GW/model/model-plain2.ckpt\n",
      "Train Epoch: 01 Loss= 0.321425527 Accuracy= 0.9916667\n",
      "Train Epoch: 02 Loss= 0.321257323 Accuracy= 0.9916667\n",
      "Train Epoch: 03 Loss= 0.322747201 Accuracy= 0.99\n",
      "Train Epoch: 04 Loss= 0.322603643 Accuracy= 0.9903333\n",
      "period(s) = 568.856610775\n"
     ]
    }
   ],
   "source": [
    "evaluate(4,pr)"
   ]
  },
  {
   "cell_type": "code",
   "execution_count": 13,
   "metadata": {},
   "outputs": [
    {
     "name": "stdout",
     "output_type": "stream",
     "text": [
      "INFO:tensorflow:Restoring parameters from /Volumes/Mac/GW/model/model-plain2.ckpt\n",
      "acc : 0.9929933\n",
      "period of estimate = 76.3231568336 (s)\n",
      "INFO:tensorflow:Restoring parameters from /Volumes/Mac/GW/model/model-plain2.ckpt\n",
      "period of prediction = 73.4234230518 (s)\n",
      "confusionmatrix =\n",
      "[[3669   13]\n",
      " [  30 2425]]\n",
      "false alarm rate = 0.0035306898424769147\n",
      "sensitivity = 0.9877800407331976\n",
      "[1.        1.        0.9995112 0.9983705 0.9929933 0.        0.\n",
      " 0.       ]\n",
      "[0.         0.         0.00054318 0.00108637 0.00353069 0.\n",
      " 0.         0.        ]\n",
      "[1.         1.         0.99959266 0.99755603 0.98778003 0.\n",
      " 0.         0.        ]\n",
      "[2.  1.5 1.2 1.  0.8 0.  0.  0. ]\n"
     ]
    }
   ],
   "source": [
    "th = h5py.File('/Volumes/Mac/GW/traininghistory/traininghistory-'+modelname, 'a')\n",
    "a=estimate('/Volumes/Mac/GW/spec/withoutoverlap/5.5~74.5/testdatawo_spec16-8_freq512_pr'+str(pr)+'_mr<=10.h5')\n",
    "th['acc'][i]=a\n",
    "\n",
    "testd = h5py.File('/Volumes/Mac/GW/spec/withoutoverlap/5.5~74.5/testdatawo_spec16-8_freq512_pr'+str(pr)+'_mr<=10.h5', 'r')\n",
    "testd_lab = testd['label'][...]\n",
    "testd.close()\n",
    "cm = confusionmatrix(prediction_result('/Volumes/Mac/GW/spec/withoutoverlap/5.5~74.5/testdatawo_spec16-8_freq512_pr'+str(pr)+'_mr<=10.h5'),\n",
    "               testd_lab)\n",
    "\n",
    "far = false_alarm_rate(cm)\n",
    "th['far'][i]=far\n",
    "\n",
    "sen = sensitivity(cm)\n",
    "th['sen'][i]=sen\n",
    "\n",
    "th['pr'][i]=pr\n",
    "\n",
    "print th['acc'][...]\n",
    "print th['far'][...]\n",
    "print th['sen'][...]\n",
    "print th['pr'][...]\n",
    "th.close()"
   ]
  },
  {
   "cell_type": "code",
   "execution_count": 11,
   "metadata": {},
   "outputs": [
    {
     "name": "stdout",
     "output_type": "stream",
     "text": [
      "INFO:tensorflow:Restoring parameters from /Volumes/Mac/GW/model/model-plain2.ckpt\n",
      "Train Epoch: 01 Loss= 0.337040812 Accuracy= 0.9763333\n",
      "Train Epoch: 02 Loss= 0.335385025 Accuracy= 0.97866666\n",
      "Train Epoch: 03 Loss= 0.331418782 Accuracy= 0.98066664\n",
      "Train Epoch: 04 Loss= 0.332340270 Accuracy= 0.98\n",
      "period(s) = 480.592499018\n"
     ]
    }
   ],
   "source": [
    "pr=0.7 ; i=5\n",
    "evaluate(4,pr)"
   ]
  },
  {
   "cell_type": "code",
   "execution_count": 12,
   "metadata": {},
   "outputs": [
    {
     "name": "stdout",
     "output_type": "stream",
     "text": [
      "INFO:tensorflow:Restoring parameters from /Volumes/Mac/GW/model/model-plain2.ckpt\n",
      "Train Epoch: 01 Loss= 0.342825085 Accuracy= 0.9673333\n",
      "Train Epoch: 02 Loss= 0.332138211 Accuracy= 0.98\n",
      "Train Epoch: 03 Loss= 0.333363473 Accuracy= 0.979\n",
      "Train Epoch: 04 Loss= 0.330820322 Accuracy= 0.9816667\n",
      "period(s) = 558.595021963\n"
     ]
    }
   ],
   "source": [
    "evaluate(4,pr)"
   ]
  },
  {
   "cell_type": "code",
   "execution_count": 11,
   "metadata": {},
   "outputs": [
    {
     "name": "stdout",
     "output_type": "stream",
     "text": [
      "INFO:tensorflow:Restoring parameters from /Volumes/Mac/GW/model/model-plain2.ckpt\n",
      "Train Epoch: 01 Loss= 0.329145461 Accuracy= 0.9856667\n",
      "Train Epoch: 02 Loss= 0.330208987 Accuracy= 0.9816667\n",
      "Train Epoch: 03 Loss= 0.333697706 Accuracy= 0.97866666\n",
      "Train Epoch: 04 Loss= 0.333424240 Accuracy= 0.97866666\n",
      "period(s) = 434.501929998\n"
     ]
    }
   ],
   "source": [
    "pr=0.7 ; i=5\n",
    "evaluate(4,pr)"
   ]
  },
  {
   "cell_type": "code",
   "execution_count": 12,
   "metadata": {},
   "outputs": [
    {
     "name": "stdout",
     "output_type": "stream",
     "text": [
      "INFO:tensorflow:Restoring parameters from /Volumes/Mac/GW/model/model-plain2.ckpt\n",
      "Train Epoch: 01 Loss= 0.329717129 Accuracy= 0.98233336\n",
      "Train Epoch: 02 Loss= 0.328879386 Accuracy= 0.98433334\n",
      "Train Epoch: 03 Loss= 0.328649759 Accuracy= 0.985\n",
      "Train Epoch: 04 Loss= 0.328379929 Accuracy= 0.9856667\n",
      "period(s) = 563.250559092\n"
     ]
    }
   ],
   "source": [
    "evaluate(4,pr)"
   ]
  },
  {
   "cell_type": "code",
   "execution_count": 13,
   "metadata": {},
   "outputs": [
    {
     "name": "stdout",
     "output_type": "stream",
     "text": [
      "INFO:tensorflow:Restoring parameters from /Volumes/Mac/GW/model/model-plain2.ckpt\n",
      "acc : 0.9832166\n",
      "period of estimate = 73.1308231354 (s)\n",
      "INFO:tensorflow:Restoring parameters from /Volumes/Mac/GW/model/model-plain2.ckpt\n",
      "period of prediction = 70.3575870991 (s)\n",
      "confusionmatrix =\n",
      "[[3645   37]\n",
      " [  66 2389]]\n",
      "false alarm rate = 0.010048886474741989\n",
      "sensitivity = 0.9731160896130346\n",
      "[1.        1.        0.9995112 0.9983705 0.9929933 0.9832166 0.\n",
      " 0.       ]\n",
      "[0.         0.         0.00054318 0.00108637 0.00353069 0.01004889\n",
      " 0.         0.        ]\n",
      "[1.         1.         0.99959266 0.99755603 0.98778003 0.9731161\n",
      " 0.         0.        ]\n",
      "[2.  1.5 1.2 1.  0.8 0.7 0.  0. ]\n"
     ]
    }
   ],
   "source": [
    "th = h5py.File('/Volumes/Mac/GW/traininghistory/traininghistory-'+modelname, 'a')\n",
    "a=estimate('/Volumes/Mac/GW/spec/withoutoverlap/5.5~74.5/testdatawo_spec16-8_freq512_pr'+str(pr)+'_mr<=10.h5')\n",
    "th['acc'][i]=a\n",
    "\n",
    "testd = h5py.File('/Volumes/Mac/GW/spec/withoutoverlap/5.5~74.5/testdatawo_spec16-8_freq512_pr'+str(pr)+'_mr<=10.h5', 'r')\n",
    "testd_lab = testd['label'][...]\n",
    "testd.close()\n",
    "cm = confusionmatrix(prediction_result('/Volumes/Mac/GW/spec/withoutoverlap/5.5~74.5/testdatawo_spec16-8_freq512_pr'+str(pr)+'_mr<=10.h5'),\n",
    "               testd_lab)\n",
    "\n",
    "far = false_alarm_rate(cm)\n",
    "th['far'][i]=far\n",
    "\n",
    "sen = sensitivity(cm)\n",
    "th['sen'][i]=sen\n",
    "\n",
    "th['pr'][i]=pr\n",
    "\n",
    "print th['acc'][...]\n",
    "print th['far'][...]\n",
    "print th['sen'][...]\n",
    "print th['pr'][...]\n",
    "th.close()"
   ]
  },
  {
   "cell_type": "code",
   "execution_count": 11,
   "metadata": {},
   "outputs": [
    {
     "name": "stdout",
     "output_type": "stream",
     "text": [
      "INFO:tensorflow:Restoring parameters from /Volumes/Mac/GW/model/model-plain2.ckpt\n",
      "Train Epoch: 01 Loss= 0.373891205 Accuracy= 0.9343333\n",
      "Train Epoch: 02 Loss= 0.360695869 Accuracy= 0.95066667\n",
      "Train Epoch: 03 Loss= 0.359767854 Accuracy= 0.952\n",
      "Train Epoch: 04 Loss= 0.359157681 Accuracy= 0.9533333\n",
      "period(s) = 460.304983139\n"
     ]
    }
   ],
   "source": [
    "pr=0.6 ; i=6\n",
    "evaluate(4,pr)"
   ]
  },
  {
   "cell_type": "code",
   "execution_count": 12,
   "metadata": {},
   "outputs": [
    {
     "name": "stdout",
     "output_type": "stream",
     "text": [
      "INFO:tensorflow:Restoring parameters from /Volumes/Mac/GW/model/model-plain2.ckpt\n",
      "Train Epoch: 01 Loss= 0.358513743 Accuracy= 0.954\n",
      "Train Epoch: 02 Loss= 0.358591110 Accuracy= 0.95266664\n",
      "Train Epoch: 03 Loss= 0.360142171 Accuracy= 0.95133334\n",
      "Train Epoch: 04 Loss= 0.361070186 Accuracy= 0.95066667\n",
      "period(s) = 582.291594028\n"
     ]
    }
   ],
   "source": [
    "evaluate(4,pr)"
   ]
  },
  {
   "cell_type": "code",
   "execution_count": 11,
   "metadata": {},
   "outputs": [
    {
     "name": "stdout",
     "output_type": "stream",
     "text": [
      "INFO:tensorflow:Restoring parameters from /Volumes/Mac/GW/model/model-plain2.ckpt\n",
      "Train Epoch: 01 Loss= 0.360356539 Accuracy= 0.95033336\n",
      "Train Epoch: 02 Loss= 0.361211032 Accuracy= 0.9493333\n",
      "Train Epoch: 03 Loss= 0.362085193 Accuracy= 0.9486667\n",
      "Train Epoch: 04 Loss= 0.360018969 Accuracy= 0.95066667\n",
      "period(s) = 448.131996155\n"
     ]
    }
   ],
   "source": [
    "pr=0.6 ; i=6\n",
    "evaluate(4,pr)"
   ]
  },
  {
   "cell_type": "code",
   "execution_count": 12,
   "metadata": {},
   "outputs": [
    {
     "name": "stdout",
     "output_type": "stream",
     "text": [
      "INFO:tensorflow:Restoring parameters from /Volumes/Mac/GW/model/model-plain2.ckpt\n",
      "Train Epoch: 01 Loss= 0.358484119 Accuracy= 0.952\n",
      "Train Epoch: 02 Loss= 0.357493639 Accuracy= 0.9546667\n",
      "Train Epoch: 03 Loss= 0.357717603 Accuracy= 0.954\n",
      "Train Epoch: 04 Loss= 0.357661426 Accuracy= 0.9533333\n",
      "period(s) = 563.49384284\n"
     ]
    }
   ],
   "source": [
    "evaluate(4,pr)"
   ]
  },
  {
   "cell_type": "code",
   "execution_count": 13,
   "metadata": {},
   "outputs": [
    {
     "name": "stdout",
     "output_type": "stream",
     "text": [
      "INFO:tensorflow:Restoring parameters from /Volumes/Mac/GW/model/model-plain2.ckpt\n",
      "acc : 0.95241976\n",
      "period of estimate = 69.6115820408 (s)\n",
      "INFO:tensorflow:Restoring parameters from /Volumes/Mac/GW/model/model-plain2.ckpt\n",
      "period of prediction = 66.8499729633 (s)\n",
      "confusionmatrix =\n",
      "[[3525  157]\n",
      " [ 135 2320]]\n",
      "false alarm rate = 0.042639869636067355\n",
      "sensitivity = 0.945010183299389\n",
      "[1.         1.         0.9995112  0.9983705  0.9929933  0.9832166\n",
      " 0.95241976 0.        ]\n",
      "[0.         0.         0.00054318 0.00108637 0.00353069 0.01004889\n",
      " 0.04263987 0.        ]\n",
      "[1.         1.         0.99959266 0.99755603 0.98778003 0.9731161\n",
      " 0.9450102  0.        ]\n",
      "[2.  1.5 1.2 1.  0.8 0.7 0.6 0. ]\n"
     ]
    }
   ],
   "source": [
    "th = h5py.File('/Volumes/Mac/GW/traininghistory/traininghistory-'+modelname, 'a')\n",
    "a=estimate('/Volumes/Mac/GW/spec/withoutoverlap/5.5~74.5/testdatawo_spec16-8_freq512_pr'+str(pr)+'_mr<=10.h5')\n",
    "th['acc'][i]=a\n",
    "\n",
    "testd = h5py.File('/Volumes/Mac/GW/spec/withoutoverlap/5.5~74.5/testdatawo_spec16-8_freq512_pr'+str(pr)+'_mr<=10.h5', 'r')\n",
    "testd_lab = testd['label'][...]\n",
    "testd.close()\n",
    "cm = confusionmatrix(prediction_result('/Volumes/Mac/GW/spec/withoutoverlap/5.5~74.5/testdatawo_spec16-8_freq512_pr'+str(pr)+'_mr<=10.h5'),\n",
    "               testd_lab)\n",
    "\n",
    "far = false_alarm_rate(cm)\n",
    "th['far'][i]=far\n",
    "\n",
    "sen = sensitivity(cm)\n",
    "th['sen'][i]=sen\n",
    "\n",
    "th['pr'][i]=pr\n",
    "\n",
    "print th['acc'][...]\n",
    "print th['far'][...]\n",
    "print th['sen'][...]\n",
    "print th['pr'][...]\n",
    "th.close()"
   ]
  },
  {
   "cell_type": "code",
   "execution_count": 11,
   "metadata": {},
   "outputs": [
    {
     "name": "stdout",
     "output_type": "stream",
     "text": [
      "INFO:tensorflow:Restoring parameters from /Volumes/Mac/GW/model/model-plain2.ckpt\n",
      "Train Epoch: 01 Loss= 0.418970913 Accuracy= 0.891\n",
      "Train Epoch: 02 Loss= 0.414287299 Accuracy= 0.895\n",
      "Train Epoch: 03 Loss= 0.409222752 Accuracy= 0.90033334\n",
      "Train Epoch: 04 Loss= 0.406895220 Accuracy= 0.902\n",
      "period(s) = 440.840953827\n"
     ]
    }
   ],
   "source": [
    "pr=0.5 ; i=7\n",
    "evaluate(4,pr)"
   ]
  },
  {
   "cell_type": "code",
   "execution_count": 12,
   "metadata": {},
   "outputs": [
    {
     "name": "stdout",
     "output_type": "stream",
     "text": [
      "INFO:tensorflow:Restoring parameters from /Volumes/Mac/GW/model/model-plain2.ckpt\n",
      "Train Epoch: 01 Loss= 0.407634526 Accuracy= 0.903\n",
      "Train Epoch: 02 Loss= 0.407399654 Accuracy= 0.903\n",
      "Train Epoch: 03 Loss= 0.407095939 Accuracy= 0.902\n",
      "Train Epoch: 04 Loss= 0.405803800 Accuracy= 0.9036667\n",
      "period(s) = 576.280578136\n"
     ]
    }
   ],
   "source": [
    "evaluate(4,pr)"
   ]
  },
  {
   "cell_type": "code",
   "execution_count": 11,
   "metadata": {},
   "outputs": [
    {
     "name": "stdout",
     "output_type": "stream",
     "text": [
      "INFO:tensorflow:Restoring parameters from /Volumes/Mac/GW/model/model-plain2.ckpt\n",
      "Train Epoch: 01 Loss= 0.404632330 Accuracy= 0.905\n",
      "Train Epoch: 02 Loss= 0.404443711 Accuracy= 0.905\n",
      "Train Epoch: 03 Loss= 0.405896604 Accuracy= 0.903\n",
      "Train Epoch: 04 Loss= 0.404237181 Accuracy= 0.90466666\n",
      "period(s) = 487.460347891\n"
     ]
    }
   ],
   "source": [
    "pr=0.5 ; i=7\n",
    "evaluate(4,pr)"
   ]
  },
  {
   "cell_type": "code",
   "execution_count": 12,
   "metadata": {},
   "outputs": [
    {
     "name": "stdout",
     "output_type": "stream",
     "text": [
      "INFO:tensorflow:Restoring parameters from /Volumes/Mac/GW/model/model-plain2.ckpt\n",
      "Train Epoch: 01 Loss= 0.404190034 Accuracy= 0.90566665\n",
      "Train Epoch: 02 Loss= 0.404436022 Accuracy= 0.906\n",
      "Train Epoch: 03 Loss= 0.408089876 Accuracy= 0.9036667\n",
      "Train Epoch: 04 Loss= 0.409306318 Accuracy= 0.90133333\n",
      "period(s) = 609.995128155\n"
     ]
    }
   ],
   "source": [
    "evaluate(4,pr)"
   ]
  },
  {
   "cell_type": "code",
   "execution_count": 13,
   "metadata": {},
   "outputs": [
    {
     "name": "stdout",
     "output_type": "stream",
     "text": [
      "INFO:tensorflow:Restoring parameters from /Volumes/Mac/GW/model/model-plain2.ckpt\n",
      "acc : 0.89962524\n",
      "period of estimate = 75.2607769966 (s)\n",
      "INFO:tensorflow:Restoring parameters from /Volumes/Mac/GW/model/model-plain2.ckpt\n",
      "period of prediction = 74.8118641376 (s)\n",
      "confusionmatrix =\n",
      "[[3498  184]\n",
      " [ 432 2023]]\n",
      "false alarm rate = 0.049972840847365564\n",
      "sensitivity = 0.8240325865580448\n",
      "[1.         1.         0.9995112  0.9983705  0.9929933  0.9832166\n",
      " 0.95241976 0.89962524]\n",
      "[0.         0.         0.00054318 0.00108637 0.00353069 0.01004889\n",
      " 0.04263987 0.04997284]\n",
      "[1.         1.         0.99959266 0.99755603 0.98778003 0.9731161\n",
      " 0.9450102  0.8240326 ]\n",
      "[2.  1.5 1.2 1.  0.8 0.7 0.6 0.5]\n"
     ]
    }
   ],
   "source": [
    "th = h5py.File('/Volumes/Mac/GW/traininghistory/traininghistory-'+modelname, 'a')\n",
    "a=estimate('/Volumes/Mac/GW/spec/withoutoverlap/5.5~74.5/testdatawo_spec16-8_freq512_pr'+str(pr)+'_mr<=10.h5')\n",
    "th['acc'][i]=a\n",
    "\n",
    "testd = h5py.File('/Volumes/Mac/GW/spec/withoutoverlap/5.5~74.5/testdatawo_spec16-8_freq512_pr'+str(pr)+'_mr<=10.h5', 'r')\n",
    "testd_lab = testd['label'][...]\n",
    "testd.close()\n",
    "cm = confusionmatrix(prediction_result('/Volumes/Mac/GW/spec/withoutoverlap/5.5~74.5/testdatawo_spec16-8_freq512_pr'+str(pr)+'_mr<=10.h5'),\n",
    "               testd_lab)\n",
    "\n",
    "far = false_alarm_rate(cm)\n",
    "th['far'][i]=far\n",
    "\n",
    "sen = sensitivity(cm)\n",
    "th['sen'][i]=sen\n",
    "\n",
    "th['pr'][i]=pr\n",
    "\n",
    "print th['acc'][...]\n",
    "print th['far'][...]\n",
    "print th['sen'][...]\n",
    "print th['pr'][...]\n",
    "th.close()"
   ]
  },
  {
   "cell_type": "code",
   "execution_count": 11,
   "metadata": {
    "scrolled": false
   },
   "outputs": [
    {
     "name": "stdout",
     "output_type": "stream",
     "text": [
      "INFO:tensorflow:Restoring parameters from /Volumes/Mac/GW/model/model-plain2.ckpt\n",
      "period of prediction = 76.0722830296 (s)\n",
      "confusionmatrix =\n",
      "[[ 515   30]\n",
      " [ 838 4072]]\n",
      "INFO:tensorflow:Restoring parameters from /Volumes/Mac/GW/model/model-plain2.ckpt\n",
      "period of prediction = 71.9902479649 (s)\n",
      "confusionmatrix =\n",
      "[[ 517   28]\n",
      " [ 846 4064]]\n",
      "INFO:tensorflow:Restoring parameters from /Volumes/Mac/GW/model/model-plain2.ckpt\n",
      "period of prediction = 64.550057888 (s)\n",
      "confusionmatrix =\n",
      "[[ 521   24]\n",
      " [ 826 4084]]\n",
      "INFO:tensorflow:Restoring parameters from /Volumes/Mac/GW/model/model-plain2.ckpt\n",
      "period of prediction = 68.9981281757 (s)\n",
      "confusionmatrix =\n",
      "[[ 520   25]\n",
      " [ 846 4064]]\n",
      "INFO:tensorflow:Restoring parameters from /Volumes/Mac/GW/model/model-plain2.ckpt\n",
      "period of prediction = 66.3224430084 (s)\n",
      "confusionmatrix =\n",
      "[[ 517   28]\n",
      " [ 842 4068]]\n",
      "INFO:tensorflow:Restoring parameters from /Volumes/Mac/GW/model/model-plain2.ckpt\n",
      "period of prediction = 63.8847391605 (s)\n",
      "confusionmatrix =\n",
      "[[ 519   26]\n",
      " [ 837 4073]]\n",
      "INFO:tensorflow:Restoring parameters from /Volumes/Mac/GW/model/model-plain2.ckpt\n",
      "period of prediction = 64.9105629921 (s)\n",
      "confusionmatrix =\n",
      "[[ 524   21]\n",
      " [ 814 4096]]\n",
      "INFO:tensorflow:Restoring parameters from /Volumes/Mac/GW/model/model-plain2.ckpt\n",
      "period of prediction = 61.9315800667 (s)\n",
      "confusionmatrix =\n",
      "[[ 523   22]\n",
      " [ 834 4076]]\n",
      "INFO:tensorflow:Restoring parameters from /Volumes/Mac/GW/model/model-plain2.ckpt\n",
      "period of prediction = 61.0164520741 (s)\n",
      "confusionmatrix =\n",
      "[[ 514   31]\n",
      " [ 850 4060]]\n",
      "INFO:tensorflow:Restoring parameters from /Volumes/Mac/GW/model/model-plain2.ckpt\n",
      "period of prediction = 60.8260571957 (s)\n",
      "confusionmatrix =\n",
      "[[ 515   30]\n",
      " [ 880 4030]]\n",
      "INFO:tensorflow:Restoring parameters from /Volumes/Mac/GW/model/model-plain2.ckpt\n",
      "period of prediction = 61.6530888081 (s)\n",
      "confusionmatrix =\n",
      "[[ 517   28]\n",
      " [ 822 4088]]\n",
      "INFO:tensorflow:Restoring parameters from /Volumes/Mac/GW/model/model-plain2.ckpt\n",
      "period of prediction = 59.8676381111 (s)\n",
      "confusionmatrix =\n",
      "[[ 521   24]\n",
      " [ 841 4069]]\n",
      "INFO:tensorflow:Restoring parameters from /Volumes/Mac/GW/model/model-plain2.ckpt\n",
      "period of prediction = 58.7504298687 (s)\n",
      "confusionmatrix =\n",
      "[[ 517   28]\n",
      " [ 810 4100]]\n",
      "INFO:tensorflow:Restoring parameters from /Volumes/Mac/GW/model/model-plain2.ckpt\n",
      "period of prediction = 59.7548789978 (s)\n",
      "confusionmatrix =\n",
      "[[ 510   35]\n",
      " [ 801 4109]]\n",
      "INFO:tensorflow:Restoring parameters from /Volumes/Mac/GW/model/model-plain2.ckpt\n",
      "period of prediction = 58.9118540287 (s)\n",
      "confusionmatrix =\n",
      "[[ 518   27]\n",
      " [ 795 4115]]\n",
      "INFO:tensorflow:Restoring parameters from /Volumes/Mac/GW/model/model-plain2.ckpt\n",
      "period of prediction = 59.8369250298 (s)\n",
      "confusionmatrix =\n",
      "[[ 515   30]\n",
      " [ 858 4052]]\n",
      "INFO:tensorflow:Restoring parameters from /Volumes/Mac/GW/model/model-plain2.ckpt\n",
      "period of prediction = 62.7620310783 (s)\n",
      "confusionmatrix =\n",
      "[[ 523   22]\n",
      " [ 820 4090]]\n",
      "INFO:tensorflow:Restoring parameters from /Volumes/Mac/GW/model/model-plain2.ckpt\n",
      "period of prediction = 61.9125192165 (s)\n",
      "confusionmatrix =\n",
      "[[ 518   27]\n",
      " [ 806 4104]]\n",
      "INFO:tensorflow:Restoring parameters from /Volumes/Mac/GW/model/model-plain2.ckpt\n",
      "period of prediction = 62.701253891 (s)\n",
      "confusionmatrix =\n",
      "[[ 518   27]\n",
      " [ 870 4040]]\n",
      "INFO:tensorflow:Restoring parameters from /Volumes/Mac/GW/model/model-plain2.ckpt\n",
      "period of prediction = 71.706733942 (s)\n",
      "confusionmatrix =\n",
      "[[ 518   27]\n",
      " [ 806 4104]]\n",
      "INFO:tensorflow:Restoring parameters from /Volumes/Mac/GW/model/model-plain2.ckpt\n",
      "period of prediction = 61.6062350273 (s)\n",
      "confusionmatrix =\n",
      "[[ 513   32]\n",
      " [ 792 4118]]\n",
      "INFO:tensorflow:Restoring parameters from /Volumes/Mac/GW/model/model-plain2.ckpt\n",
      "period of prediction = 61.3180711269 (s)\n",
      "confusionmatrix =\n",
      "[[ 519   26]\n",
      " [ 784 4126]]\n",
      "INFO:tensorflow:Restoring parameters from /Volumes/Mac/GW/model/model-plain2.ckpt\n",
      "period of prediction = 65.4270858765 (s)\n",
      "confusionmatrix =\n",
      "[[ 519   26]\n",
      " [ 778 4132]]\n",
      "INFO:tensorflow:Restoring parameters from /Volumes/Mac/GW/model/model-plain2.ckpt\n",
      "period of prediction = 66.3748500347 (s)\n",
      "confusionmatrix =\n",
      "[[ 526   19]\n",
      " [ 801 4109]]\n",
      "INFO:tensorflow:Restoring parameters from /Volumes/Mac/GW/model/model-plain2.ckpt\n",
      "period of prediction = 65.6332149506 (s)\n",
      "confusionmatrix =\n",
      "[[ 526   19]\n",
      " [ 832 4078]]\n",
      "INFO:tensorflow:Restoring parameters from /Volumes/Mac/GW/model/model-plain2.ckpt\n",
      "period of prediction = 65.0056118965 (s)\n",
      "confusionmatrix =\n",
      "[[ 512   33]\n",
      " [ 832 4078]]\n",
      "INFO:tensorflow:Restoring parameters from /Volumes/Mac/GW/model/model-plain2.ckpt\n",
      "period of prediction = 66.5623178482 (s)\n",
      "confusionmatrix =\n",
      "[[ 522   23]\n",
      " [ 823 4087]]\n",
      "INFO:tensorflow:Restoring parameters from /Volumes/Mac/GW/model/model-plain2.ckpt\n",
      "period of prediction = 66.5785639286 (s)\n",
      "confusionmatrix =\n",
      "[[ 522   23]\n",
      " [ 809 4101]]\n",
      "INFO:tensorflow:Restoring parameters from /Volumes/Mac/GW/model/model-plain2.ckpt\n",
      "period of prediction = 62.7866129875 (s)\n",
      "confusionmatrix =\n",
      "[[ 519   26]\n",
      " [ 856 4054]]\n",
      "INFO:tensorflow:Restoring parameters from /Volumes/Mac/GW/model/model-plain2.ckpt\n",
      "period of prediction = 60.6878209114 (s)\n",
      "confusionmatrix =\n",
      "[[ 518   27]\n",
      " [ 856 4054]]\n",
      "INFO:tensorflow:Restoring parameters from /Volumes/Mac/GW/model/model-plain2.ckpt\n",
      "period of prediction = 61.0739262104 (s)\n",
      "confusionmatrix =\n",
      "[[ 509   36]\n",
      " [ 844 4066]]\n",
      "INFO:tensorflow:Restoring parameters from /Volumes/Mac/GW/model/model-plain2.ckpt\n",
      "period of prediction = 60.3019940853 (s)\n",
      "confusionmatrix =\n",
      "[[ 514   31]\n",
      " [ 829 4081]]\n",
      "INFO:tensorflow:Restoring parameters from /Volumes/Mac/GW/model/model-plain2.ckpt\n",
      "period of prediction = 59.3240339756 (s)\n",
      "confusionmatrix =\n",
      "[[ 515   30]\n",
      " [ 817 4093]]\n",
      "INFO:tensorflow:Restoring parameters from /Volumes/Mac/GW/model/model-plain2.ckpt\n",
      "period of prediction = 60.2111840248 (s)\n",
      "confusionmatrix =\n",
      "[[ 514   31]\n",
      " [ 837 4073]]\n",
      "INFO:tensorflow:Restoring parameters from /Volumes/Mac/GW/model/model-plain2.ckpt\n",
      "period of prediction = 61.8444011211 (s)\n",
      "confusionmatrix =\n",
      "[[ 525   20]\n",
      " [ 809 4101]]\n",
      "INFO:tensorflow:Restoring parameters from /Volumes/Mac/GW/model/model-plain2.ckpt\n",
      "period of prediction = 62.053374052 (s)\n",
      "confusionmatrix =\n",
      "[[ 520   25]\n",
      " [ 812 4098]]\n",
      "INFO:tensorflow:Restoring parameters from /Volumes/Mac/GW/model/model-plain2.ckpt\n",
      "period of prediction = 63.7851860523 (s)\n",
      "confusionmatrix =\n",
      "[[ 518   27]\n",
      " [ 810 4100]]\n",
      "INFO:tensorflow:Restoring parameters from /Volumes/Mac/GW/model/model-plain2.ckpt\n",
      "period of prediction = 60.9818310738 (s)\n",
      "confusionmatrix =\n",
      "[[ 519   26]\n",
      " [ 808 4102]]\n",
      "INFO:tensorflow:Restoring parameters from /Volumes/Mac/GW/model/model-plain2.ckpt\n",
      "period of prediction = 60.5889930725 (s)\n",
      "confusionmatrix =\n",
      "[[ 526   19]\n",
      " [ 842 4068]]\n",
      "INFO:tensorflow:Restoring parameters from /Volumes/Mac/GW/model/model-plain2.ckpt\n",
      "period of prediction = 58.0269348621 (s)\n",
      "confusionmatrix =\n",
      "[[ 521   24]\n",
      " [ 826 4084]]\n",
      "INFO:tensorflow:Restoring parameters from /Volumes/Mac/GW/model/model-plain2.ckpt\n",
      "period of prediction = 60.6318290234 (s)\n",
      "confusionmatrix =\n",
      "[[ 515   30]\n",
      " [ 844 4066]]\n",
      "INFO:tensorflow:Restoring parameters from /Volumes/Mac/GW/model/model-plain2.ckpt\n",
      "period of prediction = 58.6909890175 (s)\n",
      "confusionmatrix =\n",
      "[[ 521   24]\n",
      " [ 829 4081]]\n",
      "INFO:tensorflow:Restoring parameters from /Volumes/Mac/GW/model/model-plain2.ckpt\n",
      "period of prediction = 62.4725708961 (s)\n",
      "confusionmatrix =\n",
      "[[ 516   29]\n",
      " [ 839 4071]]\n",
      "INFO:tensorflow:Restoring parameters from /Volumes/Mac/GW/model/model-plain2.ckpt\n",
      "period of prediction = 59.4594709873 (s)\n",
      "confusionmatrix =\n",
      "[[ 525   20]\n",
      " [ 828 4082]]\n",
      "INFO:tensorflow:Restoring parameters from /Volumes/Mac/GW/model/model-plain2.ckpt\n",
      "period of prediction = 60.5619039536 (s)\n",
      "confusionmatrix =\n",
      "[[ 518   27]\n",
      " [ 784 4126]]\n",
      "INFO:tensorflow:Restoring parameters from /Volumes/Mac/GW/model/model-plain2.ckpt\n",
      "period of prediction = 59.1243958473 (s)\n",
      "confusionmatrix =\n",
      "[[ 522   23]\n",
      " [ 812 4098]]\n",
      "INFO:tensorflow:Restoring parameters from /Volumes/Mac/GW/model/model-plain2.ckpt\n",
      "period of prediction = 61.4301230907 (s)\n",
      "confusionmatrix =\n",
      "[[ 519   26]\n",
      " [ 855 4055]]\n",
      "INFO:tensorflow:Restoring parameters from /Volumes/Mac/GW/model/model-plain2.ckpt\n",
      "period of prediction = 61.3976631165 (s)\n",
      "confusionmatrix =\n",
      "[[ 519   26]\n",
      " [ 821 4089]]\n",
      "INFO:tensorflow:Restoring parameters from /Volumes/Mac/GW/model/model-plain2.ckpt\n",
      "period of prediction = 61.2720210552 (s)\n",
      "confusionmatrix =\n",
      "[[ 517   28]\n",
      " [ 831 4079]]\n",
      "INFO:tensorflow:Restoring parameters from /Volumes/Mac/GW/model/model-plain2.ckpt\n"
     ]
    },
    {
     "name": "stdout",
     "output_type": "stream",
     "text": [
      "period of prediction = 59.2940950394 (s)\n",
      "confusionmatrix =\n",
      "[[ 524   21]\n",
      " [ 767 4143]]\n",
      "acc = 0.8439376718606783\n",
      "sensitivity = 0.8319796334012219\n",
      "false alarm rate = 0.048330275229357796\n"
     ]
    },
    {
     "data": {
      "image/png": "[encoded data removed]",
      "text/plain": [
       "<Figure size 432x288 with 1 Axes>"
      ]
     },
     "metadata": {},
     "output_type": "display_data"
    }
   ],
   "source": [
    "relation(50)"
   ]
  },
  {
   "cell_type": "code",
   "execution_count": 19,
   "metadata": {},
   "outputs": [
    {
     "data": {
      "image/png": "[encoded data removed]",
      "text/plain": [
       "<Figure size 720x1080 with 3 Axes>"
      ]
     },
     "metadata": {},
     "output_type": "display_data"
    }
   ],
   "source": [
    "th = h5py.File('/Volumes/Mac/GW/traininghistory/traininghistory-'+modelname, 'a')\n",
    "plt.figure(figsize=(10,15))\n",
    "plt.subplot(311)\n",
    "plt.plot(th['pr'][...],th['acc'][...])\n",
    "plt.xlabel('peak ratio')\n",
    "plt.ylabel('accuracy')\n",
    "plt.xlim(0.4,2)\n",
    "plt.subplot(312)\n",
    "plt.plot(th['pr'][...],th['sen'][...])\n",
    "plt.xlabel('peak ratio')\n",
    "plt.ylabel('sensitivity')\n",
    "plt.xlim(0.4,2)\n",
    "plt.subplot(313)\n",
    "plt.plot(th['pr'][...],th['far'][...])\n",
    "plt.xlabel('peak ratio')\n",
    "plt.ylabel('false alarm rate')\n",
    "plt.xlim(0.4,2)\n",
    "th.close() "
   ]
  },
  {
   "cell_type": "code",
   "execution_count": null,
   "metadata": {},
   "outputs": [],
   "source": []
  }
 ],
 "metadata": {
  "kernelspec": {
   "display_name": "Python 2",
   "language": "python",
   "name": "python2"
  },
  "language_info": {
   "codemirror_mode": {
    "name": "ipython",
    "version": 2
   },
   "file_extension": ".py",
   "mimetype": "text/x-python",
   "name": "python",
   "nbconvert_exporter": "python",
   "pygments_lexer": "ipython2",
   "version": "2.7.15"
  }
 },
 "nbformat": 4,
 "nbformat_minor": 2
}
