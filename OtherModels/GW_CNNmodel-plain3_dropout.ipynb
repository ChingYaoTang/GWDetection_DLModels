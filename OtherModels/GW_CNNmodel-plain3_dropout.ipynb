{
 "cells": [
  {
   "cell_type": "code",
   "execution_count": 1,
   "metadata": {},
   "outputs": [
    {
     "name": "stderr",
     "output_type": "stream",
     "text": [
      "/anaconda3/envs/anacondapy2/lib/python2.7/site-packages/h5py/__init__.py:36: FutureWarning: Conversion of the second argument of issubdtype from `float` to `np.floating` is deprecated. In future, it will be treated as `np.float64 == np.dtype(float).type`.\n",
      "  from ._conv import register_converters as _register_converters\n"
     ]
    }
   ],
   "source": [
    "import tensorflow as tf\n",
    "import h5py \n",
    "import matplotlib.pyplot as plt\n",
    "import numpy as np\n",
    "import timeit\n",
    "from sklearn import preprocessing"
   ]
  },
  {
   "cell_type": "markdown",
   "metadata": {},
   "source": [
    "# batched data generating function"
   ]
  },
  {
   "cell_type": "code",
   "execution_count": 2,
   "metadata": {},
   "outputs": [],
   "source": [
    "def batch_generator(filename, batch_size):\n",
    "    f = h5py.File(filename, 'r')\n",
    "    batch_count = 0\n",
    "    while True:\n",
    "        if batch_count * batch_size + batch_size > f['label'].shape[0]: #若batchsize不能整除的話，最後餘下的資料永遠不會讀出\n",
    "            batch_count = 0\n",
    "        start_idx = batch_count * batch_size\n",
    "        end_idx = start_idx + batch_size\n",
    "        batch_count += 1\n",
    "        yield f['data'][start_idx : end_idx] , f['label'][start_idx : end_idx]\n",
    "    f.close()"
   ]
  },
  {
   "cell_type": "markdown",
   "metadata": {},
   "source": [
    "# weight function"
   ]
  },
  {
   "cell_type": "code",
   "execution_count": 3,
   "metadata": {},
   "outputs": [],
   "source": [
    "def w(shape): #weight\n",
    "    return tf.Variable(tf.truncated_normal(shape, stddev=0.1), name='w')\n",
    "\n",
    "def b(shape): #bias\n",
    "    return tf.Variable(tf.constant(0.1,shape=shape), name='b')\n",
    "\n",
    "def conv2d(x,w): #x:輸入影像，須為4維張量。 w:filter權重\n",
    "    return tf.nn.conv2d(x, w, strides=[1,1,1,1], padding='SAME')\n",
    "\n",
    "def maxpool2x2(x):\n",
    "    return tf.nn.max_pool(x, ksize=[1,2,2,1], strides=[1,2,2,1], padding='SAME')\n"
   ]
  },
  {
   "cell_type": "markdown",
   "metadata": {},
   "source": [
    "# model"
   ]
  },
  {
   "cell_type": "code",
   "execution_count": 4,
   "metadata": {},
   "outputs": [],
   "source": [
    "pr = 2\n",
    "traindatafile_ =  '/Volumes/Mac/GW/spec/withoutoverlap/5~75/trainingdatawo_spec16-8_freq1024_pr'+str(pr)+'.h5'\n",
    "modelstore = '/Volumes/Mac/GW/model/model-plain3_dropout.ckpt'"
   ]
  },
  {
   "cell_type": "code",
   "execution_count": 5,
   "metadata": {},
   "outputs": [
    {
     "name": "stdout",
     "output_type": "stream",
     "text": [
      "6390\n"
     ]
    }
   ],
   "source": [
    "f = h5py.File(traindatafile_, 'r')\n",
    "ll = len(f['data'])\n",
    "print ll"
   ]
  },
  {
   "cell_type": "code",
   "execution_count": 6,
   "metadata": {},
   "outputs": [
    {
     "name": "stdout",
     "output_type": "stream",
     "text": [
      "lenth f = 257\n",
      "lenth t = 121\n",
      "total 31097\n",
      "idx1024= 64\n"
     ]
    }
   ],
   "source": [
    "sample_rate = 8192\n",
    "data_length = 8192 \n",
    "T = data_length / sample_rate\n",
    "\n",
    "nitv = 16.0\n",
    "novl = 8.0\n",
    "#f\n",
    "lenf = int(sample_rate/nitv/2+1)\n",
    "print 'lenth f =',lenf\n",
    "#t\n",
    "lent = int((nitv*T-1)*novl+1)\n",
    "print 'lenth t =',lent\n",
    "#total\n",
    "totalpix = lenf*lent\n",
    "print 'total',totalpix\n",
    "#idx of f=1024\n",
    "idx1024 = (lenf-1)/4\n",
    "print 'idx1024=',idx1024\n",
    "\n",
    "\n",
    "batchSize = 10\n",
    "datasize = ll\n",
    "totalBatchs = datasize/batchSize\n",
    "\n",
    "c1fs = 7 #conv1 filter size\n",
    "c1fn = 2 #conv1 filter number\n",
    "c2fs = 5 #conv2 filter size\n",
    "c2fn = 4 #conv2 filter number\n",
    "c3fs = 3 #conv3 filter size\n",
    "c3fn = 8 #conv3 filter number\n",
    "dos1 = idx1024+1 #1st dim of spectrogram\n",
    "dos2 = lent #2nd din of spectrogram\n",
    "lnn1 = 128 #layer1 neuron number\n",
    "lnn2 =32 #layer1 neuron number"
   ]
  },
  {
   "cell_type": "code",
   "execution_count": 7,
   "metadata": {},
   "outputs": [
    {
     "name": "stdout",
     "output_type": "stream",
     "text": [
      "WARNING:tensorflow:From <ipython-input-7-0507bfe4bc83>:55: softmax_cross_entropy_with_logits (from tensorflow.python.ops.nn_ops) is deprecated and will be removed in a future version.\n",
      "Instructions for updating:\n",
      "\n",
      "Future major versions of TensorFlow will allow gradients to flow\n",
      "into the labels input on backprop by default.\n",
      "\n",
      "See @{tf.nn.softmax_cross_entropy_with_logits_v2}.\n",
      "\n"
     ]
    }
   ],
   "source": [
    "with tf.name_scope('input_layer'):\n",
    "    x = tf.placeholder('float', shape=[None, dos1, dos2], name='x')\n",
    "    x_image = tf.reshape(x, [-1, dos1, dos2, 1])\n",
    "    \n",
    "with tf.name_scope('c1_conv'):\n",
    "    w1 = w([c1fs ,c1fs ,1, c1fn])\n",
    "    b1 = b([c1fn])\n",
    "    conv1 = conv2d(x_image, w1) + b1\n",
    "    c1_conv = tf.nn.relu(conv1)\n",
    "    \n",
    "with tf.name_scope('c1_pool'):\n",
    "    c1_pool = maxpool2x2(c1_conv)\n",
    "    \n",
    "with tf.name_scope('c2_conv'):\n",
    "    w2 = w([c2fs ,c2fs , c1fn, c2fn])\n",
    "    b2 = b([c2fn])\n",
    "    conv2 = conv2d(c1_pool,w2) +b2\n",
    "    c2_conv = tf.nn.relu(conv2)\n",
    "    \n",
    "    \n",
    "with tf.name_scope('c3_conv'):\n",
    "    w3 = w([c3fs ,c3fs ,c2fn, c3fn])\n",
    "    b3 = b([c3fn])\n",
    "    conv3 = conv2d(c2_conv, w3) + b3\n",
    "    c3_conv = tf.nn.relu(conv3)\n",
    "   \n",
    "    \n",
    "#neurons = dos1/8*dos2/8*c3fn\n",
    "with tf.name_scope('D_flat'):\n",
    "    D_Flat = tf.layers.Flatten()(c3_conv)\n",
    "\n",
    "with tf.name_scope('D_hidden_layer1'):\n",
    "    inputdim = D_Flat.shape.as_list()[1]\n",
    "    wl1 = w([inputdim, lnn1])\n",
    "    bl1 = b([lnn1])\n",
    "    D_hidden1 = tf.nn.relu(tf.matmul(D_Flat, wl1)+bl1)\n",
    "    D_hidden_dropout1 = tf.nn.dropout(D_hidden1, keep_prob=0.8)\n",
    "    \n",
    "with tf.name_scope('D_hidden_layer2'):\n",
    "    wl2 = w([lnn1, lnn2])\n",
    "    bl2 = b([lnn2])\n",
    "    D_hidden2 = tf.nn.relu(tf.matmul(D_hidden_dropout1, wl2)+bl2)\n",
    "    D_hidden_dropout2 = tf.nn.dropout(D_hidden2, keep_prob=0.8)\n",
    "    \n",
    "with tf.name_scope('output_layer'):\n",
    "    wo = w([lnn2,2])\n",
    "    bo = b([2])\n",
    "    #y_predict = tf.sigmoid(tf.matmul(D_hidden_dropout2,wo)+bo)\n",
    "    y_predict = tf.nn.softmax(tf.matmul(D_hidden_dropout2,wo)+bo)    \n",
    "\n",
    "    \n",
    "with tf.name_scope('optimizer'):\n",
    "    y_label = tf.placeholder('float', shape=[None,2], name='y_label')\n",
    "    #lossfunction = tf.reduce_mean(tf.nn.sigmoid_cross_entropy_with_logits(logits=y_predict, labels=y_label))\n",
    "    lossfunction = tf.reduce_mean(tf.nn.softmax_cross_entropy_with_logits(logits=y_predict, labels=y_label))\n",
    "    optimizer = tf.train.AdamOptimizer(learning_rate=0.0001).minimize(lossfunction)\n",
    "    \n",
    "with tf.name_scope('evaluate_model'):\n",
    "    correct_prediction = tf.equal(tf.argmax(y_predict,1), tf.argmax(y_label,1))\n",
    "    accuracy = tf.reduce_mean(tf.cast(correct_prediction,'float'))"
   ]
  },
  {
   "cell_type": "markdown",
   "metadata": {},
   "source": [
    "# evaluate"
   ]
  },
  {
   "cell_type": "code",
   "execution_count": 20,
   "metadata": {},
   "outputs": [],
   "source": [
    "def evaluate(trainEpochs,peakratio):\n",
    "\n",
    "    start_time = timeit.default_timer()\n",
    "    sess = tf.Session()\n",
    "\n",
    "    saver = tf.train.Saver()\n",
    "\n",
    "    try: #第一次之後執行\n",
    "        saver.restore(sess, modelstore)\n",
    "    except: #第一次跑時執行\n",
    "        sess.run(tf.global_variables_initializer())\n",
    "\n",
    "    traindatafile =  '/Volumes/Mac/GW/spec/withoutoverlap/5~75/trainingdatawo_spec16-8_freq1024_pr'+str(peakratio)+'.h5'\n",
    "    valdatafile = '/Volumes/Mac/GW/spec/overlap/5~75/validationdata_spec16-8_freq1024_pr'+str(peakratio)+'.h5'\n",
    "    \n",
    "    \n",
    "    bg = batch_generator(traindatafile, batchSize)\n",
    "    fval = h5py.File(valdatafile, 'r')\n",
    "    val_x = fval['data'][...]\n",
    "    val_y = fval['label'][...]\n",
    "    #np_utils.to_categorical\n",
    "    for epoch in range(trainEpochs):\n",
    "        for i in range(totalBatchs):\n",
    "            #每次讀取100筆資料\n",
    "            batch_x, batch_y = next(bg)\n",
    "            #將feature和label輸入並計算執行圖\n",
    "            sess.run(optimizer, feed_dict={x : batch_x, y_label : sess.run(tf.one_hot(batch_y, 2)) })\n",
    "        #使用驗證資料計算一次epoch的loss和acc    \n",
    "        loss, acc = sess.run([lossfunction,accuracy],feed_dict={x : val_x, y_label : sess.run(tf.one_hot(val_y, 2))})\n",
    "    \n",
    "        print 'Train Epoch:', '%02d'%(epoch+1), 'Loss=', '{:.9f}'.format(loss), 'Accuracy=',acc\n",
    "    \n",
    "\n",
    "    saver.save(sess, modelstore)\n",
    "\n",
    "    fval.close()\n",
    "    stop_time = timeit.default_timer()\n",
    "    print 'period(s) =', stop_time - start_time\n",
    "    \n",
    "    \n",
    "def estimate(testdatafile):\n",
    "    ftest = h5py.File(testdatafile, 'r')\n",
    "    test_x = ftest['data'][...]\n",
    "    test_y = ftest['label'][...]\n",
    "    ftest.close()\n",
    "    \n",
    "    start_time = timeit.default_timer()\n",
    "    print 'acc :', sess.run(accuracy, feed_dict={x : test_x, y_label : sess.run(tf.one_hot(test_y, 2)) })\n",
    "    stop_time = timeit.default_timer()\n",
    "    print 'period of estimate =', stop_time - start_time, '(s)'\n",
    "    \n",
    "def prediction_result(testdatafile):\n",
    "    ftest = h5py.File(testdatafile, 'r')\n",
    "    test_x = ftest['data'][...]\n",
    "    test_y = ftest['label'][...]\n",
    "    ftest.close()\n",
    "    \n",
    "    start_time = timeit.default_timer()\n",
    "    predictresult = sess.run(tf.argmax(y_predict, 1), feed_dict={x : test_x, y_label : sess.run(tf.one_hot(test_y, 2))})\n",
    "    stop_time = timeit.default_timer()\n",
    "    print 'period of prediction =', stop_time - start_time, '(s)'\n",
    "    return predictresult"
   ]
  },
  {
   "cell_type": "code",
   "execution_count": 21,
   "metadata": {},
   "outputs": [],
   "source": [
    "def relation(n):\n",
    "    sess = tf.Session()\n",
    "    saver = tf.train.Saver()\n",
    "    saver.restore(sess, modelstore)\n",
    "    d = '/Volumes/Mac/GW/spec/withoutoverlap/5.5~74.5/testdatawo_spec16-8_freq1024_pr0.5_2time10_'\n",
    "    rm = np.zeros([70,70])\n",
    "    cm = np.zeros([2,2])\n",
    "    for j in range(n):\n",
    "        data =  d+str(j)+'.h5'\n",
    "        test = h5py.File(data, 'r')\n",
    "        test_par = test['parameter'][...]\n",
    "        test_lab = test['label'][...]\n",
    "        test.close()\n",
    "        predict = prediction_result(data)\n",
    "        cm += confusionmatrix(predict,test_lab)\n",
    "        for i in range(len(test_par)):\n",
    "            if test_par[i,0] != 0: #選擇有訊號的數據\n",
    "                if test_lab[i] != predict[i]: #預測不正確則顏色加深\n",
    "                    row = int(test_par[i,0]-5.5)\n",
    "                    col =  int(test_par[i,1]-5.5)\n",
    "                    rm[row,col] += 1.\n",
    "    acc(cm)\n",
    "    sensitivity(cm)\n",
    "    false_alarm_rate(cm)\n",
    "    scale = preprocessing.MinMaxScaler(feature_range=(0,1))\n",
    "    rmr = rm.reshape(70*70,1)\n",
    "    rmrn = scale.fit_transform(rmr)\n",
    "    rm = rmrn.reshape(70, 70)\n",
    "    \n",
    "    plt.imshow(rm, cmap='binary')\n",
    "    tick_idx = [0,10,20,30,40,50,60]\n",
    "    tick_mass = [5.5,15.5,25.5,35.5,45.5,55.5,65.5]\n",
    "    plt.yticks(tick_idx , tick_mass)\n",
    "    plt.xticks(tick_idx , tick_mass)\n",
    "\n",
    "def confusionmatrix(prediction_result,test_y):\n",
    "    sess = tf.Session()\n",
    "    cm = sess.run(tf.confusion_matrix(test_y, prediction_result))\n",
    "    print 'confusionmatrix ='\n",
    "    print cm\n",
    "    return cm\n",
    "\n",
    "def false_alarm_rate(cm):\n",
    "    fp = cm[0,1].astype('float64')\n",
    "    tn = cm[0,0].astype('float64')\n",
    "    print 'false alarm rate =',fp/(fp+tn) #false alarm rate\n",
    "\n",
    "def sensitivity(cm):\n",
    "    tp = cm[1,1].astype('float64')\n",
    "    fn = cm[1,0].astype('float64')\n",
    "    print 'sensitivity =',tp/(tp+fn) #sensitivity\n",
    "    \n",
    "\n",
    "def acc(cm):\n",
    "    print 'acc =',(cm[0,0]+cm[1,1])/np.sum(cm)\n",
    "def summary():\n",
    "    estimate()\n",
    "    pr = prediction_result()\n",
    "    cm = confusionmatrix(pr)\n",
    "    false_alarm_rate(cm)\n",
    "    sensitivity(cm)"
   ]
  },
  {
   "cell_type": "code",
   "execution_count": 15,
   "metadata": {},
   "outputs": [
    {
     "name": "stdout",
     "output_type": "stream",
     "text": [
      "INFO:tensorflow:Restoring parameters from /Volumes/Mac/GW/model/model-plain3_dropout.ckpt\n",
      "Train Epoch: 01 Loss= 0.314312220 Accuracy= 1.0\n",
      "Train Epoch: 02 Loss= 0.313498795 Accuracy= 1.0\n",
      "period(s) = 416.807619095\n"
     ]
    }
   ],
   "source": [
    "evaluate(2,2)"
   ]
  },
  {
   "cell_type": "code",
   "execution_count": 16,
   "metadata": {},
   "outputs": [
    {
     "name": "stdout",
     "output_type": "stream",
     "text": [
      "INFO:tensorflow:Restoring parameters from /Volumes/Mac/GW/model/model-plain3_dropout.ckpt\n",
      "Train Epoch: 01 Loss= 0.313812733 Accuracy= 0.9996667\n",
      "Train Epoch: 02 Loss= 0.313372761 Accuracy= 1.0\n",
      "period(s) = 616.155874968\n"
     ]
    }
   ],
   "source": [
    "evaluate(2,1.5) "
   ]
  },
  {
   "cell_type": "code",
   "execution_count": 17,
   "metadata": {},
   "outputs": [
    {
     "name": "stdout",
     "output_type": "stream",
     "text": [
      "INFO:tensorflow:Restoring parameters from /Volumes/Mac/GW/model/model-plain3_dropout.ckpt\n",
      "Train Epoch: 01 Loss= 0.319516122 Accuracy= 0.99366665\n",
      "Train Epoch: 02 Loss= 0.317050010 Accuracy= 0.99666667\n",
      "Train Epoch: 03 Loss= 0.319155186 Accuracy= 0.99366665\n",
      "Train Epoch: 04 Loss= 0.315227896 Accuracy= 0.998\n",
      "period(s) = 1979.01717997\n"
     ]
    }
   ],
   "source": [
    "evaluate(4,1.2)"
   ]
  },
  {
   "cell_type": "code",
   "execution_count": 9,
   "metadata": {},
   "outputs": [
    {
     "name": "stdout",
     "output_type": "stream",
     "text": [
      "INFO:tensorflow:Restoring parameters from /Volumes/Mac/GW/model/model-plain3_dropout.ckpt\n",
      "Train Epoch: 01 Loss= 0.319023430 Accuracy= 0.99633336\n",
      "Train Epoch: 02 Loss= 0.315912604 Accuracy= 0.99866664\n",
      "Train Epoch: 03 Loss= 0.319232374 Accuracy= 0.9943333\n",
      "Train Epoch: 04 Loss= 0.316910565 Accuracy= 0.997\n",
      "period(s) = 813.945278883\n"
     ]
    }
   ],
   "source": [
    "evaluate(4,1.2)"
   ]
  },
  {
   "cell_type": "code",
   "execution_count": 9,
   "metadata": {},
   "outputs": [
    {
     "name": "stdout",
     "output_type": "stream",
     "text": [
      "INFO:tensorflow:Restoring parameters from /Volumes/Mac/GW/model/model-plain3_dropout.ckpt\n",
      "Train Epoch: 01 Loss= 0.316579133 Accuracy= 0.99733335\n",
      "Train Epoch: 02 Loss= 0.317305058 Accuracy= 0.996\n",
      "Train Epoch: 03 Loss= 0.315341949 Accuracy= 0.998\n",
      "Train Epoch: 04 Loss= 0.315615833 Accuracy= 0.998\n",
      "period(s) = 764.41482091\n"
     ]
    }
   ],
   "source": [
    "evaluate(4,1.2)"
   ]
  },
  {
   "cell_type": "code",
   "execution_count": 9,
   "metadata": {},
   "outputs": [
    {
     "name": "stdout",
     "output_type": "stream",
     "text": [
      "INFO:tensorflow:Restoring parameters from /Volumes/Mac/GW/model/model-plain3_dropout.ckpt\n",
      "Train Epoch: 01 Loss= 0.315589666 Accuracy= 0.998\n",
      "Train Epoch: 02 Loss= 0.315450221 Accuracy= 0.998\n",
      "Train Epoch: 03 Loss= 0.316531539 Accuracy= 0.99666667\n",
      "Train Epoch: 04 Loss= 0.316641659 Accuracy= 0.99633336\n",
      "period(s) = 774.783993959\n"
     ]
    }
   ],
   "source": [
    "evaluate(4,1.2)"
   ]
  },
  {
   "cell_type": "code",
   "execution_count": 9,
   "metadata": {},
   "outputs": [
    {
     "name": "stdout",
     "output_type": "stream",
     "text": [
      "INFO:tensorflow:Restoring parameters from /Volumes/Mac/GW/model/model-plain3_dropout.ckpt\n",
      "Train Epoch: 01 Loss= 0.314720482 Accuracy= 0.99866664\n",
      "Train Epoch: 02 Loss= 0.313822031 Accuracy= 0.9993333\n",
      "Train Epoch: 03 Loss= 0.321663350 Accuracy= 0.9906667\n",
      "Train Epoch: 04 Loss= 0.314037293 Accuracy= 0.999\n",
      "Train Epoch: 05 Loss= 0.321323007 Accuracy= 0.99233335\n",
      "Train Epoch: 06 Loss= 0.314517230 Accuracy= 0.999\n",
      "Train Epoch: 07 Loss= 0.314433753 Accuracy= 0.99866664\n",
      "Train Epoch: 08 Loss= 0.333722025 Accuracy= 0.978\n",
      "period(s) = 2382.66357517\n"
     ]
    }
   ],
   "source": [
    "evaluate(8,1.2)"
   ]
  },
  {
   "cell_type": "code",
   "execution_count": 9,
   "metadata": {},
   "outputs": [
    {
     "name": "stdout",
     "output_type": "stream",
     "text": [
      "INFO:tensorflow:Restoring parameters from /Volumes/Mac/GW/model/model-plain3_dropout.ckpt\n",
      "Train Epoch: 01 Loss= 0.322500765 Accuracy= 0.9906667\n",
      "Train Epoch: 02 Loss= 0.320623010 Accuracy= 0.99233335\n",
      "Train Epoch: 03 Loss= 0.320791095 Accuracy= 0.99233335\n",
      "Train Epoch: 04 Loss= 0.317328870 Accuracy= 0.9956667\n",
      "Train Epoch: 05 Loss= 0.317367971 Accuracy= 0.9956667\n",
      "Train Epoch: 06 Loss= 0.323222339 Accuracy= 0.991\n",
      "Train Epoch: 07 Loss= 0.320161164 Accuracy= 0.99233335\n",
      "Train Epoch: 08 Loss= 0.320749193 Accuracy= 0.9913333\n",
      "period(s) = 2335.84309506\n"
     ]
    }
   ],
   "source": [
    "evaluate(8,1)"
   ]
  },
  {
   "cell_type": "code",
   "execution_count": 9,
   "metadata": {},
   "outputs": [
    {
     "name": "stdout",
     "output_type": "stream",
     "text": [
      "INFO:tensorflow:Restoring parameters from /Volumes/Mac/GW/model/model-plain3_dropout.ckpt\n",
      "Train Epoch: 01 Loss= 0.331047595 Accuracy= 0.98333335\n",
      "Train Epoch: 02 Loss= 0.333285630 Accuracy= 0.9816667\n",
      "Train Epoch: 03 Loss= 0.330422878 Accuracy= 0.98233336\n",
      "Train Epoch: 04 Loss= 0.328457534 Accuracy= 0.9853333\n",
      "Train Epoch: 05 Loss= 0.337383837 Accuracy= 0.97566664\n",
      "Train Epoch: 06 Loss= 0.333850682 Accuracy= 0.97966665\n",
      "Train Epoch: 07 Loss= 0.343059003 Accuracy= 0.968\n",
      "Train Epoch: 08 Loss= 0.333681554 Accuracy= 0.97866666\n",
      "period(s) = 2616.03786898\n",
      "INFO:tensorflow:Restoring parameters from /Volumes/Mac/GW/model/model-plain3_dropout.ckpt\n",
      "Train Epoch: 01 Loss= 0.344401568 Accuracy= 0.9686667\n",
      "Train Epoch: 02 Loss= 0.338697523 Accuracy= 0.975\n",
      "Train Epoch: 03 Loss= 0.338517010 Accuracy= 0.97366667\n",
      "Train Epoch: 04 Loss= 0.336756706 Accuracy= 0.97566664\n",
      "Train Epoch: 05 Loss= 0.336402148 Accuracy= 0.97533333\n",
      "Train Epoch: 06 Loss= 0.334631383 Accuracy= 0.97866666\n",
      "Train Epoch: 07 Loss= 0.334342569 Accuracy= 0.9773333\n",
      "Train Epoch: 08 Loss= 0.333201140 Accuracy= 0.97966665\n",
      "period(s) = 30448.174834\n",
      "INFO:tensorflow:Restoring parameters from /Volumes/Mac/GW/model/model-plain3_dropout.ckpt\n"
     ]
    },
    {
     "ename": "KeyboardInterrupt",
     "evalue": "",
     "output_type": "error",
     "traceback": [
      "\u001b[0;31m---------------------------------------------------------------------------\u001b[0m",
      "\u001b[0;31mKeyboardInterrupt\u001b[0m                         Traceback (most recent call last)",
      "\u001b[0;32m<ipython-input-9-80f129a2a50c>\u001b[0m in \u001b[0;36m<module>\u001b[0;34m()\u001b[0m\n\u001b[1;32m      1\u001b[0m \u001b[0mevaluate\u001b[0m\u001b[0;34m(\u001b[0m\u001b[0;36m8\u001b[0m\u001b[0;34m,\u001b[0m\u001b[0;36m0.8\u001b[0m\u001b[0;34m)\u001b[0m\u001b[0;34m\u001b[0m\u001b[0m\n\u001b[1;32m      2\u001b[0m \u001b[0mevaluate\u001b[0m\u001b[0;34m(\u001b[0m\u001b[0;36m8\u001b[0m\u001b[0;34m,\u001b[0m\u001b[0;36m0.7\u001b[0m\u001b[0;34m)\u001b[0m\u001b[0;34m\u001b[0m\u001b[0m\n\u001b[0;32m----> 3\u001b[0;31m \u001b[0mevaluate\u001b[0m\u001b[0;34m(\u001b[0m\u001b[0;36m8\u001b[0m\u001b[0;34m,\u001b[0m\u001b[0;36m0.6\u001b[0m\u001b[0;34m)\u001b[0m\u001b[0;34m\u001b[0m\u001b[0m\n\u001b[0m\u001b[1;32m      4\u001b[0m \u001b[0mevaluate\u001b[0m\u001b[0;34m(\u001b[0m\u001b[0;36m8\u001b[0m\u001b[0;34m,\u001b[0m\u001b[0;36m0.5\u001b[0m\u001b[0;34m)\u001b[0m\u001b[0;34m\u001b[0m\u001b[0m\n",
      "\u001b[0;32m<ipython-input-8-49642159fb92>\u001b[0m in \u001b[0;36mevaluate\u001b[0;34m(trainEpochs, peakratio)\u001b[0m\n\u001b[1;32m     25\u001b[0m             \u001b[0mbatch_x\u001b[0m\u001b[0;34m,\u001b[0m \u001b[0mbatch_y\u001b[0m \u001b[0;34m=\u001b[0m \u001b[0mnext\u001b[0m\u001b[0;34m(\u001b[0m\u001b[0mbg\u001b[0m\u001b[0;34m)\u001b[0m\u001b[0;34m\u001b[0m\u001b[0m\n\u001b[1;32m     26\u001b[0m             \u001b[0;31m#將feature和label輸入並計算執行圖\u001b[0m\u001b[0;34m\u001b[0m\u001b[0;34m\u001b[0m\u001b[0m\n\u001b[0;32m---> 27\u001b[0;31m             \u001b[0msess\u001b[0m\u001b[0;34m.\u001b[0m\u001b[0mrun\u001b[0m\u001b[0;34m(\u001b[0m\u001b[0moptimizer\u001b[0m\u001b[0;34m,\u001b[0m \u001b[0mfeed_dict\u001b[0m\u001b[0;34m=\u001b[0m\u001b[0;34m{\u001b[0m\u001b[0mx\u001b[0m \u001b[0;34m:\u001b[0m \u001b[0mbatch_x\u001b[0m\u001b[0;34m,\u001b[0m \u001b[0my_label\u001b[0m \u001b[0;34m:\u001b[0m \u001b[0msess\u001b[0m\u001b[0;34m.\u001b[0m\u001b[0mrun\u001b[0m\u001b[0;34m(\u001b[0m\u001b[0mtf\u001b[0m\u001b[0;34m.\u001b[0m\u001b[0mone_hot\u001b[0m\u001b[0;34m(\u001b[0m\u001b[0mbatch_y\u001b[0m\u001b[0;34m,\u001b[0m \u001b[0;36m2\u001b[0m\u001b[0;34m)\u001b[0m\u001b[0;34m)\u001b[0m \u001b[0;34m}\u001b[0m\u001b[0;34m)\u001b[0m\u001b[0;34m\u001b[0m\u001b[0m\n\u001b[0m\u001b[1;32m     28\u001b[0m         \u001b[0;31m#使用驗證資料計算一次epoch的loss和acc\u001b[0m\u001b[0;34m\u001b[0m\u001b[0;34m\u001b[0m\u001b[0m\n\u001b[1;32m     29\u001b[0m         \u001b[0mloss\u001b[0m\u001b[0;34m,\u001b[0m \u001b[0macc\u001b[0m \u001b[0;34m=\u001b[0m \u001b[0msess\u001b[0m\u001b[0;34m.\u001b[0m\u001b[0mrun\u001b[0m\u001b[0;34m(\u001b[0m\u001b[0;34m[\u001b[0m\u001b[0mlossfunction\u001b[0m\u001b[0;34m,\u001b[0m\u001b[0maccuracy\u001b[0m\u001b[0;34m]\u001b[0m\u001b[0;34m,\u001b[0m\u001b[0mfeed_dict\u001b[0m\u001b[0;34m=\u001b[0m\u001b[0;34m{\u001b[0m\u001b[0mx\u001b[0m \u001b[0;34m:\u001b[0m \u001b[0mval_x\u001b[0m\u001b[0;34m,\u001b[0m \u001b[0my_label\u001b[0m \u001b[0;34m:\u001b[0m \u001b[0msess\u001b[0m\u001b[0;34m.\u001b[0m\u001b[0mrun\u001b[0m\u001b[0;34m(\u001b[0m\u001b[0mtf\u001b[0m\u001b[0;34m.\u001b[0m\u001b[0mone_hot\u001b[0m\u001b[0;34m(\u001b[0m\u001b[0mval_y\u001b[0m\u001b[0;34m,\u001b[0m \u001b[0;36m2\u001b[0m\u001b[0;34m)\u001b[0m\u001b[0;34m)\u001b[0m\u001b[0;34m}\u001b[0m\u001b[0;34m)\u001b[0m\u001b[0;34m\u001b[0m\u001b[0m\n",
      "\u001b[0;32m/anaconda3/envs/anacondapy2/lib/python2.7/site-packages/tensorflow/python/client/session.pyc\u001b[0m in \u001b[0;36mrun\u001b[0;34m(self, fetches, feed_dict, options, run_metadata)\u001b[0m\n\u001b[1;32m    898\u001b[0m     \u001b[0;32mtry\u001b[0m\u001b[0;34m:\u001b[0m\u001b[0;34m\u001b[0m\u001b[0m\n\u001b[1;32m    899\u001b[0m       result = self._run(None, fetches, feed_dict, options_ptr,\n\u001b[0;32m--> 900\u001b[0;31m                          run_metadata_ptr)\n\u001b[0m\u001b[1;32m    901\u001b[0m       \u001b[0;32mif\u001b[0m \u001b[0mrun_metadata\u001b[0m\u001b[0;34m:\u001b[0m\u001b[0;34m\u001b[0m\u001b[0m\n\u001b[1;32m    902\u001b[0m         \u001b[0mproto_data\u001b[0m \u001b[0;34m=\u001b[0m \u001b[0mtf_session\u001b[0m\u001b[0;34m.\u001b[0m\u001b[0mTF_GetBuffer\u001b[0m\u001b[0;34m(\u001b[0m\u001b[0mrun_metadata_ptr\u001b[0m\u001b[0;34m)\u001b[0m\u001b[0;34m\u001b[0m\u001b[0m\n",
      "\u001b[0;32m/anaconda3/envs/anacondapy2/lib/python2.7/site-packages/tensorflow/python/client/session.pyc\u001b[0m in \u001b[0;36m_run\u001b[0;34m(self, handle, fetches, feed_dict, options, run_metadata)\u001b[0m\n\u001b[1;32m   1133\u001b[0m     \u001b[0;32mif\u001b[0m \u001b[0mfinal_fetches\u001b[0m \u001b[0;32mor\u001b[0m \u001b[0mfinal_targets\u001b[0m \u001b[0;32mor\u001b[0m \u001b[0;34m(\u001b[0m\u001b[0mhandle\u001b[0m \u001b[0;32mand\u001b[0m \u001b[0mfeed_dict_tensor\u001b[0m\u001b[0;34m)\u001b[0m\u001b[0;34m:\u001b[0m\u001b[0;34m\u001b[0m\u001b[0m\n\u001b[1;32m   1134\u001b[0m       results = self._do_run(handle, final_targets, final_fetches,\n\u001b[0;32m-> 1135\u001b[0;31m                              feed_dict_tensor, options, run_metadata)\n\u001b[0m\u001b[1;32m   1136\u001b[0m     \u001b[0;32melse\u001b[0m\u001b[0;34m:\u001b[0m\u001b[0;34m\u001b[0m\u001b[0m\n\u001b[1;32m   1137\u001b[0m       \u001b[0mresults\u001b[0m \u001b[0;34m=\u001b[0m \u001b[0;34m[\u001b[0m\u001b[0;34m]\u001b[0m\u001b[0;34m\u001b[0m\u001b[0m\n",
      "\u001b[0;32m/anaconda3/envs/anacondapy2/lib/python2.7/site-packages/tensorflow/python/client/session.pyc\u001b[0m in \u001b[0;36m_do_run\u001b[0;34m(self, handle, target_list, fetch_list, feed_dict, options, run_metadata)\u001b[0m\n\u001b[1;32m   1314\u001b[0m     \u001b[0;32mif\u001b[0m \u001b[0mhandle\u001b[0m \u001b[0;32mis\u001b[0m \u001b[0mNone\u001b[0m\u001b[0;34m:\u001b[0m\u001b[0;34m\u001b[0m\u001b[0m\n\u001b[1;32m   1315\u001b[0m       return self._do_call(_run_fn, feeds, fetches, targets, options,\n\u001b[0;32m-> 1316\u001b[0;31m                            run_metadata)\n\u001b[0m\u001b[1;32m   1317\u001b[0m     \u001b[0;32melse\u001b[0m\u001b[0;34m:\u001b[0m\u001b[0;34m\u001b[0m\u001b[0m\n\u001b[1;32m   1318\u001b[0m       \u001b[0;32mreturn\u001b[0m \u001b[0mself\u001b[0m\u001b[0;34m.\u001b[0m\u001b[0m_do_call\u001b[0m\u001b[0;34m(\u001b[0m\u001b[0m_prun_fn\u001b[0m\u001b[0;34m,\u001b[0m \u001b[0mhandle\u001b[0m\u001b[0;34m,\u001b[0m \u001b[0mfeeds\u001b[0m\u001b[0;34m,\u001b[0m \u001b[0mfetches\u001b[0m\u001b[0;34m)\u001b[0m\u001b[0;34m\u001b[0m\u001b[0m\n",
      "\u001b[0;32m/anaconda3/envs/anacondapy2/lib/python2.7/site-packages/tensorflow/python/client/session.pyc\u001b[0m in \u001b[0;36m_do_call\u001b[0;34m(self, fn, *args)\u001b[0m\n\u001b[1;32m   1320\u001b[0m   \u001b[0;32mdef\u001b[0m \u001b[0m_do_call\u001b[0m\u001b[0;34m(\u001b[0m\u001b[0mself\u001b[0m\u001b[0;34m,\u001b[0m \u001b[0mfn\u001b[0m\u001b[0;34m,\u001b[0m \u001b[0;34m*\u001b[0m\u001b[0margs\u001b[0m\u001b[0;34m)\u001b[0m\u001b[0;34m:\u001b[0m\u001b[0;34m\u001b[0m\u001b[0m\n\u001b[1;32m   1321\u001b[0m     \u001b[0;32mtry\u001b[0m\u001b[0;34m:\u001b[0m\u001b[0;34m\u001b[0m\u001b[0m\n\u001b[0;32m-> 1322\u001b[0;31m       \u001b[0;32mreturn\u001b[0m \u001b[0mfn\u001b[0m\u001b[0;34m(\u001b[0m\u001b[0;34m*\u001b[0m\u001b[0margs\u001b[0m\u001b[0;34m)\u001b[0m\u001b[0;34m\u001b[0m\u001b[0m\n\u001b[0m\u001b[1;32m   1323\u001b[0m     \u001b[0;32mexcept\u001b[0m \u001b[0merrors\u001b[0m\u001b[0;34m.\u001b[0m\u001b[0mOpError\u001b[0m \u001b[0;32mas\u001b[0m \u001b[0me\u001b[0m\u001b[0;34m:\u001b[0m\u001b[0;34m\u001b[0m\u001b[0m\n\u001b[1;32m   1324\u001b[0m       \u001b[0mmessage\u001b[0m \u001b[0;34m=\u001b[0m \u001b[0mcompat\u001b[0m\u001b[0;34m.\u001b[0m\u001b[0mas_text\u001b[0m\u001b[0;34m(\u001b[0m\u001b[0me\u001b[0m\u001b[0;34m.\u001b[0m\u001b[0mmessage\u001b[0m\u001b[0;34m)\u001b[0m\u001b[0;34m\u001b[0m\u001b[0m\n",
      "\u001b[0;32m/anaconda3/envs/anacondapy2/lib/python2.7/site-packages/tensorflow/python/client/session.pyc\u001b[0m in \u001b[0;36m_run_fn\u001b[0;34m(feed_dict, fetch_list, target_list, options, run_metadata)\u001b[0m\n\u001b[1;32m   1303\u001b[0m     \u001b[0;32mdef\u001b[0m \u001b[0m_run_fn\u001b[0m\u001b[0;34m(\u001b[0m\u001b[0mfeed_dict\u001b[0m\u001b[0;34m,\u001b[0m \u001b[0mfetch_list\u001b[0m\u001b[0;34m,\u001b[0m \u001b[0mtarget_list\u001b[0m\u001b[0;34m,\u001b[0m \u001b[0moptions\u001b[0m\u001b[0;34m,\u001b[0m \u001b[0mrun_metadata\u001b[0m\u001b[0;34m)\u001b[0m\u001b[0;34m:\u001b[0m\u001b[0;34m\u001b[0m\u001b[0m\n\u001b[1;32m   1304\u001b[0m       \u001b[0;31m# Ensure any changes to the graph are reflected in the runtime.\u001b[0m\u001b[0;34m\u001b[0m\u001b[0;34m\u001b[0m\u001b[0m\n\u001b[0;32m-> 1305\u001b[0;31m       \u001b[0mself\u001b[0m\u001b[0;34m.\u001b[0m\u001b[0m_extend_graph\u001b[0m\u001b[0;34m(\u001b[0m\u001b[0;34m)\u001b[0m\u001b[0;34m\u001b[0m\u001b[0m\n\u001b[0m\u001b[1;32m   1306\u001b[0m       return self._call_tf_sessionrun(\n\u001b[1;32m   1307\u001b[0m           options, feed_dict, fetch_list, target_list, run_metadata)\n",
      "\u001b[0;32m/anaconda3/envs/anacondapy2/lib/python2.7/site-packages/tensorflow/python/client/session.pyc\u001b[0m in \u001b[0;36m_extend_graph\u001b[0;34m(self)\u001b[0m\n\u001b[1;32m   1338\u001b[0m     \u001b[0;32mif\u001b[0m \u001b[0mself\u001b[0m\u001b[0;34m.\u001b[0m\u001b[0m_created_with_new_api\u001b[0m\u001b[0;34m:\u001b[0m\u001b[0;34m\u001b[0m\u001b[0m\n\u001b[1;32m   1339\u001b[0m       \u001b[0;32mwith\u001b[0m \u001b[0mself\u001b[0m\u001b[0;34m.\u001b[0m\u001b[0m_graph\u001b[0m\u001b[0;34m.\u001b[0m\u001b[0m_lock\u001b[0m\u001b[0;34m:\u001b[0m  \u001b[0;31m# pylint: disable=protected-access\u001b[0m\u001b[0;34m\u001b[0m\u001b[0m\n\u001b[0;32m-> 1340\u001b[0;31m         \u001b[0mtf_session\u001b[0m\u001b[0;34m.\u001b[0m\u001b[0mExtendSession\u001b[0m\u001b[0;34m(\u001b[0m\u001b[0mself\u001b[0m\u001b[0;34m.\u001b[0m\u001b[0m_session\u001b[0m\u001b[0;34m)\u001b[0m\u001b[0;34m\u001b[0m\u001b[0m\n\u001b[0m\u001b[1;32m   1341\u001b[0m     \u001b[0;32melse\u001b[0m\u001b[0;34m:\u001b[0m\u001b[0;34m\u001b[0m\u001b[0m\n\u001b[1;32m   1342\u001b[0m       \u001b[0;31m# Ensure any changes to the graph are reflected in the runtime.\u001b[0m\u001b[0;34m\u001b[0m\u001b[0;34m\u001b[0m\u001b[0m\n",
      "\u001b[0;31mKeyboardInterrupt\u001b[0m: "
     ]
    }
   ],
   "source": [
    "evaluate(8,0.8)\n",
    "evaluate(8,0.7)"
   ]
  },
  {
   "cell_type": "code",
   "execution_count": 9,
   "metadata": {},
   "outputs": [
    {
     "name": "stdout",
     "output_type": "stream",
     "text": [
      "INFO:tensorflow:Restoring parameters from /Volumes/Mac/GW/model/model-plain3_dropout.ckpt\n",
      "Train Epoch: 01 Loss= 0.369114310 Accuracy= 0.941\n",
      "Train Epoch: 02 Loss= 0.370726645 Accuracy= 0.939\n",
      "Train Epoch: 03 Loss= 0.363864183 Accuracy= 0.946\n",
      "Train Epoch: 04 Loss= 0.363442451 Accuracy= 0.948\n",
      "period(s) = 782.651520967\n"
     ]
    }
   ],
   "source": [
    "evaluate(4,0.6)"
   ]
  },
  {
   "cell_type": "code",
   "execution_count": 9,
   "metadata": {},
   "outputs": [
    {
     "name": "stdout",
     "output_type": "stream",
     "text": [
      "INFO:tensorflow:Restoring parameters from /Volumes/Mac/GW/model/model-plain3_dropout.ckpt\n",
      "Train Epoch: 01 Loss= 0.360735834 Accuracy= 0.949\n",
      "Train Epoch: 02 Loss= 0.361507893 Accuracy= 0.95\n",
      "Train Epoch: 03 Loss= 0.367463589 Accuracy= 0.943\n",
      "Train Epoch: 04 Loss= 0.369776607 Accuracy= 0.94266665\n",
      "period(s) = 769.546099901\n"
     ]
    }
   ],
   "source": [
    "evaluate(4,0.6)"
   ]
  },
  {
   "cell_type": "code",
   "execution_count": 9,
   "metadata": {},
   "outputs": [
    {
     "name": "stdout",
     "output_type": "stream",
     "text": [
      "INFO:tensorflow:Restoring parameters from /Volumes/Mac/GW/model/model-plain3_dropout.ckpt\n",
      "Train Epoch: 01 Loss= 0.371246099 Accuracy= 0.9406667\n",
      "Train Epoch: 02 Loss= 0.363519847 Accuracy= 0.9486667\n",
      "Train Epoch: 03 Loss= 0.363523930 Accuracy= 0.9483333\n",
      "Train Epoch: 04 Loss= 0.366521925 Accuracy= 0.945\n",
      "period(s) = 738.891927004\n"
     ]
    }
   ],
   "source": [
    "evaluate(4,0.6)"
   ]
  },
  {
   "cell_type": "code",
   "execution_count": 9,
   "metadata": {},
   "outputs": [
    {
     "name": "stdout",
     "output_type": "stream",
     "text": [
      "INFO:tensorflow:Restoring parameters from /Volumes/Mac/GW/model/model-plain3_dropout.ckpt\n",
      "Train Epoch: 01 Loss= 0.421951085 Accuracy= 0.886\n",
      "Train Epoch: 02 Loss= 0.417751968 Accuracy= 0.892\n",
      "Train Epoch: 03 Loss= 0.416237712 Accuracy= 0.89433336\n",
      "Train Epoch: 04 Loss= 0.414444506 Accuracy= 0.8946667\n",
      "period(s) = 795.118284941\n"
     ]
    }
   ],
   "source": [
    "evaluate(4,0.5)"
   ]
  },
  {
   "cell_type": "code",
   "execution_count": 10,
   "metadata": {},
   "outputs": [
    {
     "name": "stdout",
     "output_type": "stream",
     "text": [
      "INFO:tensorflow:Restoring parameters from /Volumes/Mac/GW/model/model-plain3_dropout.ckpt\n",
      "Train Epoch: 01 Loss= 0.416779786 Accuracy= 0.8933333\n",
      "Train Epoch: 02 Loss= 0.415950358 Accuracy= 0.893\n",
      "Train Epoch: 03 Loss= 0.418388844 Accuracy= 0.89066666\n",
      "Train Epoch: 04 Loss= 0.417938083 Accuracy= 0.89066666\n",
      "period(s) = 1782.31662607\n"
     ]
    }
   ],
   "source": [
    "evaluate(4,0.5)"
   ]
  },
  {
   "cell_type": "code",
   "execution_count": 9,
   "metadata": {},
   "outputs": [
    {
     "name": "stdout",
     "output_type": "stream",
     "text": [
      "INFO:tensorflow:Restoring parameters from /Volumes/Mac/GW/model/model-plain3_dropout.ckpt\n",
      "Train Epoch: 01 Loss= 0.416604251 Accuracy= 0.893\n",
      "Train Epoch: 02 Loss= 0.420340180 Accuracy= 0.8883333\n",
      "Train Epoch: 03 Loss= 0.417833388 Accuracy= 0.89266664\n",
      "Train Epoch: 04 Loss= 0.423452705 Accuracy= 0.8886667\n",
      "period(s) = 760.040786028\n"
     ]
    }
   ],
   "source": [
    "evaluate(4,0.5)"
   ]
  },
  {
   "cell_type": "code",
   "execution_count": 23,
   "metadata": {},
   "outputs": [
    {
     "name": "stdout",
     "output_type": "stream",
     "text": [
      "INFO:tensorflow:Restoring parameters from /Volumes/Mac/GW/model/model-plain3_dropout.ckpt\n",
      "acc : 0.8934321\n",
      "period of estimate = 36.4916870594 (s)\n"
     ]
    }
   ],
   "source": [
    "estimate('/Volumes/Mac/GW/spec/withoutoverlap/5.5~74.5/testdatawo_spec16-8_freq1024_pr0.5.h5')"
   ]
  },
  {
   "cell_type": "code",
   "execution_count": 26,
   "metadata": {},
   "outputs": [
    {
     "name": "stdout",
     "output_type": "stream",
     "text": [
      "INFO:tensorflow:Restoring parameters from /Volumes/Mac/GW/model/model-plain3_dropout.ckpt\n",
      "period of prediction = 37.6389350891 (s)\n",
      "confusionmatrix =\n",
      "[[3538  189]\n",
      " [ 479 2006]]\n"
     ]
    }
   ],
   "source": [
    "test = h5py.File('/Volumes/Mac/GW/spec/withoutoverlap/5.5~74.5/testdatawo_spec16-8_freq1024_pr0.5.h5', 'r')\n",
    "test_label = test['label'][...]\n",
    "test.close()\n",
    "cc=confusionmatrix(prediction_result('/Volumes/Mac/GW/spec/withoutoverlap/5.5~74.5/testdatawo_spec16-8_freq1024_pr0.5.h5'),\n",
    "               test_label)"
   ]
  },
  {
   "cell_type": "code",
   "execution_count": 27,
   "metadata": {},
   "outputs": [
    {
     "name": "stdout",
     "output_type": "stream",
     "text": [
      "false alarm rate = 0.0507110276361685\n",
      "sensitivity = 0.8072434607645875\n"
     ]
    }
   ],
   "source": [
    "false_alarm_rate(cc)\n",
    "sensitivity(cc)"
   ]
  },
  {
   "cell_type": "code",
   "execution_count": 22,
   "metadata": {},
   "outputs": [
    {
     "name": "stdout",
     "output_type": "stream",
     "text": [
      "INFO:tensorflow:Restoring parameters from /Volumes/Mac/GW/model/model-plain3_dropout.ckpt\n",
      "INFO:tensorflow:Restoring parameters from /Volumes/Mac/GW/model/model-plain3_dropout.ckpt\n",
      "period of prediction = 33.6440458298 (s)\n",
      "confusionmatrix =\n",
      "[[ 524   28]\n",
      " [ 914 4056]]\n",
      "INFO:tensorflow:Restoring parameters from /Volumes/Mac/GW/model/model-plain3_dropout.ckpt\n",
      "period of prediction = 30.2359628677 (s)\n",
      "confusionmatrix =\n",
      "[[ 523   29]\n",
      " [ 881 4089]]\n",
      "INFO:tensorflow:Restoring parameters from /Volumes/Mac/GW/model/model-plain3_dropout.ckpt\n",
      "period of prediction = 30.0708429813 (s)\n",
      "confusionmatrix =\n",
      "[[ 523   29]\n",
      " [ 953 4017]]\n",
      "INFO:tensorflow:Restoring parameters from /Volumes/Mac/GW/model/model-plain3_dropout.ckpt\n",
      "period of prediction = 29.6230120659 (s)\n",
      "confusionmatrix =\n",
      "[[ 523   29]\n",
      " [ 864 4106]]\n",
      "INFO:tensorflow:Restoring parameters from /Volumes/Mac/GW/model/model-plain3_dropout.ckpt\n",
      "period of prediction = 29.5077691078 (s)\n",
      "confusionmatrix =\n",
      "[[ 525   27]\n",
      " [ 906 4064]]\n",
      "INFO:tensorflow:Restoring parameters from /Volumes/Mac/GW/model/model-plain3_dropout.ckpt\n",
      "period of prediction = 29.9822790623 (s)\n",
      "confusionmatrix =\n",
      "[[ 518   34]\n",
      " [ 905 4065]]\n",
      "INFO:tensorflow:Restoring parameters from /Volumes/Mac/GW/model/model-plain3_dropout.ckpt\n",
      "period of prediction = 29.6526250839 (s)\n",
      "confusionmatrix =\n",
      "[[ 521   31]\n",
      " [ 926 4044]]\n",
      "INFO:tensorflow:Restoring parameters from /Volumes/Mac/GW/model/model-plain3_dropout.ckpt\n",
      "period of prediction = 29.4364209175 (s)\n",
      "confusionmatrix =\n",
      "[[ 532   20]\n",
      " [ 894 4076]]\n",
      "INFO:tensorflow:Restoring parameters from /Volumes/Mac/GW/model/model-plain3_dropout.ckpt\n",
      "period of prediction = 29.1203022003 (s)\n",
      "confusionmatrix =\n",
      "[[ 524   28]\n",
      " [ 937 4033]]\n",
      "INFO:tensorflow:Restoring parameters from /Volumes/Mac/GW/model/model-plain3_dropout.ckpt\n",
      "period of prediction = 31.453674078 (s)\n",
      "confusionmatrix =\n",
      "[[ 525   27]\n",
      " [ 903 4067]]\n",
      "INFO:tensorflow:Restoring parameters from /Volumes/Mac/GW/model/model-plain3_dropout.ckpt\n",
      "period of prediction = 31.635928154 (s)\n",
      "confusionmatrix =\n",
      "[[ 521   31]\n",
      " [ 862 4108]]\n",
      "INFO:tensorflow:Restoring parameters from /Volumes/Mac/GW/model/model-plain3_dropout.ckpt\n",
      "period of prediction = 31.7643940449 (s)\n",
      "confusionmatrix =\n",
      "[[ 523   29]\n",
      " [ 870 4100]]\n",
      "INFO:tensorflow:Restoring parameters from /Volumes/Mac/GW/model/model-plain3_dropout.ckpt\n",
      "period of prediction = 30.0639898777 (s)\n",
      "confusionmatrix =\n",
      "[[ 530   22]\n",
      " [ 932 4038]]\n",
      "INFO:tensorflow:Restoring parameters from /Volumes/Mac/GW/model/model-plain3_dropout.ckpt\n",
      "period of prediction = 29.5999131203 (s)\n",
      "confusionmatrix =\n",
      "[[ 522   30]\n",
      " [ 958 4012]]\n",
      "INFO:tensorflow:Restoring parameters from /Volumes/Mac/GW/model/model-plain3_dropout.ckpt\n",
      "period of prediction = 29.1940410137 (s)\n",
      "confusionmatrix =\n",
      "[[ 530   22]\n",
      " [ 933 4037]]\n",
      "INFO:tensorflow:Restoring parameters from /Volumes/Mac/GW/model/model-plain3_dropout.ckpt\n",
      "period of prediction = 29.6654169559 (s)\n",
      "confusionmatrix =\n",
      "[[ 531   21]\n",
      " [ 904 4066]]\n",
      "INFO:tensorflow:Restoring parameters from /Volumes/Mac/GW/model/model-plain3_dropout.ckpt\n",
      "period of prediction = 30.5072600842 (s)\n",
      "confusionmatrix =\n",
      "[[ 515   37]\n",
      " [ 930 4040]]\n",
      "INFO:tensorflow:Restoring parameters from /Volumes/Mac/GW/model/model-plain3_dropout.ckpt\n",
      "period of prediction = 30.1029090881 (s)\n",
      "confusionmatrix =\n",
      "[[ 522   30]\n",
      " [ 916 4054]]\n",
      "INFO:tensorflow:Restoring parameters from /Volumes/Mac/GW/model/model-plain3_dropout.ckpt\n",
      "period of prediction = 29.0919959545 (s)\n",
      "confusionmatrix =\n",
      "[[ 524   28]\n",
      " [ 919 4051]]\n",
      "INFO:tensorflow:Restoring parameters from /Volumes/Mac/GW/model/model-plain3_dropout.ckpt\n",
      "period of prediction = 29.1995501518 (s)\n",
      "confusionmatrix =\n",
      "[[ 520   32]\n",
      " [ 919 4051]]\n",
      "INFO:tensorflow:Restoring parameters from /Volumes/Mac/GW/model/model-plain3_dropout.ckpt\n",
      "period of prediction = 30.9498238564 (s)\n",
      "confusionmatrix =\n",
      "[[ 527   25]\n",
      " [ 917 4053]]\n",
      "INFO:tensorflow:Restoring parameters from /Volumes/Mac/GW/model/model-plain3_dropout.ckpt\n",
      "period of prediction = 29.6679809093 (s)\n",
      "confusionmatrix =\n",
      "[[ 525   27]\n",
      " [ 859 4111]]\n",
      "INFO:tensorflow:Restoring parameters from /Volumes/Mac/GW/model/model-plain3_dropout.ckpt\n",
      "period of prediction = 29.5353250504 (s)\n",
      "confusionmatrix =\n",
      "[[ 528   24]\n",
      " [ 913 4057]]\n",
      "INFO:tensorflow:Restoring parameters from /Volumes/Mac/GW/model/model-plain3_dropout.ckpt\n",
      "period of prediction = 29.5488898754 (s)\n",
      "confusionmatrix =\n",
      "[[ 522   30]\n",
      " [ 875 4095]]\n",
      "INFO:tensorflow:Restoring parameters from /Volumes/Mac/GW/model/model-plain3_dropout.ckpt\n",
      "period of prediction = 29.8046681881 (s)\n",
      "confusionmatrix =\n",
      "[[ 535   17]\n",
      " [ 926 4044]]\n",
      "INFO:tensorflow:Restoring parameters from /Volumes/Mac/GW/model/model-plain3_dropout.ckpt\n",
      "period of prediction = 29.6222689152 (s)\n",
      "confusionmatrix =\n",
      "[[ 519   33]\n",
      " [ 905 4065]]\n",
      "INFO:tensorflow:Restoring parameters from /Volumes/Mac/GW/model/model-plain3_dropout.ckpt\n",
      "period of prediction = 28.8881540298 (s)\n",
      "confusionmatrix =\n",
      "[[ 516   36]\n",
      " [ 923 4047]]\n",
      "INFO:tensorflow:Restoring parameters from /Volumes/Mac/GW/model/model-plain3_dropout.ckpt\n",
      "period of prediction = 29.5499198437 (s)\n",
      "confusionmatrix =\n",
      "[[ 531   21]\n",
      " [ 880 4090]]\n",
      "INFO:tensorflow:Restoring parameters from /Volumes/Mac/GW/model/model-plain3_dropout.ckpt\n",
      "period of prediction = 29.5061411858 (s)\n",
      "confusionmatrix =\n",
      "[[ 519   33]\n",
      " [ 919 4051]]\n",
      "INFO:tensorflow:Restoring parameters from /Volumes/Mac/GW/model/model-plain3_dropout.ckpt\n",
      "period of prediction = 29.2152409554 (s)\n",
      "confusionmatrix =\n",
      "[[ 515   37]\n",
      " [ 906 4064]]\n",
      "INFO:tensorflow:Restoring parameters from /Volumes/Mac/GW/model/model-plain3_dropout.ckpt\n",
      "period of prediction = 29.4379708767 (s)\n",
      "confusionmatrix =\n",
      "[[ 524   28]\n",
      " [ 897 4073]]\n",
      "INFO:tensorflow:Restoring parameters from /Volumes/Mac/GW/model/model-plain3_dropout.ckpt\n",
      "period of prediction = 29.8639178276 (s)\n",
      "confusionmatrix =\n",
      "[[ 530   22]\n",
      " [ 900 4070]]\n",
      "INFO:tensorflow:Restoring parameters from /Volumes/Mac/GW/model/model-plain3_dropout.ckpt\n",
      "period of prediction = 29.5324630737 (s)\n",
      "confusionmatrix =\n",
      "[[ 529   23]\n",
      " [ 897 4073]]\n",
      "INFO:tensorflow:Restoring parameters from /Volumes/Mac/GW/model/model-plain3_dropout.ckpt\n",
      "period of prediction = 29.4743490219 (s)\n",
      "confusionmatrix =\n",
      "[[ 528   24]\n",
      " [ 943 4027]]\n",
      "INFO:tensorflow:Restoring parameters from /Volumes/Mac/GW/model/model-plain3_dropout.ckpt\n",
      "period of prediction = 29.502835989 (s)\n",
      "confusionmatrix =\n",
      "[[ 529   23]\n",
      " [ 928 4042]]\n",
      "INFO:tensorflow:Restoring parameters from /Volumes/Mac/GW/model/model-plain3_dropout.ckpt\n",
      "period of prediction = 29.4651489258 (s)\n",
      "confusionmatrix =\n",
      "[[ 521   31]\n",
      " [ 909 4061]]\n",
      "INFO:tensorflow:Restoring parameters from /Volumes/Mac/GW/model/model-plain3_dropout.ckpt\n",
      "period of prediction = 29.622107029 (s)\n",
      "confusionmatrix =\n",
      "[[ 530   22]\n",
      " [ 906 4064]]\n",
      "INFO:tensorflow:Restoring parameters from /Volumes/Mac/GW/model/model-plain3_dropout.ckpt\n",
      "period of prediction = 29.7681200504 (s)\n",
      "confusionmatrix =\n",
      "[[ 531   21]\n",
      " [ 913 4057]]\n",
      "INFO:tensorflow:Restoring parameters from /Volumes/Mac/GW/model/model-plain3_dropout.ckpt\n",
      "period of prediction = 29.3474299908 (s)\n",
      "confusionmatrix =\n",
      "[[ 530   22]\n",
      " [ 901 4069]]\n",
      "INFO:tensorflow:Restoring parameters from /Volumes/Mac/GW/model/model-plain3_dropout.ckpt\n",
      "period of prediction = 29.8237950802 (s)\n",
      "confusionmatrix =\n",
      "[[ 534   18]\n",
      " [ 899 4071]]\n",
      "INFO:tensorflow:Restoring parameters from /Volumes/Mac/GW/model/model-plain3_dropout.ckpt\n",
      "period of prediction = 29.6240968704 (s)\n",
      "confusionmatrix =\n",
      "[[ 518   34]\n",
      " [ 928 4042]]\n",
      "INFO:tensorflow:Restoring parameters from /Volumes/Mac/GW/model/model-plain3_dropout.ckpt\n",
      "period of prediction = 29.4303150177 (s)\n",
      "confusionmatrix =\n",
      "[[ 524   28]\n",
      " [ 891 4079]]\n",
      "INFO:tensorflow:Restoring parameters from /Volumes/Mac/GW/model/model-plain3_dropout.ckpt\n",
      "period of prediction = 29.8389809132 (s)\n",
      "confusionmatrix =\n",
      "[[ 527   25]\n",
      " [ 944 4026]]\n",
      "INFO:tensorflow:Restoring parameters from /Volumes/Mac/GW/model/model-plain3_dropout.ckpt\n",
      "period of prediction = 30.091812849 (s)\n",
      "confusionmatrix =\n",
      "[[ 520   32]\n",
      " [ 883 4087]]\n",
      "INFO:tensorflow:Restoring parameters from /Volumes/Mac/GW/model/model-plain3_dropout.ckpt\n",
      "period of prediction = 29.6062991619 (s)\n",
      "confusionmatrix =\n",
      "[[ 540   12]\n",
      " [ 947 4023]]\n",
      "INFO:tensorflow:Restoring parameters from /Volumes/Mac/GW/model/model-plain3_dropout.ckpt\n",
      "period of prediction = 29.1599211693 (s)\n",
      "confusionmatrix =\n",
      "[[ 518   34]\n",
      " [ 945 4025]]\n",
      "INFO:tensorflow:Restoring parameters from /Volumes/Mac/GW/model/model-plain3_dropout.ckpt\n"
     ]
    },
    {
     "name": "stdout",
     "output_type": "stream",
     "text": [
      "period of prediction = 29.883756876 (s)\n",
      "confusionmatrix =\n",
      "[[ 523   29]\n",
      " [ 914 4056]]\n",
      "INFO:tensorflow:Restoring parameters from /Volumes/Mac/GW/model/model-plain3_dropout.ckpt\n",
      "period of prediction = 29.5388150215 (s)\n",
      "confusionmatrix =\n",
      "[[ 522   30]\n",
      " [ 922 4048]]\n",
      "INFO:tensorflow:Restoring parameters from /Volumes/Mac/GW/model/model-plain3_dropout.ckpt\n",
      "period of prediction = 29.4869558811 (s)\n",
      "confusionmatrix =\n",
      "[[ 524   28]\n",
      " [ 962 4008]]\n",
      "INFO:tensorflow:Restoring parameters from /Volumes/Mac/GW/model/model-plain3_dropout.ckpt\n",
      "period of prediction = 29.2653019428 (s)\n",
      "confusionmatrix =\n",
      "[[ 525   27]\n",
      " [ 926 4044]]\n",
      "INFO:tensorflow:Restoring parameters from /Volumes/Mac/GW/model/model-plain3_dropout.ckpt\n",
      "period of prediction = 31.2446501255 (s)\n",
      "confusionmatrix =\n",
      "[[ 523   29]\n",
      " [ 923 4047]]\n",
      "INFO:tensorflow:Restoring parameters from /Volumes/Mac/GW/model/model-plain3_dropout.ckpt\n",
      "period of prediction = 29.8379569054 (s)\n",
      "confusionmatrix =\n",
      "[[ 525   27]\n",
      " [ 930 4040]]\n",
      "INFO:tensorflow:Restoring parameters from /Volumes/Mac/GW/model/model-plain3_dropout.ckpt\n",
      "period of prediction = 29.8314580917 (s)\n",
      "confusionmatrix =\n",
      "[[ 513   39]\n",
      " [ 882 4088]]\n",
      "INFO:tensorflow:Restoring parameters from /Volumes/Mac/GW/model/model-plain3_dropout.ckpt\n",
      "period of prediction = 29.3967759609 (s)\n",
      "confusionmatrix =\n",
      "[[ 530   22]\n",
      " [ 943 4027]]\n",
      "INFO:tensorflow:Restoring parameters from /Volumes/Mac/GW/model/model-plain3_dropout.ckpt\n",
      "period of prediction = 29.9956660271 (s)\n",
      "confusionmatrix =\n",
      "[[ 529   23]\n",
      " [ 915 4055]]\n",
      "INFO:tensorflow:Restoring parameters from /Volumes/Mac/GW/model/model-plain3_dropout.ckpt\n",
      "period of prediction = 29.6567919254 (s)\n",
      "confusionmatrix =\n",
      "[[ 515   37]\n",
      " [ 937 4033]]\n",
      "INFO:tensorflow:Restoring parameters from /Volumes/Mac/GW/model/model-plain3_dropout.ckpt\n",
      "period of prediction = 29.6208810806 (s)\n",
      "confusionmatrix =\n",
      "[[ 523   29]\n",
      " [ 895 4075]]\n",
      "INFO:tensorflow:Restoring parameters from /Volumes/Mac/GW/model/model-plain3_dropout.ckpt\n",
      "period of prediction = 29.9001290798 (s)\n",
      "confusionmatrix =\n",
      "[[ 518   34]\n",
      " [ 928 4042]]\n",
      "INFO:tensorflow:Restoring parameters from /Volumes/Mac/GW/model/model-plain3_dropout.ckpt\n",
      "period of prediction = 33.3856339455 (s)\n",
      "confusionmatrix =\n",
      "[[ 522   30]\n",
      " [ 894 4076]]\n",
      "INFO:tensorflow:Restoring parameters from /Volumes/Mac/GW/model/model-plain3_dropout.ckpt\n",
      "period of prediction = 31.5693259239 (s)\n",
      "confusionmatrix =\n",
      "[[ 525   27]\n",
      " [ 883 4087]]\n",
      "INFO:tensorflow:Restoring parameters from /Volumes/Mac/GW/model/model-plain3_dropout.ckpt\n",
      "period of prediction = 30.0723359585 (s)\n",
      "confusionmatrix =\n",
      "[[ 533   19]\n",
      " [ 890 4080]]\n",
      "INFO:tensorflow:Restoring parameters from /Volumes/Mac/GW/model/model-plain3_dropout.ckpt\n",
      "period of prediction = 30.7892839909 (s)\n",
      "confusionmatrix =\n",
      "[[ 519   33]\n",
      " [ 898 4072]]\n",
      "INFO:tensorflow:Restoring parameters from /Volumes/Mac/GW/model/model-plain3_dropout.ckpt\n",
      "period of prediction = 30.9558899403 (s)\n",
      "confusionmatrix =\n",
      "[[ 524   28]\n",
      " [ 908 4062]]\n",
      "INFO:tensorflow:Restoring parameters from /Volumes/Mac/GW/model/model-plain3_dropout.ckpt\n",
      "period of prediction = 30.9259490967 (s)\n",
      "confusionmatrix =\n",
      "[[ 521   31]\n",
      " [ 943 4027]]\n",
      "INFO:tensorflow:Restoring parameters from /Volumes/Mac/GW/model/model-plain3_dropout.ckpt\n",
      "period of prediction = 31.1309690475 (s)\n",
      "confusionmatrix =\n",
      "[[ 524   28]\n",
      " [ 956 4014]]\n",
      "INFO:tensorflow:Restoring parameters from /Volumes/Mac/GW/model/model-plain3_dropout.ckpt\n",
      "period of prediction = 30.8831698895 (s)\n",
      "confusionmatrix =\n",
      "[[ 530   22]\n",
      " [ 909 4061]]\n",
      "INFO:tensorflow:Restoring parameters from /Volumes/Mac/GW/model/model-plain3_dropout.ckpt\n",
      "period of prediction = 30.6511518955 (s)\n",
      "confusionmatrix =\n",
      "[[ 531   21]\n",
      " [ 929 4041]]\n",
      "INFO:tensorflow:Restoring parameters from /Volumes/Mac/GW/model/model-plain3_dropout.ckpt\n",
      "period of prediction = 30.7388958931 (s)\n",
      "confusionmatrix =\n",
      "[[ 527   25]\n",
      " [ 903 4067]]\n",
      "INFO:tensorflow:Restoring parameters from /Volumes/Mac/GW/model/model-plain3_dropout.ckpt\n",
      "period of prediction = 31.167536974 (s)\n",
      "confusionmatrix =\n",
      "[[ 522   30]\n",
      " [ 861 4109]]\n",
      "INFO:tensorflow:Restoring parameters from /Volumes/Mac/GW/model/model-plain3_dropout.ckpt\n",
      "period of prediction = 30.4181909561 (s)\n",
      "confusionmatrix =\n",
      "[[ 522   30]\n",
      " [ 908 4062]]\n",
      "INFO:tensorflow:Restoring parameters from /Volumes/Mac/GW/model/model-plain3_dropout.ckpt\n",
      "period of prediction = 30.6210699081 (s)\n",
      "confusionmatrix =\n",
      "[[ 531   21]\n",
      " [ 861 4109]]\n",
      "INFO:tensorflow:Restoring parameters from /Volumes/Mac/GW/model/model-plain3_dropout.ckpt\n",
      "period of prediction = 30.2972888947 (s)\n",
      "confusionmatrix =\n",
      "[[ 521   31]\n",
      " [ 914 4056]]\n",
      "INFO:tensorflow:Restoring parameters from /Volumes/Mac/GW/model/model-plain3_dropout.ckpt\n",
      "period of prediction = 30.0390331745 (s)\n",
      "confusionmatrix =\n",
      "[[ 526   26]\n",
      " [ 868 4102]]\n",
      "INFO:tensorflow:Restoring parameters from /Volumes/Mac/GW/model/model-plain3_dropout.ckpt\n",
      "period of prediction = 29.9840669632 (s)\n",
      "confusionmatrix =\n",
      "[[ 522   30]\n",
      " [ 926 4044]]\n",
      "INFO:tensorflow:Restoring parameters from /Volumes/Mac/GW/model/model-plain3_dropout.ckpt\n",
      "period of prediction = 29.8165390491 (s)\n",
      "confusionmatrix =\n",
      "[[ 527   25]\n",
      " [ 913 4057]]\n",
      "INFO:tensorflow:Restoring parameters from /Volumes/Mac/GW/model/model-plain3_dropout.ckpt\n",
      "period of prediction = 30.6356668472 (s)\n",
      "confusionmatrix =\n",
      "[[ 523   29]\n",
      " [ 911 4059]]\n",
      "INFO:tensorflow:Restoring parameters from /Volumes/Mac/GW/model/model-plain3_dropout.ckpt\n",
      "period of prediction = 29.9397699833 (s)\n",
      "confusionmatrix =\n",
      "[[ 531   21]\n",
      " [ 873 4097]]\n",
      "INFO:tensorflow:Restoring parameters from /Volumes/Mac/GW/model/model-plain3_dropout.ckpt\n",
      "period of prediction = 29.9693439007 (s)\n",
      "confusionmatrix =\n",
      "[[ 517   35]\n",
      " [ 898 4072]]\n",
      "INFO:tensorflow:Restoring parameters from /Volumes/Mac/GW/model/model-plain3_dropout.ckpt\n",
      "period of prediction = 29.9403710365 (s)\n",
      "confusionmatrix =\n",
      "[[ 526   26]\n",
      " [ 904 4066]]\n",
      "INFO:tensorflow:Restoring parameters from /Volumes/Mac/GW/model/model-plain3_dropout.ckpt\n",
      "period of prediction = 30.9155268669 (s)\n",
      "confusionmatrix =\n",
      "[[ 523   29]\n",
      " [ 909 4061]]\n",
      "INFO:tensorflow:Restoring parameters from /Volumes/Mac/GW/model/model-plain3_dropout.ckpt\n",
      "period of prediction = 29.93364501 (s)\n",
      "confusionmatrix =\n",
      "[[ 527   25]\n",
      " [ 943 4027]]\n",
      "INFO:tensorflow:Restoring parameters from /Volumes/Mac/GW/model/model-plain3_dropout.ckpt\n",
      "period of prediction = 30.2162950039 (s)\n",
      "confusionmatrix =\n",
      "[[ 525   27]\n",
      " [ 908 4062]]\n",
      "INFO:tensorflow:Restoring parameters from /Volumes/Mac/GW/model/model-plain3_dropout.ckpt\n",
      "period of prediction = 30.086233139 (s)\n",
      "confusionmatrix =\n",
      "[[ 525   27]\n",
      " [ 903 4067]]\n",
      "INFO:tensorflow:Restoring parameters from /Volumes/Mac/GW/model/model-plain3_dropout.ckpt\n",
      "period of prediction = 29.9920740128 (s)\n",
      "confusionmatrix =\n",
      "[[ 518   34]\n",
      " [ 923 4047]]\n",
      "INFO:tensorflow:Restoring parameters from /Volumes/Mac/GW/model/model-plain3_dropout.ckpt\n",
      "period of prediction = 29.7474739552 (s)\n",
      "confusionmatrix =\n",
      "[[ 525   27]\n",
      " [ 913 4057]]\n",
      "INFO:tensorflow:Restoring parameters from /Volumes/Mac/GW/model/model-plain3_dropout.ckpt\n",
      "period of prediction = 29.7528538704 (s)\n",
      "confusionmatrix =\n",
      "[[ 522   30]\n",
      " [ 890 4080]]\n",
      "INFO:tensorflow:Restoring parameters from /Volumes/Mac/GW/model/model-plain3_dropout.ckpt\n",
      "period of prediction = 30.3975138664 (s)\n",
      "confusionmatrix =\n",
      "[[ 525   27]\n",
      " [ 874 4096]]\n",
      "INFO:tensorflow:Restoring parameters from /Volumes/Mac/GW/model/model-plain3_dropout.ckpt\n",
      "period of prediction = 30.0054631233 (s)\n",
      "confusionmatrix =\n",
      "[[ 519   33]\n",
      " [ 872 4098]]\n",
      "INFO:tensorflow:Restoring parameters from /Volumes/Mac/GW/model/model-plain3_dropout.ckpt\n",
      "period of prediction = 31.7503631115 (s)\n",
      "confusionmatrix =\n",
      "[[ 525   27]\n",
      " [ 897 4073]]\n",
      "INFO:tensorflow:Restoring parameters from /Volumes/Mac/GW/model/model-plain3_dropout.ckpt\n",
      "period of prediction = 30.4479558468 (s)\n",
      "confusionmatrix =\n",
      "[[ 524   28]\n",
      " [ 912 4058]]\n",
      "INFO:tensorflow:Restoring parameters from /Volumes/Mac/GW/model/model-plain3_dropout.ckpt\n",
      "period of prediction = 32.5397281647 (s)\n",
      "confusionmatrix =\n",
      "[[ 521   31]\n",
      " [ 916 4054]]\n",
      "INFO:tensorflow:Restoring parameters from /Volumes/Mac/GW/model/model-plain3_dropout.ckpt\n",
      "period of prediction = 30.0271120071 (s)\n",
      "confusionmatrix =\n",
      "[[ 528   24]\n",
      " [ 912 4058]]\n",
      "INFO:tensorflow:Restoring parameters from /Volumes/Mac/GW/model/model-plain3_dropout.ckpt\n",
      "period of prediction = 30.1404209137 (s)\n",
      "confusionmatrix =\n",
      "[[ 532   20]\n",
      " [ 945 4025]]\n",
      "INFO:tensorflow:Restoring parameters from /Volumes/Mac/GW/model/model-plain3_dropout.ckpt\n"
     ]
    },
    {
     "name": "stdout",
     "output_type": "stream",
     "text": [
      "period of prediction = 30.1174609661 (s)\n",
      "confusionmatrix =\n",
      "[[ 526   26]\n",
      " [ 874 4096]]\n",
      "INFO:tensorflow:Restoring parameters from /Volumes/Mac/GW/model/model-plain3_dropout.ckpt\n",
      "period of prediction = 30.1750450134 (s)\n",
      "confusionmatrix =\n",
      "[[ 527   25]\n",
      " [ 890 4080]]\n",
      "INFO:tensorflow:Restoring parameters from /Volumes/Mac/GW/model/model-plain3_dropout.ckpt\n",
      "period of prediction = 29.7324020863 (s)\n",
      "confusionmatrix =\n",
      "[[ 517   35]\n",
      " [ 914 4056]]\n",
      "INFO:tensorflow:Restoring parameters from /Volumes/Mac/GW/model/model-plain3_dropout.ckpt\n",
      "period of prediction = 30.0809860229 (s)\n",
      "confusionmatrix =\n",
      "[[ 535   17]\n",
      " [ 895 4075]]\n",
      "INFO:tensorflow:Restoring parameters from /Volumes/Mac/GW/model/model-plain3_dropout.ckpt\n",
      "period of prediction = 29.7571909428 (s)\n",
      "confusionmatrix =\n",
      "[[ 522   30]\n",
      " [ 896 4074]]\n",
      "INFO:tensorflow:Restoring parameters from /Volumes/Mac/GW/model/model-plain3_dropout.ckpt\n",
      "period of prediction = 29.6673710346 (s)\n",
      "confusionmatrix =\n",
      "[[ 528   24]\n",
      " [ 921 4049]]\n",
      "INFO:tensorflow:Restoring parameters from /Volumes/Mac/GW/model/model-plain3_dropout.ckpt\n",
      "period of prediction = 29.8761980534 (s)\n",
      "confusionmatrix =\n",
      "[[ 518   34]\n",
      " [ 913 4057]]\n",
      "acc = 0.8303603766751178\n",
      "sensitivity = 0.8170482897384306\n",
      "false alarm rate = 0.049782608695652174\n"
     ]
    },
    {
     "data": {
      "image/png": "[encoded data removed]",
      "text/plain": [
       "<Figure size 432x288 with 1 Axes>"
      ]
     },
     "metadata": {},
     "output_type": "display_data"
    }
   ],
   "source": [
    "relation(100)"
   ]
  },
  {
   "cell_type": "code",
   "execution_count": null,
   "metadata": {},
   "outputs": [],
   "source": []
  }
 ],
 "metadata": {
  "kernelspec": {
   "display_name": "Python 2",
   "language": "python",
   "name": "python2"
  },
  "language_info": {
   "codemirror_mode": {
    "name": "ipython",
    "version": 2
   },
   "file_extension": ".py",
   "mimetype": "text/x-python",
   "name": "python",
   "nbconvert_exporter": "python",
   "pygments_lexer": "ipython2",
   "version": "2.7.15"
  }
 },
 "nbformat": 4,
 "nbformat_minor": 2
}
