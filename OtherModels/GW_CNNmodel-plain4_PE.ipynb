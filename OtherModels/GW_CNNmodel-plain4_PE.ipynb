{
 "cells": [
  {
   "cell_type": "code",
   "execution_count": 1,
   "metadata": {},
   "outputs": [
    {
     "name": "stderr",
     "output_type": "stream",
     "text": [
      "/anaconda3/envs/anacondapy2/lib/python2.7/site-packages/h5py/__init__.py:36: FutureWarning: Conversion of the second argument of issubdtype from `float` to `np.floating` is deprecated. In future, it will be treated as `np.float64 == np.dtype(float).type`.\n",
      "  from ._conv import register_converters as _register_converters\n"
     ]
    }
   ],
   "source": [
    "import tensorflow as tf\n",
    "import h5py \n",
    "import matplotlib.pyplot as plt\n",
    "import numpy as np\n",
    "import timeit\n",
    "from sklearn import preprocessing"
   ]
  },
  {
   "cell_type": "markdown",
   "metadata": {},
   "source": [
    "# batched data generating function"
   ]
  },
  {
   "cell_type": "code",
   "execution_count": 2,
   "metadata": {},
   "outputs": [],
   "source": [
    "def batch_generator(filename, batch_size):\n",
    "    f = h5py.File(filename, 'r')\n",
    "    batch_count = 0\n",
    "    while True:\n",
    "        if batch_count * batch_size + batch_size > f['parameter'].shape[0]: #若batchsize不能整除的話，最後餘下的資料永遠不會讀出\n",
    "            batch_count = 0\n",
    "        start_idx = batch_count * batch_size\n",
    "        end_idx = start_idx + batch_size\n",
    "        batch_count += 1\n",
    "        yield f['data'][start_idx : end_idx] , f['parameter'][start_idx : end_idx]\n",
    "    f.close()"
   ]
  },
  {
   "cell_type": "markdown",
   "metadata": {},
   "source": [
    "# weight function"
   ]
  },
  {
   "cell_type": "code",
   "execution_count": 3,
   "metadata": {},
   "outputs": [],
   "source": [
    "def w(shape): #weight\n",
    "    return tf.Variable(tf.truncated_normal(shape, stddev=0.1), name='w')\n",
    "\n",
    "def b(shape): #bias\n",
    "    return tf.Variable(tf.constant(0.1,shape=shape), name='b')\n",
    "\n",
    "def conv2d(x,w): #x:輸入影像，須為4維張量。 w:filter權重\n",
    "    return tf.nn.conv2d(x, w, strides=[1,1,1,1], padding='SAME')\n",
    "\n",
    "def maxpool2x2(x):\n",
    "    return tf.nn.max_pool(x, ksize=[1,2,2,1], strides=[1,2,2,1], padding='SAME')\n"
   ]
  },
  {
   "cell_type": "markdown",
   "metadata": {},
   "source": [
    "# model"
   ]
  },
  {
   "cell_type": "code",
   "execution_count": 4,
   "metadata": {},
   "outputs": [],
   "source": [
    "pr = '10.00'\n",
    "traindatafile_ =  '/Volumes/Mac/GW/spec/withoutoverlap/5~75_PE/trainingdata_spec_PE_pr'+pr+'.h5'\n",
    "modelstore = '/Volumes/Mac/GW/model/model-plain4_PE.ckpt'"
   ]
  },
  {
   "cell_type": "code",
   "execution_count": 6,
   "metadata": {},
   "outputs": [
    {
     "name": "stdout",
     "output_type": "stream",
     "text": [
      "7575\n"
     ]
    }
   ],
   "source": [
    "f = h5py.File(traindatafile_, 'r')\n",
    "ll = len(f['data'])\n",
    "print ll"
   ]
  },
  {
   "cell_type": "code",
   "execution_count": 7,
   "metadata": {},
   "outputs": [
    {
     "name": "stdout",
     "output_type": "stream",
     "text": [
      "lenth f = 257\n",
      "lenth t = 121\n",
      "idx512= 32\n",
      "batch size = 5\n",
      "totalBatchs = 1515\n"
     ]
    }
   ],
   "source": [
    "sample_rate = 8192\n",
    "data_length = 8192 \n",
    "T = data_length / sample_rate\n",
    "\n",
    "nitv = 16.0\n",
    "novl = 8.0\n",
    "#f\n",
    "lenf = int(sample_rate/nitv/2+1)\n",
    "print 'lenth f =',lenf\n",
    "#t\n",
    "lent = int((nitv*T-1)*novl+1)\n",
    "print 'lenth t =',lent\n",
    "\n",
    "#idx of f=512\n",
    "idx512 = (lenf-1)/8\n",
    "print 'idx512=',idx512\n",
    "\n",
    "\n",
    "batchSize = 5\n",
    "print 'batch size =' ,batchSize\n",
    "datasize = ll\n",
    "totalBatchs = datasize/batchSize\n",
    "print 'totalBatchs =', totalBatchs\n",
    "\n",
    "c1fs = 8 #conv1 filter size\n",
    "c1fn = 4 #conv1 output channel number\n",
    "c2fs = 8 #conv2 filter size\n",
    "c2fn = 4 #conv2 output channel number\n",
    "c3fs = 4 #conv3 filter size\n",
    "c3fn = 5 #conv3 output channel number\n",
    "c4fs = 4 #conv4 filter size\n",
    "c4fn = 5 #conv4 output channel number\n",
    "dos1 = idx512+1 #1st dim of spectrogram\n",
    "dos2 = lent #2nd din of spectrogram\n",
    "lnn1 = 128 #layer1 neuron number\n",
    "lnn2 =32 #layer1 neuron number"
   ]
  },
  {
   "cell_type": "code",
   "execution_count": 8,
   "metadata": {},
   "outputs": [],
   "source": [
    "with tf.name_scope('input_layer'):\n",
    "    x = tf.placeholder('float', shape=[None, dos1, dos2], name='x')\n",
    "    x_image = tf.reshape(x, [-1, dos1, dos2, 1]) #(筆數,頻率維度,時間維度,顏色維度)\n",
    "    \n",
    "with tf.name_scope('pool'):\n",
    "    pool = maxpool2x2(x_image)\n",
    "\n",
    "with tf.name_scope('c1_conv'):\n",
    "    w1 = w([c1fs ,c1fs ,1, c1fn])\n",
    "    b1 = b([c1fn])\n",
    "    conv1 = conv2d(x_image, w1) + b1\n",
    "    c1_conv = tf.nn.relu(conv1)\n",
    "    \n",
    "with tf.name_scope('c2_conv'):\n",
    "    w2 = w([c2fs ,c2fs , c1fn, c2fn])\n",
    "    b2 = b([c2fn])\n",
    "    conv2 = conv2d(c1_conv,w2) +b2\n",
    "    c2_conv = tf.nn.relu(conv2)\n",
    "    \n",
    "with tf.name_scope('c2_pool'):\n",
    "    c2_pool = maxpool2x2(c2_conv)\n",
    "    \n",
    "with tf.name_scope('c3_conv'):\n",
    "    w3 = w([c3fs ,c3fs ,c2fn, c3fn])\n",
    "    b3 = b([c3fn])\n",
    "    conv3 = conv2d(c2_pool, w3) + b3\n",
    "    c3_conv = tf.nn.relu(conv3)\n",
    "    \n",
    "with tf.name_scope('c4_conv'):\n",
    "    w4 = w([c4fs ,c4fs ,c3fn, c4fn])\n",
    "    b4 = b([c4fn])\n",
    "    conv4 = conv2d(c3_conv, w4) + b4\n",
    "    c4_conv = tf.nn.relu(conv4)\n",
    "    \n",
    "\n",
    "#neurons = dos1/8*dos2/8*c3fn\n",
    "with tf.name_scope('D_flat'):\n",
    "    D_Flat = tf.layers.Flatten()(c4_conv)\n",
    "\n",
    "with tf.name_scope('D_hidden_layer1'):\n",
    "    inputdim = D_Flat.shape.as_list()[1]\n",
    "    wl1 = w([inputdim, lnn1])\n",
    "    bl1 = b([lnn1])\n",
    "    D_hidden1 = tf.nn.relu(tf.matmul(D_Flat, wl1)+bl1)\n",
    "    \n",
    "with tf.name_scope('D_hidden_layer2'):\n",
    "    wl2 = w([lnn1, lnn2])\n",
    "    bl2 = b([lnn2])\n",
    "    D_hidden2 = tf.nn.relu(tf.matmul(D_hidden1, wl2)+bl2)\n",
    "    \n",
    "with tf.name_scope('output_layer'):\n",
    "    wo = w([lnn2,2])\n",
    "    bo = b([2])\n",
    "    #y_predict = tf.sigmoid(tf.matmul(D_hidden2,wo)+bo)\n",
    "    y_predict = tf.matmul(D_hidden2,wo)+bo\n",
    "    \n",
    "with tf.name_scope('optimizer'):\n",
    "    y_label = tf.placeholder('float', shape=[None,2], name='y_label')\n",
    "    #lossfunction = tf.reduce_mean(tf.nn.sigmoid_cross_entropy_with_logits(logits=y_predict, labels=y_label))\n",
    "    lossfunction = tf.reduce_mean(tf.abs(tf.divide(tf.subtract(y_label,y_predict),y_label)))\n",
    "    optimizer = tf.train.AdamOptimizer(learning_rate=0.0001).minimize(lossfunction)\n",
    "    \n",
    "with tf.name_scope('evaluate_model'):\n",
    "    error = tf.reduce_mean(tf.abs(tf.divide(tf.subtract(y_label,y_predict),y_label)))"
   ]
  },
  {
   "cell_type": "markdown",
   "metadata": {},
   "source": [
    "# evaluate"
   ]
  },
  {
   "cell_type": "code",
   "execution_count": 9,
   "metadata": {},
   "outputs": [],
   "source": [
    "def evaluate(trainEpochs,peakratio):\n",
    "\n",
    "    start_time = timeit.default_timer()\n",
    "    sess = tf.Session()\n",
    "\n",
    "    saver = tf.train.Saver()\n",
    "\n",
    "    try: #第一次之後執行\n",
    "        saver.restore(sess, modelstore)\n",
    "    except: #第一次跑時執行\n",
    "        sess.run(tf.global_variables_initializer())\n",
    "\n",
    "    traindatafile =  '/Volumes/Mac/GW/spec/withoutoverlap/5~75_PE/trainingdata_spec_PE_pr'+peakratio+'.h5'\n",
    "    valdatafile = '/Volumes/Mac/GW/spec/withoutoverlap/5~75_PE/validationdata_spec_PE_pr'+peakratio+'.h5'\n",
    "    \n",
    "    \n",
    "    bg = batch_generator(traindatafile, batchSize)\n",
    "    fval = h5py.File(valdatafile, 'r')\n",
    "    val_x = fval['data'][...]\n",
    "    val_y = fval['parameter'][...]\n",
    "    ftra = h5py.File(traindatafile, 'r')\n",
    "    tra_x = ftra['data'][...]\n",
    "    tra_y = ftra['parameter'][...]\n",
    "    #np_utils.to_categorical\n",
    "    for epoch in range(trainEpochs):\n",
    "        for i in range(totalBatchs):\n",
    "            #每次讀取100筆資料\n",
    "            batch_x, batch_y = next(bg)\n",
    "            #將feature和label輸入並計算執行圖\n",
    "            sess.run(optimizer, feed_dict={x : batch_x, y_label : batch_y })\n",
    "        #使用驗證資料計算一次epoch的loss和acc    \n",
    "        loss = sess.run(lossfunction,feed_dict={x : val_x, y_label : val_y})\n",
    "        trainerror = sess.run(error,feed_dict={x : tra_x, y_label : tra_y})\n",
    "        \n",
    "        print 'Train Epoch:', '%02d'%(epoch+1), 'val loss=', '{:.9f}'.format(loss), 'training loss=',trainerror\n",
    "    \n",
    "\n",
    "    saver.save(sess, modelstore)\n",
    "\n",
    "    fval.close()\n",
    "    stop_time = timeit.default_timer()\n",
    "    print 'period(s) =', stop_time - start_time\n",
    "    \n",
    "    \n",
    "def estimate(testdatafile):\n",
    "    sess = tf.Session()\n",
    "    saver = tf.train.Saver()\n",
    "    saver.restore(sess, modelstore)\n",
    "    ftest = h5py.File(testdatafile, 'r')\n",
    "    test_x = ftest['data'][...]\n",
    "    test_y = ftest['parameter'][...]\n",
    "    ftest.close()\n",
    "    \n",
    "    start_time = timeit.default_timer()\n",
    "    err =  sess.run(error, feed_dict={x : test_x, y_label : test_y})\n",
    "    print 'acc :', err\n",
    "    stop_time = timeit.default_timer()\n",
    "    print 'period of estimate =', stop_time - start_time, '(s)'\n",
    "    return err\n",
    "    \n",
    "def prediction_result(testdatafile):\n",
    "    sess = tf.Session()\n",
    "    saver = tf.train.Saver()\n",
    "    saver.restore(sess, modelstore)\n",
    "    ftest = h5py.File(testdatafile, 'r')\n",
    "    test_x = ftest['data'][...]\n",
    "    test_y = ftest['parameter'][...]\n",
    "    ftest.close()\n",
    "    \n",
    "    start_time = timeit.default_timer()\n",
    "    predictresult = sess.run(y_predict, feed_dict={x : test_x})\n",
    "    stop_time = timeit.default_timer()\n",
    "    print 'period of prediction =', stop_time - start_time, '(s)'\n",
    "    return predictresult"
   ]
  },
  {
   "cell_type": "code",
   "execution_count": 10,
   "metadata": {},
   "outputs": [],
   "source": [
    "def relation(n):\n",
    "    d = '/Volumes/Mac/GW/spec/withoutoverlap/5.5~74.5/testdatawo_spec16-8_freq512_pr0.5_2time10_'\n",
    "    rm = np.zeros([70,70])\n",
    "    cm = np.zeros([2,2])\n",
    "    for j in range(n):\n",
    "        data =  d+str(j)+'_mr<=10.h5'\n",
    "        test = h5py.File(data, 'r')\n",
    "        test_par = test['parameter'][...]\n",
    "        test_lab = test['label'][...]\n",
    "        test.close()\n",
    "        predict = prediction_result(data)\n",
    "        cm += confusionmatrix(predict,test_lab)\n",
    "        for i in range(len(test_par)):\n",
    "            if test_par[i,0] != 0: #選擇有訊號的數據\n",
    "                if test_lab[i] != predict[i]: #預測不正確則顏色加深\n",
    "                    row = int(test_par[i,0]-5.5)\n",
    "                    col =  int(test_par[i,1]-5.5)\n",
    "                    rm[row,col] += 1.\n",
    "    acc(cm)\n",
    "    sensitivity(cm)\n",
    "    false_alarm_rate(cm)\n",
    "    scale = preprocessing.MinMaxScaler(feature_range=(0,1))\n",
    "    rmr = rm.reshape(70*70,1)\n",
    "    rmrn = scale.fit_transform(rmr)\n",
    "    rm = rmrn.reshape(70, 70)\n",
    "    \n",
    "    plt.imshow(rm, cmap='binary')\n",
    "    tick_idx = [0,10,20,30,40,50,60]\n",
    "    tick_mass = [5.5,15.5,25.5,35.5,45.5,55.5,65.5]\n",
    "    plt.yticks(tick_idx , tick_mass)\n",
    "    plt.xticks(tick_idx , tick_mass)\n",
    "    plt.xlabel('m2')\n",
    "    plt.ylabel('m1')\n",
    "\n",
    "def confusionmatrix(prediction_result,test_y):\n",
    "    sess = tf.Session()\n",
    "    cm = sess.run(tf.confusion_matrix(test_y, prediction_result))\n",
    "    print 'confusionmatrix ='\n",
    "    print cm\n",
    "    return cm\n",
    "\n",
    "def false_alarm_rate(cm):\n",
    "    fp = cm[0,1].astype('float64')\n",
    "    tn = cm[0,0].astype('float64')\n",
    "    print 'false alarm rate =',fp/(fp+tn) #false alarm rate\n",
    "    return fp/(fp+tn)\n",
    "\n",
    "def sensitivity(cm):\n",
    "    tp = cm[1,1].astype('float64')\n",
    "    fn = cm[1,0].astype('float64')\n",
    "    print 'sensitivity =',tp/(tp+fn) #sensitivity\n",
    "    return tp/(tp+fn)\n",
    "\n",
    "def acc(cm):\n",
    "    print 'acc =',(cm[0,0]+cm[1,1])/np.sum(cm)\n",
    "def summary():\n",
    "    estimate()\n",
    "    pr = prediction_result()\n",
    "    cm = confusionmatrix(pr)\n",
    "    false_alarm_rate(cm)\n",
    "    sensitivity(cm)"
   ]
  },
  {
   "cell_type": "code",
   "execution_count": 10,
   "metadata": {},
   "outputs": [],
   "source": [
    "thn='/traininghistory-plain4'"
   ]
  },
  {
   "cell_type": "code",
   "execution_count": 13,
   "metadata": {},
   "outputs": [],
   "source": [
    "th = h5py.File('/Volumes/Mac/GW/traininghistory'+thn, 'a')\n",
    "th.create_dataset('sen', (8,), maxshape=(None,))\n",
    "th.create_dataset('far', (8,), maxshape=(None,))\n",
    "th.create_dataset('acc', (8,), maxshape=(None,))\n",
    "th.create_dataset('pr', (8,), maxshape=(None,))\n",
    "th.close()"
   ]
  },
  {
   "cell_type": "code",
   "execution_count": 14,
   "metadata": {},
   "outputs": [
    {
     "name": "stdout",
     "output_type": "stream",
     "text": [
      "INFO:tensorflow:Restoring parameters from /Volumes/Mac/GW/model/model-plain4_PE.ckpt\n",
      "Train Epoch: 01 Loss= 0.495415449 mean absolute percentage error= 0.49541545\n",
      "Train Epoch: 02 Loss= 0.481282741 mean absolute percentage error= 0.48128274\n",
      "Train Epoch: 03 Loss= 0.457048595 mean absolute percentage error= 0.4570486\n",
      "Train Epoch: 04 Loss= 0.355630428 mean absolute percentage error= 0.35563043\n",
      "period(s) = 133.767254114\n"
     ]
    }
   ],
   "source": [
    "pr='10.00'\n",
    "evaluate(4,pr)"
   ]
  },
  {
   "cell_type": "code",
   "execution_count": 15,
   "metadata": {},
   "outputs": [
    {
     "name": "stdout",
     "output_type": "stream",
     "text": [
      "INFO:tensorflow:Restoring parameters from /Volumes/Mac/GW/model/model-plain4_PE.ckpt\n",
      "Train Epoch: 01 Loss= 0.242821649 mean absolute percentage error= 0.24282165\n",
      "Train Epoch: 02 Loss= 0.219077706 mean absolute percentage error= 0.2190777\n",
      "Train Epoch: 03 Loss= 0.199966997 mean absolute percentage error= 0.199967\n",
      "Train Epoch: 04 Loss= 0.180955529 mean absolute percentage error= 0.18095553\n",
      "period(s) = 141.832446814\n"
     ]
    }
   ],
   "source": [
    "evaluate(4,pr)"
   ]
  },
  {
   "cell_type": "code",
   "execution_count": 16,
   "metadata": {},
   "outputs": [
    {
     "name": "stdout",
     "output_type": "stream",
     "text": [
      "INFO:tensorflow:Restoring parameters from /Volumes/Mac/GW/model/model-plain4_PE.ckpt\n",
      "Train Epoch: 01 Loss= 0.161603466 mean absolute percentage error= 0.16160347\n",
      "Train Epoch: 02 Loss= 0.145161510 mean absolute percentage error= 0.14516151\n",
      "Train Epoch: 03 Loss= 0.135414943 mean absolute percentage error= 0.13541494\n",
      "Train Epoch: 04 Loss= 0.130153686 mean absolute percentage error= 0.13015369\n",
      "period(s) = 139.08833003\n"
     ]
    }
   ],
   "source": [
    "evaluate(4,pr)"
   ]
  },
  {
   "cell_type": "code",
   "execution_count": 17,
   "metadata": {},
   "outputs": [
    {
     "name": "stdout",
     "output_type": "stream",
     "text": [
      "INFO:tensorflow:Restoring parameters from /Volumes/Mac/GW/model/model-plain4_PE.ckpt\n",
      "Train Epoch: 01 Loss= 0.113987133 mean absolute percentage error= 0.11398713\n",
      "Train Epoch: 02 Loss= 0.102348588 mean absolute percentage error= 0.10234859\n",
      "Train Epoch: 03 Loss= 0.090370156 mean absolute percentage error= 0.090370156\n",
      "Train Epoch: 04 Loss= 0.084284976 mean absolute percentage error= 0.084284976\n",
      "period(s) = 147.136390924\n"
     ]
    }
   ],
   "source": [
    "evaluate(4,pr)"
   ]
  },
  {
   "cell_type": "code",
   "execution_count": 19,
   "metadata": {},
   "outputs": [
    {
     "name": "stdout",
     "output_type": "stream",
     "text": [
      "INFO:tensorflow:Restoring parameters from /Volumes/Mac/GW/model/model-plain4_PE.ckpt\n",
      "Train Epoch: 01 Loss= 0.048293330 mean absolute percentage error= 0.04829333\n",
      "Train Epoch: 02 Loss= 0.052797306 mean absolute percentage error= 0.052797306\n",
      "Train Epoch: 03 Loss= 0.045934144 mean absolute percentage error= 0.045934144\n",
      "Train Epoch: 04 Loss= 0.064611390 mean absolute percentage error= 0.06461139\n",
      "Train Epoch: 05 Loss= 0.054731306 mean absolute percentage error= 0.054731306\n",
      "Train Epoch: 06 Loss= 0.049179442 mean absolute percentage error= 0.049179442\n",
      "Train Epoch: 07 Loss= 0.059568673 mean absolute percentage error= 0.059568673\n",
      "Train Epoch: 08 Loss= 0.062672220 mean absolute percentage error= 0.06267222\n",
      "Train Epoch: 09 Loss= 0.053585421 mean absolute percentage error= 0.05358542\n",
      "Train Epoch: 10 Loss= 0.057015266 mean absolute percentage error= 0.057015266\n",
      "Train Epoch: 11 Loss= 0.061193995 mean absolute percentage error= 0.061193995\n",
      "Train Epoch: 12 Loss= 0.047454521 mean absolute percentage error= 0.04745452\n",
      "Train Epoch: 13 Loss= 0.047762059 mean absolute percentage error= 0.04776206\n",
      "Train Epoch: 14 Loss= 0.051744074 mean absolute percentage error= 0.051744074\n",
      "Train Epoch: 15 Loss= 0.039840914 mean absolute percentage error= 0.039840914\n",
      "Train Epoch: 16 Loss= 0.045462858 mean absolute percentage error= 0.045462858\n",
      "Train Epoch: 17 Loss= 0.055989418 mean absolute percentage error= 0.05598942\n",
      "Train Epoch: 18 Loss= 0.044944573 mean absolute percentage error= 0.044944573\n",
      "Train Epoch: 19 Loss= 0.049573656 mean absolute percentage error= 0.049573656\n",
      "Train Epoch: 20 Loss= 0.043009352 mean absolute percentage error= 0.043009352\n",
      "period(s) = 714.863365889\n"
     ]
    }
   ],
   "source": [
    "evaluate(20,pr)"
   ]
  },
  {
   "cell_type": "code",
   "execution_count": 13,
   "metadata": {},
   "outputs": [
    {
     "name": "stdout",
     "output_type": "stream",
     "text": [
      "INFO:tensorflow:Restoring parameters from /Volumes/Mac/GW/model/model-plain4.ckpt\n",
      "acc : 1.0\n",
      "period of estimate = 153.860002041 (s)\n",
      "INFO:tensorflow:Restoring parameters from /Volumes/Mac/GW/model/model-plain4.ckpt\n",
      "period of prediction = 169.030464888 (s)\n",
      "confusionmatrix =\n",
      "[[3682    0]\n",
      " [   0 2455]]\n",
      "false alarm rate = 0.0\n",
      "sensitivity = 1.0\n",
      "[1. 0. 0. 0. 0. 0. 0. 0.]\n",
      "[0. 0. 0. 0. 0. 0. 0. 0.]\n",
      "[1. 0. 0. 0. 0. 0. 0. 0.]\n",
      "[2. 0. 0. 0. 0. 0. 0. 0.]\n"
     ]
    }
   ],
   "source": [
    "th = h5py.File('/Volumes/Mac/GW/traininghistory'+thn, 'a')\n",
    "a=estimate('/Volumes/Mac/GW/spec/withoutoverlap/5.5~74.5/testdatawo_spec16-8_freq512_pr'+str(pr)+'_mr<=10.h5')\n",
    "th['acc'][0]=a\n",
    "\n",
    "testd = h5py.File('/Volumes/Mac/GW/spec/withoutoverlap/5.5~74.5/testdatawo_spec16-8_freq512_pr'+str(pr)+'_mr<=10.h5', 'r')\n",
    "testd_lab = testd['label'][...]\n",
    "testd.close()\n",
    "cm = confusionmatrix(prediction_result('/Volumes/Mac/GW/spec/withoutoverlap/5.5~74.5/testdatawo_spec16-8_freq512_pr'+str(pr)+'_mr<=10.h5'),\n",
    "               testd_lab)\n",
    "\n",
    "far = false_alarm_rate(cm)\n",
    "th['far'][0]=far\n",
    "\n",
    "sen = sensitivity(cm)\n",
    "th['sen'][0]=sen\n",
    "\n",
    "th['pr'][0]=pr\n",
    "\n",
    "print th['acc'][...]\n",
    "print th['far'][...]\n",
    "print th['sen'][...]\n",
    "print th['pr'][...]\n",
    "th.close()"
   ]
  },
  {
   "cell_type": "code",
   "execution_count": 26,
   "metadata": {},
   "outputs": [
    {
     "name": "stdout",
     "output_type": "stream",
     "text": [
      "INFO:tensorflow:Restoring parameters from /Volumes/Mac/GW/model/model-plain4_PE.ckpt\n",
      "Train Epoch: 01 val loss= 0.070567399 training loss= 0.061761245\n",
      "Train Epoch: 02 val loss= 0.089580901 training loss= 0.08005234\n",
      "Train Epoch: 03 val loss= 0.089109398 training loss= 0.07912955\n",
      "Train Epoch: 04 val loss= 0.076266415 training loss= 0.0677176\n",
      "Train Epoch: 05 val loss= 0.081957310 training loss= 0.072343074\n",
      "period(s) = 434.353461981\n"
     ]
    }
   ],
   "source": [
    "pr='5.00' ; i=1\n",
    "evaluate(5,pr)"
   ]
  },
  {
   "cell_type": "code",
   "execution_count": 14,
   "metadata": {},
   "outputs": [
    {
     "name": "stdout",
     "output_type": "stream",
     "text": [
      "INFO:tensorflow:Restoring parameters from /Volumes/Mac/GW/model/model-resnet6.ckpt\n",
      "Train Epoch: 01 Loss= 0.313262969 Accuracy= 1.0\n",
      "Train Epoch: 02 Loss= 0.313262820 Accuracy= 1.0\n",
      "Train Epoch: 03 Loss= 0.313262701 Accuracy= 1.0\n",
      "Train Epoch: 04 Loss= 0.313262641 Accuracy= 1.0\n",
      "period(s) = 500.381302118\n"
     ]
    }
   ],
   "source": [
    "evaluate(4,pr)"
   ]
  },
  {
   "cell_type": "code",
   "execution_count": 10,
   "metadata": {},
   "outputs": [
    {
     "name": "stdout",
     "output_type": "stream",
     "text": [
      "INFO:tensorflow:Restoring parameters from /Volumes/Mac/GW/model/model-resnet6.ckpt\n",
      "Train Epoch: 01 Loss= 0.313262612 Accuracy= 1.0\n",
      "Train Epoch: 02 Loss= 0.313262582 Accuracy= 1.0\n",
      "Train Epoch: 03 Loss= 0.313262582 Accuracy= 1.0\n",
      "Train Epoch: 04 Loss= 0.313262731 Accuracy= 1.0\n",
      "period(s) = 329.601536989\n"
     ]
    }
   ],
   "source": [
    "evaluate(4,pr)"
   ]
  },
  {
   "cell_type": "code",
   "execution_count": 14,
   "metadata": {},
   "outputs": [
    {
     "name": "stdout",
     "output_type": "stream",
     "text": [
      "INFO:tensorflow:Restoring parameters from /Volumes/Mac/GW/model/model-resnet6.ckpt\n",
      "Train Epoch: 01 Loss= 0.313264132 Accuracy= 1.0\n",
      "Train Epoch: 02 Loss= 0.313262641 Accuracy= 1.0\n",
      "Train Epoch: 03 Loss= 0.313262612 Accuracy= 1.0\n",
      "Train Epoch: 04 Loss= 0.313262582 Accuracy= 1.0\n",
      "period(s) = 641.298135996\n"
     ]
    }
   ],
   "source": [
    "evaluate(4,pr)"
   ]
  },
  {
   "cell_type": "code",
   "execution_count": 15,
   "metadata": {},
   "outputs": [
    {
     "name": "stdout",
     "output_type": "stream",
     "text": [
      "INFO:tensorflow:Restoring parameters from /Volumes/Mac/GW/model/model-resnet6.ckpt\n",
      "acc : 1.0\n",
      "period of estimate = 33.707228899 (s)\n",
      "INFO:tensorflow:Restoring parameters from /Volumes/Mac/GW/model/model-resnet6.ckpt\n",
      "period of prediction = 32.1571421623 (s)\n",
      "confusionmatrix =\n",
      "[[3682    0]\n",
      " [   0 2455]]\n",
      "false alarm rate = 0.0\n",
      "sensitivity = 1.0\n",
      "[1. 1. 0. 0. 0. 0. 0. 0.]\n",
      "[0. 0. 0. 0. 0. 0. 0. 0.]\n",
      "[1. 1. 0. 0. 0. 0. 0. 0.]\n",
      "[2.  1.5 0.  0.  0.  0.  0.  0. ]\n"
     ]
    }
   ],
   "source": [
    "th = h5py.File('/Volumes/Mac/GW/traininghistory'+thn, 'a')\n",
    "a=estimate('/Volumes/Mac/GW/spec/withoutoverlap/5.5~74.5/testdatawo_spec16-8_freq512_pr'+str(pr)+'_mr<=10.h5')\n",
    "th['acc'][i]=a\n",
    "\n",
    "testd = h5py.File('/Volumes/Mac/GW/spec/withoutoverlap/5.5~74.5/testdatawo_spec16-8_freq512_pr'+str(pr)+'_mr<=10.h5', 'r')\n",
    "testd_lab = testd['label'][...]\n",
    "testd.close()\n",
    "cm = confusionmatrix(prediction_result('/Volumes/Mac/GW/spec/withoutoverlap/5.5~74.5/testdatawo_spec16-8_freq512_pr'+str(pr)+'_mr<=10.h5'),\n",
    "               testd_lab)\n",
    "\n",
    "far = false_alarm_rate(cm)\n",
    "th['far'][i]=far\n",
    "\n",
    "sen = sensitivity(cm)\n",
    "th['sen'][i]=sen\n",
    "\n",
    "th['pr'][i]=pr\n",
    "\n",
    "print th['acc'][...]\n",
    "print th['far'][...]\n",
    "print th['sen'][...]\n",
    "print th['pr'][...]\n",
    "th.close()"
   ]
  },
  {
   "cell_type": "code",
   "execution_count": 10,
   "metadata": {},
   "outputs": [
    {
     "name": "stdout",
     "output_type": "stream",
     "text": [
      "INFO:tensorflow:Restoring parameters from /Volumes/Mac/GW/model/model-resnet6.ckpt\n",
      "Train Epoch: 01 Loss= 0.313725173 Accuracy= 0.9996667\n",
      "Train Epoch: 02 Loss= 0.314336598 Accuracy= 0.999\n",
      "Train Epoch: 03 Loss= 0.314587414 Accuracy= 0.999\n",
      "Train Epoch: 04 Loss= 0.313402414 Accuracy= 1.0\n",
      "period(s) = 354.431602955\n"
     ]
    }
   ],
   "source": [
    "pr=1.2 ; i=2\n",
    "evaluate(4,pr)"
   ]
  },
  {
   "cell_type": "code",
   "execution_count": 11,
   "metadata": {},
   "outputs": [
    {
     "name": "stdout",
     "output_type": "stream",
     "text": [
      "INFO:tensorflow:Restoring parameters from /Volumes/Mac/GW/model/model-resnet6.ckpt\n",
      "Train Epoch: 01 Loss= 0.313372463 Accuracy= 1.0\n",
      "Train Epoch: 02 Loss= 0.313349217 Accuracy= 1.0\n",
      "Train Epoch: 03 Loss= 0.313338190 Accuracy= 1.0\n",
      "Train Epoch: 04 Loss= 0.313449025 Accuracy= 0.9996667\n",
      "period(s) = 491.555459023\n"
     ]
    }
   ],
   "source": [
    "evaluate(4,pr)"
   ]
  },
  {
   "cell_type": "code",
   "execution_count": 12,
   "metadata": {},
   "outputs": [
    {
     "name": "stdout",
     "output_type": "stream",
     "text": [
      "INFO:tensorflow:Restoring parameters from /Volumes/Mac/GW/model/model-resnet6.ckpt\n",
      "Train Epoch: 01 Loss= 0.313474327 Accuracy= 0.9996667\n",
      "Train Epoch: 02 Loss= 0.313302547 Accuracy= 1.0\n",
      "Train Epoch: 03 Loss= 0.313372523 Accuracy= 1.0\n",
      "Train Epoch: 04 Loss= 0.313437164 Accuracy= 0.9996667\n",
      "period(s) = 607.450507164\n"
     ]
    }
   ],
   "source": [
    "evaluate(4,pr)"
   ]
  },
  {
   "cell_type": "code",
   "execution_count": 13,
   "metadata": {},
   "outputs": [
    {
     "name": "stdout",
     "output_type": "stream",
     "text": [
      "INFO:tensorflow:Restoring parameters from /Volumes/Mac/GW/model/model-resnet6.ckpt\n",
      "Train Epoch: 01 Loss= 0.313470483 Accuracy= 0.9996667\n",
      "Train Epoch: 02 Loss= 0.313417017 Accuracy= 0.9996667\n",
      "Train Epoch: 03 Loss= 0.313287616 Accuracy= 1.0\n",
      "Train Epoch: 04 Loss= 0.313294977 Accuracy= 1.0\n",
      "period(s) = 786.713264942\n"
     ]
    }
   ],
   "source": [
    "evaluate(4,pr)"
   ]
  },
  {
   "cell_type": "code",
   "execution_count": 14,
   "metadata": {},
   "outputs": [
    {
     "name": "stdout",
     "output_type": "stream",
     "text": [
      "INFO:tensorflow:Restoring parameters from /Volumes/Mac/GW/model/model-resnet6.ckpt\n",
      "acc : 0.99983704\n",
      "period of estimate = 38.8110210896 (s)\n",
      "INFO:tensorflow:Restoring parameters from /Volumes/Mac/GW/model/model-resnet6.ckpt\n",
      "period of prediction = 33.7330970764 (s)\n",
      "confusionmatrix =\n",
      "[[3681    1]\n",
      " [   0 2455]]\n",
      "false alarm rate = 0.00027159152634437803\n",
      "sensitivity = 1.0\n",
      "[1.         1.         0.99983704 0.         0.         0.\n",
      " 0.         0.        ]\n",
      "[0.         0.         0.00027159 0.         0.         0.\n",
      " 0.         0.        ]\n",
      "[1. 1. 1. 0. 0. 0. 0. 0.]\n",
      "[2.  1.5 1.2 0.  0.  0.  0.  0. ]\n"
     ]
    }
   ],
   "source": [
    "th = h5py.File('/Volumes/Mac/GW/traininghistory'+thn, 'a')\n",
    "a=estimate('/Volumes/Mac/GW/spec/withoutoverlap/5.5~74.5/testdatawo_spec16-8_freq512_pr'+str(pr)+'_mr<=10.h5')\n",
    "th['acc'][i]=a\n",
    "\n",
    "testd = h5py.File('/Volumes/Mac/GW/spec/withoutoverlap/5.5~74.5/testdatawo_spec16-8_freq512_pr'+str(pr)+'_mr<=10.h5', 'r')\n",
    "testd_lab = testd['label'][...]\n",
    "testd.close()\n",
    "cm = confusionmatrix(prediction_result('/Volumes/Mac/GW/spec/withoutoverlap/5.5~74.5/testdatawo_spec16-8_freq512_pr'+str(pr)+'_mr<=10.h5'),\n",
    "               testd_lab)\n",
    "\n",
    "far = false_alarm_rate(cm)\n",
    "th['far'][i]=far\n",
    "\n",
    "sen = sensitivity(cm)\n",
    "th['sen'][i]=sen\n",
    "\n",
    "th['pr'][i]=pr\n",
    "\n",
    "print th['acc'][...]\n",
    "print th['far'][...]\n",
    "print th['sen'][...]\n",
    "print th['pr'][...]\n",
    "th.close()"
   ]
  },
  {
   "cell_type": "code",
   "execution_count": 10,
   "metadata": {},
   "outputs": [
    {
     "name": "stdout",
     "output_type": "stream",
     "text": [
      "INFO:tensorflow:Restoring parameters from /Volumes/Mac/GW/model/model-resnet6.ckpt\n",
      "Train Epoch: 01 Loss= 0.324356109 Accuracy= 0.989\n",
      "Train Epoch: 02 Loss= 0.317453176 Accuracy= 0.9956667\n",
      "Train Epoch: 03 Loss= 0.316086590 Accuracy= 0.99733335\n",
      "Train Epoch: 04 Loss= 0.315179080 Accuracy= 0.998\n",
      "period(s) = 321.113950014\n"
     ]
    }
   ],
   "source": [
    "pr=1 ; i=3\n",
    "evaluate(4,pr)"
   ]
  },
  {
   "cell_type": "code",
   "execution_count": 11,
   "metadata": {},
   "outputs": [
    {
     "name": "stdout",
     "output_type": "stream",
     "text": [
      "INFO:tensorflow:Restoring parameters from /Volumes/Mac/GW/model/model-resnet6.ckpt\n",
      "Train Epoch: 01 Loss= 0.315153360 Accuracy= 0.99766666\n",
      "Train Epoch: 02 Loss= 0.315441608 Accuracy= 0.99766666\n",
      "Train Epoch: 03 Loss= 0.313986689 Accuracy= 0.9993333\n",
      "Train Epoch: 04 Loss= 0.313923866 Accuracy= 0.9993333\n",
      "period(s) = 462.624115944\n"
     ]
    }
   ],
   "source": [
    "evaluate(4,pr)"
   ]
  },
  {
   "cell_type": "code",
   "execution_count": 12,
   "metadata": {},
   "outputs": [
    {
     "name": "stdout",
     "output_type": "stream",
     "text": [
      "INFO:tensorflow:Restoring parameters from /Volumes/Mac/GW/model/model-resnet6.ckpt\n",
      "Train Epoch: 01 Loss= 0.314143300 Accuracy= 0.999\n",
      "Train Epoch: 02 Loss= 0.314521641 Accuracy= 0.99866664\n",
      "Train Epoch: 03 Loss= 0.314600170 Accuracy= 0.99866664\n",
      "Train Epoch: 04 Loss= 0.314629793 Accuracy= 0.99866664\n",
      "period(s) = 570.07129693\n"
     ]
    }
   ],
   "source": [
    "evaluate(4,pr)"
   ]
  },
  {
   "cell_type": "code",
   "execution_count": 10,
   "metadata": {},
   "outputs": [
    {
     "name": "stdout",
     "output_type": "stream",
     "text": [
      "INFO:tensorflow:Restoring parameters from /Volumes/Mac/GW/model/model-resnet6.ckpt\n",
      "Train Epoch: 01 Loss= 0.314630657 Accuracy= 0.99866664\n",
      "Train Epoch: 02 Loss= 0.314632922 Accuracy= 0.99866664\n",
      "Train Epoch: 03 Loss= 0.314623654 Accuracy= 0.99866664\n",
      "Train Epoch: 04 Loss= 0.314614445 Accuracy= 0.99866664\n",
      "period(s) = 308.103656054\n"
     ]
    }
   ],
   "source": [
    "pr=1 ; i=3\n",
    "evaluate(4,pr)"
   ]
  },
  {
   "cell_type": "code",
   "execution_count": 11,
   "metadata": {},
   "outputs": [
    {
     "name": "stdout",
     "output_type": "stream",
     "text": [
      "INFO:tensorflow:Restoring parameters from /Volumes/Mac/GW/model/model-resnet6.ckpt\n",
      "acc : 0.9990223\n",
      "period of estimate = 30.008813858 (s)\n",
      "INFO:tensorflow:Restoring parameters from /Volumes/Mac/GW/model/model-resnet6.ckpt\n",
      "period of prediction = 28.1695399284 (s)\n",
      "confusionmatrix =\n",
      "[[3680    2]\n",
      " [   4 2451]]\n",
      "false alarm rate = 0.0005431830526887561\n",
      "sensitivity = 0.9983706720977596\n",
      "[1.         1.         0.99983704 0.9990223  0.         0.\n",
      " 0.         0.        ]\n",
      "[0.         0.         0.00027159 0.00054318 0.         0.\n",
      " 0.         0.        ]\n",
      "[1.         1.         1.         0.99837065 0.         0.\n",
      " 0.         0.        ]\n",
      "[2.  1.5 1.2 1.  0.  0.  0.  0. ]\n"
     ]
    }
   ],
   "source": [
    "th = h5py.File('/Volumes/Mac/GW/traininghistory'+thn, 'a')\n",
    "a=estimate('/Volumes/Mac/GW/spec/withoutoverlap/5.5~74.5/testdatawo_spec16-8_freq512_pr'+str(pr)+'_mr<=10.h5')\n",
    "th['acc'][i]=a\n",
    "\n",
    "testd = h5py.File('/Volumes/Mac/GW/spec/withoutoverlap/5.5~74.5/testdatawo_spec16-8_freq512_pr'+str(pr)+'_mr<=10.h5', 'r')\n",
    "testd_lab = testd['label'][...]\n",
    "testd.close()\n",
    "cm = confusionmatrix(prediction_result('/Volumes/Mac/GW/spec/withoutoverlap/5.5~74.5/testdatawo_spec16-8_freq512_pr'+str(pr)+'_mr<=10.h5'),\n",
    "               testd_lab)\n",
    "\n",
    "far = false_alarm_rate(cm)\n",
    "th['far'][i]=far\n",
    "\n",
    "sen = sensitivity(cm)\n",
    "th['sen'][i]=sen\n",
    "\n",
    "th['pr'][i]=pr\n",
    "\n",
    "print th['acc'][...]\n",
    "print th['far'][...]\n",
    "print th['sen'][...]\n",
    "print th['pr'][...]\n",
    "th.close()"
   ]
  },
  {
   "cell_type": "code",
   "execution_count": 10,
   "metadata": {},
   "outputs": [
    {
     "name": "stdout",
     "output_type": "stream",
     "text": [
      "INFO:tensorflow:Restoring parameters from /Volumes/Mac/GW/model/model-resnet6.ckpt\n",
      "Train Epoch: 01 Loss= 0.322838128 Accuracy= 0.991\n",
      "Train Epoch: 02 Loss= 0.323131114 Accuracy= 0.989\n",
      "Train Epoch: 03 Loss= 0.321945399 Accuracy= 0.991\n",
      "Train Epoch: 04 Loss= 0.322044641 Accuracy= 0.99\n",
      "period(s) = 304.796190023\n"
     ]
    }
   ],
   "source": [
    "pr=0.8 ; i=4\n",
    "evaluate(4,pr)"
   ]
  },
  {
   "cell_type": "code",
   "execution_count": 11,
   "metadata": {},
   "outputs": [
    {
     "name": "stdout",
     "output_type": "stream",
     "text": [
      "INFO:tensorflow:Restoring parameters from /Volumes/Mac/GW/model/model-resnet6.ckpt\n",
      "Train Epoch: 01 Loss= 0.321723580 Accuracy= 0.99\n",
      "Train Epoch: 02 Loss= 0.321150362 Accuracy= 0.991\n",
      "Train Epoch: 03 Loss= 0.320881963 Accuracy= 0.992\n",
      "Train Epoch: 04 Loss= 0.320790499 Accuracy= 0.9916667\n",
      "period(s) = 469.793373108\n"
     ]
    }
   ],
   "source": [
    "evaluate(4,pr)"
   ]
  },
  {
   "cell_type": "code",
   "execution_count": 12,
   "metadata": {},
   "outputs": [
    {
     "name": "stdout",
     "output_type": "stream",
     "text": [
      "INFO:tensorflow:Restoring parameters from /Volumes/Mac/GW/model/model-resnet6.ckpt\n",
      "Train Epoch: 01 Loss= 0.320912749 Accuracy= 0.9916667\n",
      "Train Epoch: 02 Loss= 0.320715547 Accuracy= 0.9916667\n",
      "Train Epoch: 03 Loss= 0.320607752 Accuracy= 0.992\n",
      "Train Epoch: 04 Loss= 0.320731819 Accuracy= 0.9916667\n",
      "period(s) = 809.166828871\n"
     ]
    }
   ],
   "source": [
    "evaluate(4,pr)"
   ]
  },
  {
   "cell_type": "code",
   "execution_count": 13,
   "metadata": {},
   "outputs": [
    {
     "name": "stdout",
     "output_type": "stream",
     "text": [
      "INFO:tensorflow:Restoring parameters from /Volumes/Mac/GW/model/model-resnet6.ckpt\n",
      "Train Epoch: 01 Loss= 0.320894271 Accuracy= 0.9913333\n",
      "Train Epoch: 02 Loss= 0.320576668 Accuracy= 0.99233335\n",
      "Train Epoch: 03 Loss= 0.320620090 Accuracy= 0.9916667\n",
      "Train Epoch: 04 Loss= 0.320854902 Accuracy= 0.9916667\n",
      "period(s) = 730.653002977\n"
     ]
    }
   ],
   "source": [
    "evaluate(4,pr)"
   ]
  },
  {
   "cell_type": "code",
   "execution_count": 14,
   "metadata": {},
   "outputs": [
    {
     "name": "stdout",
     "output_type": "stream",
     "text": [
      "INFO:tensorflow:Restoring parameters from /Volumes/Mac/GW/model/model-resnet6.ckpt\n",
      "acc : 0.9944598\n",
      "period of estimate = 30.3244559765 (s)\n",
      "INFO:tensorflow:Restoring parameters from /Volumes/Mac/GW/model/model-resnet6.ckpt\n",
      "period of prediction = 29.2823009491 (s)\n",
      "confusionmatrix =\n",
      "[[3662   20]\n",
      " [  14 2441]]\n",
      "false alarm rate = 0.005431830526887561\n",
      "sensitivity = 0.9942973523421589\n",
      "[1.         1.         0.99983704 0.9990223  0.9944598  0.\n",
      " 0.         0.        ]\n",
      "[0.         0.         0.00027159 0.00054318 0.00543183 0.\n",
      " 0.         0.        ]\n",
      "[1.         1.         1.         0.99837065 0.9942973  0.\n",
      " 0.         0.        ]\n",
      "[2.  1.5 1.2 1.  0.8 0.  0.  0. ]\n"
     ]
    }
   ],
   "source": [
    "th = h5py.File('/Volumes/Mac/GW/traininghistory'+thn, 'a')\n",
    "a=estimate('/Volumes/Mac/GW/spec/withoutoverlap/5.5~74.5/testdatawo_spec16-8_freq512_pr'+str(pr)+'_mr<=10.h5')\n",
    "th['acc'][i]=a\n",
    "\n",
    "testd = h5py.File('/Volumes/Mac/GW/spec/withoutoverlap/5.5~74.5/testdatawo_spec16-8_freq512_pr'+str(pr)+'_mr<=10.h5', 'r')\n",
    "testd_lab = testd['label'][...]\n",
    "testd.close()\n",
    "cm = confusionmatrix(prediction_result('/Volumes/Mac/GW/spec/withoutoverlap/5.5~74.5/testdatawo_spec16-8_freq512_pr'+str(pr)+'_mr<=10.h5'),\n",
    "               testd_lab)\n",
    "\n",
    "far = false_alarm_rate(cm)\n",
    "th['far'][i]=far\n",
    "\n",
    "sen = sensitivity(cm)\n",
    "th['sen'][i]=sen\n",
    "\n",
    "th['pr'][i]=pr\n",
    "\n",
    "print th['acc'][...]\n",
    "print th['far'][...]\n",
    "print th['sen'][...]\n",
    "print th['pr'][...]\n",
    "th.close()"
   ]
  },
  {
   "cell_type": "code",
   "execution_count": 10,
   "metadata": {},
   "outputs": [
    {
     "name": "stdout",
     "output_type": "stream",
     "text": [
      "INFO:tensorflow:Restoring parameters from /Volumes/Mac/GW/model/model-resnet6.ckpt\n",
      "Train Epoch: 01 Loss= 0.341361493 Accuracy= 0.97066665\n",
      "Train Epoch: 02 Loss= 0.338930279 Accuracy= 0.9726667\n",
      "Train Epoch: 03 Loss= 0.338798404 Accuracy= 0.9726667\n",
      "Train Epoch: 04 Loss= 0.338895142 Accuracy= 0.973\n",
      "period(s) = 296.097022057\n"
     ]
    }
   ],
   "source": [
    "pr=0.7 ; i=5\n",
    "evaluate(4,pr)"
   ]
  },
  {
   "cell_type": "code",
   "execution_count": 11,
   "metadata": {},
   "outputs": [
    {
     "name": "stdout",
     "output_type": "stream",
     "text": [
      "INFO:tensorflow:Restoring parameters from /Volumes/Mac/GW/model/model-resnet6.ckpt\n",
      "Train Epoch: 01 Loss= 0.339777738 Accuracy= 0.9726667\n",
      "Train Epoch: 02 Loss= 0.338488400 Accuracy= 0.974\n",
      "Train Epoch: 03 Loss= 0.338016510 Accuracy= 0.97366667\n",
      "Train Epoch: 04 Loss= 0.336096466 Accuracy= 0.9763333\n",
      "period(s) = 438.272422075\n"
     ]
    }
   ],
   "source": [
    "evaluate(4,pr)"
   ]
  },
  {
   "cell_type": "code",
   "execution_count": 12,
   "metadata": {},
   "outputs": [
    {
     "name": "stdout",
     "output_type": "stream",
     "text": [
      "INFO:tensorflow:Restoring parameters from /Volumes/Mac/GW/model/model-resnet6.ckpt\n",
      "Train Epoch: 01 Loss= 0.336795300 Accuracy= 0.976\n",
      "Train Epoch: 02 Loss= 0.336423099 Accuracy= 0.977\n",
      "Train Epoch: 03 Loss= 0.335723460 Accuracy= 0.9776667\n",
      "Train Epoch: 04 Loss= 0.334735125 Accuracy= 0.9766667\n",
      "period(s) = 571.233883858\n"
     ]
    }
   ],
   "source": [
    "evaluate(4,pr)"
   ]
  },
  {
   "cell_type": "code",
   "execution_count": 10,
   "metadata": {},
   "outputs": [
    {
     "name": "stdout",
     "output_type": "stream",
     "text": [
      "INFO:tensorflow:Restoring parameters from /Volumes/Mac/GW/model/model-resnet6.ckpt\n",
      "Train Epoch: 01 Loss= 0.336354077 Accuracy= 0.9763333\n",
      "Train Epoch: 02 Loss= 0.336783558 Accuracy= 0.97566664\n",
      "Train Epoch: 03 Loss= 0.337104201 Accuracy= 0.9763333\n",
      "Train Epoch: 04 Loss= 0.341752231 Accuracy= 0.96966666\n",
      "period(s) = 302.954240084\n"
     ]
    }
   ],
   "source": [
    "pr=0.7 ; i=5\n",
    "evaluate(4,pr)"
   ]
  },
  {
   "cell_type": "code",
   "execution_count": 11,
   "metadata": {},
   "outputs": [
    {
     "name": "stdout",
     "output_type": "stream",
     "text": [
      "INFO:tensorflow:Restoring parameters from /Volumes/Mac/GW/model/model-resnet6.ckpt\n",
      "acc : 0.9770246\n",
      "period of estimate = 35.9964549541 (s)\n",
      "INFO:tensorflow:Restoring parameters from /Volumes/Mac/GW/model/model-resnet6.ckpt\n",
      "period of prediction = 31.9429810047 (s)\n",
      "confusionmatrix =\n",
      "[[3673    9]\n",
      " [ 132 2323]]\n",
      "false alarm rate = 0.0024443237370994023\n",
      "sensitivity = 0.9462321792260693\n",
      "[1.         1.         0.99983704 0.9990223  0.9944598  0.9770246\n",
      " 0.         0.        ]\n",
      "[0.         0.         0.00027159 0.00054318 0.00543183 0.00244432\n",
      " 0.         0.        ]\n",
      "[1.         1.         1.         0.99837065 0.9942973  0.9462322\n",
      " 0.         0.        ]\n",
      "[2.  1.5 1.2 1.  0.8 0.7 0.  0. ]\n"
     ]
    }
   ],
   "source": [
    "th = h5py.File('/Volumes/Mac/GW/traininghistory'+thn, 'a')\n",
    "a=estimate('/Volumes/Mac/GW/spec/withoutoverlap/5.5~74.5/testdatawo_spec16-8_freq512_pr'+str(pr)+'_mr<=10.h5')\n",
    "th['acc'][i]=a\n",
    "\n",
    "testd = h5py.File('/Volumes/Mac/GW/spec/withoutoverlap/5.5~74.5/testdatawo_spec16-8_freq512_pr'+str(pr)+'_mr<=10.h5', 'r')\n",
    "testd_lab = testd['label'][...]\n",
    "testd.close()\n",
    "cm = confusionmatrix(prediction_result('/Volumes/Mac/GW/spec/withoutoverlap/5.5~74.5/testdatawo_spec16-8_freq512_pr'+str(pr)+'_mr<=10.h5'),\n",
    "               testd_lab)\n",
    "\n",
    "far = false_alarm_rate(cm)\n",
    "th['far'][i]=far\n",
    "\n",
    "sen = sensitivity(cm)\n",
    "th['sen'][i]=sen\n",
    "\n",
    "th['pr'][i]=pr\n",
    "\n",
    "print th['acc'][...]\n",
    "print th['far'][...]\n",
    "print th['sen'][...]\n",
    "print th['pr'][...]\n",
    "th.close()"
   ]
  },
  {
   "cell_type": "code",
   "execution_count": 12,
   "metadata": {},
   "outputs": [
    {
     "name": "stdout",
     "output_type": "stream",
     "text": [
      "INFO:tensorflow:Restoring parameters from /Volumes/Mac/GW/model/model-resnet6.ckpt\n",
      "Train Epoch: 01 Loss= 0.369839191 Accuracy= 0.94133335\n",
      "Train Epoch: 02 Loss= 0.364307791 Accuracy= 0.94766665\n",
      "Train Epoch: 03 Loss= 0.365085006 Accuracy= 0.94766665\n",
      "Train Epoch: 04 Loss= 0.365206867 Accuracy= 0.94733334\n",
      "period(s) = 475.591362\n"
     ]
    }
   ],
   "source": [
    "pr=0.6 ; i=6\n",
    "evaluate(4,pr)"
   ]
  },
  {
   "cell_type": "code",
   "execution_count": 10,
   "metadata": {},
   "outputs": [
    {
     "name": "stdout",
     "output_type": "stream",
     "text": [
      "INFO:tensorflow:Restoring parameters from /Volumes/Mac/GW/model/model-resnet6.ckpt\n",
      "Train Epoch: 01 Loss= 0.363795906 Accuracy= 0.947\n",
      "Train Epoch: 02 Loss= 0.362101555 Accuracy= 0.9493333\n",
      "Train Epoch: 03 Loss= 0.362537146 Accuracy= 0.948\n",
      "Train Epoch: 04 Loss= 0.363909274 Accuracy= 0.94766665\n",
      "period(s) = 324.352168798\n"
     ]
    }
   ],
   "source": [
    "pr=0.6 ; i=6\n",
    "evaluate(4,pr)"
   ]
  },
  {
   "cell_type": "code",
   "execution_count": 11,
   "metadata": {},
   "outputs": [
    {
     "name": "stdout",
     "output_type": "stream",
     "text": [
      "INFO:tensorflow:Restoring parameters from /Volumes/Mac/GW/model/model-resnet6.ckpt\n",
      "Train Epoch: 01 Loss= 0.362600029 Accuracy= 0.9483333\n",
      "Train Epoch: 02 Loss= 0.364353478 Accuracy= 0.94766665\n",
      "Train Epoch: 03 Loss= 0.360737860 Accuracy= 0.95133334\n",
      "Train Epoch: 04 Loss= 0.360894948 Accuracy= 0.95133334\n",
      "period(s) = 434.718493938\n"
     ]
    }
   ],
   "source": [
    "evaluate(4,pr)"
   ]
  },
  {
   "cell_type": "code",
   "execution_count": 12,
   "metadata": {},
   "outputs": [
    {
     "name": "stdout",
     "output_type": "stream",
     "text": [
      "INFO:tensorflow:Restoring parameters from /Volumes/Mac/GW/model/model-resnet6.ckpt\n",
      "Train Epoch: 01 Loss= 0.361705393 Accuracy= 0.9496667\n",
      "Train Epoch: 02 Loss= 0.361591429 Accuracy= 0.9493333\n",
      "Train Epoch: 03 Loss= 0.361851394 Accuracy= 0.95\n",
      "Train Epoch: 04 Loss= 0.362183034 Accuracy= 0.9496667\n",
      "period(s) = 828.359956026\n"
     ]
    }
   ],
   "source": [
    "evaluate(4,pr)"
   ]
  },
  {
   "cell_type": "code",
   "execution_count": 13,
   "metadata": {},
   "outputs": [
    {
     "name": "stdout",
     "output_type": "stream",
     "text": [
      "INFO:tensorflow:Restoring parameters from /Volumes/Mac/GW/model/model-resnet6.ckpt\n",
      "acc : 0.95665634\n",
      "period of estimate = 46.0437259674 (s)\n",
      "INFO:tensorflow:Restoring parameters from /Volumes/Mac/GW/model/model-resnet6.ckpt\n",
      "period of prediction = 44.4354989529 (s)\n",
      "confusionmatrix =\n",
      "[[3554  128]\n",
      " [ 138 2317]]\n",
      "false alarm rate = 0.03476371537208039\n",
      "sensitivity = 0.9437881873727088\n",
      "[1.         1.         0.99983704 0.9990223  0.9944598  0.9770246\n",
      " 0.95665634 0.        ]\n",
      "[0.         0.         0.00027159 0.00054318 0.00543183 0.00244432\n",
      " 0.03476372 0.        ]\n",
      "[1.         1.         1.         0.99837065 0.9942973  0.9462322\n",
      " 0.9437882  0.        ]\n",
      "[2.  1.5 1.2 1.  0.8 0.7 0.6 0. ]\n"
     ]
    }
   ],
   "source": [
    "th = h5py.File('/Volumes/Mac/GW/traininghistory'+thn, 'a')\n",
    "a=estimate('/Volumes/Mac/GW/spec/withoutoverlap/5.5~74.5/testdatawo_spec16-8_freq512_pr'+str(pr)+'_mr<=10.h5')\n",
    "th['acc'][i]=a\n",
    "\n",
    "testd = h5py.File('/Volumes/Mac/GW/spec/withoutoverlap/5.5~74.5/testdatawo_spec16-8_freq512_pr'+str(pr)+'_mr<=10.h5', 'r')\n",
    "testd_lab = testd['label'][...]\n",
    "testd.close()\n",
    "cm = confusionmatrix(prediction_result('/Volumes/Mac/GW/spec/withoutoverlap/5.5~74.5/testdatawo_spec16-8_freq512_pr'+str(pr)+'_mr<=10.h5'),\n",
    "               testd_lab)\n",
    "\n",
    "far = false_alarm_rate(cm)\n",
    "th['far'][i]=far\n",
    "\n",
    "sen = sensitivity(cm)\n",
    "th['sen'][i]=sen\n",
    "\n",
    "th['pr'][i]=pr\n",
    "\n",
    "print th['acc'][...]\n",
    "print th['far'][...]\n",
    "print th['sen'][...]\n",
    "print th['pr'][...]\n",
    "th.close()"
   ]
  },
  {
   "cell_type": "code",
   "execution_count": 10,
   "metadata": {},
   "outputs": [
    {
     "name": "stdout",
     "output_type": "stream",
     "text": [
      "INFO:tensorflow:Restoring parameters from /Volumes/Mac/GW/model/model-resnet6.ckpt\n",
      "Train Epoch: 01 Loss= 0.417520106 Accuracy= 0.893\n",
      "Train Epoch: 02 Loss= 0.411527544 Accuracy= 0.899\n",
      "Train Epoch: 03 Loss= 0.411062747 Accuracy= 0.8983333\n",
      "Train Epoch: 04 Loss= 0.409013182 Accuracy= 0.89933336\n",
      "period(s) = 361.567562103\n"
     ]
    }
   ],
   "source": [
    "pr=0.5 ; i=7\n",
    "evaluate(4,pr)"
   ]
  },
  {
   "cell_type": "code",
   "execution_count": 11,
   "metadata": {},
   "outputs": [
    {
     "name": "stdout",
     "output_type": "stream",
     "text": [
      "INFO:tensorflow:Restoring parameters from /Volumes/Mac/GW/model/model-resnet6.ckpt\n",
      "Train Epoch: 01 Loss= 0.408165514 Accuracy= 0.90166664\n",
      "Train Epoch: 02 Loss= 0.408462673 Accuracy= 0.90166664\n",
      "Train Epoch: 03 Loss= 0.408573091 Accuracy= 0.90166664\n",
      "Train Epoch: 04 Loss= 0.409887165 Accuracy= 0.901\n",
      "period(s) = 497.879888058\n"
     ]
    }
   ],
   "source": [
    "evaluate(4,pr)"
   ]
  },
  {
   "cell_type": "code",
   "execution_count": 10,
   "metadata": {},
   "outputs": [
    {
     "name": "stdout",
     "output_type": "stream",
     "text": [
      "INFO:tensorflow:Restoring parameters from /Volumes/Mac/GW/model/model-resnet6.ckpt\n",
      "Train Epoch: 01 Loss= 0.410813689 Accuracy= 0.8986667\n",
      "Train Epoch: 02 Loss= 0.410595298 Accuracy= 0.901\n",
      "Train Epoch: 03 Loss= 0.411703616 Accuracy= 0.8973333\n",
      "Train Epoch: 04 Loss= 0.416012168 Accuracy= 0.89433336\n",
      "period(s) = 331.251412153\n"
     ]
    }
   ],
   "source": [
    "pr=0.5 ; i=7\n",
    "evaluate(4,pr)"
   ]
  },
  {
   "cell_type": "code",
   "execution_count": 11,
   "metadata": {},
   "outputs": [
    {
     "name": "stdout",
     "output_type": "stream",
     "text": [
      "INFO:tensorflow:Restoring parameters from /Volumes/Mac/GW/model/model-resnet6.ckpt\n",
      "Train Epoch: 01 Loss= 0.414792389 Accuracy= 0.896\n",
      "Train Epoch: 02 Loss= 0.413988531 Accuracy= 0.89533335\n",
      "Train Epoch: 03 Loss= 0.413285524 Accuracy= 0.89633334\n",
      "Train Epoch: 04 Loss= 0.411606848 Accuracy= 0.90033334\n",
      "period(s) = 480.235358\n"
     ]
    }
   ],
   "source": [
    "evaluate(4,pr)"
   ]
  },
  {
   "cell_type": "code",
   "execution_count": 12,
   "metadata": {},
   "outputs": [
    {
     "name": "stdout",
     "output_type": "stream",
     "text": [
      "INFO:tensorflow:Restoring parameters from /Volumes/Mac/GW/model/model-resnet6.ckpt\n",
      "acc : 0.89261854\n",
      "period of estimate = 40.5154869556 (s)\n",
      "INFO:tensorflow:Restoring parameters from /Volumes/Mac/GW/model/model-resnet6.ckpt\n",
      "period of prediction = 36.1260659695 (s)\n",
      "confusionmatrix =\n",
      "[[3408  274]\n",
      " [ 385 2070]]\n",
      "false alarm rate = 0.07441607821835959\n",
      "sensitivity = 0.8431771894093686\n",
      "[1.         1.         0.99983704 0.9990223  0.9944598  0.9770246\n",
      " 0.95665634 0.89261854]\n",
      "[0.         0.         0.00027159 0.00054318 0.00543183 0.00244432\n",
      " 0.03476372 0.07441608]\n",
      "[1.         1.         1.         0.99837065 0.9942973  0.9462322\n",
      " 0.9437882  0.8431772 ]\n",
      "[2.  1.5 1.2 1.  0.8 0.7 0.6 0.5]\n"
     ]
    }
   ],
   "source": [
    "th = h5py.File('/Volumes/Mac/GW/traininghistory'+thn, 'a')\n",
    "a=estimate('/Volumes/Mac/GW/spec/withoutoverlap/5.5~74.5/testdatawo_spec16-8_freq512_pr'+str(pr)+'_mr<=10.h5')\n",
    "th['acc'][i]=a\n",
    "\n",
    "testd = h5py.File('/Volumes/Mac/GW/spec/withoutoverlap/5.5~74.5/testdatawo_spec16-8_freq512_pr'+str(pr)+'_mr<=10.h5', 'r')\n",
    "testd_lab = testd['label'][...]\n",
    "testd.close()\n",
    "cm = confusionmatrix(prediction_result('/Volumes/Mac/GW/spec/withoutoverlap/5.5~74.5/testdatawo_spec16-8_freq512_pr'+str(pr)+'_mr<=10.h5'),\n",
    "               testd_lab)\n",
    "\n",
    "far = false_alarm_rate(cm)\n",
    "th['far'][i]=far\n",
    "\n",
    "sen = sensitivity(cm)\n",
    "th['sen'][i]=sen\n",
    "\n",
    "th['pr'][i]=pr\n",
    "\n",
    "print th['acc'][...]\n",
    "print th['far'][...]\n",
    "print th['sen'][...]\n",
    "print th['pr'][...]\n",
    "th.close()"
   ]
  },
  {
   "cell_type": "code",
   "execution_count": 12,
   "metadata": {
    "scrolled": false
   },
   "outputs": [
    {
     "name": "stdout",
     "output_type": "stream",
     "text": [
      "INFO:tensorflow:Restoring parameters from /Volumes/Mac/GW/model/model-resnet6.ckpt\n",
      "period of prediction = 31.645966053 (s)\n",
      "confusionmatrix =\n",
      "[[ 502   43]\n",
      " [ 769 4141]]\n",
      "INFO:tensorflow:Restoring parameters from /Volumes/Mac/GW/model/model-resnet6.ckpt\n",
      "period of prediction = 30.4211230278 (s)\n",
      "confusionmatrix =\n",
      "[[ 507   38]\n",
      " [ 780 4130]]\n",
      "INFO:tensorflow:Restoring parameters from /Volumes/Mac/GW/model/model-resnet6.ckpt\n",
      "period of prediction = 28.5422689915 (s)\n",
      "confusionmatrix =\n",
      "[[ 516   29]\n",
      " [ 785 4125]]\n",
      "INFO:tensorflow:Restoring parameters from /Volumes/Mac/GW/model/model-resnet6.ckpt\n",
      "period of prediction = 28.3029119968 (s)\n",
      "confusionmatrix =\n",
      "[[ 503   42]\n",
      " [ 741 4169]]\n",
      "INFO:tensorflow:Restoring parameters from /Volumes/Mac/GW/model/model-resnet6.ckpt\n",
      "period of prediction = 29.342854023 (s)\n",
      "confusionmatrix =\n",
      "[[ 508   37]\n",
      " [ 771 4139]]\n",
      "INFO:tensorflow:Restoring parameters from /Volumes/Mac/GW/model/model-resnet6.ckpt\n",
      "period of prediction = 30.9592158794 (s)\n",
      "confusionmatrix =\n",
      "[[ 508   37]\n",
      " [ 777 4133]]\n",
      "INFO:tensorflow:Restoring parameters from /Volumes/Mac/GW/model/model-resnet6.ckpt\n",
      "period of prediction = 34.5897209644 (s)\n",
      "confusionmatrix =\n",
      "[[ 515   30]\n",
      " [ 785 4125]]\n",
      "INFO:tensorflow:Restoring parameters from /Volumes/Mac/GW/model/model-resnet6.ckpt\n",
      "period of prediction = 31.1768040657 (s)\n",
      "confusionmatrix =\n",
      "[[ 509   36]\n",
      " [ 758 4152]]\n",
      "INFO:tensorflow:Restoring parameters from /Volumes/Mac/GW/model/model-resnet6.ckpt\n",
      "period of prediction = 29.8781628609 (s)\n",
      "confusionmatrix =\n",
      "[[ 504   41]\n",
      " [ 789 4121]]\n",
      "INFO:tensorflow:Restoring parameters from /Volumes/Mac/GW/model/model-resnet6.ckpt\n",
      "period of prediction = 30.4616830349 (s)\n",
      "confusionmatrix =\n",
      "[[ 503   42]\n",
      " [ 766 4144]]\n",
      "INFO:tensorflow:Restoring parameters from /Volumes/Mac/GW/model/model-resnet6.ckpt\n",
      "period of prediction = 31.6805369854 (s)\n",
      "confusionmatrix =\n",
      "[[ 499   46]\n",
      " [ 737 4173]]\n",
      "INFO:tensorflow:Restoring parameters from /Volumes/Mac/GW/model/model-resnet6.ckpt\n",
      "period of prediction = 33.7279310226 (s)\n",
      "confusionmatrix =\n",
      "[[ 514   31]\n",
      " [ 789 4121]]\n",
      "INFO:tensorflow:Restoring parameters from /Volumes/Mac/GW/model/model-resnet6.ckpt\n",
      "period of prediction = 35.3681600094 (s)\n",
      "confusionmatrix =\n",
      "[[ 510   35]\n",
      " [ 761 4149]]\n",
      "INFO:tensorflow:Restoring parameters from /Volumes/Mac/GW/model/model-resnet6.ckpt\n",
      "period of prediction = 29.2411148548 (s)\n",
      "confusionmatrix =\n",
      "[[ 506   39]\n",
      " [ 757 4153]]\n",
      "INFO:tensorflow:Restoring parameters from /Volumes/Mac/GW/model/model-resnet6.ckpt\n",
      "period of prediction = 28.8717691898 (s)\n",
      "confusionmatrix =\n",
      "[[ 512   33]\n",
      " [ 739 4171]]\n",
      "INFO:tensorflow:Restoring parameters from /Volumes/Mac/GW/model/model-resnet6.ckpt\n",
      "period of prediction = 31.7853829861 (s)\n",
      "confusionmatrix =\n",
      "[[ 510   35]\n",
      " [ 772 4138]]\n",
      "INFO:tensorflow:Restoring parameters from /Volumes/Mac/GW/model/model-resnet6.ckpt\n",
      "period of prediction = 29.4672019482 (s)\n",
      "confusionmatrix =\n",
      "[[ 517   28]\n",
      " [ 746 4164]]\n",
      "INFO:tensorflow:Restoring parameters from /Volumes/Mac/GW/model/model-resnet6.ckpt\n",
      "period of prediction = 28.462020874 (s)\n",
      "confusionmatrix =\n",
      "[[ 505   40]\n",
      " [ 741 4169]]\n",
      "INFO:tensorflow:Restoring parameters from /Volumes/Mac/GW/model/model-resnet6.ckpt\n",
      "period of prediction = 29.0025849342 (s)\n",
      "confusionmatrix =\n",
      "[[ 507   38]\n",
      " [ 804 4106]]\n",
      "INFO:tensorflow:Restoring parameters from /Volumes/Mac/GW/model/model-resnet6.ckpt\n",
      "period of prediction = 30.2771158218 (s)\n",
      "confusionmatrix =\n",
      "[[ 505   40]\n",
      " [ 739 4171]]\n",
      "INFO:tensorflow:Restoring parameters from /Volumes/Mac/GW/model/model-resnet6.ckpt\n",
      "period of prediction = 38.2044019699 (s)\n",
      "confusionmatrix =\n",
      "[[ 521   24]\n",
      " [ 765 4145]]\n",
      "INFO:tensorflow:Restoring parameters from /Volumes/Mac/GW/model/model-resnet6.ckpt\n",
      "period of prediction = 31.559278965 (s)\n",
      "confusionmatrix =\n",
      "[[ 510   35]\n",
      " [ 729 4181]]\n",
      "INFO:tensorflow:Restoring parameters from /Volumes/Mac/GW/model/model-resnet6.ckpt\n",
      "period of prediction = 30.0022110939 (s)\n",
      "confusionmatrix =\n",
      "[[ 505   40]\n",
      " [ 741 4169]]\n",
      "INFO:tensorflow:Restoring parameters from /Volumes/Mac/GW/model/model-resnet6.ckpt\n",
      "period of prediction = 30.8639509678 (s)\n",
      "confusionmatrix =\n",
      "[[ 501   44]\n",
      " [ 751 4159]]\n",
      "INFO:tensorflow:Restoring parameters from /Volumes/Mac/GW/model/model-resnet6.ckpt\n",
      "period of prediction = 27.4257040024 (s)\n",
      "confusionmatrix =\n",
      "[[ 503   42]\n",
      " [ 785 4125]]\n",
      "INFO:tensorflow:Restoring parameters from /Volumes/Mac/GW/model/model-resnet6.ckpt\n",
      "period of prediction = 33.7762110233 (s)\n",
      "confusionmatrix =\n",
      "[[ 507   38]\n",
      " [ 769 4141]]\n",
      "INFO:tensorflow:Restoring parameters from /Volumes/Mac/GW/model/model-resnet6.ckpt\n",
      "period of prediction = 29.9842071533 (s)\n",
      "confusionmatrix =\n",
      "[[ 509   36]\n",
      " [ 767 4143]]\n",
      "INFO:tensorflow:Restoring parameters from /Volumes/Mac/GW/model/model-resnet6.ckpt\n",
      "period of prediction = 31.397518158 (s)\n",
      "confusionmatrix =\n",
      "[[ 504   41]\n",
      " [ 723 4187]]\n",
      "INFO:tensorflow:Restoring parameters from /Volumes/Mac/GW/model/model-resnet6.ckpt\n",
      "period of prediction = 31.6286330223 (s)\n",
      "confusionmatrix =\n",
      "[[ 517   28]\n",
      " [ 784 4126]]\n",
      "INFO:tensorflow:Restoring parameters from /Volumes/Mac/GW/model/model-resnet6.ckpt\n",
      "period of prediction = 34.6021370888 (s)\n",
      "confusionmatrix =\n",
      "[[ 513   32]\n",
      " [ 796 4114]]\n",
      "INFO:tensorflow:Restoring parameters from /Volumes/Mac/GW/model/model-resnet6.ckpt\n",
      "period of prediction = 34.7534492016 (s)\n",
      "confusionmatrix =\n",
      "[[ 507   38]\n",
      " [ 787 4123]]\n",
      "INFO:tensorflow:Restoring parameters from /Volumes/Mac/GW/model/model-resnet6.ckpt\n",
      "period of prediction = 32.199942112 (s)\n",
      "confusionmatrix =\n",
      "[[ 504   41]\n",
      " [ 749 4161]]\n",
      "INFO:tensorflow:Restoring parameters from /Volumes/Mac/GW/model/model-resnet6.ckpt\n",
      "period of prediction = 28.474864006 (s)\n",
      "confusionmatrix =\n",
      "[[ 504   41]\n",
      " [ 724 4186]]\n",
      "INFO:tensorflow:Restoring parameters from /Volumes/Mac/GW/model/model-resnet6.ckpt\n",
      "period of prediction = 27.9842891693 (s)\n",
      "confusionmatrix =\n",
      "[[ 505   40]\n",
      " [ 795 4115]]\n",
      "INFO:tensorflow:Restoring parameters from /Volumes/Mac/GW/model/model-resnet6.ckpt\n",
      "period of prediction = 31.3016960621 (s)\n",
      "confusionmatrix =\n",
      "[[ 518   27]\n",
      " [ 735 4175]]\n",
      "INFO:tensorflow:Restoring parameters from /Volumes/Mac/GW/model/model-resnet6.ckpt\n",
      "period of prediction = 27.6736021042 (s)\n",
      "confusionmatrix =\n",
      "[[ 512   33]\n",
      " [ 766 4144]]\n",
      "INFO:tensorflow:Restoring parameters from /Volumes/Mac/GW/model/model-resnet6.ckpt\n",
      "period of prediction = 27.5791578293 (s)\n",
      "confusionmatrix =\n",
      "[[ 501   44]\n",
      " [ 745 4165]]\n",
      "INFO:tensorflow:Restoring parameters from /Volumes/Mac/GW/model/model-resnet6.ckpt\n",
      "period of prediction = 27.1112420559 (s)\n",
      "confusionmatrix =\n",
      "[[ 497   48]\n",
      " [ 782 4128]]\n",
      "INFO:tensorflow:Restoring parameters from /Volumes/Mac/GW/model/model-resnet6.ckpt\n",
      "period of prediction = 27.7389919758 (s)\n",
      "confusionmatrix =\n",
      "[[ 503   42]\n",
      " [ 788 4122]]\n",
      "INFO:tensorflow:Restoring parameters from /Volumes/Mac/GW/model/model-resnet6.ckpt\n",
      "period of prediction = 26.1900618076 (s)\n",
      "confusionmatrix =\n",
      "[[ 501   44]\n",
      " [ 740 4170]]\n",
      "INFO:tensorflow:Restoring parameters from /Volumes/Mac/GW/model/model-resnet6.ckpt\n",
      "period of prediction = 26.3861680031 (s)\n",
      "confusionmatrix =\n",
      "[[ 504   41]\n",
      " [ 746 4164]]\n",
      "INFO:tensorflow:Restoring parameters from /Volumes/Mac/GW/model/model-resnet6.ckpt\n",
      "period of prediction = 25.9139521122 (s)\n",
      "confusionmatrix =\n",
      "[[ 506   39]\n",
      " [ 725 4185]]\n",
      "INFO:tensorflow:Restoring parameters from /Volumes/Mac/GW/model/model-resnet6.ckpt\n",
      "period of prediction = 29.1548011303 (s)\n",
      "confusionmatrix =\n",
      "[[ 520   25]\n",
      " [ 781 4129]]\n",
      "INFO:tensorflow:Restoring parameters from /Volumes/Mac/GW/model/model-resnet6.ckpt\n",
      "period of prediction = 26.7514381409 (s)\n",
      "confusionmatrix =\n",
      "[[ 510   35]\n",
      " [ 747 4163]]\n",
      "INFO:tensorflow:Restoring parameters from /Volumes/Mac/GW/model/model-resnet6.ckpt\n",
      "period of prediction = 26.4035840034 (s)\n",
      "confusionmatrix =\n",
      "[[ 509   36]\n",
      " [ 752 4158]]\n",
      "INFO:tensorflow:Restoring parameters from /Volumes/Mac/GW/model/model-resnet6.ckpt\n",
      "period of prediction = 27.3765518665 (s)\n",
      "confusionmatrix =\n",
      "[[ 508   37]\n",
      " [ 765 4145]]\n",
      "INFO:tensorflow:Restoring parameters from /Volumes/Mac/GW/model/model-resnet6.ckpt\n",
      "period of prediction = 26.6060180664 (s)\n",
      "confusionmatrix =\n",
      "[[ 517   28]\n",
      " [ 780 4130]]\n",
      "INFO:tensorflow:Restoring parameters from /Volumes/Mac/GW/model/model-resnet6.ckpt\n",
      "period of prediction = 26.3869059086 (s)\n",
      "confusionmatrix =\n",
      "[[ 496   49]\n",
      " [ 766 4144]]\n",
      "INFO:tensorflow:Restoring parameters from /Volumes/Mac/GW/model/model-resnet6.ckpt\n",
      "period of prediction = 26.1268970966 (s)\n"
     ]
    },
    {
     "name": "stdout",
     "output_type": "stream",
     "text": [
      "confusionmatrix =\n",
      "[[ 502   43]\n",
      " [ 780 4130]]\n",
      "INFO:tensorflow:Restoring parameters from /Volumes/Mac/GW/model/model-resnet6.ckpt\n",
      "period of prediction = 26.7956318855 (s)\n",
      "confusionmatrix =\n",
      "[[ 520   25]\n",
      " [ 691 4219]]\n",
      "acc = 0.8536535288725939\n",
      "sensitivity = 0.844969450101833\n",
      "false alarm rate = 0.06811009174311927\n"
     ]
    },
    {
     "data": {
      "image/png": "[encoded data removed]",
      "text/plain": [
       "<Figure size 432x288 with 1 Axes>"
      ]
     },
     "metadata": {},
     "output_type": "display_data"
    }
   ],
   "source": [
    "relation(50)"
   ]
  },
  {
   "cell_type": "code",
   "execution_count": 19,
   "metadata": {},
   "outputs": [
    {
     "data": {
      "image/png": "[encoded data removed]",
      "text/plain": [
       "<Figure size 720x1080 with 3 Axes>"
      ]
     },
     "metadata": {},
     "output_type": "display_data"
    }
   ],
   "source": [
    "th = h5py.File('/Volumes/Mac/GW/traininghistory'+thn, 'a')\n",
    "plt.figure(figsize=(10,15))\n",
    "plt.subplot(311)\n",
    "plt.plot(th['pr'][...],th['acc'][...])\n",
    "plt.xlabel('peak ratio')\n",
    "plt.ylabel('accuracy')\n",
    "plt.xlim(0.4,2)\n",
    "plt.subplot(312)\n",
    "plt.plot(th['pr'][...],th['sen'][...])\n",
    "plt.xlabel('peak ratio')\n",
    "plt.ylabel('sensitivity')\n",
    "plt.xlim(0.4,2)\n",
    "plt.subplot(313)\n",
    "plt.plot(th['pr'][...],th['far'][...])\n",
    "plt.xlabel('peak ratio')\n",
    "plt.ylabel('false alarm rate')\n",
    "plt.xlim(0.4,2)\n",
    "th.close() "
   ]
  },
  {
   "cell_type": "code",
   "execution_count": null,
   "metadata": {},
   "outputs": [],
   "source": [
    "def mass_relative_error_PE(multi, mass_relate_error_data):\n",
    "    rm = np.zeros([70,70])\n",
    "    rmf = h5py.File('/Volumes/Mac/GW/mass_relative_error/{0}.h5'.format(modelname), 'a')\n",
    "    rmf.create_dataset('rm', (70,70))\n",
    "    sess = tf.Session()\n",
    "    saver = tf.train.Saver()\n",
    "    saver.restore(sess, modelstore)\n",
    "    \n",
    "    test = h5py.File(mass_relate_error_data, 'r')\n",
    "    test_par = test['parameter'][...][:1000]\n",
    "    test_data = test['data'][...][:1000]\n",
    "    test.close()\n",
    "    \n",
    "    error = sess.run(tf.abs(tf.divide(tf.subtract(y_label,y_predict),y_label)) , feed_dict={x : test_data, y_label : test_par})\n",
    "    print error.shape\n",
    "    print error[:4]\n",
    "    for i in range(len(test_par)):\n",
    "        row = int(test_par[i,0]-5.5)\n",
    "        col =  int(test_par[i,1]-5.5)\n",
    "        rm[row,col] += (error[i,0]+error[i,1])/2\n",
    "        \n",
    "    scale = preprocessing.MinMaxScaler(feature_range=(0,1))\n",
    "    rmr = rm.reshape(70*70,1)\n",
    "    rmrn = scale.fit_transform(rmr)\n",
    "    rm = rmrn.reshape(70, 70)\n",
    "    \n",
    "    rmf['rm'][...] = rm/multi\n",
    "    rmf.close()\n",
    "    print rm"
   ]
  },
  {
   "cell_type": "code",
   "execution_count": 23,
   "metadata": {},
   "outputs": [],
   "source": [
    "def mass_relative_error_PE(multi, mass_relate_error_data):\n",
    "    rm = np.zeros([70,70])\n",
    "    rmf = h5py.File('/Volumes/Mac/GW/mass_relative_error/{0}.h5'.format(modelname), 'a')\n",
    "    rmf.create_dataset('rm', (70,70))\n",
    "    sess = tf.Session()\n",
    "    saver = tf.train.Saver()\n",
    "    saver.restore(sess, modelstore)\n",
    "    \n",
    "    bg = batch_generator(mass_relate_error_data, 12275)\n",
    "    \n",
    "    for j in range(1):\n",
    "        test_data,test_par = next(bg)\n",
    "        error = sess.run(tf.abs(tf.divide(tf.subtract(y_label,y_predict),y_label)) , feed_dict={x : test_data, y_label : test_par})\n",
    "        for i in range(12275):\n",
    "            row = int(test_par[i,0]-5.5)\n",
    "            col =  int(test_par[i,1]-5.5)\n",
    "            rm[row,col] += (error[i,0]+error[i,1])/2/multi\n",
    "    \n",
    "    rmf['rm'][...] = rm\n",
    "    rmf.close()\n",
    "    print rm"
   ]
  },
  {
   "cell_type": "code",
   "execution_count": 25,
   "metadata": {},
   "outputs": [
    {
     "name": "stdout",
     "output_type": "stream",
     "text": [
      "INFO:tensorflow:Restoring parameters from /Volumes/Mac/GW/model/model-plain4_PE.ckpt\n",
      "[[0.10589808 0.09496472 0.04803392 ... 0.         0.         0.        ]\n",
      " [0.         0.07361915 0.09670503 ... 0.         0.         0.        ]\n",
      " [0.         0.         0.08513302 ... 0.07947574 0.11310815 0.05413058]\n",
      " ...\n",
      " [0.         0.         0.         ... 0.13588751 0.1945294  0.05914084]\n",
      " [0.         0.         0.         ... 0.         0.13351012 0.07752259]\n",
      " [0.         0.         0.         ... 0.         0.         0.03914264]]\n"
     ]
    }
   ],
   "source": [
    "modelname='resnet4_PE'\n",
    "mass_relative_error_PE(50., '/Volumes/Mac/GW/spec/withoutoverlap/5.5~74.5/testdata_spec_error_relate_mass.h5')"
   ]
  },
  {
   "cell_type": "code",
   "execution_count": 26,
   "metadata": {},
   "outputs": [
    {
     "data": {
      "text/plain": [
       "Text(0,0.5,'m1')"
      ]
     },
     "execution_count": 26,
     "metadata": {},
     "output_type": "execute_result"
    },
    {
     "data": {
      "image/png": "[encoded data removed]",
      "text/plain": [
       "<Figure size 432x288 with 1 Axes>"
      ]
     },
     "metadata": {},
     "output_type": "display_data"
    }
   ],
   "source": [
    "rmf=h5py.File('/Volumes/Mac/GW/mass_relative_error/{0}.h5'.format(modelname), 'r')\n",
    "rm=rmf['rm'][...]\n",
    "plt.imshow(rm, cmap='binary')\n",
    "tick_idx = [0,10,20,30,40,50,60]\n",
    "tick_mass = [5.5,15.5,25.5,35.5,45.5,55.5,65.5]\n",
    "plt.yticks(tick_idx , tick_mass)\n",
    "plt.xticks(tick_idx , tick_mass)\n",
    "plt.xlabel('m2')\n",
    "plt.ylabel('m1')"
   ]
  },
  {
   "cell_type": "code",
   "execution_count": 20,
   "metadata": {},
   "outputs": [
    {
     "data": {
      "text/plain": [
       "(122750,)"
      ]
     },
     "execution_count": 20,
     "metadata": {},
     "output_type": "execute_result"
    }
   ],
   "source": [
    "ff=h5py.File('/Volumes/Mac/GW/spec/withoutoverlap/5.5~74.5/testdata_spec_error_relate_mass.h5', 'r')\n",
    "ff['label'].shape"
   ]
  },
  {
   "cell_type": "code",
   "execution_count": null,
   "metadata": {},
   "outputs": [],
   "source": []
  }
 ],
 "metadata": {
  "kernelspec": {
   "display_name": "Python 2",
   "language": "python",
   "name": "python2"
  },
  "language_info": {
   "codemirror_mode": {
    "name": "ipython",
    "version": 2
   },
   "file_extension": ".py",
   "mimetype": "text/x-python",
   "name": "python",
   "nbconvert_exporter": "python",
   "pygments_lexer": "ipython2",
   "version": "2.7.15"
  }
 },
 "nbformat": 4,
 "nbformat_minor": 2
}
