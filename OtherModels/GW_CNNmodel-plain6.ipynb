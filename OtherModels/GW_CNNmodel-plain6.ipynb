{
 "cells": [
  {
   "cell_type": "code",
   "execution_count": 1,
   "metadata": {},
   "outputs": [
    {
     "name": "stderr",
     "output_type": "stream",
     "text": [
      "/anaconda3/envs/anacondapy2/lib/python2.7/site-packages/h5py/__init__.py:36: FutureWarning: Conversion of the second argument of issubdtype from `float` to `np.floating` is deprecated. In future, it will be treated as `np.float64 == np.dtype(float).type`.\n",
      "  from ._conv import register_converters as _register_converters\n"
     ]
    }
   ],
   "source": [
    "import tensorflow as tf\n",
    "import h5py \n",
    "import matplotlib.pyplot as plt\n",
    "import numpy as np\n",
    "import timeit\n",
    "from sklearn import preprocessing"
   ]
  },
  {
   "cell_type": "markdown",
   "metadata": {},
   "source": [
    "# batched data generating function"
   ]
  },
  {
   "cell_type": "code",
   "execution_count": 2,
   "metadata": {},
   "outputs": [],
   "source": [
    "def batch_generator(filename, batch_size):\n",
    "    f = h5py.File(filename, 'r')\n",
    "    batch_count = 0\n",
    "    while True:\n",
    "        if batch_count * batch_size + batch_size > f['label'].shape[0]: #若batchsize不能整除的話，最後餘下的資料永遠不會讀出\n",
    "            batch_count = 0\n",
    "        start_idx = batch_count * batch_size\n",
    "        end_idx = start_idx + batch_size\n",
    "        batch_count += 1\n",
    "        yield f['data'][start_idx : end_idx] , f['label'][start_idx : end_idx]\n",
    "    f.close()"
   ]
  },
  {
   "cell_type": "markdown",
   "metadata": {},
   "source": [
    "# weight function"
   ]
  },
  {
   "cell_type": "code",
   "execution_count": 3,
   "metadata": {},
   "outputs": [],
   "source": [
    "def w(shape): #weight\n",
    "    return tf.Variable(tf.truncated_normal(shape, stddev=0.1), name='w')\n",
    "\n",
    "def b(shape): #bias\n",
    "    return tf.Variable(tf.constant(0.1,shape=shape), name='b')\n",
    "\n",
    "def conv2d(x,w): #x:輸入影像，須為4維張量。 w:filter權重\n",
    "    return tf.nn.conv2d(x, w, strides=[1,1,1,1], padding='SAME')\n",
    "\n",
    "def maxpool2x2(x):\n",
    "    return tf.nn.max_pool(x, ksize=[1,2,2,1], strides=[1,2,2,1], padding='SAME')\n"
   ]
  },
  {
   "cell_type": "markdown",
   "metadata": {},
   "source": [
    "# model"
   ]
  },
  {
   "cell_type": "code",
   "execution_count": 4,
   "metadata": {},
   "outputs": [],
   "source": [
    "pr = 2\n",
    "traindatafile_ =  '/Volumes/Mac/GW/spec/withoutoverlap/5~75/trainingdatawo_spec16-8_freq512_pr'+str(pr)+'_mr<=10.h5'\n",
    "modelstore = '/Volumes/Mac/GW/model/model-plain6.ckpt'"
   ]
  },
  {
   "cell_type": "code",
   "execution_count": 5,
   "metadata": {},
   "outputs": [
    {
     "name": "stdout",
     "output_type": "stream",
     "text": [
      "6312\n"
     ]
    }
   ],
   "source": [
    "f = h5py.File(traindatafile_, 'r')\n",
    "ll = len(f['data'])\n",
    "print ll"
   ]
  },
  {
   "cell_type": "code",
   "execution_count": 6,
   "metadata": {},
   "outputs": [
    {
     "name": "stdout",
     "output_type": "stream",
     "text": [
      "lenth f = 257\n",
      "lenth t = 121\n",
      "idx1024= 32\n",
      "batch size = 24\n"
     ]
    }
   ],
   "source": [
    "sample_rate = 8192\n",
    "data_length = 8192 \n",
    "T = data_length / sample_rate\n",
    "\n",
    "nitv = 16.0\n",
    "novl = 8.0\n",
    "#f\n",
    "lenf = int(sample_rate/nitv/2+1)\n",
    "print 'lenth f =',lenf\n",
    "#t\n",
    "lent = int((nitv*T-1)*novl+1)\n",
    "print 'lenth t =',lent\n",
    "\n",
    "#idx of f=512\n",
    "idx512 = (lenf-1)/8\n",
    "print 'idx1024=',idx512\n",
    "\n",
    "\n",
    "batchSize = 24\n",
    "print 'batch size =' ,batchSize\n",
    "datasize = ll\n",
    "totalBatchs = datasize/batchSize\n",
    "\n",
    "\n",
    "c1fs = 11 #conv1 filter size\n",
    "c1fn = 4 #conv1 output channel number\n",
    "c2fs = 11 #conv2 filter size\n",
    "c2fn = 4 #conv2 output channel number\n",
    "c3fs = 8 #conv3 filter size\n",
    "c3fn = 5 #conv3 output channel number\n",
    "c4fs = 8 #conv4 filter size\n",
    "c4fn = 5 #conv4 output channel number\n",
    "c5fs = 5 #conv5 filter size\n",
    "c5fn = 6 #conv5 output channel number\n",
    "c6fs = 5 #conv6 filter size\n",
    "c6fn = 6 #conv6 output channel number\n",
    "dos1 = idx512+1 #1st dim of spectrogram\n",
    "dos2 = lent #2nd din of spectrogram\n",
    "lnn1 = 128 #layer1 neuron number\n",
    "lnn2 =32 #layer1 neuron number"
   ]
  },
  {
   "cell_type": "code",
   "execution_count": 7,
   "metadata": {},
   "outputs": [
    {
     "name": "stdout",
     "output_type": "stream",
     "text": [
      "WARNING:tensorflow:From <ipython-input-7-44bcccdf3745>:77: softmax_cross_entropy_with_logits (from tensorflow.python.ops.nn_ops) is deprecated and will be removed in a future version.\n",
      "Instructions for updating:\n",
      "\n",
      "Future major versions of TensorFlow will allow gradients to flow\n",
      "into the labels input on backprop by default.\n",
      "\n",
      "See @{tf.nn.softmax_cross_entropy_with_logits_v2}.\n",
      "\n"
     ]
    }
   ],
   "source": [
    "with tf.name_scope('input_layer'):\n",
    "    x = tf.placeholder('float', shape=[None, dos1, dos2], name='x')\n",
    "    x_image = tf.reshape(x, [-1, dos1, dos2, 1]) #(筆數,頻率維度,時間維度,顏色維度)\n",
    "    \n",
    "with tf.name_scope('pool1'):\n",
    "    pool1 = maxpool2x2(x_image)    \n",
    "\n",
    "with tf.name_scope('c1_conv'):\n",
    "    w1 = w([c1fs ,c1fs ,1, c1fn])\n",
    "    b1 = b([c1fn])\n",
    "    conv1 = conv2d(pool1, w1) + b1\n",
    "    c1_conv = tf.nn.relu(conv1)\n",
    "    \n",
    "with tf.name_scope('c2_conv'):\n",
    "    w2 = w([c2fs ,c2fs , c1fn, c2fn])\n",
    "    b2 = b([c2fn])\n",
    "    conv2 = conv2d(c1_conv,w2) +b2\n",
    "    c2_conv = tf.nn.relu(conv2)\n",
    "    \n",
    "with tf.name_scope('pool2'):\n",
    "    pool2 = maxpool2x2(c2_conv)\n",
    "    \n",
    "with tf.name_scope('c3_conv'):\n",
    "    w3 = w([c3fs ,c3fs ,c2fn, c3fn])\n",
    "    b3 = b([c3fn])\n",
    "    conv3 = conv2d(pool2, w3) + b3\n",
    "    c3_conv = tf.nn.relu(conv3)\n",
    "    \n",
    "    \n",
    "with tf.name_scope('c4_conv'):\n",
    "    w4 = w([c4fs ,c4fs ,c3fn, c4fn])\n",
    "    b4 = b([c4fn])\n",
    "    conv4 = conv2d(c3_conv, w4) + b4\n",
    "    c4_conv = tf.nn.relu(conv4)\n",
    "    \n",
    "with tf.name_scope('pool3'):\n",
    "    pool3 = maxpool2x2(c4_conv)\n",
    "    \n",
    "with tf.name_scope('c5_conv'):\n",
    "    w5 = w([c5fs ,c5fs ,c4fn, c5fn])\n",
    "    b5 = b([c5fn])\n",
    "    conv5 = conv2d(pool3, w5) + b5\n",
    "    c5_conv = tf.nn.relu(conv5)\n",
    "    \n",
    "    \n",
    "with tf.name_scope('c6_conv'):\n",
    "    w6 = w([c6fs ,c6fs ,c5fn, c6fn])\n",
    "    b6 = b([c6fn])\n",
    "    conv6 = conv2d(c5_conv, w6) + b6\n",
    "    c6_conv = tf.nn.relu(conv6)\n",
    "\n",
    "\n",
    "#neurons = dos1/8*dos2/8*c3fn\n",
    "with tf.name_scope('D_flat'):\n",
    "    D_Flat = tf.layers.Flatten()(c6_conv)\n",
    "\n",
    "with tf.name_scope('D_hidden_layer1'):\n",
    "    inputdim = D_Flat.shape.as_list()[1]\n",
    "    wl1 = w([inputdim, lnn1])\n",
    "    bl1 = b([lnn1])\n",
    "    D_hidden1 = tf.nn.relu(tf.matmul(D_Flat, wl1)+bl1)\n",
    "    \n",
    "with tf.name_scope('D_hidden_layer2'):\n",
    "    wl2 = w([lnn1, lnn2])\n",
    "    bl2 = b([lnn2])\n",
    "    D_hidden2 = tf.nn.relu(tf.matmul(D_hidden1, wl2)+bl2)\n",
    "    \n",
    "with tf.name_scope('output_layer'):\n",
    "    wo = w([lnn2,2])\n",
    "    bo = b([2])\n",
    "    #y_predict = tf.sigmoid(tf.matmul(D_hidden2,wo)+bo)\n",
    "    y_predict = tf.nn.softmax(tf.matmul(D_hidden2,wo)+bo)\n",
    "    \n",
    "with tf.name_scope('optimizer'):\n",
    "    y_label = tf.placeholder('float', shape=[None,2], name='y_label')\n",
    "    #lossfunction = tf.reduce_mean(tf.nn.sigmoid_cross_entropy_with_logits(logits=y_predict, labels=y_label))\n",
    "    lossfunction = tf.reduce_mean(tf.nn.softmax_cross_entropy_with_logits(logits=y_predict, labels=y_label))\n",
    "    optimizer = tf.train.AdamOptimizer(learning_rate=0.0001).minimize(lossfunction)\n",
    "    \n",
    "with tf.name_scope('evaluate_model'):\n",
    "    correct_prediction = tf.equal(tf.argmax(y_predict,1), tf.argmax(y_label,1))\n",
    "    accuracy = tf.reduce_mean(tf.cast(correct_prediction,'float'))"
   ]
  },
  {
   "cell_type": "markdown",
   "metadata": {},
   "source": [
    "# evaluate"
   ]
  },
  {
   "cell_type": "code",
   "execution_count": 8,
   "metadata": {},
   "outputs": [],
   "source": [
    "def evaluate(trainEpochs,peakratio):\n",
    "\n",
    "    start_time = timeit.default_timer()\n",
    "    sess = tf.Session()\n",
    "\n",
    "    saver = tf.train.Saver()\n",
    "\n",
    "    try: #第一次之後執行\n",
    "        saver.restore(sess, modelstore)\n",
    "    except: #第一次跑時執行\n",
    "        sess.run(tf.global_variables_initializer())\n",
    "\n",
    "    traindatafile =  '/Volumes/Mac/GW/spec/withoutoverlap/5~75/trainingdatawo_spec16-8_freq512_pr'+str(peakratio)+'_mr<=10.h5'\n",
    "    valdatafile = '/Volumes/Mac/GW/spec/overlap/5~75/validationdata_spec16-8_freq512_pr'+str(peakratio)+'_mr<=10.h5'\n",
    "    \n",
    "    \n",
    "    bg = batch_generator(traindatafile, batchSize)\n",
    "    fval = h5py.File(valdatafile, 'r')\n",
    "    val_x = fval['data'][...]\n",
    "    val_y = fval['label'][...]\n",
    "    #np_utils.to_categorical\n",
    "    for epoch in range(trainEpochs):\n",
    "        for i in range(totalBatchs):\n",
    "            #每次讀取100筆資料\n",
    "            batch_x, batch_y = next(bg)\n",
    "            #將feature和label輸入並計算執行圖\n",
    "            sess.run(optimizer, feed_dict={x : batch_x, y_label : sess.run(tf.one_hot(batch_y, 2)) })\n",
    "        #使用驗證資料計算一次epoch的loss和acc    \n",
    "        loss, acc = sess.run([lossfunction,accuracy],feed_dict={x : val_x, y_label : sess.run(tf.one_hot(val_y, 2))})\n",
    "    \n",
    "        print 'Train Epoch:', '%02d'%(epoch+1), 'Loss=', '{:.9f}'.format(loss), 'Accuracy=',acc\n",
    "    \n",
    "\n",
    "    saver.save(sess, modelstore)\n",
    "\n",
    "    fval.close()\n",
    "    stop_time = timeit.default_timer()\n",
    "    print 'period(s) =', stop_time - start_time\n",
    "    \n",
    "    \n",
    "def estimate(testdatafile):\n",
    "    sess = tf.Session()\n",
    "    saver = tf.train.Saver()\n",
    "    saver.restore(sess, modelstore)\n",
    "    ftest = h5py.File(testdatafile, 'r')\n",
    "    test_x = ftest['data'][...]\n",
    "    test_y = ftest['label'][...]\n",
    "    ftest.close()\n",
    "    \n",
    "    start_time = timeit.default_timer()\n",
    "    print 'acc :', sess.run(accuracy, feed_dict={x : test_x, y_label : sess.run(tf.one_hot(test_y, 2)) })\n",
    "    stop_time = timeit.default_timer()\n",
    "    print 'period of estimate =', stop_time - start_time, '(s)'\n",
    "    \n",
    "def prediction_result(testdatafile):\n",
    "    sess = tf.Session()\n",
    "    saver = tf.train.Saver()\n",
    "    saver.restore(sess, modelstore)\n",
    "    ftest = h5py.File(testdatafile, 'r')\n",
    "    test_x = ftest['data'][...]\n",
    "    test_y = ftest['label'][...]\n",
    "    ftest.close()\n",
    "    \n",
    "    start_time = timeit.default_timer()\n",
    "    predictresult = sess.run(tf.argmax(y_predict, 1), feed_dict={x : test_x, y_label : sess.run(tf.one_hot(test_y, 2))})\n",
    "    stop_time = timeit.default_timer()\n",
    "    print 'period of prediction =', stop_time - start_time, '(s)'\n",
    "    return predictresult"
   ]
  },
  {
   "cell_type": "code",
   "execution_count": 14,
   "metadata": {},
   "outputs": [],
   "source": [
    "def relation(n):\n",
    "    d = '/Volumes/Mac/GW/spec/withoutoverlap/5.5~74.5/testdatawo_spec16-8_freq512_pr0.5_2time10_'\n",
    "    rm = np.zeros([70,70])\n",
    "    cm = np.zeros([2,2])\n",
    "    for j in range(n):\n",
    "        data =  d+str(j)+'_mr<=10.h5'\n",
    "        test = h5py.File(data, 'r')\n",
    "        test_par = test['parameter'][...]\n",
    "        test_lab = test['label'][...]\n",
    "        test.close()\n",
    "        predict = prediction_result(data)\n",
    "        cm += confusionmatrix(predict,test_lab)\n",
    "        for i in range(len(test_par)):\n",
    "            if test_par[i,0] != 0: #選擇有訊號的數據\n",
    "                if test_lab[i] != predict[i]: #預測不正確則顏色加深\n",
    "                    row = int(test_par[i,0]-5.5)\n",
    "                    col =  int(test_par[i,1]-5.5)\n",
    "                    rm[row,col] += 1.\n",
    "    acc(cm)\n",
    "    sensitivity(cm)\n",
    "    false_alarm_rate(cm)\n",
    "    scale = preprocessing.MinMaxScaler(feature_range=(0,1))\n",
    "    rmr = rm.reshape(70*70,1)\n",
    "    rmrn = scale.fit_transform(rmr)\n",
    "    rm = rmrn.reshape(70, 70)\n",
    "    \n",
    "    plt.imshow(rm, cmap='binary')\n",
    "    tick_idx = [0,10,20,30,40,50,60]\n",
    "    tick_mass = [5.5,15.5,25.5,35.5,45.5,55.5,65.5]\n",
    "    plt.yticks(tick_idx , tick_mass)\n",
    "    plt.xticks(tick_idx , tick_mass)\n",
    "\n",
    "def confusionmatrix(prediction_result,test_y):\n",
    "    sess = tf.Session()\n",
    "    cm = sess.run(tf.confusion_matrix(test_y, prediction_result))\n",
    "    print 'confusionmatrix ='\n",
    "    print cm\n",
    "    return cm\n",
    "\n",
    "def false_alarm_rate(cm):\n",
    "    fp = cm[0,1].astype('float64')\n",
    "    tn = cm[0,0].astype('float64')\n",
    "    print 'false alarm rate =',fp/(fp+tn) #false alarm rate\n",
    "\n",
    "def sensitivity(cm):\n",
    "    tp = cm[1,1].astype('float64')\n",
    "    fn = cm[1,0].astype('float64')\n",
    "    print 'sensitivity =',tp/(tp+fn) #sensitivity\n",
    "    \n",
    "\n",
    "def acc(cm):\n",
    "    print 'acc =',(cm[0,0]+cm[1,1])/np.sum(cm)\n",
    "def summary():\n",
    "    estimate()\n",
    "    pr = prediction_result()\n",
    "    cm = confusionmatrix(pr)\n",
    "    false_alarm_rate(cm)\n",
    "    sensitivity(cm)"
   ]
  },
  {
   "cell_type": "code",
   "execution_count": 12,
   "metadata": {},
   "outputs": [
    {
     "name": "stdout",
     "output_type": "stream",
     "text": [
      "INFO:tensorflow:Restoring parameters from /Volumes/Mac/GW/model/model-plain6.ckpt\n",
      "Train Epoch: 01 Loss= 0.313379556 Accuracy= 1.0\n",
      "Train Epoch: 02 Loss= 0.313272297 Accuracy= 1.0\n",
      "period(s) = 159.180981159\n"
     ]
    }
   ],
   "source": [
    "evaluate(2,2)"
   ]
  },
  {
   "cell_type": "code",
   "execution_count": 13,
   "metadata": {},
   "outputs": [
    {
     "name": "stdout",
     "output_type": "stream",
     "text": [
      "INFO:tensorflow:Restoring parameters from /Volumes/Mac/GW/model/model-plain6.ckpt\n",
      "Train Epoch: 01 Loss= 0.313321084 Accuracy= 1.0\n",
      "Train Epoch: 02 Loss= 0.313269436 Accuracy= 1.0\n",
      "period(s) = 182.447862148\n"
     ]
    }
   ],
   "source": [
    "evaluate(2,1.5)"
   ]
  },
  {
   "cell_type": "code",
   "execution_count": 14,
   "metadata": {},
   "outputs": [
    {
     "name": "stdout",
     "output_type": "stream",
     "text": [
      "INFO:tensorflow:Restoring parameters from /Volumes/Mac/GW/model/model-plain6.ckpt\n",
      "Train Epoch: 01 Loss= 0.313269436 Accuracy= 1.0\n",
      "Train Epoch: 02 Loss= 0.313267738 Accuracy= 1.0\n",
      "period(s) = 214.665861845\n"
     ]
    }
   ],
   "source": [
    "evaluate(2,1.5)"
   ]
  },
  {
   "cell_type": "code",
   "execution_count": 10,
   "metadata": {},
   "outputs": [
    {
     "name": "stdout",
     "output_type": "stream",
     "text": [
      "INFO:tensorflow:Restoring parameters from /Volumes/Mac/GW/model/model-plain6.ckpt\n",
      "Train Epoch: 01 Loss= 0.313769847 Accuracy= 0.9996667\n",
      "Train Epoch: 02 Loss= 0.313494086 Accuracy= 1.0\n",
      "Train Epoch: 03 Loss= 0.313800633 Accuracy= 0.9993333\n",
      "Train Epoch: 04 Loss= 0.313457221 Accuracy= 1.0\n",
      "period(s) = 310.632892132\n"
     ]
    }
   ],
   "source": [
    "evaluate(4,1.2)"
   ]
  },
  {
   "cell_type": "code",
   "execution_count": 10,
   "metadata": {},
   "outputs": [
    {
     "name": "stdout",
     "output_type": "stream",
     "text": [
      "INFO:tensorflow:Restoring parameters from /Volumes/Mac/GW/model/model-plain6.ckpt\n",
      "Train Epoch: 01 Loss= 0.313670397 Accuracy= 0.9996667\n",
      "Train Epoch: 02 Loss= 0.313411295 Accuracy= 1.0\n",
      "Train Epoch: 03 Loss= 0.313463837 Accuracy= 1.0\n",
      "Train Epoch: 04 Loss= 0.313663781 Accuracy= 0.9996667\n",
      "period(s) = 348.254906178\n"
     ]
    }
   ],
   "source": [
    "evaluate(4,1.2)"
   ]
  },
  {
   "cell_type": "code",
   "execution_count": 10,
   "metadata": {},
   "outputs": [
    {
     "name": "stdout",
     "output_type": "stream",
     "text": [
      "INFO:tensorflow:Restoring parameters from /Volumes/Mac/GW/model/model-plain6.ckpt\n",
      "Train Epoch: 01 Loss= 0.313594967 Accuracy= 0.9996667\n",
      "Train Epoch: 02 Loss= 0.313557297 Accuracy= 0.9996667\n",
      "Train Epoch: 03 Loss= 0.313490242 Accuracy= 0.9996667\n",
      "Train Epoch: 04 Loss= 0.313342154 Accuracy= 1.0\n",
      "period(s) = 322.91809988\n"
     ]
    }
   ],
   "source": [
    "evaluate(4,1.2)"
   ]
  },
  {
   "cell_type": "code",
   "execution_count": 11,
   "metadata": {},
   "outputs": [
    {
     "name": "stdout",
     "output_type": "stream",
     "text": [
      "INFO:tensorflow:Restoring parameters from /Volumes/Mac/GW/model/model-plain6.ckpt\n",
      "acc : 0.9993482\n",
      "period of estimate = 45.9586799145 (s)\n"
     ]
    }
   ],
   "source": [
    "estimate('/Volumes/Mac/GW/spec/withoutoverlap/5.5~74.5/testdatawo_spec16-8_freq512_pr1.2_mr<=10.h5')"
   ]
  },
  {
   "cell_type": "code",
   "execution_count": 10,
   "metadata": {},
   "outputs": [
    {
     "name": "stdout",
     "output_type": "stream",
     "text": [
      "INFO:tensorflow:Restoring parameters from /Volumes/Mac/GW/model/model-plain6.ckpt\n",
      "Train Epoch: 01 Loss= 0.323397189 Accuracy= 0.98933333\n",
      "Train Epoch: 02 Loss= 0.315909386 Accuracy= 0.99733335\n",
      "Train Epoch: 03 Loss= 0.315844297 Accuracy= 0.99733335\n",
      "Train Epoch: 04 Loss= 0.315791100 Accuracy= 0.99766666\n",
      "period(s) = 366.979197025\n"
     ]
    }
   ],
   "source": [
    "evaluate(4,1)"
   ]
  },
  {
   "cell_type": "code",
   "execution_count": 10,
   "metadata": {},
   "outputs": [
    {
     "name": "stdout",
     "output_type": "stream",
     "text": [
      "INFO:tensorflow:Restoring parameters from /Volumes/Mac/GW/model/model-plain6.ckpt\n",
      "Train Epoch: 01 Loss= 0.318674207 Accuracy= 0.9943333\n",
      "Train Epoch: 02 Loss= 0.314863980 Accuracy= 0.99833333\n",
      "Train Epoch: 03 Loss= 0.314771503 Accuracy= 0.99866664\n",
      "Train Epoch: 04 Loss= 0.314536184 Accuracy= 0.99866664\n",
      "period(s) = 311.550309896\n"
     ]
    }
   ],
   "source": [
    "evaluate(4,1)"
   ]
  },
  {
   "cell_type": "code",
   "execution_count": 10,
   "metadata": {},
   "outputs": [
    {
     "name": "stdout",
     "output_type": "stream",
     "text": [
      "INFO:tensorflow:Restoring parameters from /Volumes/Mac/GW/model/model-plain6.ckpt\n",
      "Train Epoch: 01 Loss= 0.315465242 Accuracy= 0.99766666\n",
      "Train Epoch: 02 Loss= 0.315247804 Accuracy= 0.99833333\n",
      "Train Epoch: 03 Loss= 0.315089166 Accuracy= 0.998\n",
      "Train Epoch: 04 Loss= 0.315178633 Accuracy= 0.998\n",
      "period(s) = 314.822943926\n"
     ]
    }
   ],
   "source": [
    "evaluate(4,1)"
   ]
  },
  {
   "cell_type": "code",
   "execution_count": 11,
   "metadata": {},
   "outputs": [
    {
     "name": "stdout",
     "output_type": "stream",
     "text": [
      "INFO:tensorflow:Restoring parameters from /Volumes/Mac/GW/model/model-plain6.ckpt\n",
      "acc : 0.9985335\n",
      "period of estimate = 51.2555968761 (s)\n"
     ]
    }
   ],
   "source": [
    "estimate('/Volumes/Mac/GW/spec/withoutoverlap/5.5~74.5/testdatawo_spec16-8_freq512_pr1_mr<=10.h5')"
   ]
  },
  {
   "cell_type": "code",
   "execution_count": 10,
   "metadata": {},
   "outputs": [
    {
     "name": "stdout",
     "output_type": "stream",
     "text": [
      "INFO:tensorflow:Restoring parameters from /Volumes/Mac/GW/model/model-plain6.ckpt\n",
      "Train Epoch: 01 Loss= 0.332834989 Accuracy= 0.97966665\n",
      "Train Epoch: 02 Loss= 0.325198561 Accuracy= 0.98733336\n",
      "Train Epoch: 03 Loss= 0.326796621 Accuracy= 0.9866667\n",
      "Train Epoch: 04 Loss= 0.324297458 Accuracy= 0.98833334\n",
      "period(s) = 348.323945045\n"
     ]
    }
   ],
   "source": [
    "evaluate(4,0.8)"
   ]
  },
  {
   "cell_type": "code",
   "execution_count": 11,
   "metadata": {},
   "outputs": [
    {
     "name": "stdout",
     "output_type": "stream",
     "text": [
      "INFO:tensorflow:Restoring parameters from /Volumes/Mac/GW/model/model-plain6.ckpt\n",
      "Train Epoch: 01 Loss= 0.322795123 Accuracy= 0.9903333\n",
      "Train Epoch: 02 Loss= 0.322129846 Accuracy= 0.992\n",
      "Train Epoch: 03 Loss= 0.322310388 Accuracy= 0.9906667\n",
      "Train Epoch: 04 Loss= 0.322920948 Accuracy= 0.99\n",
      "period(s) = 427.613665819\n"
     ]
    }
   ],
   "source": [
    "evaluate(4,0.8)"
   ]
  },
  {
   "cell_type": "code",
   "execution_count": 10,
   "metadata": {},
   "outputs": [
    {
     "name": "stdout",
     "output_type": "stream",
     "text": [
      "INFO:tensorflow:Restoring parameters from /Volumes/Mac/GW/model/model-plain6.ckpt\n",
      "Train Epoch: 01 Loss= 0.324552357 Accuracy= 0.98766667\n",
      "Train Epoch: 02 Loss= 0.321625859 Accuracy= 0.9916667\n",
      "Train Epoch: 03 Loss= 0.322013259 Accuracy= 0.9913333\n",
      "Train Epoch: 04 Loss= 0.323249251 Accuracy= 0.989\n",
      "period(s) = 303.580171824\n"
     ]
    }
   ],
   "source": [
    "evaluate(4,0.8)"
   ]
  },
  {
   "cell_type": "code",
   "execution_count": 11,
   "metadata": {},
   "outputs": [
    {
     "name": "stdout",
     "output_type": "stream",
     "text": [
      "INFO:tensorflow:Restoring parameters from /Volumes/Mac/GW/model/model-plain6.ckpt\n",
      "acc : 0.9923415\n",
      "period of estimate = 50.1461708546 (s)\n"
     ]
    }
   ],
   "source": [
    "estimate('/Volumes/Mac/GW/spec/withoutoverlap/5.5~74.5/testdatawo_spec16-8_freq512_pr0.8_mr<=10.h5')"
   ]
  },
  {
   "cell_type": "code",
   "execution_count": 12,
   "metadata": {},
   "outputs": [
    {
     "name": "stdout",
     "output_type": "stream",
     "text": [
      "INFO:tensorflow:Restoring parameters from /Volumes/Mac/GW/model/model-plain6.ckpt\n",
      "Train Epoch: 01 Loss= 0.344446123 Accuracy= 0.968\n",
      "Train Epoch: 02 Loss= 0.337743431 Accuracy= 0.97533333\n",
      "Train Epoch: 03 Loss= 0.336135119 Accuracy= 0.97566664\n",
      "Train Epoch: 04 Loss= 0.336141706 Accuracy= 0.976\n",
      "period(s) = 487.503599882\n"
     ]
    }
   ],
   "source": [
    "evaluate(4,0.7)"
   ]
  },
  {
   "cell_type": "code",
   "execution_count": 13,
   "metadata": {},
   "outputs": [
    {
     "name": "stdout",
     "output_type": "stream",
     "text": [
      "INFO:tensorflow:Restoring parameters from /Volumes/Mac/GW/model/model-plain6.ckpt\n",
      "Train Epoch: 01 Loss= 0.335127085 Accuracy= 0.9773333\n",
      "Train Epoch: 02 Loss= 0.335916936 Accuracy= 0.976\n",
      "Train Epoch: 03 Loss= 0.333715290 Accuracy= 0.9776667\n",
      "Train Epoch: 04 Loss= 0.334424615 Accuracy= 0.9773333\n",
      "period(s) = 582.386265039\n"
     ]
    }
   ],
   "source": [
    "evaluate(4,0.7)"
   ]
  },
  {
   "cell_type": "code",
   "execution_count": 14,
   "metadata": {},
   "outputs": [
    {
     "name": "stdout",
     "output_type": "stream",
     "text": [
      "INFO:tensorflow:Restoring parameters from /Volumes/Mac/GW/model/model-plain6.ckpt\n",
      "Train Epoch: 01 Loss= 0.335703582 Accuracy= 0.9766667\n",
      "Train Epoch: 02 Loss= 0.333989620 Accuracy= 0.978\n",
      "Train Epoch: 03 Loss= 0.334071547 Accuracy= 0.9773333\n",
      "Train Epoch: 04 Loss= 0.336571485 Accuracy= 0.97566664\n",
      "period(s) = 741.372121096\n"
     ]
    }
   ],
   "source": [
    "evaluate(4,0.7)"
   ]
  },
  {
   "cell_type": "code",
   "execution_count": 15,
   "metadata": {},
   "outputs": [
    {
     "name": "stdout",
     "output_type": "stream",
     "text": [
      "INFO:tensorflow:Restoring parameters from /Volumes/Mac/GW/model/model-plain6.ckpt\n",
      "acc : 0.9796317\n",
      "period of estimate = 50.6739962101 (s)\n"
     ]
    }
   ],
   "source": [
    "estimate('/Volumes/Mac/GW/spec/withoutoverlap/5.5~74.5/testdatawo_spec16-8_freq512_pr0.7_mr<=10.h5')"
   ]
  },
  {
   "cell_type": "code",
   "execution_count": 16,
   "metadata": {},
   "outputs": [
    {
     "name": "stdout",
     "output_type": "stream",
     "text": [
      "INFO:tensorflow:Restoring parameters from /Volumes/Mac/GW/model/model-plain6.ckpt\n",
      "Train Epoch: 01 Loss= 0.371781260 Accuracy= 0.93733335\n",
      "Train Epoch: 02 Loss= 0.365163743 Accuracy= 0.945\n",
      "Train Epoch: 03 Loss= 0.371677607 Accuracy= 0.9403333\n",
      "Train Epoch: 04 Loss= 0.365153402 Accuracy= 0.945\n",
      "period(s) = 955.011160135\n"
     ]
    }
   ],
   "source": [
    "evaluate(4,0.6)"
   ]
  },
  {
   "cell_type": "code",
   "execution_count": 17,
   "metadata": {},
   "outputs": [
    {
     "name": "stdout",
     "output_type": "stream",
     "text": [
      "INFO:tensorflow:Restoring parameters from /Volumes/Mac/GW/model/model-plain6.ckpt\n",
      "Train Epoch: 01 Loss= 0.364638507 Accuracy= 0.94733334\n",
      "Train Epoch: 02 Loss= 0.363855481 Accuracy= 0.94733334\n",
      "Train Epoch: 03 Loss= 0.363285512 Accuracy= 0.94733334\n",
      "Train Epoch: 04 Loss= 0.363217354 Accuracy= 0.94766665\n",
      "period(s) = 1146.77569604\n"
     ]
    }
   ],
   "source": [
    "evaluate(4,0.6)"
   ]
  },
  {
   "cell_type": "code",
   "execution_count": 10,
   "metadata": {},
   "outputs": [
    {
     "name": "stdout",
     "output_type": "stream",
     "text": [
      "INFO:tensorflow:Restoring parameters from /Volumes/Mac/GW/model/model-plain6.ckpt\n",
      "Train Epoch: 01 Loss= 0.362378389 Accuracy= 0.949\n",
      "Train Epoch: 02 Loss= 0.364321709 Accuracy= 0.94733334\n",
      "Train Epoch: 03 Loss= 0.364010364 Accuracy= 0.947\n",
      "Train Epoch: 04 Loss= 0.362846762 Accuracy= 0.948\n",
      "period(s) = 341.8929739\n"
     ]
    }
   ],
   "source": [
    "evaluate(4,0.6)"
   ]
  },
  {
   "cell_type": "code",
   "execution_count": 11,
   "metadata": {},
   "outputs": [
    {
     "name": "stdout",
     "output_type": "stream",
     "text": [
      "INFO:tensorflow:Restoring parameters from /Volumes/Mac/GW/model/model-plain6.ckpt\n",
      "acc : 0.95551574\n",
      "period of estimate = 67.2960548401 (s)\n"
     ]
    }
   ],
   "source": [
    "estimate('/Volumes/Mac/GW/spec/withoutoverlap/5.5~74.5/testdatawo_spec16-8_freq512_pr0.6_mr<=10.h5')"
   ]
  },
  {
   "cell_type": "code",
   "execution_count": 12,
   "metadata": {},
   "outputs": [
    {
     "name": "stdout",
     "output_type": "stream",
     "text": [
      "INFO:tensorflow:Restoring parameters from /Volumes/Mac/GW/model/model-plain6.ckpt\n",
      "Train Epoch: 01 Loss= 0.429023921 Accuracy= 0.88\n",
      "Train Epoch: 02 Loss= 0.443249315 Accuracy= 0.8656667\n",
      "Train Epoch: 03 Loss= 0.440435946 Accuracy= 0.8693333\n",
      "Train Epoch: 04 Loss= 0.432333410 Accuracy= 0.877\n",
      "period(s) = 502.58772707\n"
     ]
    }
   ],
   "source": [
    "evaluate(4,0.5)"
   ]
  },
  {
   "cell_type": "code",
   "execution_count": 13,
   "metadata": {},
   "outputs": [
    {
     "name": "stdout",
     "output_type": "stream",
     "text": [
      "INFO:tensorflow:Restoring parameters from /Volumes/Mac/GW/model/model-plain6.ckpt\n",
      "Train Epoch: 01 Loss= 0.427699476 Accuracy= 0.88166666\n",
      "Train Epoch: 02 Loss= 0.429761797 Accuracy= 0.8793333\n",
      "Train Epoch: 03 Loss= 0.429339528 Accuracy= 0.8793333\n",
      "Train Epoch: 04 Loss= 0.421948880 Accuracy= 0.8883333\n",
      "period(s) = 623.369298935\n"
     ]
    }
   ],
   "source": [
    "evaluate(4,0.5)"
   ]
  },
  {
   "cell_type": "code",
   "execution_count": 14,
   "metadata": {},
   "outputs": [
    {
     "name": "stdout",
     "output_type": "stream",
     "text": [
      "INFO:tensorflow:Restoring parameters from /Volumes/Mac/GW/model/model-plain6.ckpt\n",
      "Train Epoch: 01 Loss= 0.426219285 Accuracy= 0.8833333\n",
      "Train Epoch: 02 Loss= 0.422853440 Accuracy= 0.88733333\n",
      "Train Epoch: 03 Loss= 0.417944342 Accuracy= 0.893\n",
      "Train Epoch: 04 Loss= 0.420421094 Accuracy= 0.89066666\n",
      "period(s) = 743.093683958\n"
     ]
    }
   ],
   "source": [
    "evaluate(4,0.5)"
   ]
  },
  {
   "cell_type": "code",
   "execution_count": 10,
   "metadata": {},
   "outputs": [
    {
     "name": "stdout",
     "output_type": "stream",
     "text": [
      "INFO:tensorflow:Restoring parameters from /Volumes/Mac/GW/model/model-plain6.ckpt\n",
      "Train Epoch: 01 Loss= 0.419143975 Accuracy= 0.892\n",
      "Train Epoch: 02 Loss= 0.426778764 Accuracy= 0.884\n",
      "Train Epoch: 03 Loss= 0.427783072 Accuracy= 0.883\n",
      "Train Epoch: 04 Loss= 0.425958097 Accuracy= 0.8846667\n",
      "period(s) = 334.037919998\n"
     ]
    }
   ],
   "source": [
    "evaluate(4,0.5)"
   ]
  },
  {
   "cell_type": "code",
   "execution_count": 11,
   "metadata": {},
   "outputs": [
    {
     "name": "stdout",
     "output_type": "stream",
     "text": [
      "INFO:tensorflow:Restoring parameters from /Volumes/Mac/GW/model/model-plain6.ckpt\n",
      "Train Epoch: 01 Loss= 0.426343679 Accuracy= 0.8843333\n",
      "Train Epoch: 02 Loss= 0.426034331 Accuracy= 0.8843333\n",
      "Train Epoch: 03 Loss= 0.426956058 Accuracy= 0.8846667\n",
      "Train Epoch: 04 Loss= 0.417225003 Accuracy= 0.8936667\n",
      "period(s) = 443.024460077\n"
     ]
    }
   ],
   "source": [
    "evaluate(4,0.5)"
   ]
  },
  {
   "cell_type": "code",
   "execution_count": 12,
   "metadata": {},
   "outputs": [
    {
     "name": "stdout",
     "output_type": "stream",
     "text": [
      "INFO:tensorflow:Restoring parameters from /Volumes/Mac/GW/model/model-plain6.ckpt\n",
      "Train Epoch: 01 Loss= 0.416742921 Accuracy= 0.8933333\n",
      "Train Epoch: 02 Loss= 0.415023506 Accuracy= 0.895\n",
      "Train Epoch: 03 Loss= 0.415955067 Accuracy= 0.8946667\n",
      "Train Epoch: 04 Loss= 0.418204725 Accuracy= 0.8923333\n",
      "period(s) = 4180.20851398\n"
     ]
    }
   ],
   "source": [
    "evaluate(4,0.5)"
   ]
  },
  {
   "cell_type": "code",
   "execution_count": 13,
   "metadata": {},
   "outputs": [
    {
     "name": "stdout",
     "output_type": "stream",
     "text": [
      "INFO:tensorflow:Restoring parameters from /Volumes/Mac/GW/model/model-plain6.ckpt\n",
      "acc : 0.8994623\n",
      "period of estimate = 50.3557391167 (s)\n"
     ]
    }
   ],
   "source": [
    "estimate('/Volumes/Mac/GW/spec/withoutoverlap/5.5~74.5/testdatawo_spec16-8_freq512_pr0.5_mr<=10.h5')"
   ]
  },
  {
   "cell_type": "code",
   "execution_count": 15,
   "metadata": {},
   "outputs": [
    {
     "name": "stdout",
     "output_type": "stream",
     "text": [
      "INFO:tensorflow:Restoring parameters from /Volumes/Mac/GW/model/model-plain6.ckpt\n",
      "period of prediction = 63.9374279976 (s)\n",
      "confusionmatrix =\n",
      "[[3509  173]\n",
      " [ 444 2011]]\n"
     ]
    }
   ],
   "source": [
    "test = h5py.File('/Volumes/Mac/GW/spec/withoutoverlap/5.5~74.5/testdatawo_spec16-8_freq512_pr0.5_mr<=10.h5', 'r')\n",
    "test_label = test['label'][...]\n",
    "test.close()\n",
    "cc=confusionmatrix(prediction_result('/Volumes/Mac/GW/spec/withoutoverlap/5.5~74.5/testdatawo_spec16-8_freq512_pr0.5_mr<=10.h5'),\n",
    "               test_label)"
   ]
  },
  {
   "cell_type": "code",
   "execution_count": 16,
   "metadata": {},
   "outputs": [
    {
     "name": "stdout",
     "output_type": "stream",
     "text": [
      "false alarm rate = 0.046985334057577405\n",
      "sensitivity = 0.8191446028513238\n"
     ]
    }
   ],
   "source": [
    "false_alarm_rate(cc)\n",
    "sensitivity(cc)"
   ]
  },
  {
   "cell_type": "code",
   "execution_count": 17,
   "metadata": {
    "scrolled": true
   },
   "outputs": [
    {
     "name": "stdout",
     "output_type": "stream",
     "text": [
      "INFO:tensorflow:Restoring parameters from /Volumes/Mac/GW/model/model-plain6.ckpt\n",
      "period of prediction = 38.7061910629 (s)\n",
      "confusionmatrix =\n",
      "[[ 517   28]\n",
      " [ 909 4001]]\n",
      "INFO:tensorflow:Restoring parameters from /Volumes/Mac/GW/model/model-plain6.ckpt\n",
      "period of prediction = 37.409070015 (s)\n",
      "confusionmatrix =\n",
      "[[ 516   29]\n",
      " [ 889 4021]]\n",
      "INFO:tensorflow:Restoring parameters from /Volumes/Mac/GW/model/model-plain6.ckpt\n",
      "period of prediction = 36.1111800671 (s)\n",
      "confusionmatrix =\n",
      "[[ 524   21]\n",
      " [ 899 4011]]\n",
      "INFO:tensorflow:Restoring parameters from /Volumes/Mac/GW/model/model-plain6.ckpt\n",
      "period of prediction = 35.9838409424 (s)\n",
      "confusionmatrix =\n",
      "[[ 522   23]\n",
      " [ 861 4049]]\n",
      "INFO:tensorflow:Restoring parameters from /Volumes/Mac/GW/model/model-plain6.ckpt\n",
      "period of prediction = 36.795675993 (s)\n",
      "confusionmatrix =\n",
      "[[ 518   27]\n",
      " [ 902 4008]]\n",
      "INFO:tensorflow:Restoring parameters from /Volumes/Mac/GW/model/model-plain6.ckpt\n",
      "period of prediction = 41.1830542088 (s)\n",
      "confusionmatrix =\n",
      "[[ 519   26]\n",
      " [ 891 4019]]\n",
      "INFO:tensorflow:Restoring parameters from /Volumes/Mac/GW/model/model-plain6.ckpt\n",
      "period of prediction = 39.1699159145 (s)\n",
      "confusionmatrix =\n",
      "[[ 526   19]\n",
      " [ 891 4019]]\n",
      "INFO:tensorflow:Restoring parameters from /Volumes/Mac/GW/model/model-plain6.ckpt\n",
      "period of prediction = 36.6319980621 (s)\n",
      "confusionmatrix =\n",
      "[[ 528   17]\n",
      " [ 894 4016]]\n",
      "INFO:tensorflow:Restoring parameters from /Volumes/Mac/GW/model/model-plain6.ckpt\n",
      "period of prediction = 36.8294210434 (s)\n",
      "confusionmatrix =\n",
      "[[ 520   25]\n",
      " [ 880 4030]]\n",
      "INFO:tensorflow:Restoring parameters from /Volumes/Mac/GW/model/model-plain6.ckpt\n",
      "period of prediction = 34.4464678764 (s)\n",
      "confusionmatrix =\n",
      "[[ 511   34]\n",
      " [ 907 4003]]\n",
      "INFO:tensorflow:Restoring parameters from /Volumes/Mac/GW/model/model-plain6.ckpt\n",
      "period of prediction = 36.203564167 (s)\n",
      "confusionmatrix =\n",
      "[[ 516   29]\n",
      " [ 855 4055]]\n",
      "INFO:tensorflow:Restoring parameters from /Volumes/Mac/GW/model/model-plain6.ckpt\n",
      "period of prediction = 36.3140859604 (s)\n",
      "confusionmatrix =\n",
      "[[ 527   18]\n",
      " [ 887 4023]]\n",
      "INFO:tensorflow:Restoring parameters from /Volumes/Mac/GW/model/model-plain6.ckpt\n",
      "period of prediction = 36.7640259266 (s)\n",
      "confusionmatrix =\n",
      "[[ 522   23]\n",
      " [ 888 4022]]\n",
      "INFO:tensorflow:Restoring parameters from /Volumes/Mac/GW/model/model-plain6.ckpt\n",
      "period of prediction = 40.5947320461 (s)\n",
      "confusionmatrix =\n",
      "[[ 510   35]\n",
      " [ 845 4065]]\n",
      "INFO:tensorflow:Restoring parameters from /Volumes/Mac/GW/model/model-plain6.ckpt\n",
      "period of prediction = 40.4702792168 (s)\n",
      "confusionmatrix =\n",
      "[[ 524   21]\n",
      " [ 843 4067]]\n",
      "INFO:tensorflow:Restoring parameters from /Volumes/Mac/GW/model/model-plain6.ckpt\n",
      "period of prediction = 40.9514019489 (s)\n",
      "confusionmatrix =\n",
      "[[ 522   23]\n",
      " [ 918 3992]]\n",
      "INFO:tensorflow:Restoring parameters from /Volumes/Mac/GW/model/model-plain6.ckpt\n",
      "period of prediction = 35.9318509102 (s)\n",
      "confusionmatrix =\n",
      "[[ 522   23]\n",
      " [ 859 4051]]\n",
      "INFO:tensorflow:Restoring parameters from /Volumes/Mac/GW/model/model-plain6.ckpt\n",
      "period of prediction = 37.9828619957 (s)\n",
      "confusionmatrix =\n",
      "[[ 514   31]\n",
      " [ 859 4051]]\n",
      "INFO:tensorflow:Restoring parameters from /Volumes/Mac/GW/model/model-plain6.ckpt\n",
      "period of prediction = 36.3400199413 (s)\n",
      "confusionmatrix =\n",
      "[[ 519   26]\n",
      " [ 942 3968]]\n",
      "INFO:tensorflow:Restoring parameters from /Volumes/Mac/GW/model/model-plain6.ckpt\n",
      "period of prediction = 36.2098629475 (s)\n",
      "confusionmatrix =\n",
      "[[ 517   28]\n",
      " [ 853 4057]]\n",
      "INFO:tensorflow:Restoring parameters from /Volumes/Mac/GW/model/model-plain6.ckpt\n",
      "period of prediction = 40.0735421181 (s)\n",
      "confusionmatrix =\n",
      "[[ 520   25]\n",
      " [ 846 4064]]\n",
      "INFO:tensorflow:Restoring parameters from /Volumes/Mac/GW/model/model-plain6.ckpt\n",
      "period of prediction = 35.8208930492 (s)\n",
      "confusionmatrix =\n",
      "[[ 517   28]\n",
      " [ 832 4078]]\n",
      "INFO:tensorflow:Restoring parameters from /Volumes/Mac/GW/model/model-plain6.ckpt\n",
      "period of prediction = 35.8981120586 (s)\n",
      "confusionmatrix =\n",
      "[[ 513   32]\n",
      " [ 821 4089]]\n",
      "INFO:tensorflow:Restoring parameters from /Volumes/Mac/GW/model/model-plain6.ckpt\n",
      "period of prediction = 39.9845890999 (s)\n",
      "confusionmatrix =\n",
      "[[ 520   25]\n",
      " [ 854 4056]]\n",
      "INFO:tensorflow:Restoring parameters from /Volumes/Mac/GW/model/model-plain6.ckpt\n",
      "period of prediction = 35.0773189068 (s)\n",
      "confusionmatrix =\n",
      "[[ 521   24]\n",
      " [ 893 4017]]\n",
      "INFO:tensorflow:Restoring parameters from /Volumes/Mac/GW/model/model-plain6.ckpt\n",
      "period of prediction = 34.6721298695 (s)\n",
      "confusionmatrix =\n",
      "[[ 517   28]\n",
      " [ 906 4004]]\n",
      "INFO:tensorflow:Restoring parameters from /Volumes/Mac/GW/model/model-plain6.ckpt\n",
      "period of prediction = 38.520026207 (s)\n",
      "confusionmatrix =\n",
      "[[ 522   23]\n",
      " [ 909 4001]]\n",
      "INFO:tensorflow:Restoring parameters from /Volumes/Mac/GW/model/model-plain6.ckpt\n",
      "period of prediction = 34.8862202168 (s)\n",
      "confusionmatrix =\n",
      "[[ 517   28]\n",
      " [ 835 4075]]\n",
      "INFO:tensorflow:Restoring parameters from /Volumes/Mac/GW/model/model-plain6.ckpt\n",
      "period of prediction = 35.7091188431 (s)\n",
      "confusionmatrix =\n",
      "[[ 522   23]\n",
      " [ 918 3992]]\n",
      "INFO:tensorflow:Restoring parameters from /Volumes/Mac/GW/model/model-plain6.ckpt\n",
      "period of prediction = 39.7431509495 (s)\n",
      "confusionmatrix =\n",
      "[[ 522   23]\n",
      " [ 914 3996]]\n",
      "INFO:tensorflow:Restoring parameters from /Volumes/Mac/GW/model/model-plain6.ckpt\n",
      "period of prediction = 35.920404911 (s)\n",
      "confusionmatrix =\n",
      "[[ 521   24]\n",
      " [ 921 3989]]\n",
      "INFO:tensorflow:Restoring parameters from /Volumes/Mac/GW/model/model-plain6.ckpt\n",
      "period of prediction = 35.6098380089 (s)\n",
      "confusionmatrix =\n",
      "[[ 514   31]\n",
      " [ 898 4012]]\n",
      "INFO:tensorflow:Restoring parameters from /Volumes/Mac/GW/model/model-plain6.ckpt\n",
      "period of prediction = 39.6728999615 (s)\n",
      "confusionmatrix =\n",
      "[[ 521   24]\n",
      " [ 848 4062]]\n",
      "INFO:tensorflow:Restoring parameters from /Volumes/Mac/GW/model/model-plain6.ckpt\n",
      "period of prediction = 36.680991888 (s)\n",
      "confusionmatrix =\n",
      "[[ 513   32]\n",
      " [ 901 4009]]\n",
      "INFO:tensorflow:Restoring parameters from /Volumes/Mac/GW/model/model-plain6.ckpt\n",
      "period of prediction = 36.2481789589 (s)\n",
      "confusionmatrix =\n",
      "[[ 528   17]\n",
      " [ 868 4042]]\n",
      "INFO:tensorflow:Restoring parameters from /Volumes/Mac/GW/model/model-plain6.ckpt\n",
      "period of prediction = 38.4782791138 (s)\n",
      "confusionmatrix =\n",
      "[[ 528   17]\n",
      " [ 875 4035]]\n",
      "INFO:tensorflow:Restoring parameters from /Volumes/Mac/GW/model/model-plain6.ckpt\n",
      "period of prediction = 35.8337750435 (s)\n",
      "confusionmatrix =\n",
      "[[ 510   35]\n",
      " [ 894 4016]]\n",
      "INFO:tensorflow:Restoring parameters from /Volumes/Mac/GW/model/model-plain6.ckpt\n",
      "period of prediction = 34.6098959446 (s)\n",
      "confusionmatrix =\n",
      "[[ 507   38]\n",
      " [ 905 4005]]\n",
      "INFO:tensorflow:Restoring parameters from /Volumes/Mac/GW/model/model-plain6.ckpt\n",
      "period of prediction = 36.3702871799 (s)\n",
      "confusionmatrix =\n",
      "[[ 522   23]\n",
      " [ 909 4001]]\n",
      "INFO:tensorflow:Restoring parameters from /Volumes/Mac/GW/model/model-plain6.ckpt\n",
      "period of prediction = 36.9760270119 (s)\n",
      "confusionmatrix =\n",
      "[[ 515   30]\n",
      " [ 861 4049]]\n",
      "INFO:tensorflow:Restoring parameters from /Volumes/Mac/GW/model/model-plain6.ckpt\n",
      "period of prediction = 35.9633591175 (s)\n",
      "confusionmatrix =\n",
      "[[ 519   26]\n",
      " [ 901 4009]]\n",
      "INFO:tensorflow:Restoring parameters from /Volumes/Mac/GW/model/model-plain6.ckpt\n",
      "period of prediction = 39.9296882153 (s)\n",
      "confusionmatrix =\n",
      "[[ 519   26]\n",
      " [ 858 4052]]\n",
      "INFO:tensorflow:Restoring parameters from /Volumes/Mac/GW/model/model-plain6.ckpt\n",
      "period of prediction = 39.9455530643 (s)\n",
      "confusionmatrix =\n",
      "[[ 525   20]\n",
      " [ 906 4004]]\n",
      "INFO:tensorflow:Restoring parameters from /Volumes/Mac/GW/model/model-plain6.ckpt\n",
      "period of prediction = 38.4589779377 (s)\n",
      "confusionmatrix =\n",
      "[[ 526   19]\n",
      " [ 896 4014]]\n",
      "INFO:tensorflow:Restoring parameters from /Volumes/Mac/GW/model/model-plain6.ckpt\n",
      "period of prediction = 41.114700079 (s)\n",
      "confusionmatrix =\n",
      "[[ 521   24]\n",
      " [ 881 4029]]\n",
      "INFO:tensorflow:Restoring parameters from /Volumes/Mac/GW/model/model-plain6.ckpt\n",
      "period of prediction = 36.8950221539 (s)\n",
      "confusionmatrix =\n",
      "[[ 519   26]\n",
      " [ 875 4035]]\n",
      "INFO:tensorflow:Restoring parameters from /Volumes/Mac/GW/model/model-plain6.ckpt\n",
      "period of prediction = 36.5738129616 (s)\n",
      "confusionmatrix =\n",
      "[[ 523   22]\n",
      " [ 917 3993]]\n",
      "INFO:tensorflow:Restoring parameters from /Volumes/Mac/GW/model/model-plain6.ckpt\n",
      "period of prediction = 38.7537779808 (s)\n",
      "confusionmatrix =\n",
      "[[ 522   23]\n",
      " [ 852 4058]]\n",
      "INFO:tensorflow:Restoring parameters from /Volumes/Mac/GW/model/model-plain6.ckpt\n",
      "period of prediction = 36.7022340298 (s)\n",
      "confusionmatrix =\n",
      "[[ 517   28]\n",
      " [ 886 4024]]\n"
     ]
    },
    {
     "name": "stdout",
     "output_type": "stream",
     "text": [
      "INFO:tensorflow:Restoring parameters from /Volumes/Mac/GW/model/model-plain6.ckpt\n",
      "period of prediction = 35.0335559845 (s)\n",
      "confusionmatrix =\n",
      "[[ 521   24]\n",
      " [ 790 4120]]\n",
      "acc = 0.8338551787351054\n",
      "sensitivity = 0.8206028513238289\n",
      "false alarm rate = 0.04675229357798165\n"
     ]
    },
    {
     "data": {
      "image/png": "[encoded data removed]",
      "text/plain": [
       "<Figure size 432x288 with 1 Axes>"
      ]
     },
     "metadata": {},
     "output_type": "display_data"
    }
   ],
   "source": [
    "relation(50)"
   ]
  },
  {
   "cell_type": "code",
   "execution_count": null,
   "metadata": {},
   "outputs": [],
   "source": []
  }
 ],
 "metadata": {
  "kernelspec": {
   "display_name": "Python 2",
   "language": "python",
   "name": "python2"
  },
  "language_info": {
   "codemirror_mode": {
    "name": "ipython",
    "version": 2
   },
   "file_extension": ".py",
   "mimetype": "text/x-python",
   "name": "python",
   "nbconvert_exporter": "python",
   "pygments_lexer": "ipython2",
   "version": "2.7.15"
  }
 },
 "nbformat": 4,
 "nbformat_minor": 2
}
