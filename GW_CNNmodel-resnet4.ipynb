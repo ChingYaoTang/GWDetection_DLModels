{
 "cells": [
  {
   "cell_type": "code",
   "execution_count": 1,
   "metadata": {},
   "outputs": [
    {
     "name": "stderr",
     "output_type": "stream",
     "text": [
      "/anaconda3/envs/anacondapy2/lib/python2.7/site-packages/h5py/__init__.py:36: FutureWarning: Conversion of the second argument of issubdtype from `float` to `np.floating` is deprecated. In future, it will be treated as `np.float64 == np.dtype(float).type`.\n",
      "  from ._conv import register_converters as _register_converters\n"
     ]
    }
   ],
   "source": [
    "import tensorflow as tf\n",
    "import h5py \n",
    "import matplotlib.pyplot as plt\n",
    "import numpy as np\n",
    "import timeit\n",
    "from sklearn import preprocessing"
   ]
  },
  {
   "cell_type": "markdown",
   "metadata": {},
   "source": [
    "# Batched data generator"
   ]
  },
  {
   "cell_type": "code",
   "execution_count": 2,
   "metadata": {},
   "outputs": [],
   "source": [
    "def batch_generator(filename, batch_size):\n",
    "    f = h5py.File(filename, 'r')\n",
    "    batch_count = 0\n",
    "    while True:\n",
    "        if batch_count * batch_size + batch_size > f['label'].shape[0]: #若batchsize不能整除的話，最後餘下的資料永遠不會讀出\n",
    "            batch_count = 0\n",
    "        start_idx = batch_count * batch_size\n",
    "        end_idx = start_idx + batch_size\n",
    "        batch_count += 1\n",
    "        yield f['data'][start_idx : end_idx] , f['label'][start_idx : end_idx]\n",
    "    f.close()"
   ]
  },
  {
   "cell_type": "markdown",
   "metadata": {},
   "source": [
    "# Weight function"
   ]
  },
  {
   "cell_type": "code",
   "execution_count": 3,
   "metadata": {},
   "outputs": [],
   "source": [
    "def w(shape): #weight\n",
    "    return tf.Variable(tf.truncated_normal(shape, stddev=0.1), name='w')\n",
    "\n",
    "def b(shape): #bias\n",
    "    return tf.Variable(tf.constant(0.1,shape=shape), name='b')\n",
    "\n",
    "def conv2d(x,w): #x:輸入影像，須為4維張量。 w:filter權重\n",
    "    return tf.nn.conv2d(x, w, strides=[1,1,1,1], padding='SAME')\n",
    "\n",
    "def maxpool2x2(x):\n",
    "    return tf.nn.max_pool(x, ksize=[1,2,2,1], strides=[1,2,2,1], padding='SAME')\n"
   ]
  },
  {
   "cell_type": "markdown",
   "metadata": {},
   "source": [
    "# Model"
   ]
  },
  {
   "cell_type": "code",
   "execution_count": 4,
   "metadata": {},
   "outputs": [],
   "source": [
    "pr = '10.00'\n",
    "traindatafile_ =  '/Volumes/Mac/GW/spec/withoutoverlap/5~75/trainingdata_spec_pr'+pr+'.h5'\n",
    "modelstore = '/Volumes/Mac/GW/model/model-resnet4.ckpt'"
   ]
  },
  {
   "cell_type": "code",
   "execution_count": 5,
   "metadata": {},
   "outputs": [
    {
     "name": "stdout",
     "output_type": "stream",
     "text": [
      "5050\n"
     ]
    }
   ],
   "source": [
    "f = h5py.File(traindatafile_, 'r')\n",
    "ll = len(f['data'])\n",
    "print ll"
   ]
  },
  {
   "cell_type": "code",
   "execution_count": 6,
   "metadata": {},
   "outputs": [
    {
     "name": "stdout",
     "output_type": "stream",
     "text": [
      "lenth f = 257\n",
      "lenth t = 121\n",
      "idx512= 32\n",
      "batch size = 24\n"
     ]
    }
   ],
   "source": [
    "sample_rate = 8192\n",
    "data_length = 8192 \n",
    "T = data_length / sample_rate\n",
    "\n",
    "nitv = 16.0\n",
    "novl = 8.0\n",
    "#f\n",
    "lenf = int(sample_rate/nitv/2+1)\n",
    "print 'lenth f =',lenf\n",
    "#t\n",
    "lent = int((nitv*T-1)*novl+1)\n",
    "print 'lenth t =',lent\n",
    "\n",
    "#idx of f=512\n",
    "idx512 = (lenf-1)/8\n",
    "print 'idx512=',idx512\n",
    "\n",
    "\n",
    "batchSize = 24\n",
    "print 'batch size =' ,batchSize\n",
    "datasize = ll\n",
    "totalBatchs = datasize/batchSize\n",
    "\n",
    "c1fs = 8 #conv1 filter size\n",
    "c1fn = 3 #conv1 output channel number\n",
    "c2fs = 8 #conv2 filter size\n",
    "c2fn = 3 #conv2 output channel number\n",
    "c3fs = 4 #conv3 filter size\n",
    "c3fn = 5 #conv3 output channel number\n",
    "c4fs = 4 #conv4 filter size\n",
    "c4fn = 5 #conv4 output channel number\n",
    "dos1 = idx512+1 #1st dim of spectrogram\n",
    "dos2 = lent #2nd din of spectrogram\n",
    "lnn1 = 128 #layer1 neuron number\n",
    "lnn2 = 32 #layer1 neuron number"
   ]
  },
  {
   "cell_type": "code",
   "execution_count": 7,
   "metadata": {},
   "outputs": [
    {
     "name": "stdout",
     "output_type": "stream",
     "text": [
      "[None, 17, 61, 1]\n",
      "[None, 17, 61, 3]\n",
      "[None, 17, 61, 3]\n",
      "2\n",
      "[None, 17, 61, 2]\n",
      "WARNING:tensorflow:From <ipython-input-7-0add055e92fa>:75: softmax_cross_entropy_with_logits (from tensorflow.python.ops.nn_ops) is deprecated and will be removed in a future version.\n",
      "Instructions for updating:\n",
      "\n",
      "Future major versions of TensorFlow will allow gradients to flow\n",
      "into the labels input on backprop by default.\n",
      "\n",
      "See @{tf.nn.softmax_cross_entropy_with_logits_v2}.\n",
      "\n"
     ]
    }
   ],
   "source": [
    "with tf.name_scope('input_layer'):\n",
    "    x = tf.placeholder('float', shape=[None, dos1, dos2], name='x')\n",
    "    x_image = tf.reshape(x, [-1, dos1, dos2, 1]) #(筆數,頻率維度,時間維度,顏色維度)\n",
    "    \n",
    "with tf.name_scope('pool'):\n",
    "    pool = maxpool2x2(x_image)\n",
    "    print pool.shape.as_list()\n",
    "    \n",
    "with tf.name_scope('c1_conv'):\n",
    "    w1 = w([c1fs ,c1fs ,1, c1fn])\n",
    "    b1 = b([c1fn])\n",
    "    conv1 = conv2d(pool, w1) + b1\n",
    "    c1_conv = tf.nn.relu(conv1)\n",
    "    print  conv1.shape.as_list()\n",
    "    \n",
    "with tf.name_scope('c2_conv'):\n",
    "    w2 = w([c2fs ,c2fs , c1fn, c2fn])\n",
    "    b2 = b([c2fn])\n",
    "    conv2 = conv2d(c1_conv,w2) +b2\n",
    "    print  conv2.shape.as_list()\n",
    "    \n",
    "    increase_dim_c2 = conv2.shape.as_list()[3]-pool.shape.as_list()[3]\n",
    "    print  increase_dim_c2\n",
    "    zeropadding_c2 = tf.zeros_like(conv2)[:,:,:,0:increase_dim_c2]\n",
    "    print zeropadding_c2.shape.as_list()\n",
    "    #shortcut connection\n",
    "    c2_rl = conv2 + tf.concat([pool,zeropadding_c2], 3)\n",
    "    c2_conv = tf.nn.relu(c2_rl)\n",
    "    \n",
    "with tf.name_scope('c2_pool'):\n",
    "    c2_pool = maxpool2x2(c2_conv)\n",
    "    \n",
    "with tf.name_scope('c3_conv'):\n",
    "    w3 = w([c3fs ,c3fs ,c2fn, c3fn])\n",
    "    b3 = b([c3fn])\n",
    "    conv3 = conv2d(c2_pool, w3) + b3\n",
    "    c3_conv = tf.nn.relu(conv3)\n",
    "    \n",
    "with tf.name_scope('c4_conv'):\n",
    "    w4 = w([c4fs ,c4fs ,c3fn, c4fn])\n",
    "    b4 = b([c4fn])\n",
    "    conv4 = conv2d(c3_conv, w4) + b4\n",
    "    \n",
    "    increase_dim_c4 = conv4.shape.as_list()[3]-c2_pool.shape.as_list()[3]\n",
    "    zeropadding_c4 = tf.zeros_like(conv4)[:,:,:,0:increase_dim_c4]\n",
    "    #shortcut connection\n",
    "    c4_rl = conv4 + tf.concat([c2_pool,zeropadding_c4], 3)\n",
    "    c4_conv = tf.nn.relu(c4_rl)\n",
    "    \n",
    "\n",
    "#neurons = dos1/8*dos2/8*c3fn\n",
    "with tf.name_scope('D_flat'):\n",
    "    D_Flat = tf.layers.Flatten()(c4_conv)\n",
    "\n",
    "with tf.name_scope('D_hidden_layer1'):\n",
    "    inputdim = D_Flat.shape.as_list()[1]\n",
    "    wl1 = w([inputdim, lnn1])\n",
    "    bl1 = b([lnn1])\n",
    "    D_hidden1 = tf.nn.relu(tf.matmul(D_Flat, wl1)+bl1)\n",
    "    \n",
    "with tf.name_scope('D_hidden_layer2'):\n",
    "    wl2 = w([lnn1, lnn2])\n",
    "    bl2 = b([lnn2])\n",
    "    D_hidden2 = tf.nn.relu(tf.matmul(D_hidden1, wl2)+bl2)\n",
    "    \n",
    "with tf.name_scope('output_layer'):\n",
    "    wo = w([lnn2,2])\n",
    "    bo = b([2])\n",
    "    #y_predict = tf.sigmoid(tf.matmul(D_hidden2,wo)+bo)\n",
    "    y_predict = tf.nn.softmax(tf.matmul(D_hidden2,wo)+bo)\n",
    "    \n",
    "with tf.name_scope('optimizer'):\n",
    "    y_label = tf.placeholder('float', shape=[None,2], name='y_label')\n",
    "    #lossfunction = tf.reduce_mean(tf.nn.sigmoid_cross_entropy_with_logits(logits=y_predict, labels=y_label))\n",
    "    lossfunction = tf.reduce_mean(tf.nn.softmax_cross_entropy_with_logits(logits=y_predict, labels=y_label))\n",
    "    optimizer = tf.train.AdamOptimizer(learning_rate=0.0001).minimize(lossfunction)\n",
    "    \n",
    "with tf.name_scope('evaluate_model'):\n",
    "    correct_prediction = tf.equal(tf.argmax(y_predict,1), tf.argmax(y_label,1))\n",
    "    accuracy = tf.reduce_mean(tf.cast(correct_prediction,'float'))"
   ]
  },
  {
   "cell_type": "markdown",
   "metadata": {},
   "source": [
    "# Training"
   ]
  },
  {
   "cell_type": "code",
   "execution_count": 30,
   "metadata": {},
   "outputs": [],
   "source": [
    "def evaluate(trainEpochs,peakratio):\n",
    "\n",
    "    start_time = timeit.default_timer()\n",
    "    sess = tf.Session()\n",
    "\n",
    "    saver = tf.train.Saver()\n",
    "\n",
    "    try: #第一次之後執行\n",
    "        saver.restore(sess, modelstore)\n",
    "    except: #第一次跑時執行\n",
    "        sess.run(tf.global_variables_initializer())\n",
    "\n",
    "    traindatafile =  '/Volumes/Mac/GW/spec/withoutoverlap/5~75/trainingdatawo_spec16-8_freq512_pr'+str(peakratio)+'_mr<=10.h5'\n",
    "    valdatafile = '/Volumes/Mac/GW/spec/overlap/5~75/validationdata_spec16-8_freq512_pr'+str(peakratio)+'_mr<=10.h5'\n",
    "    \n",
    "    \n",
    "    bg = batch_generator(traindatafile, batchSize)\n",
    "    fval = h5py.File(valdatafile, 'r')\n",
    "    val_x = fval['data'][...]\n",
    "    val_y = fval['label'][...]\n",
    "    #np_utils.to_categorical\n",
    "    for epoch in range(trainEpochs):\n",
    "        for i in range(totalBatchs):\n",
    "            #每次讀取100筆資料\n",
    "            batch_x, batch_y = next(bg)\n",
    "            #將feature和label輸入並計算執行圖\n",
    "            sess.run(optimizer, feed_dict={x : batch_x, y_label : sess.run(tf.one_hot(batch_y, 2)) })\n",
    "        #使用驗證資料計算一次epoch的loss和acc    \n",
    "        loss, acc = sess.run([lossfunction,accuracy],feed_dict={x : val_x, y_label : sess.run(tf.one_hot(val_y, 2))})\n",
    "    \n",
    "        print 'Train Epoch:', '%02d'%(epoch+1), 'Loss=', '{:.9f}'.format(loss), 'Accuracy=',acc\n",
    "    \n",
    "\n",
    "    saver.save(sess, modelstore)\n",
    "\n",
    "    fval.close()\n",
    "    stop_time = timeit.default_timer()\n",
    "    print 'period(s) =', stop_time - start_time\n",
    "    \n",
    "    \n",
    "def estimate(testdatafile):\n",
    "    sess = tf.Session()\n",
    "    saver = tf.train.Saver()\n",
    "    saver.restore(sess, modelstore)\n",
    "    ftest = h5py.File(testdatafile, 'r')\n",
    "    test_x = ftest['data'][...]\n",
    "    test_y = ftest['label'][...]\n",
    "    ftest.close()\n",
    "    \n",
    "    start_time = timeit.default_timer()\n",
    "    acc =  sess.run(accuracy, feed_dict={x : test_x, y_label : sess.run(tf.one_hot(test_y, 2)) })\n",
    "    print 'acc :', acc\n",
    "    stop_time = timeit.default_timer()\n",
    "    print 'period of estimate =', stop_time - start_time, '(s)'\n",
    "    return acc\n",
    "    \n",
    "def prediction_result(testdatafile):\n",
    "    sess = tf.Session()\n",
    "    saver = tf.train.Saver()\n",
    "    saver.restore(sess, modelstore)\n",
    "    ftest = h5py.File(testdatafile, 'r')\n",
    "    test_x = ftest['data']\n",
    "    print test_x.shape\n",
    "    test_y = ftest['label']\n",
    "    ftest.close()\n",
    "    \n",
    "    start_time = timeit.default_timer()\n",
    "    predictresult = sess.run(tf.argmax(y_predict, 1), feed_dict={x : test_x, y_label : sess.run(tf.one_hot(test_y, 2))})\n",
    "    stop_time = timeit.default_timer()\n",
    "    print 'period of prediction =', stop_time - start_time, '(s)'\n",
    "    return predictresult"
   ]
  },
  {
   "cell_type": "code",
   "execution_count": 9,
   "metadata": {},
   "outputs": [],
   "source": [
    "def relation(n):\n",
    "    d = '/Volumes/Mac/GW/spec/withoutoverlap/5.5~74.5/testdatawo_spec16-8_freq512_pr0.5_2time10_'\n",
    "    rm = np.zeros([70,70])\n",
    "    cm = np.zeros([2,2])\n",
    "    for j in range(n):\n",
    "        data =  d+str(j)+'_mr<=10.h5'\n",
    "        test = h5py.File(data, 'r')\n",
    "        test_par = test['parameter'][...]\n",
    "        test_lab = test['label'][...]\n",
    "        test.close()\n",
    "        predict = prediction_result(data)\n",
    "        cm += confusionmatrix(predict,test_lab)\n",
    "        for i in range(len(test_par)):\n",
    "            if test_par[i,0] != 0: #選擇有訊號的數據\n",
    "                if test_lab[i] != predict[i]: #預測不正確則顏色加深\n",
    "                    row = int(test_par[i,0]-5.5)\n",
    "                    col =  int(test_par[i,1]-5.5)\n",
    "                    rm[row,col] += 1.\n",
    "    acc(cm)\n",
    "    sensitivity(cm)\n",
    "    false_alarm_rate(cm)\n",
    "    scale = preprocessing.MinMaxScaler(feature_range=(0,1))\n",
    "    rmr = rm.reshape(70*70,1)\n",
    "    rmrn = scale.fit_transform(rmr)\n",
    "    rm = rmrn.reshape(70, 70)\n",
    "    \n",
    "    plt.imshow(rm, cmap='binary')\n",
    "    tick_idx = [0,10,20,30,40,50,60]\n",
    "    tick_mass = [5.5,15.5,25.5,35.5,45.5,55.5,65.5]\n",
    "    plt.yticks(tick_idx , tick_mass)\n",
    "    plt.xticks(tick_idx , tick_mass)\n",
    "    plt.xlabel('m2')\n",
    "    plt.ylabel('m1')\n",
    "\n",
    "def confusionmatrix(prediction_result,test_y):\n",
    "    sess = tf.Session()\n",
    "    cm = sess.run(tf.confusion_matrix(test_y, prediction_result))\n",
    "    print 'confusionmatrix ='\n",
    "    print cm\n",
    "    return cm\n",
    "\n",
    "def false_alarm_rate(cm):\n",
    "    fp = cm[0,1].astype('float64')\n",
    "    tn = cm[0,0].astype('float64')\n",
    "    print 'false alarm rate =',fp/(fp+tn) #false alarm rate\n",
    "    return fp/(fp+tn)\n",
    "\n",
    "def sensitivity(cm):\n",
    "    tp = cm[1,1].astype('float64')\n",
    "    fn = cm[1,0].astype('float64')\n",
    "    print 'sensitivity =',tp/(tp+fn) #sensitivity\n",
    "    return tp/(tp+fn)\n",
    "\n",
    "def acc(cm):\n",
    "    print 'acc =',(cm[0,0]+cm[1,1])/np.sum(cm)\n",
    "def summary():\n",
    "    estimate()\n",
    "    pr = prediction_result()\n",
    "    cm = confusionmatrix(pr)\n",
    "    false_alarm_rate(cm)\n",
    "    sensitivity(cm)"
   ]
  },
  {
   "cell_type": "code",
   "execution_count": 13,
   "metadata": {},
   "outputs": [
    {
     "data": {
      "text/plain": [
       "<HDF5 dataset \"pr\": shape (8,), type \"<f4\">"
      ]
     },
     "execution_count": 13,
     "metadata": {},
     "output_type": "execute_result"
    }
   ],
   "source": [
    "th = h5py.File('/Volumes/Mac/GW/traininghistory/traininghistory-resnet4', 'a')\n",
    "th.create_dataset('sen', (8,), maxshape=(None,))\n",
    "th.create_dataset('far', (8,), maxshape=(None,))\n",
    "th.create_dataset('acc', (8,), maxshape=(None,))\n",
    "th.create_dataset('pr', (8,), maxshape=(None,))"
   ]
  },
  {
   "cell_type": "code",
   "execution_count": 14,
   "metadata": {},
   "outputs": [
    {
     "name": "stdout",
     "output_type": "stream",
     "text": [
      "INFO:tensorflow:Restoring parameters from /Volumes/Mac/GW/model/model-resnet4.ckpt\n",
      "Train Epoch: 01 Loss= 0.314248055 Accuracy= 1.0\n",
      "Train Epoch: 02 Loss= 0.313448757 Accuracy= 1.0\n",
      "Train Epoch: 03 Loss= 0.313340366 Accuracy= 1.0\n",
      "Train Epoch: 04 Loss= 0.313298017 Accuracy= 1.0\n",
      "period(s) = 179.253688097\n"
     ]
    }
   ],
   "source": [
    "pr=2\n",
    "evaluate(4,pr)"
   ]
  },
  {
   "cell_type": "code",
   "execution_count": 15,
   "metadata": {},
   "outputs": [
    {
     "name": "stdout",
     "output_type": "stream",
     "text": [
      "INFO:tensorflow:Restoring parameters from /Volumes/Mac/GW/model/model-resnet4.ckpt\n",
      "Train Epoch: 01 Loss= 0.313277900 Accuracy= 1.0\n",
      "Train Epoch: 02 Loss= 0.313271582 Accuracy= 1.0\n",
      "Train Epoch: 03 Loss= 0.313268453 Accuracy= 1.0\n",
      "Train Epoch: 04 Loss= 0.313266754 Accuracy= 1.0\n",
      "period(s) = 325.816831112\n"
     ]
    }
   ],
   "source": [
    "evaluate(4,pr)"
   ]
  },
  {
   "cell_type": "code",
   "execution_count": 16,
   "metadata": {},
   "outputs": [
    {
     "name": "stdout",
     "output_type": "stream",
     "text": [
      "INFO:tensorflow:Restoring parameters from /Volumes/Mac/GW/model/model-resnet4.ckpt\n",
      "Train Epoch: 01 Loss= 0.313265711 Accuracy= 1.0\n",
      "Train Epoch: 02 Loss= 0.313264996 Accuracy= 1.0\n",
      "Train Epoch: 03 Loss= 0.313264489 Accuracy= 1.0\n",
      "Train Epoch: 04 Loss= 0.313264132 Accuracy= 1.0\n",
      "period(s) = 487.481849909\n"
     ]
    }
   ],
   "source": [
    "evaluate(4,pr)"
   ]
  },
  {
   "cell_type": "code",
   "execution_count": 10,
   "metadata": {},
   "outputs": [
    {
     "name": "stdout",
     "output_type": "stream",
     "text": [
      "INFO:tensorflow:Restoring parameters from /Volumes/Mac/GW/model/model-resnet4.ckpt\n",
      "Train Epoch: 01 Loss= 0.314450711 Accuracy= 1.0\n",
      "Train Epoch: 02 Loss= 0.313404351 Accuracy= 1.0\n",
      "Train Epoch: 03 Loss= 0.313315958 Accuracy= 1.0\n",
      "Train Epoch: 04 Loss= 0.313290238 Accuracy= 1.0\n",
      "period(s) = 178.246795893\n"
     ]
    }
   ],
   "source": [
    "pr=2\n",
    "evaluate(4,pr)"
   ]
  },
  {
   "cell_type": "code",
   "execution_count": 12,
   "metadata": {},
   "outputs": [
    {
     "name": "stdout",
     "output_type": "stream",
     "text": [
      "INFO:tensorflow:Restoring parameters from /Volumes/Mac/GW/model/model-resnet4.ckpt\n",
      "acc : 1.0\n",
      "period of estimate = 11.9198110104 (s)\n",
      "INFO:tensorflow:Restoring parameters from /Volumes/Mac/GW/model/model-resnet4.ckpt\n",
      "period of prediction = 11.5591440201 (s)\n",
      "confusionmatrix =\n",
      "[[3682    0]\n",
      " [   0 2455]]\n",
      "false alarm rate = 0.0\n",
      "sensitivity = 1.0\n",
      "[1. 0. 0. 0. 0. 0. 0. 0.]\n",
      "[0. 0. 0. 0. 0. 0. 0. 0.]\n",
      "[1. 0. 0. 0. 0. 0. 0. 0.]\n",
      "[2. 0. 0. 0. 0. 0. 0. 0.]\n"
     ]
    }
   ],
   "source": [
    "th = h5py.File('/Volumes/Mac/GW/traininghistory/traininghistory-resnet4', 'a')\n",
    "a=estimate('/Volumes/Mac/GW/spec/withoutoverlap/5.5~74.5/testdatawo_spec16-8_freq512_pr'+str(pr)+'_mr<=10.h5')\n",
    "th['acc'][0]=a\n",
    "\n",
    "testd = h5py.File('/Volumes/Mac/GW/spec/withoutoverlap/5.5~74.5/testdatawo_spec16-8_freq512_pr'+str(pr)+'_mr<=10.h5', 'r')\n",
    "testd_lab = testd['label'][...]\n",
    "testd.close()\n",
    "cm = confusionmatrix(prediction_result('/Volumes/Mac/GW/spec/withoutoverlap/5.5~74.5/testdatawo_spec16-8_freq512_pr'+str(pr)+'_mr<=10.h5'),\n",
    "               testd_lab)\n",
    "\n",
    "far = false_alarm_rate(cm)\n",
    "th['far'][0]=far\n",
    "\n",
    "sen = sensitivity(cm)\n",
    "th['sen'][0]=sen\n",
    "\n",
    "th['pr'][0]=pr\n",
    "\n",
    "print th['acc'][...]\n",
    "print th['far'][...]\n",
    "print th['sen'][...]\n",
    "print th['pr'][...]\n",
    "th.close()"
   ]
  },
  {
   "cell_type": "code",
   "execution_count": 10,
   "metadata": {},
   "outputs": [
    {
     "name": "stdout",
     "output_type": "stream",
     "text": [
      "INFO:tensorflow:Restoring parameters from /Volumes/Mac/GW/model/model-resnet4.ckpt\n",
      "Train Epoch: 01 Loss= 0.313366324 Accuracy= 1.0\n",
      "Train Epoch: 02 Loss= 0.313304603 Accuracy= 1.0\n",
      "Train Epoch: 03 Loss= 0.313295543 Accuracy= 1.0\n",
      "Train Epoch: 04 Loss= 0.313295096 Accuracy= 1.0\n",
      "period(s) = 181.09274888\n"
     ]
    }
   ],
   "source": [
    "pr=1.5 ; i=1\n",
    "evaluate(4,pr)"
   ]
  },
  {
   "cell_type": "code",
   "execution_count": 11,
   "metadata": {},
   "outputs": [
    {
     "name": "stdout",
     "output_type": "stream",
     "text": [
      "INFO:tensorflow:Restoring parameters from /Volumes/Mac/GW/model/model-resnet4.ckpt\n",
      "Train Epoch: 01 Loss= 0.313287437 Accuracy= 1.0\n",
      "Train Epoch: 02 Loss= 0.313279897 Accuracy= 1.0\n",
      "Train Epoch: 03 Loss= 0.313275218 Accuracy= 1.0\n",
      "Train Epoch: 04 Loss= 0.313271791 Accuracy= 1.0\n",
      "period(s) = 297.876804113\n"
     ]
    }
   ],
   "source": [
    "evaluate(4,pr)"
   ]
  },
  {
   "cell_type": "code",
   "execution_count": 12,
   "metadata": {},
   "outputs": [
    {
     "name": "stdout",
     "output_type": "stream",
     "text": [
      "INFO:tensorflow:Restoring parameters from /Volumes/Mac/GW/model/model-resnet4.ckpt\n",
      "Train Epoch: 01 Loss= 0.313279241 Accuracy= 1.0\n",
      "Train Epoch: 02 Loss= 0.313266665 Accuracy= 1.0\n",
      "Train Epoch: 03 Loss= 0.313264310 Accuracy= 1.0\n",
      "Train Epoch: 04 Loss= 0.313273937 Accuracy= 1.0\n",
      "period(s) = 445.376435995\n"
     ]
    }
   ],
   "source": [
    "evaluate(4,pr)"
   ]
  },
  {
   "cell_type": "code",
   "execution_count": 13,
   "metadata": {},
   "outputs": [
    {
     "name": "stdout",
     "output_type": "stream",
     "text": [
      "INFO:tensorflow:Restoring parameters from /Volumes/Mac/GW/model/model-resnet4.ckpt\n",
      "Train Epoch: 01 Loss= 0.313263178 Accuracy= 1.0\n",
      "Train Epoch: 02 Loss= 0.313263148 Accuracy= 1.0\n",
      "Train Epoch: 03 Loss= 0.313263059 Accuracy= 1.0\n",
      "Train Epoch: 04 Loss= 0.313262969 Accuracy= 1.0\n",
      "period(s) = 601.453629017\n"
     ]
    }
   ],
   "source": [
    "evaluate(4,pr)"
   ]
  },
  {
   "cell_type": "code",
   "execution_count": 14,
   "metadata": {},
   "outputs": [
    {
     "name": "stdout",
     "output_type": "stream",
     "text": [
      "INFO:tensorflow:Restoring parameters from /Volumes/Mac/GW/model/model-resnet4.ckpt\n",
      "acc : 1.0\n",
      "period of estimate = 9.77213311195 (s)\n",
      "INFO:tensorflow:Restoring parameters from /Volumes/Mac/GW/model/model-resnet4.ckpt\n",
      "period of prediction = 10.3744399548 (s)\n",
      "confusionmatrix =\n",
      "[[3682    0]\n",
      " [   0 2455]]\n",
      "false alarm rate = 0.0\n",
      "sensitivity = 1.0\n",
      "[1. 1. 0. 0. 0. 0. 0. 0.]\n",
      "[0. 0. 0. 0. 0. 0. 0. 0.]\n",
      "[1. 1. 0. 0. 0. 0. 0. 0.]\n",
      "[2.  1.5 0.  0.  0.  0.  0.  0. ]\n"
     ]
    }
   ],
   "source": [
    "th = h5py.File('/Volumes/Mac/GW/traininghistory/traininghistory-resnet4', 'a')\n",
    "a=estimate('/Volumes/Mac/GW/spec/withoutoverlap/5.5~74.5/testdatawo_spec16-8_freq512_pr'+str(pr)+'_mr<=10.h5')\n",
    "th['acc'][i]=a\n",
    "\n",
    "testd = h5py.File('/Volumes/Mac/GW/spec/withoutoverlap/5.5~74.5/testdatawo_spec16-8_freq512_pr'+str(pr)+'_mr<=10.h5', 'r')\n",
    "testd_lab = testd['label'][...]\n",
    "testd.close()\n",
    "cm = confusionmatrix(prediction_result('/Volumes/Mac/GW/spec/withoutoverlap/5.5~74.5/testdatawo_spec16-8_freq512_pr'+str(pr)+'_mr<=10.h5'),\n",
    "               testd_lab)\n",
    "\n",
    "far = false_alarm_rate(cm)\n",
    "th['far'][i]=far\n",
    "\n",
    "sen = sensitivity(cm)\n",
    "th['sen'][i]=sen\n",
    "\n",
    "th['pr'][i]=pr\n",
    "\n",
    "print th['acc'][...]\n",
    "print th['far'][...]\n",
    "print th['sen'][...]\n",
    "print th['pr'][...]\n",
    "th.close()"
   ]
  },
  {
   "cell_type": "code",
   "execution_count": 15,
   "metadata": {},
   "outputs": [
    {
     "name": "stdout",
     "output_type": "stream",
     "text": [
      "INFO:tensorflow:Restoring parameters from /Volumes/Mac/GW/model/model-resnet4.ckpt\n",
      "Train Epoch: 01 Loss= 0.313943267 Accuracy= 0.9993333\n",
      "Train Epoch: 02 Loss= 0.314692318 Accuracy= 0.999\n",
      "Train Epoch: 03 Loss= 0.314960241 Accuracy= 0.998\n",
      "Train Epoch: 04 Loss= 0.315153688 Accuracy= 0.998\n",
      "period(s) = 184.43057394\n"
     ]
    }
   ],
   "source": [
    "pr=1.2 ; i=2\n",
    "evaluate(4,pr)"
   ]
  },
  {
   "cell_type": "code",
   "execution_count": 16,
   "metadata": {},
   "outputs": [
    {
     "name": "stdout",
     "output_type": "stream",
     "text": [
      "INFO:tensorflow:Restoring parameters from /Volumes/Mac/GW/model/model-resnet4.ckpt\n",
      "Train Epoch: 01 Loss= 0.314618796 Accuracy= 0.999\n",
      "Train Epoch: 02 Loss= 0.314191848 Accuracy= 0.999\n",
      "Train Epoch: 03 Loss= 0.313890129 Accuracy= 0.9993333\n",
      "Train Epoch: 04 Loss= 0.313778132 Accuracy= 0.9993333\n",
      "period(s) = 323.639317989\n"
     ]
    }
   ],
   "source": [
    "evaluate(4,pr)"
   ]
  },
  {
   "cell_type": "code",
   "execution_count": 17,
   "metadata": {},
   "outputs": [
    {
     "name": "stdout",
     "output_type": "stream",
     "text": [
      "INFO:tensorflow:Restoring parameters from /Volumes/Mac/GW/model/model-resnet4.ckpt\n",
      "Train Epoch: 01 Loss= 0.313671708 Accuracy= 0.9996667\n",
      "Train Epoch: 02 Loss= 0.313622713 Accuracy= 0.9996667\n",
      "Train Epoch: 03 Loss= 0.313489467 Accuracy= 0.9996667\n",
      "Train Epoch: 04 Loss= 0.313458115 Accuracy= 0.9996667\n",
      "period(s) = 501.072643995\n"
     ]
    }
   ],
   "source": [
    "evaluate(4,pr)"
   ]
  },
  {
   "cell_type": "code",
   "execution_count": 18,
   "metadata": {},
   "outputs": [
    {
     "name": "stdout",
     "output_type": "stream",
     "text": [
      "INFO:tensorflow:Restoring parameters from /Volumes/Mac/GW/model/model-resnet4.ckpt\n",
      "Train Epoch: 01 Loss= 0.313425034 Accuracy= 1.0\n",
      "Train Epoch: 02 Loss= 0.313398659 Accuracy= 1.0\n",
      "Train Epoch: 03 Loss= 0.313385695 Accuracy= 1.0\n",
      "Train Epoch: 04 Loss= 0.313390613 Accuracy= 1.0\n",
      "period(s) = 681.923896074\n"
     ]
    }
   ],
   "source": [
    "evaluate(4,pr)"
   ]
  },
  {
   "cell_type": "code",
   "execution_count": 19,
   "metadata": {},
   "outputs": [
    {
     "name": "stdout",
     "output_type": "stream",
     "text": [
      "INFO:tensorflow:Restoring parameters from /Volumes/Mac/GW/model/model-resnet4.ckpt\n",
      "acc : 0.99918526\n",
      "period of estimate = 13.3691301346 (s)\n",
      "INFO:tensorflow:Restoring parameters from /Volumes/Mac/GW/model/model-resnet4.ckpt\n",
      "period of prediction = 11.1446931362 (s)\n",
      "confusionmatrix =\n",
      "[[3678    4]\n",
      " [   1 2454]]\n",
      "false alarm rate = 0.0010863661053775121\n",
      "sensitivity = 0.9995926680244399\n",
      "[1.         1.         0.99918526 0.         0.         0.\n",
      " 0.         0.        ]\n",
      "[0.         0.         0.00108637 0.         0.         0.\n",
      " 0.         0.        ]\n",
      "[1.         1.         0.99959266 0.         0.         0.\n",
      " 0.         0.        ]\n",
      "[2.  1.5 1.2 0.  0.  0.  0.  0. ]\n"
     ]
    }
   ],
   "source": [
    "th = h5py.File('/Volumes/Mac/GW/traininghistory/traininghistory-resnet4', 'a')\n",
    "a=estimate('/Volumes/Mac/GW/spec/withoutoverlap/5.5~74.5/testdatawo_spec16-8_freq512_pr'+str(pr)+'_mr<=10.h5')\n",
    "th['acc'][i]=a\n",
    "\n",
    "testd = h5py.File('/Volumes/Mac/GW/spec/withoutoverlap/5.5~74.5/testdatawo_spec16-8_freq512_pr'+str(pr)+'_mr<=10.h5', 'r')\n",
    "testd_lab = testd['label'][...]\n",
    "testd.close()\n",
    "cm = confusionmatrix(prediction_result('/Volumes/Mac/GW/spec/withoutoverlap/5.5~74.5/testdatawo_spec16-8_freq512_pr'+str(pr)+'_mr<=10.h5'),\n",
    "               testd_lab)\n",
    "\n",
    "far = false_alarm_rate(cm)\n",
    "th['far'][i]=far\n",
    "\n",
    "sen = sensitivity(cm)\n",
    "th['sen'][i]=sen\n",
    "\n",
    "th['pr'][i]=pr\n",
    "\n",
    "print th['acc'][...]\n",
    "print th['far'][...]\n",
    "print th['sen'][...]\n",
    "print th['pr'][...]\n",
    "th.close()"
   ]
  },
  {
   "cell_type": "code",
   "execution_count": 10,
   "metadata": {},
   "outputs": [
    {
     "name": "stdout",
     "output_type": "stream",
     "text": [
      "INFO:tensorflow:Restoring parameters from /Volumes/Mac/GW/model/model-resnet4.ckpt\n",
      "Train Epoch: 01 Loss= 0.317530364 Accuracy= 0.9956667\n",
      "Train Epoch: 02 Loss= 0.318826735 Accuracy= 0.9946667\n",
      "Train Epoch: 03 Loss= 0.320268750 Accuracy= 0.99333334\n",
      "Train Epoch: 04 Loss= 0.320191860 Accuracy= 0.993\n",
      "period(s) = 171.532083988\n"
     ]
    }
   ],
   "source": [
    "pr=1 ; i=3\n",
    "evaluate(4,pr)"
   ]
  },
  {
   "cell_type": "code",
   "execution_count": 11,
   "metadata": {},
   "outputs": [
    {
     "name": "stdout",
     "output_type": "stream",
     "text": [
      "INFO:tensorflow:Restoring parameters from /Volumes/Mac/GW/model/model-resnet4.ckpt\n",
      "Train Epoch: 01 Loss= 0.319845021 Accuracy= 0.99366665\n",
      "Train Epoch: 02 Loss= 0.318833947 Accuracy= 0.994\n",
      "Train Epoch: 03 Loss= 0.317790359 Accuracy= 0.9953333\n",
      "Train Epoch: 04 Loss= 0.319683254 Accuracy= 0.99333334\n",
      "period(s) = 342.46666193\n"
     ]
    }
   ],
   "source": [
    "evaluate(4,pr)"
   ]
  },
  {
   "cell_type": "code",
   "execution_count": 12,
   "metadata": {},
   "outputs": [
    {
     "name": "stdout",
     "output_type": "stream",
     "text": [
      "INFO:tensorflow:Restoring parameters from /Volumes/Mac/GW/model/model-resnet4.ckpt\n",
      "Train Epoch: 01 Loss= 0.320025742 Accuracy= 0.993\n",
      "Train Epoch: 02 Loss= 0.320415974 Accuracy= 0.99233335\n",
      "Train Epoch: 03 Loss= 0.320598304 Accuracy= 0.9916667\n",
      "Train Epoch: 04 Loss= 0.315899760 Accuracy= 0.99733335\n",
      "period(s) = 460.931113005\n"
     ]
    }
   ],
   "source": [
    "evaluate(4,pr)"
   ]
  },
  {
   "cell_type": "code",
   "execution_count": 13,
   "metadata": {},
   "outputs": [
    {
     "name": "stdout",
     "output_type": "stream",
     "text": [
      "INFO:tensorflow:Restoring parameters from /Volumes/Mac/GW/model/model-resnet4.ckpt\n",
      "Train Epoch: 01 Loss= 0.316611439 Accuracy= 0.99633336\n",
      "Train Epoch: 02 Loss= 0.316892266 Accuracy= 0.996\n",
      "Train Epoch: 03 Loss= 0.319708586 Accuracy= 0.99333334\n",
      "Train Epoch: 04 Loss= 0.317193806 Accuracy= 0.9953333\n",
      "period(s) = 603.37967205\n"
     ]
    }
   ],
   "source": [
    "pr=1 ; i=3\n",
    "evaluate(4,pr)"
   ]
  },
  {
   "cell_type": "code",
   "execution_count": 14,
   "metadata": {},
   "outputs": [
    {
     "name": "stdout",
     "output_type": "stream",
     "text": [
      "INFO:tensorflow:Restoring parameters from /Volumes/Mac/GW/model/model-resnet4.ckpt\n",
      "acc : 0.997067\n",
      "period of estimate = 11.3731510639 (s)\n",
      "INFO:tensorflow:Restoring parameters from /Volumes/Mac/GW/model/model-resnet4.ckpt\n",
      "period of prediction = 10.5231881142 (s)\n",
      "confusionmatrix =\n",
      "[[3680    2]\n",
      " [  16 2439]]\n",
      "false alarm rate = 0.0005431830526887561\n",
      "sensitivity = 0.9934826883910387\n",
      "[1.         1.         0.99918526 0.997067   0.         0.\n",
      " 0.         0.        ]\n",
      "[0.         0.         0.00108637 0.00054318 0.         0.\n",
      " 0.         0.        ]\n",
      "[1.         1.         0.99959266 0.9934827  0.         0.\n",
      " 0.         0.        ]\n",
      "[2.  1.5 1.2 1.  0.  0.  0.  0. ]\n"
     ]
    }
   ],
   "source": [
    "th = h5py.File('/Volumes/Mac/GW/traininghistory/traininghistory-resnet4', 'a')\n",
    "a=estimate('/Volumes/Mac/GW/spec/withoutoverlap/5.5~74.5/testdatawo_spec16-8_freq512_pr'+str(pr)+'_mr<=10.h5')\n",
    "th['acc'][i]=a\n",
    "\n",
    "testd = h5py.File('/Volumes/Mac/GW/spec/withoutoverlap/5.5~74.5/testdatawo_spec16-8_freq512_pr'+str(pr)+'_mr<=10.h5', 'r')\n",
    "testd_lab = testd['label'][...]\n",
    "testd.close()\n",
    "cm = confusionmatrix(prediction_result('/Volumes/Mac/GW/spec/withoutoverlap/5.5~74.5/testdatawo_spec16-8_freq512_pr'+str(pr)+'_mr<=10.h5'),\n",
    "               testd_lab)\n",
    "\n",
    "far = false_alarm_rate(cm)\n",
    "th['far'][i]=far\n",
    "\n",
    "sen = sensitivity(cm)\n",
    "th['sen'][i]=sen\n",
    "\n",
    "th['pr'][i]=pr\n",
    "\n",
    "print th['acc'][...]\n",
    "print th['far'][...]\n",
    "print th['sen'][...]\n",
    "print th['pr'][...]\n",
    "th.close()"
   ]
  },
  {
   "cell_type": "code",
   "execution_count": 10,
   "metadata": {},
   "outputs": [
    {
     "name": "stdout",
     "output_type": "stream",
     "text": [
      "INFO:tensorflow:Restoring parameters from /Volumes/Mac/GW/model/model-resnet4.ckpt\n",
      "Train Epoch: 01 Loss= 0.335085869 Accuracy= 0.97866666\n",
      "Train Epoch: 02 Loss= 0.331026524 Accuracy= 0.982\n",
      "Train Epoch: 03 Loss= 0.328719556 Accuracy= 0.98433334\n",
      "Train Epoch: 04 Loss= 0.328095347 Accuracy= 0.985\n",
      "period(s) = 169.509294033\n"
     ]
    }
   ],
   "source": [
    "pr=0.8 ; i=4\n",
    "evaluate(4,pr)"
   ]
  },
  {
   "cell_type": "code",
   "execution_count": 11,
   "metadata": {},
   "outputs": [
    {
     "name": "stdout",
     "output_type": "stream",
     "text": [
      "INFO:tensorflow:Restoring parameters from /Volumes/Mac/GW/model/model-resnet4.ckpt\n",
      "Train Epoch: 01 Loss= 0.328207254 Accuracy= 0.9856667\n",
      "Train Epoch: 02 Loss= 0.328063279 Accuracy= 0.9856667\n",
      "Train Epoch: 03 Loss= 0.328001946 Accuracy= 0.986\n",
      "Train Epoch: 04 Loss= 0.325859338 Accuracy= 0.9866667\n",
      "period(s) = 296.806728125\n"
     ]
    }
   ],
   "source": [
    "evaluate(4,pr)"
   ]
  },
  {
   "cell_type": "code",
   "execution_count": 12,
   "metadata": {},
   "outputs": [
    {
     "name": "stdout",
     "output_type": "stream",
     "text": [
      "INFO:tensorflow:Restoring parameters from /Volumes/Mac/GW/model/model-resnet4.ckpt\n",
      "Train Epoch: 01 Loss= 0.325443596 Accuracy= 0.98733336\n",
      "Train Epoch: 02 Loss= 0.324876189 Accuracy= 0.988\n",
      "Train Epoch: 03 Loss= 0.324491829 Accuracy= 0.98866665\n",
      "Train Epoch: 04 Loss= 0.324290037 Accuracy= 0.989\n",
      "period(s) = 446.162398815\n"
     ]
    }
   ],
   "source": [
    "evaluate(4,pr)"
   ]
  },
  {
   "cell_type": "code",
   "execution_count": 13,
   "metadata": {},
   "outputs": [
    {
     "name": "stdout",
     "output_type": "stream",
     "text": [
      "INFO:tensorflow:Restoring parameters from /Volumes/Mac/GW/model/model-resnet4.ckpt\n",
      "Train Epoch: 01 Loss= 0.324130327 Accuracy= 0.989\n",
      "Train Epoch: 02 Loss= 0.324041963 Accuracy= 0.989\n",
      "Train Epoch: 03 Loss= 0.323938996 Accuracy= 0.989\n",
      "Train Epoch: 04 Loss= 0.323825836 Accuracy= 0.989\n",
      "period(s) = 596.786413908\n"
     ]
    }
   ],
   "source": [
    "evaluate(4,pr)"
   ]
  },
  {
   "cell_type": "code",
   "execution_count": 14,
   "metadata": {},
   "outputs": [
    {
     "name": "stdout",
     "output_type": "stream",
     "text": [
      "INFO:tensorflow:Restoring parameters from /Volumes/Mac/GW/model/model-resnet4.ckpt\n",
      "acc : 0.9915268\n",
      "period of estimate = 11.2018179893 (s)\n",
      "INFO:tensorflow:Restoring parameters from /Volumes/Mac/GW/model/model-resnet4.ckpt\n",
      "period of prediction = 10.7055280209 (s)\n",
      "confusionmatrix =\n",
      "[[3661   21]\n",
      " [  31 2424]]\n",
      "false alarm rate = 0.005703422053231939\n",
      "sensitivity = 0.9873727087576375\n",
      "[1.         1.         0.99918526 0.997067   0.9915268  0.\n",
      " 0.         0.        ]\n",
      "[0.         0.         0.00108637 0.00054318 0.00570342 0.\n",
      " 0.         0.        ]\n",
      "[1.         1.         0.99959266 0.9934827  0.9873727  0.\n",
      " 0.         0.        ]\n",
      "[2.  1.5 1.2 1.  0.8 0.  0.  0. ]\n"
     ]
    }
   ],
   "source": [
    "th = h5py.File('/Volumes/Mac/GW/traininghistory/traininghistory-resnet4', 'a')\n",
    "a=estimate('/Volumes/Mac/GW/spec/withoutoverlap/5.5~74.5/testdatawo_spec16-8_freq512_pr'+str(pr)+'_mr<=10.h5')\n",
    "th['acc'][i]=a\n",
    "\n",
    "testd = h5py.File('/Volumes/Mac/GW/spec/withoutoverlap/5.5~74.5/testdatawo_spec16-8_freq512_pr'+str(pr)+'_mr<=10.h5', 'r')\n",
    "testd_lab = testd['label'][...]\n",
    "testd.close()\n",
    "cm = confusionmatrix(prediction_result('/Volumes/Mac/GW/spec/withoutoverlap/5.5~74.5/testdatawo_spec16-8_freq512_pr'+str(pr)+'_mr<=10.h5'),\n",
    "               testd_lab)\n",
    "\n",
    "far = false_alarm_rate(cm)\n",
    "th['far'][i]=far\n",
    "\n",
    "sen = sensitivity(cm)\n",
    "th['sen'][i]=sen\n",
    "\n",
    "th['pr'][i]=pr\n",
    "\n",
    "print th['acc'][...]\n",
    "print th['far'][...]\n",
    "print th['sen'][...]\n",
    "print th['pr'][...]\n",
    "th.close()"
   ]
  },
  {
   "cell_type": "code",
   "execution_count": 10,
   "metadata": {},
   "outputs": [
    {
     "name": "stdout",
     "output_type": "stream",
     "text": [
      "INFO:tensorflow:Restoring parameters from /Volumes/Mac/GW/model/model-resnet4.ckpt\n",
      "Train Epoch: 01 Loss= 0.336540461 Accuracy= 0.9773333\n",
      "Train Epoch: 02 Loss= 0.335563421 Accuracy= 0.9766667\n",
      "Train Epoch: 03 Loss= 0.337163180 Accuracy= 0.97533333\n",
      "Train Epoch: 04 Loss= 0.337756962 Accuracy= 0.97533333\n",
      "period(s) = 168.075651884\n"
     ]
    }
   ],
   "source": [
    "pr=0.7 ; i=5\n",
    "evaluate(4,pr)"
   ]
  },
  {
   "cell_type": "code",
   "execution_count": 11,
   "metadata": {},
   "outputs": [
    {
     "name": "stdout",
     "output_type": "stream",
     "text": [
      "INFO:tensorflow:Restoring parameters from /Volumes/Mac/GW/model/model-resnet4.ckpt\n",
      "Train Epoch: 01 Loss= 0.337845653 Accuracy= 0.975\n",
      "Train Epoch: 02 Loss= 0.337086886 Accuracy= 0.97566664\n",
      "Train Epoch: 03 Loss= 0.335121304 Accuracy= 0.977\n",
      "Train Epoch: 04 Loss= 0.334341586 Accuracy= 0.9776667\n",
      "period(s) = 292.793498039\n"
     ]
    }
   ],
   "source": [
    "evaluate(4,pr)"
   ]
  },
  {
   "cell_type": "code",
   "execution_count": 12,
   "metadata": {},
   "outputs": [
    {
     "name": "stdout",
     "output_type": "stream",
     "text": [
      "INFO:tensorflow:Restoring parameters from /Volumes/Mac/GW/model/model-resnet4.ckpt\n",
      "Train Epoch: 01 Loss= 0.333845496 Accuracy= 0.97966665\n",
      "Train Epoch: 02 Loss= 0.333633512 Accuracy= 0.97933334\n",
      "Train Epoch: 03 Loss= 0.333730072 Accuracy= 0.979\n",
      "Train Epoch: 04 Loss= 0.334799558 Accuracy= 0.9773333\n",
      "period(s) = 437.620516062\n"
     ]
    }
   ],
   "source": [
    "evaluate(4,pr)"
   ]
  },
  {
   "cell_type": "code",
   "execution_count": 13,
   "metadata": {},
   "outputs": [
    {
     "name": "stdout",
     "output_type": "stream",
     "text": [
      "INFO:tensorflow:Restoring parameters from /Volumes/Mac/GW/model/model-resnet4.ckpt\n",
      "Train Epoch: 01 Loss= 0.335434735 Accuracy= 0.9763333\n",
      "Train Epoch: 02 Loss= 0.335857958 Accuracy= 0.9763333\n",
      "Train Epoch: 03 Loss= 0.335375041 Accuracy= 0.976\n",
      "Train Epoch: 04 Loss= 0.335074455 Accuracy= 0.9776667\n",
      "period(s) = 611.742298126\n"
     ]
    }
   ],
   "source": [
    "pr=0.7 ; i=5\n",
    "evaluate(4,pr)"
   ]
  },
  {
   "cell_type": "code",
   "execution_count": 14,
   "metadata": {},
   "outputs": [
    {
     "name": "stdout",
     "output_type": "stream",
     "text": [
      "INFO:tensorflow:Restoring parameters from /Volumes/Mac/GW/model/model-resnet4.ckpt\n",
      "acc : 0.97474337\n",
      "period of estimate = 13.2967181206 (s)\n",
      "INFO:tensorflow:Restoring parameters from /Volumes/Mac/GW/model/model-resnet4.ckpt\n",
      "period of prediction = 11.1981058121 (s)\n",
      "confusionmatrix =\n",
      "[[3582  100]\n",
      " [  55 2400]]\n",
      "false alarm rate = 0.027159152634437807\n",
      "sensitivity = 0.9775967413441955\n",
      "[1.         1.         0.99918526 0.997067   0.9915268  0.97474337\n",
      " 0.         0.        ]\n",
      "[0.         0.         0.00108637 0.00054318 0.00570342 0.02715915\n",
      " 0.         0.        ]\n",
      "[1.         1.         0.99959266 0.9934827  0.9873727  0.97759676\n",
      " 0.         0.        ]\n",
      "[2.  1.5 1.2 1.  0.8 0.7 0.  0. ]\n"
     ]
    }
   ],
   "source": [
    "th = h5py.File('/Volumes/Mac/GW/traininghistory/traininghistory-resnet4', 'a')\n",
    "a=estimate('/Volumes/Mac/GW/spec/withoutoverlap/5.5~74.5/testdatawo_spec16-8_freq512_pr'+str(pr)+'_mr<=10.h5')\n",
    "th['acc'][i]=a\n",
    "\n",
    "testd = h5py.File('/Volumes/Mac/GW/spec/withoutoverlap/5.5~74.5/testdatawo_spec16-8_freq512_pr'+str(pr)+'_mr<=10.h5', 'r')\n",
    "testd_lab = testd['label'][...]\n",
    "testd.close()\n",
    "cm = confusionmatrix(prediction_result('/Volumes/Mac/GW/spec/withoutoverlap/5.5~74.5/testdatawo_spec16-8_freq512_pr'+str(pr)+'_mr<=10.h5'),\n",
    "               testd_lab)\n",
    "\n",
    "far = false_alarm_rate(cm)\n",
    "th['far'][i]=far\n",
    "\n",
    "sen = sensitivity(cm)\n",
    "th['sen'][i]=sen\n",
    "\n",
    "th['pr'][i]=pr\n",
    "\n",
    "print th['acc'][...]\n",
    "print th['far'][...]\n",
    "print th['sen'][...]\n",
    "print th['pr'][...]\n",
    "th.close()"
   ]
  },
  {
   "cell_type": "code",
   "execution_count": 10,
   "metadata": {},
   "outputs": [
    {
     "name": "stdout",
     "output_type": "stream",
     "text": [
      "INFO:tensorflow:Restoring parameters from /Volumes/Mac/GW/model/model-resnet4.ckpt\n",
      "Train Epoch: 01 Loss= 0.368952274 Accuracy= 0.942\n",
      "Train Epoch: 02 Loss= 0.369335234 Accuracy= 0.943\n",
      "Train Epoch: 03 Loss= 0.373454511 Accuracy= 0.936\n",
      "Train Epoch: 04 Loss= 0.375764400 Accuracy= 0.934\n",
      "period(s) = 188.145440102\n"
     ]
    }
   ],
   "source": [
    "pr=0.6 ; i=6\n",
    "evaluate(4,pr)"
   ]
  },
  {
   "cell_type": "code",
   "execution_count": 11,
   "metadata": {},
   "outputs": [
    {
     "name": "stdout",
     "output_type": "stream",
     "text": [
      "INFO:tensorflow:Restoring parameters from /Volumes/Mac/GW/model/model-resnet4.ckpt\n",
      "Train Epoch: 01 Loss= 0.372454137 Accuracy= 0.939\n",
      "Train Epoch: 02 Loss= 0.371954471 Accuracy= 0.9393333\n",
      "Train Epoch: 03 Loss= 0.369698256 Accuracy= 0.94233334\n",
      "Train Epoch: 04 Loss= 0.369107515 Accuracy= 0.94233334\n",
      "period(s) = 334.180644989\n"
     ]
    }
   ],
   "source": [
    "pr=0.6 ; i=6\n",
    "evaluate(4,pr)"
   ]
  },
  {
   "cell_type": "code",
   "execution_count": 12,
   "metadata": {},
   "outputs": [
    {
     "name": "stdout",
     "output_type": "stream",
     "text": [
      "INFO:tensorflow:Restoring parameters from /Volumes/Mac/GW/model/model-resnet4.ckpt\n",
      "Train Epoch: 01 Loss= 0.369389981 Accuracy= 0.94166666\n",
      "Train Epoch: 02 Loss= 0.370203257 Accuracy= 0.941\n",
      "Train Epoch: 03 Loss= 0.370615691 Accuracy= 0.9396667\n",
      "Train Epoch: 04 Loss= 0.370548010 Accuracy= 0.939\n",
      "period(s) = 513.073087931\n"
     ]
    }
   ],
   "source": [
    "evaluate(4,pr)"
   ]
  },
  {
   "cell_type": "code",
   "execution_count": 13,
   "metadata": {},
   "outputs": [
    {
     "name": "stdout",
     "output_type": "stream",
     "text": [
      "INFO:tensorflow:Restoring parameters from /Volumes/Mac/GW/model/model-resnet4.ckpt\n",
      "Train Epoch: 01 Loss= 0.371245593 Accuracy= 0.93833333\n",
      "Train Epoch: 02 Loss= 0.372422248 Accuracy= 0.93766665\n",
      "Train Epoch: 03 Loss= 0.375295579 Accuracy= 0.93633336\n",
      "Train Epoch: 04 Loss= 0.379816025 Accuracy= 0.92966664\n",
      "period(s) = 701.944985151\n"
     ]
    }
   ],
   "source": [
    "evaluate(4,pr)"
   ]
  },
  {
   "cell_type": "code",
   "execution_count": 16,
   "metadata": {},
   "outputs": [
    {
     "name": "stdout",
     "output_type": "stream",
     "text": [
      "INFO:tensorflow:Restoring parameters from /Volumes/Mac/GW/model/model-resnet4.ckpt\n",
      "acc : 0.9415024\n",
      "period of estimate = 13.3286428452 (s)\n",
      "INFO:tensorflow:Restoring parameters from /Volumes/Mac/GW/model/model-resnet4.ckpt\n",
      "period of prediction = 10.8654270172 (s)\n",
      "confusionmatrix =\n",
      "[[3611   71]\n",
      " [ 288 2167]]\n",
      "false alarm rate = 0.019282998370450843\n",
      "sensitivity = 0.8826883910386966\n",
      "[1.         1.         0.99918526 0.997067   0.9915268  0.97474337\n",
      " 0.9415024  0.        ]\n",
      "[0.         0.         0.00108637 0.00054318 0.00570342 0.02715915\n",
      " 0.019283   0.        ]\n",
      "[1.         1.         0.99959266 0.9934827  0.9873727  0.97759676\n",
      " 0.8826884  0.        ]\n",
      "[2.  1.5 1.2 1.  0.8 0.7 0.6 0. ]\n"
     ]
    }
   ],
   "source": [
    "th = h5py.File('/Volumes/Mac/GW/traininghistory/traininghistory-resnet4', 'a')\n",
    "a=estimate('/Volumes/Mac/GW/spec/withoutoverlap/5.5~74.5/testdatawo_spec16-8_freq512_pr'+str(pr)+'_mr<=10.h5')\n",
    "th['acc'][i]=a\n",
    "\n",
    "testd = h5py.File('/Volumes/Mac/GW/spec/withoutoverlap/5.5~74.5/testdatawo_spec16-8_freq512_pr'+str(pr)+'_mr<=10.h5', 'r')\n",
    "testd_lab = testd['label'][...]\n",
    "testd.close()\n",
    "cm = confusionmatrix(prediction_result('/Volumes/Mac/GW/spec/withoutoverlap/5.5~74.5/testdatawo_spec16-8_freq512_pr'+str(pr)+'_mr<=10.h5'),\n",
    "               testd_lab)\n",
    "\n",
    "far = false_alarm_rate(cm)\n",
    "th['far'][i]=far\n",
    "\n",
    "sen = sensitivity(cm)\n",
    "th['sen'][i]=sen\n",
    "\n",
    "th['pr'][i]=pr\n",
    "\n",
    "print th['acc'][...]\n",
    "print th['far'][...]\n",
    "print th['sen'][...]\n",
    "print th['pr'][...]\n",
    "th.close()"
   ]
  },
  {
   "cell_type": "code",
   "execution_count": 10,
   "metadata": {},
   "outputs": [
    {
     "name": "stdout",
     "output_type": "stream",
     "text": [
      "INFO:tensorflow:Restoring parameters from /Volumes/Mac/GW/model/model-resnet4.ckpt\n",
      "Train Epoch: 01 Loss= 0.425016671 Accuracy= 0.88566667\n",
      "Train Epoch: 02 Loss= 0.428655773 Accuracy= 0.87866664\n",
      "Train Epoch: 03 Loss= 0.429429024 Accuracy= 0.8793333\n",
      "Train Epoch: 04 Loss= 0.431462944 Accuracy= 0.87733334\n",
      "period(s) = 178.124872923\n"
     ]
    }
   ],
   "source": [
    "pr=0.5 ; i=7\n",
    "evaluate(4,pr)"
   ]
  },
  {
   "cell_type": "code",
   "execution_count": 11,
   "metadata": {},
   "outputs": [
    {
     "name": "stdout",
     "output_type": "stream",
     "text": [
      "INFO:tensorflow:Restoring parameters from /Volumes/Mac/GW/model/model-resnet4.ckpt\n",
      "Train Epoch: 01 Loss= 0.430381864 Accuracy= 0.8793333\n",
      "Train Epoch: 02 Loss= 0.430053294 Accuracy= 0.8793333\n",
      "Train Epoch: 03 Loss= 0.428162754 Accuracy= 0.8803333\n",
      "Train Epoch: 04 Loss= 0.429959357 Accuracy= 0.87766665\n",
      "period(s) = 317.519284964\n"
     ]
    }
   ],
   "source": [
    "evaluate(4,pr)"
   ]
  },
  {
   "cell_type": "code",
   "execution_count": 12,
   "metadata": {},
   "outputs": [
    {
     "name": "stdout",
     "output_type": "stream",
     "text": [
      "INFO:tensorflow:Restoring parameters from /Volumes/Mac/GW/model/model-resnet4.ckpt\n",
      "Train Epoch: 01 Loss= 0.432264209 Accuracy= 0.876\n",
      "Train Epoch: 02 Loss= 0.432939649 Accuracy= 0.8753333\n",
      "Train Epoch: 03 Loss= 0.435314685 Accuracy= 0.87266666\n",
      "Train Epoch: 04 Loss= 0.437928617 Accuracy= 0.8703333\n",
      "period(s) = 452.16208005\n"
     ]
    }
   ],
   "source": [
    "pr=0.5 ; i=7\n",
    "evaluate(4,pr)"
   ]
  },
  {
   "cell_type": "code",
   "execution_count": 13,
   "metadata": {},
   "outputs": [
    {
     "name": "stdout",
     "output_type": "stream",
     "text": [
      "INFO:tensorflow:Restoring parameters from /Volumes/Mac/GW/model/model-resnet4.ckpt\n",
      "Train Epoch: 01 Loss= 0.440962166 Accuracy= 0.86766666\n",
      "Train Epoch: 02 Loss= 0.447873741 Accuracy= 0.8616667\n",
      "Train Epoch: 03 Loss= 0.451872021 Accuracy= 0.85833335\n",
      "Train Epoch: 04 Loss= 0.449616343 Accuracy= 0.86\n",
      "period(s) = 608.828336\n"
     ]
    }
   ],
   "source": [
    "evaluate(4,pr)"
   ]
  },
  {
   "cell_type": "code",
   "execution_count": 14,
   "metadata": {},
   "outputs": [
    {
     "name": "stdout",
     "output_type": "stream",
     "text": [
      "INFO:tensorflow:Restoring parameters from /Volumes/Mac/GW/model/model-resnet4.ckpt\n",
      "acc : 0.8750204\n",
      "period of estimate = 12.7759311199 (s)\n",
      "INFO:tensorflow:Restoring parameters from /Volumes/Mac/GW/model/model-resnet4.ckpt\n",
      "period of prediction = 11.0725729465 (s)\n",
      "confusionmatrix =\n",
      "[[3567  115]\n",
      " [ 652 1803]]\n",
      "false alarm rate = 0.031233025529603477\n",
      "sensitivity = 0.7344195519348269\n",
      "[1.         1.         0.99918526 0.997067   0.9915268  0.97474337\n",
      " 0.9415024  0.8750204 ]\n",
      "[0.         0.         0.00108637 0.00054318 0.00570342 0.02715915\n",
      " 0.019283   0.03123303]\n",
      "[1.         1.         0.99959266 0.9934827  0.9873727  0.97759676\n",
      " 0.8826884  0.7344195 ]\n",
      "[2.  1.5 1.2 1.  0.8 0.7 0.6 0.5]\n"
     ]
    }
   ],
   "source": [
    "th = h5py.File('/Volumes/Mac/GW/traininghistory/traininghistory-resnet4', 'a')\n",
    "a=estimate('/Volumes/Mac/GW/spec/withoutoverlap/5.5~74.5/testdatawo_spec16-8_freq512_pr'+str(pr)+'_mr<=10.h5')\n",
    "th['acc'][i]=a\n",
    "\n",
    "testd = h5py.File('/Volumes/Mac/GW/spec/withoutoverlap/5.5~74.5/testdatawo_spec16-8_freq512_pr'+str(pr)+'_mr<=10.h5', 'r')\n",
    "testd_lab = testd['label'][...]\n",
    "testd.close()\n",
    "cm = confusionmatrix(prediction_result('/Volumes/Mac/GW/spec/withoutoverlap/5.5~74.5/testdatawo_spec16-8_freq512_pr'+str(pr)+'_mr<=10.h5'),\n",
    "               testd_lab)\n",
    "\n",
    "far = false_alarm_rate(cm)\n",
    "th['far'][i]=far\n",
    "\n",
    "sen = sensitivity(cm)\n",
    "th['sen'][i]=sen\n",
    "\n",
    "th['pr'][i]=pr\n",
    "\n",
    "print th['acc'][...]\n",
    "print th['far'][...]\n",
    "print th['sen'][...]\n",
    "print th['pr'][...]\n",
    "th.close()"
   ]
  },
  {
   "cell_type": "code",
   "execution_count": 15,
   "metadata": {
    "scrolled": true
   },
   "outputs": [
    {
     "name": "stdout",
     "output_type": "stream",
     "text": [
      "INFO:tensorflow:Restoring parameters from /Volumes/Mac/GW/model/model-resnet4.ckpt\n",
      "period of prediction = 10.1940310001 (s)\n",
      "confusionmatrix =\n",
      "[[ 528   17]\n",
      " [1297 3613]]\n",
      "INFO:tensorflow:Restoring parameters from /Volumes/Mac/GW/model/model-resnet4.ckpt\n",
      "period of prediction = 10.3532891273 (s)\n",
      "confusionmatrix =\n",
      "[[ 532   13]\n",
      " [1263 3647]]\n",
      "INFO:tensorflow:Restoring parameters from /Volumes/Mac/GW/model/model-resnet4.ckpt\n",
      "period of prediction = 10.4317409992 (s)\n",
      "confusionmatrix =\n",
      "[[ 528   17]\n",
      " [1330 3580]]\n",
      "INFO:tensorflow:Restoring parameters from /Volumes/Mac/GW/model/model-resnet4.ckpt\n",
      "period of prediction = 9.96110296249 (s)\n",
      "confusionmatrix =\n",
      "[[ 526   19]\n",
      " [1286 3624]]\n",
      "INFO:tensorflow:Restoring parameters from /Volumes/Mac/GW/model/model-resnet4.ckpt\n",
      "period of prediction = 10.3136320114 (s)\n",
      "confusionmatrix =\n",
      "[[ 530   15]\n",
      " [1283 3627]]\n",
      "INFO:tensorflow:Restoring parameters from /Volumes/Mac/GW/model/model-resnet4.ckpt\n",
      "period of prediction = 9.62368917465 (s)\n",
      "confusionmatrix =\n",
      "[[ 523   22]\n",
      " [1293 3617]]\n",
      "INFO:tensorflow:Restoring parameters from /Volumes/Mac/GW/model/model-resnet4.ckpt\n",
      "period of prediction = 9.6498978138 (s)\n",
      "confusionmatrix =\n",
      "[[ 528   17]\n",
      " [1277 3633]]\n",
      "INFO:tensorflow:Restoring parameters from /Volumes/Mac/GW/model/model-resnet4.ckpt\n",
      "period of prediction = 9.80763602257 (s)\n",
      "confusionmatrix =\n",
      "[[ 532   13]\n",
      " [1269 3641]]\n",
      "INFO:tensorflow:Restoring parameters from /Volumes/Mac/GW/model/model-resnet4.ckpt\n",
      "period of prediction = 9.77471709251 (s)\n",
      "confusionmatrix =\n",
      "[[ 531   14]\n",
      " [1269 3641]]\n",
      "INFO:tensorflow:Restoring parameters from /Volumes/Mac/GW/model/model-resnet4.ckpt\n",
      "period of prediction = 9.83364796638 (s)\n",
      "confusionmatrix =\n",
      "[[ 527   18]\n",
      " [1327 3583]]\n",
      "INFO:tensorflow:Restoring parameters from /Volumes/Mac/GW/model/model-resnet4.ckpt\n",
      "period of prediction = 10.3516359329 (s)\n",
      "confusionmatrix =\n",
      "[[ 526   19]\n",
      " [1270 3640]]\n",
      "INFO:tensorflow:Restoring parameters from /Volumes/Mac/GW/model/model-resnet4.ckpt\n",
      "period of prediction = 11.0055890083 (s)\n",
      "confusionmatrix =\n",
      "[[ 535   10]\n",
      " [1290 3620]]\n",
      "INFO:tensorflow:Restoring parameters from /Volumes/Mac/GW/model/model-resnet4.ckpt\n",
      "period of prediction = 10.1777329445 (s)\n",
      "confusionmatrix =\n",
      "[[ 528   17]\n",
      " [1260 3650]]\n",
      "INFO:tensorflow:Restoring parameters from /Volumes/Mac/GW/model/model-resnet4.ckpt\n",
      "period of prediction = 9.67875289917 (s)\n",
      "confusionmatrix =\n",
      "[[ 526   19]\n",
      " [1266 3644]]\n",
      "INFO:tensorflow:Restoring parameters from /Volumes/Mac/GW/model/model-resnet4.ckpt\n",
      "period of prediction = 9.76223111153 (s)\n",
      "confusionmatrix =\n",
      "[[ 534   11]\n",
      " [1271 3639]]\n",
      "INFO:tensorflow:Restoring parameters from /Volumes/Mac/GW/model/model-resnet4.ckpt\n",
      "period of prediction = 10.0991101265 (s)\n",
      "confusionmatrix =\n",
      "[[ 533   12]\n",
      " [1275 3635]]\n",
      "INFO:tensorflow:Restoring parameters from /Volumes/Mac/GW/model/model-resnet4.ckpt\n",
      "period of prediction = 10.2375030518 (s)\n",
      "confusionmatrix =\n",
      "[[ 527   18]\n",
      " [1258 3652]]\n",
      "INFO:tensorflow:Restoring parameters from /Volumes/Mac/GW/model/model-resnet4.ckpt\n",
      "period of prediction = 9.63052797318 (s)\n",
      "confusionmatrix =\n",
      "[[ 526   19]\n",
      " [1244 3666]]\n",
      "INFO:tensorflow:Restoring parameters from /Volumes/Mac/GW/model/model-resnet4.ckpt\n",
      "period of prediction = 9.59519100189 (s)\n",
      "confusionmatrix =\n",
      "[[ 529   16]\n",
      " [1351 3559]]\n",
      "INFO:tensorflow:Restoring parameters from /Volumes/Mac/GW/model/model-resnet4.ckpt\n",
      "period of prediction = 9.54375386238 (s)\n",
      "confusionmatrix =\n",
      "[[ 523   22]\n",
      " [1241 3669]]\n",
      "INFO:tensorflow:Restoring parameters from /Volumes/Mac/GW/model/model-resnet4.ckpt\n",
      "period of prediction = 9.4830019474 (s)\n",
      "confusionmatrix =\n",
      "[[ 533   12]\n",
      " [1281 3629]]\n",
      "INFO:tensorflow:Restoring parameters from /Volumes/Mac/GW/model/model-resnet4.ckpt\n",
      "period of prediction = 9.50019598007 (s)\n",
      "confusionmatrix =\n",
      "[[ 527   18]\n",
      " [1244 3666]]\n",
      "INFO:tensorflow:Restoring parameters from /Volumes/Mac/GW/model/model-resnet4.ckpt\n",
      "period of prediction = 9.59286880493 (s)\n",
      "confusionmatrix =\n",
      "[[ 532   13]\n",
      " [1273 3637]]\n",
      "INFO:tensorflow:Restoring parameters from /Volumes/Mac/GW/model/model-resnet4.ckpt\n",
      "period of prediction = 9.52557897568 (s)\n",
      "confusionmatrix =\n",
      "[[ 529   16]\n",
      " [1253 3657]]\n",
      "INFO:tensorflow:Restoring parameters from /Volumes/Mac/GW/model/model-resnet4.ckpt\n",
      "period of prediction = 9.51285099983 (s)\n",
      "confusionmatrix =\n",
      "[[ 532   13]\n",
      " [1260 3650]]\n",
      "INFO:tensorflow:Restoring parameters from /Volumes/Mac/GW/model/model-resnet4.ckpt\n",
      "period of prediction = 9.47368502617 (s)\n",
      "confusionmatrix =\n",
      "[[ 529   16]\n",
      " [1288 3622]]\n",
      "INFO:tensorflow:Restoring parameters from /Volumes/Mac/GW/model/model-resnet4.ckpt\n",
      "period of prediction = 9.79000401497 (s)\n",
      "confusionmatrix =\n",
      "[[ 526   19]\n",
      " [1285 3625]]\n",
      "INFO:tensorflow:Restoring parameters from /Volumes/Mac/GW/model/model-resnet4.ckpt\n",
      "period of prediction = 9.63025689125 (s)\n",
      "confusionmatrix =\n",
      "[[ 529   16]\n",
      " [1249 3661]]\n",
      "INFO:tensorflow:Restoring parameters from /Volumes/Mac/GW/model/model-resnet4.ckpt\n",
      "period of prediction = 9.54227900505 (s)\n",
      "confusionmatrix =\n",
      "[[ 528   17]\n",
      " [1332 3578]]\n",
      "INFO:tensorflow:Restoring parameters from /Volumes/Mac/GW/model/model-resnet4.ckpt\n",
      "period of prediction = 9.62889003754 (s)\n",
      "confusionmatrix =\n",
      "[[ 531   14]\n",
      " [1288 3622]]\n",
      "INFO:tensorflow:Restoring parameters from /Volumes/Mac/GW/model/model-resnet4.ckpt\n",
      "period of prediction = 9.67493605614 (s)\n",
      "confusionmatrix =\n",
      "[[ 526   19]\n",
      " [1371 3539]]\n",
      "INFO:tensorflow:Restoring parameters from /Volumes/Mac/GW/model/model-resnet4.ckpt\n",
      "period of prediction = 9.6403298378 (s)\n",
      "confusionmatrix =\n",
      "[[ 527   18]\n",
      " [1325 3585]]\n",
      "INFO:tensorflow:Restoring parameters from /Volumes/Mac/GW/model/model-resnet4.ckpt\n",
      "period of prediction = 9.51876807213 (s)\n",
      "confusionmatrix =\n",
      "[[ 529   16]\n",
      " [1235 3675]]\n",
      "INFO:tensorflow:Restoring parameters from /Volumes/Mac/GW/model/model-resnet4.ckpt\n",
      "period of prediction = 9.60062503815 (s)\n",
      "confusionmatrix =\n",
      "[[ 529   16]\n",
      " [1330 3580]]\n",
      "INFO:tensorflow:Restoring parameters from /Volumes/Mac/GW/model/model-resnet4.ckpt\n",
      "period of prediction = 9.62161707878 (s)\n",
      "confusionmatrix =\n",
      "[[ 535   10]\n",
      " [1289 3621]]\n",
      "INFO:tensorflow:Restoring parameters from /Volumes/Mac/GW/model/model-resnet4.ckpt\n",
      "period of prediction = 9.54150891304 (s)\n",
      "confusionmatrix =\n",
      "[[ 534   11]\n",
      " [1265 3645]]\n",
      "INFO:tensorflow:Restoring parameters from /Volumes/Mac/GW/model/model-resnet4.ckpt\n",
      "period of prediction = 9.96026086807 (s)\n",
      "confusionmatrix =\n",
      "[[ 524   21]\n",
      " [1269 3641]]\n",
      "INFO:tensorflow:Restoring parameters from /Volumes/Mac/GW/model/model-resnet4.ckpt\n",
      "period of prediction = 9.66207194328 (s)\n",
      "confusionmatrix =\n",
      "[[ 519   26]\n",
      " [1313 3597]]\n",
      "INFO:tensorflow:Restoring parameters from /Volumes/Mac/GW/model/model-resnet4.ckpt\n",
      "period of prediction = 10.2581949234 (s)\n",
      "confusionmatrix =\n",
      "[[ 529   16]\n",
      " [1301 3609]]\n",
      "INFO:tensorflow:Restoring parameters from /Volumes/Mac/GW/model/model-resnet4.ckpt\n",
      "period of prediction = 9.51694703102 (s)\n",
      "confusionmatrix =\n",
      "[[ 528   17]\n",
      " [1275 3635]]\n",
      "INFO:tensorflow:Restoring parameters from /Volumes/Mac/GW/model/model-resnet4.ckpt\n",
      "period of prediction = 9.52050709724 (s)\n",
      "confusionmatrix =\n",
      "[[ 527   18]\n",
      " [1268 3642]]\n",
      "INFO:tensorflow:Restoring parameters from /Volumes/Mac/GW/model/model-resnet4.ckpt\n",
      "period of prediction = 9.41985106468 (s)\n",
      "confusionmatrix =\n",
      "[[ 529   16]\n",
      " [1201 3709]]\n",
      "INFO:tensorflow:Restoring parameters from /Volumes/Mac/GW/model/model-resnet4.ckpt\n",
      "period of prediction = 9.46806001663 (s)\n",
      "confusionmatrix =\n",
      "[[ 530   15]\n",
      " [1294 3616]]\n",
      "INFO:tensorflow:Restoring parameters from /Volumes/Mac/GW/model/model-resnet4.ckpt\n",
      "period of prediction = 9.47927808762 (s)\n",
      "confusionmatrix =\n",
      "[[ 530   15]\n",
      " [1289 3621]]\n",
      "INFO:tensorflow:Restoring parameters from /Volumes/Mac/GW/model/model-resnet4.ckpt\n",
      "period of prediction = 9.54729199409 (s)\n",
      "confusionmatrix =\n",
      "[[ 534   11]\n",
      " [1254 3656]]\n",
      "INFO:tensorflow:Restoring parameters from /Volumes/Mac/GW/model/model-resnet4.ckpt\n",
      "period of prediction = 9.59329009056 (s)\n",
      "confusionmatrix =\n",
      "[[ 531   14]\n",
      " [1301 3609]]\n",
      "INFO:tensorflow:Restoring parameters from /Volumes/Mac/GW/model/model-resnet4.ckpt\n",
      "period of prediction = 9.90748095512 (s)\n",
      "confusionmatrix =\n",
      "[[ 528   17]\n",
      " [1309 3601]]\n",
      "INFO:tensorflow:Restoring parameters from /Volumes/Mac/GW/model/model-resnet4.ckpt\n",
      "period of prediction = 9.70393395424 (s)\n",
      "confusionmatrix =\n",
      "[[ 526   19]\n",
      " [1251 3659]]\n",
      "INFO:tensorflow:Restoring parameters from /Volumes/Mac/GW/model/model-resnet4.ckpt\n",
      "period of prediction = 9.64413714409 (s)\n"
     ]
    },
    {
     "name": "stdout",
     "output_type": "stream",
     "text": [
      "confusionmatrix =\n",
      "[[ 527   18]\n",
      " [1291 3619]]\n",
      "INFO:tensorflow:Restoring parameters from /Volumes/Mac/GW/model/model-resnet4.ckpt\n",
      "period of prediction = 11.6350178719 (s)\n",
      "confusionmatrix =\n",
      "[[ 534   11]\n",
      " [1200 3710]]\n",
      "acc = 0.7623831347387717\n",
      "sensitivity = 0.7392912423625254\n",
      "false alarm rate = 0.029577981651376147\n"
     ]
    },
    {
     "data": {
      "image/png": "[encoded data removed]",
      "text/plain": [
       "<Figure size 432x288 with 1 Axes>"
      ]
     },
     "metadata": {},
     "output_type": "display_data"
    }
   ],
   "source": [
    "relation(50)"
   ]
  },
  {
   "cell_type": "code",
   "execution_count": 16,
   "metadata": {},
   "outputs": [
    {
     "data": {
      "image/png": "[encoded data removed]",
      "text/plain": [
       "<Figure size 720x1080 with 3 Axes>"
      ]
     },
     "metadata": {},
     "output_type": "display_data"
    }
   ],
   "source": [
    "th = h5py.File('/Volumes/Mac/GW/traininghistory/traininghistory-resnet4', 'a')\n",
    "plt.figure(figsize=(10,15))\n",
    "plt.subplot(311)\n",
    "plt.plot(th['pr'][...],th['acc'][...])\n",
    "plt.xlabel('peak ratio')\n",
    "plt.ylabel('accuracy')\n",
    "plt.xlim(0.4,2)\n",
    "plt.subplot(312)\n",
    "plt.plot(th['pr'][...],th['sen'][...])\n",
    "plt.xlabel('peak ratio')\n",
    "plt.ylabel('sensitivity')\n",
    "plt.xlim(0.4,2)\n",
    "plt.subplot(313)\n",
    "plt.plot(th['pr'][...],th['far'][...])\n",
    "plt.xlabel('peak ratio')\n",
    "plt.ylabel('false alarm rate')\n",
    "plt.xlim(0.4,2)\n",
    "th.close() "
   ]
  },
  {
   "cell_type": "code",
   "execution_count": 31,
   "metadata": {},
   "outputs": [],
   "source": [
    "def mass_relative_error(multi, mass_relate_error_data):\n",
    "    rm = np.zeros([70,70])\n",
    "    rmf = h5py.File('/Volumes/Mac/GW/mass_relative_error/{0}.h5'.format(modelname), 'a')\n",
    "    rmf.create_dataset('rm', (70,70))\n",
    "    \n",
    "    test = h5py.File(mass_relate_error_data, 'r')\n",
    "    test_par = test['parameter'][...]\n",
    "    test_lab = test['label'][...]\n",
    "    test.close()\n",
    "    predict = prediction_result(mass_relate_error_data)\n",
    "    for i in range(len(test_par)):\n",
    "        if test_lab[i] != predict[i]: #預測不正確則顏色加深\n",
    "            row = int(test_par[i,0]-5.5)\n",
    "            col =  int(test_par[i,1]-5.5)\n",
    "            rm[row,col] += 1.\n",
    "    rmf['rm'][...] = rm/multi\n",
    "    rmf.close()"
   ]
  },
  {
   "cell_type": "code",
   "execution_count": null,
   "metadata": {},
   "outputs": [],
   "source": []
  },
  {
   "cell_type": "code",
   "execution_count": 28,
   "metadata": {},
   "outputs": [
    {
     "name": "stdout",
     "output_type": "stream",
     "text": [
      "INFO:tensorflow:Restoring parameters from /Volumes/Mac/GW/model/model-resnet4.ckpt\n",
      "(100, 33, 121)\n",
      "period of prediction = 0.194284915924 (s)\n"
     ]
    }
   ],
   "source": [
    "modelname='resnet4'\n",
    "mass_relative_error(50, '/Volumes/Mac/GW/spec/withoutoverlap/5.5~74.5/testdata_spec_error_relate_mass.h5')"
   ]
  },
  {
   "cell_type": "code",
   "execution_count": 29,
   "metadata": {},
   "outputs": [
    {
     "data": {
      "text/plain": [
       "Text(0,0.5,'m1')"
      ]
     },
     "execution_count": 29,
     "metadata": {},
     "output_type": "execute_result"
    },
    {
     "data": {
      "image/png": "[encoded data removed]",
      "text/plain": [
       "<Figure size 432x288 with 1 Axes>"
      ]
     },
     "metadata": {},
     "output_type": "display_data"
    }
   ],
   "source": [
    "rmf=h5py.File('/Volumes/Mac/GW/mass_relative_error/{0}.h5'.format(modelname), 'r')\n",
    "rm=rmf['rm'][...]\n",
    "plt.imshow(rm, cmap='binary')\n",
    "tick_idx = [0,10,20,30,40,50,60]\n",
    "tick_mass = [5.5,15.5,25.5,35.5,45.5,55.5,65.5]\n",
    "plt.yticks(tick_idx , tick_mass)\n",
    "plt.xticks(tick_idx , tick_mass)\n",
    "plt.xlabel('m2')\n",
    "plt.ylabel('m1')"
   ]
  },
  {
   "cell_type": "code",
   "execution_count": null,
   "metadata": {},
   "outputs": [],
   "source": []
  }
 ],
 "metadata": {
  "kernelspec": {
   "display_name": "Tensorflow2023",
   "language": "python",
   "name": "tensorflow2023"
  },
  "language_info": {
   "codemirror_mode": {
    "name": "ipython",
    "version": 3
   },
   "file_extension": ".py",
   "mimetype": "text/x-python",
   "name": "python",
   "nbconvert_exporter": "python",
   "pygments_lexer": "ipython3",
   "version": "3.11.3"
  }
 },
 "nbformat": 4,
 "nbformat_minor": 4
}
