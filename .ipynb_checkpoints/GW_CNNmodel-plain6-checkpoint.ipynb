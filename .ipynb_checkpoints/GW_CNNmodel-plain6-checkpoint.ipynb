{
 "cells": [
  {
   "cell_type": "code",
   "execution_count": 1,
   "metadata": {},
   "outputs": [
    {
     "name": "stderr",
     "output_type": "stream",
     "text": [
      "/anaconda3/envs/anacondapy2/lib/python2.7/site-packages/h5py/__init__.py:36: FutureWarning: Conversion of the second argument of issubdtype from `float` to `np.floating` is deprecated. In future, it will be treated as `np.float64 == np.dtype(float).type`.\n",
      "  from ._conv import register_converters as _register_converters\n"
     ]
    }
   ],
   "source": [
    "import tensorflow as tf\n",
    "import h5py \n",
    "import matplotlib.pyplot as plt\n",
    "import numpy as np\n",
    "import timeit\n",
    "from sklearn import preprocessing"
   ]
  },
  {
   "cell_type": "markdown",
   "metadata": {},
   "source": [
    "# batched data generating function"
   ]
  },
  {
   "cell_type": "code",
   "execution_count": 2,
   "metadata": {},
   "outputs": [],
   "source": [
    "def batch_generator(filename, batch_size):\n",
    "    f = h5py.File(filename, 'r')\n",
    "    batch_count = 0\n",
    "    while True:\n",
    "        if batch_count * batch_size + batch_size > f['label'].shape[0]: #若batchsize不能整除的話，最後餘下的資料永遠不會讀出\n",
    "            batch_count = 0\n",
    "        start_idx = batch_count * batch_size\n",
    "        end_idx = start_idx + batch_size\n",
    "        batch_count += 1\n",
    "        yield f['data'][start_idx : end_idx] , f['label'][start_idx : end_idx]\n",
    "    f.close()"
   ]
  },
  {
   "cell_type": "markdown",
   "metadata": {},
   "source": [
    "# weight function"
   ]
  },
  {
   "cell_type": "code",
   "execution_count": 3,
   "metadata": {},
   "outputs": [],
   "source": [
    "def w(shape): #weight\n",
    "    return tf.Variable(tf.truncated_normal(shape, stddev=0.1), name='w')\n",
    "\n",
    "def b(shape): #bias\n",
    "    return tf.Variable(tf.constant(0.1,shape=shape), name='b')\n",
    "\n",
    "def conv2d(x,w): #x:輸入影像，須為4維張量。 w:filter權重\n",
    "    return tf.nn.conv2d(x, w, strides=[1,1,1,1], padding='SAME')\n",
    "\n",
    "def maxpool2x2(x):\n",
    "    return tf.nn.max_pool(x, ksize=[1,2,2,1], strides=[1,2,2,1], padding='SAME')\n"
   ]
  },
  {
   "cell_type": "markdown",
   "metadata": {},
   "source": [
    "# model"
   ]
  },
  {
   "cell_type": "code",
   "execution_count": 4,
   "metadata": {},
   "outputs": [],
   "source": [
    "pr = 2\n",
    "traindatafile_ =  '/Volumes/Mac/GW/spec/withoutoverlap/5~75/trainingdatawo_spec16-8_freq1024_pr'+str(pr)+'.h5'\n",
    "modelstore = '/Volumes/Mac/GW/model/model-resnet3-1.ckpt'"
   ]
  },
  {
   "cell_type": "code",
   "execution_count": 5,
   "metadata": {},
   "outputs": [
    {
     "name": "stdout",
     "output_type": "stream",
     "text": [
      "6390\n"
     ]
    }
   ],
   "source": [
    "f = h5py.File(traindatafile_, 'r')\n",
    "ll = len(f['data'])\n",
    "print ll"
   ]
  },
  {
   "cell_type": "code",
   "execution_count": 6,
   "metadata": {},
   "outputs": [
    {
     "name": "stdout",
     "output_type": "stream",
     "text": [
      "lenth f = 257\n",
      "lenth t = 121\n",
      "total 31097\n",
      "idx1024= 64\n"
     ]
    }
   ],
   "source": [
    "sample_rate = 8192\n",
    "data_length = 8192 \n",
    "T = data_length / sample_rate\n",
    "\n",
    "nitv = 16.0\n",
    "novl = 8.0\n",
    "#f\n",
    "lenf = int(sample_rate/nitv/2+1)\n",
    "print 'lenth f =',lenf\n",
    "#t\n",
    "lent = int((nitv*T-1)*novl+1)\n",
    "print 'lenth t =',lent\n",
    "#total\n",
    "totalpix = lenf*lent\n",
    "print 'total',totalpix\n",
    "#idx of f=1024\n",
    "idx1024 = (lenf-1)/4\n",
    "print 'idx1024=',idx1024\n",
    "\n",
    "\n",
    "batchSize = 10\n",
    "datasize = ll\n",
    "totalBatchs = datasize/batchSize\n",
    "\n",
    "c1fs = 7 #conv1 filter size\n",
    "c1fn = 2 #conv1 filter number\n",
    "c2fs = 5 #conv2 filter size\n",
    "c2fn = 4 #conv2 filter number\n",
    "c3fs = 3 #conv3 filter size\n",
    "c3fn = 8 #conv3 filter number\n",
    "\n",
    "\n",
    "c1fs = 8 #conv1 filter size\n",
    "c1fn = 3 #conv1 output channel number\n",
    "c2fs = 8 #conv2 filter size\n",
    "c2fn = 3 #conv2 output channel number\n",
    "c3fs = 6 #conv3 filter size\n",
    "c3fn = 4 #conv3 output channel number\n",
    "c4fs = 6 #conv4 filter size\n",
    "c4fn = 4 #conv4 output channel number\n",
    "c5fs = 3 #conv5 filter size\n",
    "c5fn = 5 #conv5 output channel number\n",
    "c6fs = 3 #conv6 filter size\n",
    "c6fn = 5 #conv6 output channel number\n",
    "dos1 = idx1024+1 #1st dim of spectrogram\n",
    "dos2 = lent #2nd din of spectrogram\n",
    "lnn1 = 128 #layer1 neuron number\n",
    "lnn2 =32 #layer1 neuron number"
   ]
  },
  {
   "cell_type": "code",
   "execution_count": 7,
   "metadata": {},
   "outputs": [
    {
     "name": "stdout",
     "output_type": "stream",
     "text": [
      "WARNING:tensorflow:From <ipython-input-7-3333c91ca97a>:67: softmax_cross_entropy_with_logits (from tensorflow.python.ops.nn_ops) is deprecated and will be removed in a future version.\n",
      "Instructions for updating:\n",
      "\n",
      "Future major versions of TensorFlow will allow gradients to flow\n",
      "into the labels input on backprop by default.\n",
      "\n",
      "See @{tf.nn.softmax_cross_entropy_with_logits_v2}.\n",
      "\n"
     ]
    }
   ],
   "source": [
    "with tf.name_scope('input_layer'):\n",
    "    x = tf.placeholder('float', shape=[None, dos1, dos2], name='x')\n",
    "    x_image = tf.reshape(x, [-1, dos1, dos2, 1]) #(筆數,頻率維度,時間維度,通道維度)\n",
    "    \n",
    "with tf.name_scope('c1_conv'):\n",
    "    w1 = w([c1fs ,c1fs ,1, c1fn])\n",
    "    b1 = b([c1fn])\n",
    "    conv1 = conv2d(x_image, w1) + b1\n",
    "    c1_conv = tf.nn.relu(conv1)\n",
    "#輸出[dos1, dos2, 2] \n",
    "\n",
    "with tf.name_scope('c1_pool'):\n",
    "    c1_pool = maxpool2x2(c1_conv)\n",
    "#輸出[dos1/2, dos2/2, 2]\n",
    "    \n",
    "with tf.name_scope('c2_conv'):\n",
    "    w2 = w([c2fs ,c2fs , c1fn, c2fn])\n",
    "    b2 = b([c2fn])\n",
    "    conv2 = conv2d(c1_pool,w2) +b2\n",
    "    c2_conv = tf.nn.relu(conv2)\n",
    "#輸出[dos1/2, dos2/2, 4]\n",
    "    \n",
    "with tf.name_scope('c3_conv'):\n",
    "    w3 = w([c3fs ,c3fs ,c2fn, c3fn])\n",
    "    b3 = b([c3fn])\n",
    "    conv3 = conv2d(c2_conv, w3) + b3\n",
    "#輸出[dos1/2, dos2/2, 8]\n",
    "    #datanum = conv3.shape.as_list()[0]\n",
    "    #dim1 = conv3.shape.as_list()[1]\n",
    "    #dim2 = conv3.shape.as_list()[2]\n",
    "    increase_dim3 = conv3.shape.as_list()[3]-c1_pool.shape.as_list()[3]\n",
    "    #shape = tf.constant([,dim1,dim2,increase_dim3],shape=[4])\n",
    "    #zeropadding = tf.zeros(shape)\n",
    "    zeropadding = tf.zeros_like(conv3)[:,:,:,0:increase_dim3]\n",
    "    \n",
    "    \n",
    "    #shortcut connection\n",
    "    c3_rl = conv3 + tf.concat([c1_pool,zeropadding], 3)\n",
    "    c3_conv = tf.nn.relu(c3_rl)\n",
    "\n",
    "    \n",
    "\n",
    "#neurons = dos1/8*dos2/8*c3fn\n",
    "with tf.name_scope('D_flat'):\n",
    "    D_Flat = tf.layers.Flatten()(c3_conv)\n",
    "\n",
    "with tf.name_scope('D_hidden_layer1'):\n",
    "    inputdim = D_Flat.shape.as_list()[1]\n",
    "    wl1 = w([inputdim, lnn1])\n",
    "    bl1 = b([lnn1])\n",
    "    D_hidden1 = tf.nn.relu(tf.matmul(D_Flat, wl1)+bl1)\n",
    "    \n",
    "with tf.name_scope('D_hidden_layer2'):\n",
    "    wl2 = w([lnn1, lnn2])\n",
    "    bl2 = b([lnn2])\n",
    "    D_hidden2 = tf.nn.relu(tf.matmul(D_hidden1, wl2)+bl2)\n",
    "    \n",
    "with tf.name_scope('output_layer'):\n",
    "    wo = w([lnn2,2])\n",
    "    bo = b([2])\n",
    "    #y_predict = tf.sigmoid(tf.matmul(D_hidden2,wo)+bo)\n",
    "    y_predict = tf.nn.softmax(tf.matmul(D_hidden2,wo)+bo)\n",
    "    \n",
    "with tf.name_scope('optimizer'):\n",
    "    y_label = tf.placeholder('float', shape=[None,2], name='y_label')\n",
    "    #lossfunction = tf.reduce_mean(tf.nn.sigmoid_cross_entropy_with_logits(logits=y_predict, labels=y_label))\n",
    "    lossfunction = tf.reduce_mean(tf.nn.softmax_cross_entropy_with_logits(logits=y_predict, labels=y_label))\n",
    "    optimizer = tf.train.AdamOptimizer(learning_rate=0.0001).minimize(lossfunction)\n",
    "    \n",
    "with tf.name_scope('evaluate_model'):\n",
    "    correct_prediction = tf.equal(tf.argmax(y_predict,1), tf.argmax(y_label,1))\n",
    "    accuracy = tf.reduce_mean(tf.cast(correct_prediction,'float'))"
   ]
  },
  {
   "cell_type": "markdown",
   "metadata": {},
   "source": [
    "# evaluate"
   ]
  },
  {
   "cell_type": "code",
   "execution_count": 8,
   "metadata": {},
   "outputs": [],
   "source": [
    "def evaluate(trainEpochs,peakratio):\n",
    "\n",
    "    start_time = timeit.default_timer()\n",
    "    sess = tf.Session()\n",
    "\n",
    "    saver = tf.train.Saver()\n",
    "\n",
    "    try: #第一次之後執行\n",
    "        saver.restore(sess, modelstore)\n",
    "    except: #第一次跑時執行\n",
    "        sess.run(tf.global_variables_initializer())\n",
    "\n",
    "    traindatafile =  '/Volumes/Mac/GW/spec/withoutoverlap/5~75/trainingdatawo_spec16-8_freq1024_pr'+str(peakratio)+'.h5'\n",
    "    valdatafile = '/Volumes/Mac/GW/spec/overlap/5~75/validationdata_spec16-8_freq1024_pr'+str(peakratio)+'.h5'\n",
    "    \n",
    "    \n",
    "    bg = batch_generator(traindatafile, batchSize)\n",
    "    fval = h5py.File(valdatafile, 'r')\n",
    "    val_x = fval['data'][...]\n",
    "    val_y = fval['label'][...]\n",
    "    #np_utils.to_categorical\n",
    "    for epoch in range(trainEpochs):\n",
    "        for i in range(totalBatchs):\n",
    "            #每次讀取100筆資料\n",
    "            batch_x, batch_y = next(bg)\n",
    "            #將feature和label輸入並計算執行圖\n",
    "            sess.run(optimizer, feed_dict={x : batch_x, y_label : sess.run(tf.one_hot(batch_y, 2)) })\n",
    "        #使用驗證資料計算一次epoch的loss和acc    \n",
    "        loss, acc = sess.run([lossfunction,accuracy],feed_dict={x : val_x, y_label : sess.run(tf.one_hot(val_y, 2))})\n",
    "    \n",
    "        print 'Train Epoch:', '%02d'%(epoch+1), 'Loss=', '{:.9f}'.format(loss), 'Accuracy=',acc\n",
    "    \n",
    "\n",
    "    saver.save(sess, modelstore)\n",
    "\n",
    "    fval.close()\n",
    "    stop_time = timeit.default_timer()\n",
    "    print 'period(s) =', stop_time - start_time\n",
    "    \n",
    "    \n",
    "def estimate(testdatafile):\n",
    "    sess = tf.Session()\n",
    "    saver = tf.train.Saver()\n",
    "    saver.restore(sess, modelstore)\n",
    "    ftest = h5py.File(testdatafile, 'r')\n",
    "    test_x = ftest['data'][...]\n",
    "    test_y = ftest['label'][...]\n",
    "    ftest.close()\n",
    "    \n",
    "    start_time = timeit.default_timer()\n",
    "    print 'acc :', sess.run(accuracy, feed_dict={x : test_x, y_label : sess.run(tf.one_hot(test_y, 2)) })\n",
    "    stop_time = timeit.default_timer()\n",
    "    print 'period of estimate =', stop_time - start_time, '(s)'\n",
    "    \n",
    "def prediction_result(testdatafile):\n",
    "    sess = tf.Session()\n",
    "    saver = tf.train.Saver()\n",
    "    saver.restore(sess, modelstore)\n",
    "    ftest = h5py.File(testdatafile, 'r')\n",
    "    test_x = ftest['data'][...]\n",
    "    test_y = ftest['label'][...]\n",
    "    ftest.close()\n",
    "    \n",
    "    start_time = timeit.default_timer()\n",
    "    predictresult = sess.run(tf.argmax(y_predict, 1), feed_dict={x : test_x, y_label : sess.run(tf.one_hot(test_y, 2))})\n",
    "    stop_time = timeit.default_timer()\n",
    "    print 'period of prediction =', stop_time - start_time, '(s)'\n",
    "    return predictresult"
   ]
  },
  {
   "cell_type": "code",
   "execution_count": 9,
   "metadata": {},
   "outputs": [],
   "source": [
    "def relation(n):\n",
    "    d = '/Volumes/Mac/GW/spec/withoutoverlap/5.5~74.5/testdatawo_spec16-8_freq1024_pr0.5_2time10_'\n",
    "    rm = np.zeros([70,70])\n",
    "    cm = np.zeros([2,2])\n",
    "    for j in range(n):\n",
    "        data =  d+str(j)+'.h5'\n",
    "        test = h5py.File(data, 'r')\n",
    "        test_par = test['parameter'][...]\n",
    "        test_lab = test['label'][...]\n",
    "        test.close()\n",
    "        predict = prediction_result(data)\n",
    "        cm += confusionmatrix(predict,test_lab)\n",
    "        for i in range(len(test_par)):\n",
    "            if test_par[i,0] != 0: #選擇有訊號的數據\n",
    "                if test_lab[i] != predict[i]: #預測不正確則顏色加深\n",
    "                    row = int(test_par[i,0]-5.5)\n",
    "                    col =  int(test_par[i,1]-5.5)\n",
    "                    rm[row,col] += 1.\n",
    "    acc(cm)\n",
    "    sensitivity(cm)\n",
    "    false_alarm_rate(cm)\n",
    "    scale = preprocessing.MinMaxScaler(feature_range=(0,1))\n",
    "    rmr = rm.reshape(70*70,1)\n",
    "    rmrn = scale.fit_transform(rmr)\n",
    "    rm = rmrn.reshape(70, 70)\n",
    "    \n",
    "    plt.imshow(rm, cmap='binary')\n",
    "    tick_idx = [0,10,20,30,40,50,60]\n",
    "    tick_mass = [5.5,15.5,25.5,35.5,45.5,55.5,65.5]\n",
    "    plt.yticks(tick_idx , tick_mass)\n",
    "    plt.xticks(tick_idx , tick_mass)\n",
    "\n",
    "def confusionmatrix(prediction_result,test_y):\n",
    "    sess = tf.Session()\n",
    "    cm = sess.run(tf.confusion_matrix(test_y, prediction_result))\n",
    "    print 'confusionmatrix ='\n",
    "    print cm\n",
    "    return cm\n",
    "\n",
    "def false_alarm_rate(cm):\n",
    "    fp = cm[0,1].astype('float64')\n",
    "    tn = cm[0,0].astype('float64')\n",
    "    print 'false alarm rate =',fp/(fp+tn) #false alarm rate\n",
    "\n",
    "def sensitivity(cm):\n",
    "    tp = cm[1,1].astype('float64')\n",
    "    fn = cm[1,0].astype('float64')\n",
    "    print 'sensitivity =',tp/(tp+fn) #sensitivity\n",
    "    \n",
    "\n",
    "def acc(cm):\n",
    "    print 'acc =',(cm[0,0]+cm[1,1])/np.sum(cm)\n",
    "def summary():\n",
    "    estimate()\n",
    "    pr = prediction_result()\n",
    "    cm = confusionmatrix(pr)\n",
    "    false_alarm_rate(cm)\n",
    "    sensitivity(cm)"
   ]
  },
  {
   "cell_type": "code",
   "execution_count": 10,
   "metadata": {},
   "outputs": [
    {
     "name": "stdout",
     "output_type": "stream",
     "text": [
      "INFO:tensorflow:Restoring parameters from /Volumes/Mac/GW/model/model-resnet3-1.ckpt\n",
      "Train Epoch: 01 Loss= 0.313516021 Accuracy= 1.0\n",
      "Train Epoch: 02 Loss= 0.313296974 Accuracy= 1.0\n",
      "period(s) = 274.745117903\n"
     ]
    }
   ],
   "source": [
    "evaluate(2,2)"
   ]
  },
  {
   "cell_type": "code",
   "execution_count": 10,
   "metadata": {},
   "outputs": [
    {
     "name": "stdout",
     "output_type": "stream",
     "text": [
      "INFO:tensorflow:Restoring parameters from /Volumes/Mac/GW/model/model-resnet3-1.ckpt\n",
      "Train Epoch: 01 Loss= 0.314177930 Accuracy= 0.9993333\n",
      "Train Epoch: 02 Loss= 0.314425528 Accuracy= 0.999\n",
      "period(s) = 257.759809971\n"
     ]
    }
   ],
   "source": [
    "evaluate(2,1.5)"
   ]
  },
  {
   "cell_type": "code",
   "execution_count": 10,
   "metadata": {},
   "outputs": [
    {
     "name": "stdout",
     "output_type": "stream",
     "text": [
      "INFO:tensorflow:Restoring parameters from /Volumes/Mac/GW/model/model-resnet3-1.ckpt\n",
      "Train Epoch: 01 Loss= 0.314229399 Accuracy= 0.999\n",
      "Train Epoch: 02 Loss= 0.313352972 Accuracy= 1.0\n",
      "period(s) = 258.773273945\n"
     ]
    }
   ],
   "source": [
    "evaluate(2,1.5)"
   ]
  },
  {
   "cell_type": "code",
   "execution_count": 10,
   "metadata": {},
   "outputs": [
    {
     "name": "stdout",
     "output_type": "stream",
     "text": [
      "INFO:tensorflow:Restoring parameters from /Volumes/Mac/GW/model/model-resnet3-1.ckpt\n",
      "Train Epoch: 01 Loss= 0.338244468 Accuracy= 0.97466666\n",
      "Train Epoch: 02 Loss= 0.315348804 Accuracy= 0.99833333\n",
      "Train Epoch: 03 Loss= 0.317228407 Accuracy= 0.9956667\n",
      "Train Epoch: 04 Loss= 0.317294568 Accuracy= 0.996\n",
      "period(s) = 692.270844936\n"
     ]
    }
   ],
   "source": [
    "evaluate(4,1.2)"
   ]
  },
  {
   "cell_type": "code",
   "execution_count": 10,
   "metadata": {},
   "outputs": [
    {
     "name": "stdout",
     "output_type": "stream",
     "text": [
      "INFO:tensorflow:Restoring parameters from /Volumes/Mac/GW/model/model-resnet3-1.ckpt\n",
      "Train Epoch: 01 Loss= 0.317127168 Accuracy= 0.996\n",
      "Train Epoch: 02 Loss= 0.317669272 Accuracy= 0.9953333\n",
      "Train Epoch: 03 Loss= 0.315189034 Accuracy= 0.99766666\n",
      "Train Epoch: 04 Loss= 0.317229778 Accuracy= 0.996\n",
      "period(s) = 697.945161819\n"
     ]
    }
   ],
   "source": [
    "evaluate(4,1.2)"
   ]
  },
  {
   "cell_type": "code",
   "execution_count": null,
   "metadata": {},
   "outputs": [
    {
     "name": "stdout",
     "output_type": "stream",
     "text": [
      "INFO:tensorflow:Restoring parameters from /Volumes/Mac/GW/model/model-resnet3-1.ckpt\n"
     ]
    }
   ],
   "source": [
    "evaluate(4,1.2)"
   ]
  },
  {
   "cell_type": "code",
   "execution_count": 10,
   "metadata": {},
   "outputs": [
    {
     "name": "stdout",
     "output_type": "stream",
     "text": [
      "INFO:tensorflow:Restoring parameters from /Volumes/Mac/GW/model/model-plain3_dropout-1.ckpt\n",
      "Train Epoch: 01 Loss= 0.316455394 Accuracy= 0.99666667\n",
      "Train Epoch: 02 Loss= 0.315951288 Accuracy= 0.997\n",
      "Train Epoch: 03 Loss= 0.316139072 Accuracy= 0.997\n",
      "Train Epoch: 04 Loss= 0.315337539 Accuracy= 0.998\n",
      "period(s) = 668.211510897\n"
     ]
    }
   ],
   "source": [
    "evaluate(4,1)"
   ]
  },
  {
   "cell_type": "code",
   "execution_count": 10,
   "metadata": {},
   "outputs": [
    {
     "name": "stdout",
     "output_type": "stream",
     "text": [
      "INFO:tensorflow:Restoring parameters from /Volumes/Mac/GW/model/model-plain3_dropout-1.ckpt\n",
      "Train Epoch: 01 Loss= 0.315272838 Accuracy= 0.998\n",
      "Train Epoch: 02 Loss= 0.315543503 Accuracy= 0.99766666\n",
      "Train Epoch: 03 Loss= 0.315719396 Accuracy= 0.99766666\n",
      "Train Epoch: 04 Loss= 0.316265047 Accuracy= 0.997\n",
      "period(s) = 666.85249114\n"
     ]
    }
   ],
   "source": [
    "evaluate(4,1)"
   ]
  },
  {
   "cell_type": "code",
   "execution_count": 10,
   "metadata": {},
   "outputs": [
    {
     "name": "stdout",
     "output_type": "stream",
     "text": [
      "INFO:tensorflow:Restoring parameters from /Volumes/Mac/GW/model/model-plain3_dropout-1.ckpt\n",
      "Train Epoch: 01 Loss= 0.314914793 Accuracy= 0.99833333\n",
      "Train Epoch: 02 Loss= 0.315277994 Accuracy= 0.998\n",
      "Train Epoch: 03 Loss= 0.314799160 Accuracy= 0.99866664\n",
      "Train Epoch: 04 Loss= 0.315102786 Accuracy= 0.99833333\n",
      "period(s) = 723.847826958\n"
     ]
    }
   ],
   "source": [
    "evaluate(4,1)"
   ]
  },
  {
   "cell_type": "code",
   "execution_count": 10,
   "metadata": {},
   "outputs": [
    {
     "name": "stdout",
     "output_type": "stream",
     "text": [
      "INFO:tensorflow:Restoring parameters from /Volumes/Mac/GW/model/model-plain3_dropout-1.ckpt\n",
      "Train Epoch: 01 Loss= 0.320139974 Accuracy= 0.99333334\n",
      "Train Epoch: 02 Loss= 0.321744382 Accuracy= 0.991\n",
      "Train Epoch: 03 Loss= 0.321042836 Accuracy= 0.992\n",
      "Train Epoch: 04 Loss= 0.320121676 Accuracy= 0.99333334\n",
      "period(s) = 689.119714975\n"
     ]
    }
   ],
   "source": [
    "evaluate(4,0.8)"
   ]
  },
  {
   "cell_type": "code",
   "execution_count": 10,
   "metadata": {},
   "outputs": [
    {
     "name": "stdout",
     "output_type": "stream",
     "text": [
      "INFO:tensorflow:Restoring parameters from /Volumes/Mac/GW/model/model-plain3_dropout-1.ckpt\n",
      "Train Epoch: 01 Loss= 0.321792006 Accuracy= 0.991\n",
      "Train Epoch: 02 Loss= 0.319713920 Accuracy= 0.99366665\n",
      "Train Epoch: 03 Loss= 0.321280688 Accuracy= 0.99233335\n",
      "Train Epoch: 04 Loss= 0.320370108 Accuracy= 0.99266666\n",
      "period(s) = 695.371767998\n"
     ]
    }
   ],
   "source": [
    "evaluate(4,0.8)"
   ]
  },
  {
   "cell_type": "code",
   "execution_count": 10,
   "metadata": {},
   "outputs": [
    {
     "name": "stdout",
     "output_type": "stream",
     "text": [
      "INFO:tensorflow:Restoring parameters from /Volumes/Mac/GW/model/model-plain3_dropout-1.ckpt\n",
      "Train Epoch: 01 Loss= 0.320122182 Accuracy= 0.99233335\n",
      "Train Epoch: 02 Loss= 0.319910288 Accuracy= 0.993\n",
      "Train Epoch: 03 Loss= 0.321502924 Accuracy= 0.9916667\n",
      "Train Epoch: 04 Loss= 0.319730967 Accuracy= 0.993\n",
      "period(s) = 695.898015022\n"
     ]
    }
   ],
   "source": [
    "evaluate(4,0.8)"
   ]
  },
  {
   "cell_type": "code",
   "execution_count": 10,
   "metadata": {},
   "outputs": [
    {
     "name": "stdout",
     "output_type": "stream",
     "text": [
      "INFO:tensorflow:Restoring parameters from /Volumes/Mac/GW/model/model-plain3_dropout-1.ckpt\n",
      "Train Epoch: 01 Loss= 0.328568816 Accuracy= 0.985\n",
      "Train Epoch: 02 Loss= 0.327185333 Accuracy= 0.986\n",
      "Train Epoch: 03 Loss= 0.327824652 Accuracy= 0.985\n",
      "Train Epoch: 04 Loss= 0.327153921 Accuracy= 0.9853333\n",
      "period(s) = 691.479241133\n"
     ]
    }
   ],
   "source": [
    "evaluate(4,0.7)"
   ]
  },
  {
   "cell_type": "code",
   "execution_count": 10,
   "metadata": {},
   "outputs": [
    {
     "name": "stdout",
     "output_type": "stream",
     "text": [
      "INFO:tensorflow:Restoring parameters from /Volumes/Mac/GW/model/model-plain3_dropout-1.ckpt\n",
      "Train Epoch: 01 Loss= 0.327460408 Accuracy= 0.98466665\n",
      "Train Epoch: 02 Loss= 0.328192681 Accuracy= 0.985\n",
      "Train Epoch: 03 Loss= 0.328314394 Accuracy= 0.98466665\n",
      "Train Epoch: 04 Loss= 0.328846276 Accuracy= 0.98366666\n",
      "period(s) = 721.210725069\n"
     ]
    }
   ],
   "source": [
    "evaluate(4,0.7)"
   ]
  },
  {
   "cell_type": "code",
   "execution_count": 10,
   "metadata": {},
   "outputs": [
    {
     "name": "stdout",
     "output_type": "stream",
     "text": [
      "INFO:tensorflow:Restoring parameters from /Volumes/Mac/GW/model/model-plain3_dropout-1.ckpt\n",
      "Train Epoch: 01 Loss= 0.329100311 Accuracy= 0.98366666\n",
      "Train Epoch: 02 Loss= 0.328495383 Accuracy= 0.98366666\n",
      "Train Epoch: 03 Loss= 0.328419447 Accuracy= 0.98433334\n",
      "Train Epoch: 04 Loss= 0.328061700 Accuracy= 0.985\n",
      "period(s) = 714.049045086\n"
     ]
    }
   ],
   "source": [
    "evaluate(4,0.7)"
   ]
  },
  {
   "cell_type": "code",
   "execution_count": 10,
   "metadata": {},
   "outputs": [
    {
     "name": "stdout",
     "output_type": "stream",
     "text": [
      "INFO:tensorflow:Restoring parameters from /Volumes/Mac/GW/model/model-plain3_dropout-1.ckpt\n",
      "Train Epoch: 01 Loss= 0.362512201 Accuracy= 0.9483333\n",
      "Train Epoch: 02 Loss= 0.355591685 Accuracy= 0.957\n",
      "Train Epoch: 03 Loss= 0.361890167 Accuracy= 0.95033336\n",
      "Train Epoch: 04 Loss= 0.368242025 Accuracy= 0.9433333\n",
      "period(s) = 732.198590994\n"
     ]
    }
   ],
   "source": [
    "evaluate(4,0.6)"
   ]
  },
  {
   "cell_type": "code",
   "execution_count": 10,
   "metadata": {},
   "outputs": [
    {
     "name": "stdout",
     "output_type": "stream",
     "text": [
      "INFO:tensorflow:Restoring parameters from /Volumes/Mac/GW/model/model-plain3_dropout-1.ckpt\n",
      "Train Epoch: 01 Loss= 0.360024244 Accuracy= 0.953\n",
      "Train Epoch: 02 Loss= 0.353244454 Accuracy= 0.95933336\n",
      "Train Epoch: 03 Loss= 0.356025219 Accuracy= 0.95533335\n",
      "Train Epoch: 04 Loss= 0.359468818 Accuracy= 0.95233333\n",
      "period(s) = 698.584521055\n"
     ]
    }
   ],
   "source": [
    "evaluate(4,0.6)"
   ]
  },
  {
   "cell_type": "code",
   "execution_count": 10,
   "metadata": {},
   "outputs": [
    {
     "name": "stdout",
     "output_type": "stream",
     "text": [
      "INFO:tensorflow:Restoring parameters from /Volumes/Mac/GW/model/model-plain3_dropout-1.ckpt\n",
      "Train Epoch: 01 Loss= 0.356476724 Accuracy= 0.956\n",
      "Train Epoch: 02 Loss= 0.354430020 Accuracy= 0.959\n",
      "Train Epoch: 03 Loss= 0.356794596 Accuracy= 0.9546667\n",
      "Train Epoch: 04 Loss= 0.355636895 Accuracy= 0.957\n",
      "period(s) = 673.191341877\n"
     ]
    }
   ],
   "source": [
    "evaluate(4,0.6)"
   ]
  },
  {
   "cell_type": "code",
   "execution_count": 10,
   "metadata": {},
   "outputs": [
    {
     "name": "stdout",
     "output_type": "stream",
     "text": [
      "INFO:tensorflow:Restoring parameters from /Volumes/Mac/GW/model/model-plain3_dropout-1.ckpt\n",
      "Train Epoch: 01 Loss= 0.411399782 Accuracy= 0.89966667\n",
      "Train Epoch: 02 Loss= 0.413140863 Accuracy= 0.89666665\n",
      "Train Epoch: 03 Loss= 0.408494949 Accuracy= 0.90166664\n",
      "Train Epoch: 04 Loss= 0.408852130 Accuracy= 0.90166664\n",
      "period(s) = 666.952793837\n"
     ]
    }
   ],
   "source": [
    "evaluate(4,0.5)"
   ]
  },
  {
   "cell_type": "code",
   "execution_count": 10,
   "metadata": {},
   "outputs": [
    {
     "name": "stdout",
     "output_type": "stream",
     "text": [
      "INFO:tensorflow:Restoring parameters from /Volumes/Mac/GW/model/model-plain3_dropout-1.ckpt\n",
      "Train Epoch: 01 Loss= 0.408033043 Accuracy= 0.9026667\n",
      "Train Epoch: 02 Loss= 0.406824619 Accuracy= 0.904\n",
      "Train Epoch: 03 Loss= 0.409082919 Accuracy= 0.902\n",
      "Train Epoch: 04 Loss= 0.408193350 Accuracy= 0.90133333\n",
      "period(s) = 723.218859196\n"
     ]
    }
   ],
   "source": [
    "evaluate(4,0.5)"
   ]
  },
  {
   "cell_type": "code",
   "execution_count": 10,
   "metadata": {},
   "outputs": [
    {
     "name": "stdout",
     "output_type": "stream",
     "text": [
      "INFO:tensorflow:Restoring parameters from /Volumes/Mac/GW/model/model-plain3_dropout-1.ckpt\n",
      "Train Epoch: 01 Loss= 0.406647384 Accuracy= 0.9033333\n",
      "Train Epoch: 02 Loss= 0.412356675 Accuracy= 0.8983333\n",
      "Train Epoch: 03 Loss= 0.409492999 Accuracy= 0.901\n",
      "Train Epoch: 04 Loss= 0.410690665 Accuracy= 0.8986667\n",
      "period(s) = 774.365479946\n"
     ]
    }
   ],
   "source": [
    "evaluate(4,0.5)"
   ]
  },
  {
   "cell_type": "code",
   "execution_count": 14,
   "metadata": {},
   "outputs": [
    {
     "name": "stdout",
     "output_type": "stream",
     "text": [
      "INFO:tensorflow:Restoring parameters from /Volumes/Mac/GW/model/model-plain3_dropout-1.ckpt\n",
      "acc : 0.8985834\n",
      "period of estimate = 57.7675738335 (s)\n"
     ]
    }
   ],
   "source": [
    "estimate('/Volumes/Mac/GW/spec/withoutoverlap/5.5~74.5/testdatawo_spec16-8_freq1024_pr0.5.h5')"
   ]
  },
  {
   "cell_type": "code",
   "execution_count": 15,
   "metadata": {},
   "outputs": [
    {
     "name": "stdout",
     "output_type": "stream",
     "text": [
      "INFO:tensorflow:Restoring parameters from /Volumes/Mac/GW/model/model-plain3_dropout-1.ckpt\n",
      "period of prediction = 54.4630310535 (s)\n",
      "confusionmatrix =\n",
      "[[3464  263]\n",
      " [ 356 2129]]\n"
     ]
    }
   ],
   "source": [
    "test = h5py.File('/Volumes/Mac/GW/spec/withoutoverlap/5.5~74.5/testdatawo_spec16-8_freq1024_pr0.5.h5', 'r')\n",
    "test_label = test['label'][...]\n",
    "test.close()\n",
    "cc=confusionmatrix(prediction_result('/Volumes/Mac/GW/spec/withoutoverlap/5.5~74.5/testdatawo_spec16-8_freq1024_pr0.5.h5'),\n",
    "               test_label)"
   ]
  },
  {
   "cell_type": "code",
   "execution_count": 16,
   "metadata": {},
   "outputs": [
    {
     "name": "stdout",
     "output_type": "stream",
     "text": [
      "false alarm rate = 0.07056613898577944\n",
      "sensitivity = 0.8567404426559356\n"
     ]
    }
   ],
   "source": [
    "false_alarm_rate(cc)\n",
    "sensitivity(cc)"
   ]
  },
  {
   "cell_type": "code",
   "execution_count": 17,
   "metadata": {
    "scrolled": true
   },
   "outputs": [
    {
     "name": "stdout",
     "output_type": "stream",
     "text": [
      "INFO:tensorflow:Restoring parameters from /Volumes/Mac/GW/model/model-plain3_dropout-1.ckpt\n",
      "period of prediction = 51.2285871506 (s)\n",
      "confusionmatrix =\n",
      "[[ 523   29]\n",
      " [ 714 4256]]\n",
      "INFO:tensorflow:Restoring parameters from /Volumes/Mac/GW/model/model-plain3_dropout-1.ckpt\n",
      "period of prediction = 41.4255440235 (s)\n",
      "confusionmatrix =\n",
      "[[ 508   44]\n",
      " [ 688 4282]]\n",
      "INFO:tensorflow:Restoring parameters from /Volumes/Mac/GW/model/model-plain3_dropout-1.ckpt\n",
      "period of prediction = 44.5394120216 (s)\n",
      "confusionmatrix =\n",
      "[[ 511   41]\n",
      " [ 723 4247]]\n",
      "INFO:tensorflow:Restoring parameters from /Volumes/Mac/GW/model/model-plain3_dropout-1.ckpt\n",
      "period of prediction = 42.0326349735 (s)\n",
      "confusionmatrix =\n",
      "[[ 514   38]\n",
      " [ 700 4270]]\n",
      "INFO:tensorflow:Restoring parameters from /Volumes/Mac/GW/model/model-plain3_dropout-1.ckpt\n",
      "period of prediction = 41.396340847 (s)\n",
      "confusionmatrix =\n",
      "[[ 517   35]\n",
      " [ 696 4274]]\n",
      "INFO:tensorflow:Restoring parameters from /Volumes/Mac/GW/model/model-plain3_dropout-1.ckpt\n",
      "period of prediction = 44.3891909122 (s)\n",
      "confusionmatrix =\n",
      "[[ 512   40]\n",
      " [ 718 4252]]\n",
      "INFO:tensorflow:Restoring parameters from /Volumes/Mac/GW/model/model-plain3_dropout-1.ckpt\n",
      "period of prediction = 46.5200650692 (s)\n",
      "confusionmatrix =\n",
      "[[ 502   50]\n",
      " [ 731 4239]]\n",
      "INFO:tensorflow:Restoring parameters from /Volumes/Mac/GW/model/model-plain3_dropout-1.ckpt\n",
      "period of prediction = 39.5953280926 (s)\n",
      "confusionmatrix =\n",
      "[[ 521   31]\n",
      " [ 716 4254]]\n",
      "INFO:tensorflow:Restoring parameters from /Volumes/Mac/GW/model/model-plain3_dropout-1.ckpt\n",
      "period of prediction = 43.0742819309 (s)\n",
      "confusionmatrix =\n",
      "[[ 518   34]\n",
      " [ 741 4229]]\n",
      "INFO:tensorflow:Restoring parameters from /Volumes/Mac/GW/model/model-plain3_dropout-1.ckpt\n",
      "period of prediction = 39.4499630928 (s)\n",
      "confusionmatrix =\n",
      "[[ 512   40]\n",
      " [ 706 4264]]\n",
      "INFO:tensorflow:Restoring parameters from /Volumes/Mac/GW/model/model-plain3_dropout-1.ckpt\n",
      "period of prediction = 37.391782999 (s)\n",
      "confusionmatrix =\n",
      "[[ 507   45]\n",
      " [ 694 4276]]\n",
      "INFO:tensorflow:Restoring parameters from /Volumes/Mac/GW/model/model-plain3_dropout-1.ckpt\n",
      "period of prediction = 36.2975099087 (s)\n",
      "confusionmatrix =\n",
      "[[ 506   46]\n",
      " [ 678 4292]]\n",
      "INFO:tensorflow:Restoring parameters from /Volumes/Mac/GW/model/model-plain3_dropout-1.ckpt\n",
      "period of prediction = 35.6708250046 (s)\n",
      "confusionmatrix =\n",
      "[[ 524   28]\n",
      " [ 715 4255]]\n",
      "INFO:tensorflow:Restoring parameters from /Volumes/Mac/GW/model/model-plain3_dropout-1.ckpt\n",
      "period of prediction = 39.9763000011 (s)\n",
      "confusionmatrix =\n",
      "[[ 516   36]\n",
      " [ 722 4248]]\n",
      "INFO:tensorflow:Restoring parameters from /Volumes/Mac/GW/model/model-plain3_dropout-1.ckpt\n",
      "period of prediction = 36.5309309959 (s)\n",
      "confusionmatrix =\n",
      "[[ 517   35]\n",
      " [ 718 4252]]\n",
      "INFO:tensorflow:Restoring parameters from /Volumes/Mac/GW/model/model-plain3_dropout-1.ckpt\n",
      "period of prediction = 37.6594350338 (s)\n",
      "confusionmatrix =\n",
      "[[ 518   34]\n",
      " [ 716 4254]]\n",
      "INFO:tensorflow:Restoring parameters from /Volumes/Mac/GW/model/model-plain3_dropout-1.ckpt\n",
      "period of prediction = 38.0019140244 (s)\n",
      "confusionmatrix =\n",
      "[[ 511   41]\n",
      " [ 727 4243]]\n",
      "INFO:tensorflow:Restoring parameters from /Volumes/Mac/GW/model/model-plain3_dropout-1.ckpt\n",
      "period of prediction = 43.3853509426 (s)\n",
      "confusionmatrix =\n",
      "[[ 506   46]\n",
      " [ 696 4274]]\n",
      "INFO:tensorflow:Restoring parameters from /Volumes/Mac/GW/model/model-plain3_dropout-1.ckpt\n",
      "period of prediction = 38.6242070198 (s)\n",
      "confusionmatrix =\n",
      "[[ 512   40]\n",
      " [ 702 4268]]\n",
      "INFO:tensorflow:Restoring parameters from /Volumes/Mac/GW/model/model-plain3_dropout-1.ckpt\n",
      "period of prediction = 34.9084818363 (s)\n",
      "confusionmatrix =\n",
      "[[ 517   35]\n",
      " [ 717 4253]]\n",
      "INFO:tensorflow:Restoring parameters from /Volumes/Mac/GW/model/model-plain3_dropout-1.ckpt\n",
      "period of prediction = 38.8917131424 (s)\n",
      "confusionmatrix =\n",
      "[[ 516   36]\n",
      " [ 698 4272]]\n",
      "INFO:tensorflow:Restoring parameters from /Volumes/Mac/GW/model/model-plain3_dropout-1.ckpt\n",
      "period of prediction = 35.7069628239 (s)\n",
      "confusionmatrix =\n",
      "[[ 512   40]\n",
      " [ 677 4293]]\n",
      "INFO:tensorflow:Restoring parameters from /Volumes/Mac/GW/model/model-plain3_dropout-1.ckpt\n",
      "period of prediction = 35.2437288761 (s)\n",
      "confusionmatrix =\n",
      "[[ 517   35]\n",
      " [ 707 4263]]\n",
      "INFO:tensorflow:Restoring parameters from /Volumes/Mac/GW/model/model-plain3_dropout-1.ckpt\n",
      "period of prediction = 38.9812948704 (s)\n",
      "confusionmatrix =\n",
      "[[ 508   44]\n",
      " [ 641 4329]]\n",
      "INFO:tensorflow:Restoring parameters from /Volumes/Mac/GW/model/model-plain3_dropout-1.ckpt\n",
      "period of prediction = 42.615311861 (s)\n",
      "confusionmatrix =\n",
      "[[ 522   30]\n",
      " [ 693 4277]]\n",
      "INFO:tensorflow:Restoring parameters from /Volumes/Mac/GW/model/model-plain3_dropout-1.ckpt\n",
      "period of prediction = 42.9651620388 (s)\n",
      "confusionmatrix =\n",
      "[[ 509   43]\n",
      " [ 689 4281]]\n",
      "INFO:tensorflow:Restoring parameters from /Volumes/Mac/GW/model/model-plain3_dropout-1.ckpt\n",
      "period of prediction = 45.6561200619 (s)\n",
      "confusionmatrix =\n",
      "[[ 510   42]\n",
      " [ 693 4277]]\n",
      "INFO:tensorflow:Restoring parameters from /Volumes/Mac/GW/model/model-plain3_dropout-1.ckpt\n",
      "period of prediction = 48.2811479568 (s)\n",
      "confusionmatrix =\n",
      "[[ 515   37]\n",
      " [ 683 4287]]\n",
      "INFO:tensorflow:Restoring parameters from /Volumes/Mac/GW/model/model-plain3_dropout-1.ckpt\n",
      "period of prediction = 46.9228749275 (s)\n",
      "confusionmatrix =\n",
      "[[ 501   51]\n",
      " [ 725 4245]]\n",
      "INFO:tensorflow:Restoring parameters from /Volumes/Mac/GW/model/model-plain3_dropout-1.ckpt\n",
      "period of prediction = 40.1059579849 (s)\n",
      "confusionmatrix =\n",
      "[[ 512   40]\n",
      " [ 694 4276]]\n",
      "INFO:tensorflow:Restoring parameters from /Volumes/Mac/GW/model/model-plain3_dropout-1.ckpt\n",
      "period of prediction = 35.3353309631 (s)\n",
      "confusionmatrix =\n",
      "[[ 512   40]\n",
      " [ 679 4291]]\n",
      "INFO:tensorflow:Restoring parameters from /Volumes/Mac/GW/model/model-plain3_dropout-1.ckpt\n",
      "period of prediction = 37.1037349701 (s)\n",
      "confusionmatrix =\n",
      "[[ 522   30]\n",
      " [ 726 4244]]\n",
      "INFO:tensorflow:Restoring parameters from /Volumes/Mac/GW/model/model-plain3_dropout-1.ckpt\n",
      "period of prediction = 36.2072091103 (s)\n",
      "confusionmatrix =\n",
      "[[ 521   31]\n",
      " [ 684 4286]]\n",
      "INFO:tensorflow:Restoring parameters from /Volumes/Mac/GW/model/model-plain3_dropout-1.ckpt\n",
      "period of prediction = 36.706225872 (s)\n",
      "confusionmatrix =\n",
      "[[ 518   34]\n",
      " [ 756 4214]]\n",
      "INFO:tensorflow:Restoring parameters from /Volumes/Mac/GW/model/model-plain3_dropout-1.ckpt\n",
      "period of prediction = 39.9968400002 (s)\n",
      "confusionmatrix =\n",
      "[[ 518   34]\n",
      " [ 717 4253]]\n",
      "INFO:tensorflow:Restoring parameters from /Volumes/Mac/GW/model/model-plain3_dropout-1.ckpt\n",
      "period of prediction = 36.0543699265 (s)\n",
      "confusionmatrix =\n",
      "[[ 516   36]\n",
      " [ 714 4256]]\n",
      "INFO:tensorflow:Restoring parameters from /Volumes/Mac/GW/model/model-plain3_dropout-1.ckpt\n",
      "period of prediction = 43.3913600445 (s)\n",
      "confusionmatrix =\n",
      "[[ 508   44]\n",
      " [ 705 4265]]\n",
      "INFO:tensorflow:Restoring parameters from /Volumes/Mac/GW/model/model-plain3_dropout-1.ckpt\n",
      "period of prediction = 39.7488451004 (s)\n",
      "confusionmatrix =\n",
      "[[ 523   29]\n",
      " [ 755 4215]]\n",
      "INFO:tensorflow:Restoring parameters from /Volumes/Mac/GW/model/model-plain3_dropout-1.ckpt\n",
      "period of prediction = 37.6983799934 (s)\n",
      "confusionmatrix =\n",
      "[[ 521   31]\n",
      " [ 680 4290]]\n",
      "INFO:tensorflow:Restoring parameters from /Volumes/Mac/GW/model/model-plain3_dropout-1.ckpt\n",
      "period of prediction = 36.6265921593 (s)\n",
      "confusionmatrix =\n",
      "[[ 519   33]\n",
      " [ 698 4272]]\n",
      "INFO:tensorflow:Restoring parameters from /Volumes/Mac/GW/model/model-plain3_dropout-1.ckpt\n",
      "period of prediction = 41.56082201 (s)\n",
      "confusionmatrix =\n",
      "[[ 514   38]\n",
      " [ 708 4262]]\n",
      "INFO:tensorflow:Restoring parameters from /Volumes/Mac/GW/model/model-plain3_dropout-1.ckpt\n",
      "period of prediction = 36.2782080173 (s)\n",
      "confusionmatrix =\n",
      "[[ 520   32]\n",
      " [ 679 4291]]\n",
      "INFO:tensorflow:Restoring parameters from /Volumes/Mac/GW/model/model-plain3_dropout-1.ckpt\n",
      "period of prediction = 42.2905790806 (s)\n",
      "confusionmatrix =\n",
      "[[ 517   35]\n",
      " [ 704 4266]]\n",
      "INFO:tensorflow:Restoring parameters from /Volumes/Mac/GW/model/model-plain3_dropout-1.ckpt\n",
      "period of prediction = 37.0518028736 (s)\n",
      "confusionmatrix =\n",
      "[[ 512   40]\n",
      " [ 666 4304]]\n",
      "INFO:tensorflow:Restoring parameters from /Volumes/Mac/GW/model/model-plain3_dropout-1.ckpt\n",
      "period of prediction = 39.7350080013 (s)\n",
      "confusionmatrix =\n",
      "[[ 526   26]\n",
      " [ 754 4216]]\n",
      "INFO:tensorflow:Restoring parameters from /Volumes/Mac/GW/model/model-plain3_dropout-1.ckpt\n",
      "period of prediction = 36.8551170826 (s)\n",
      "confusionmatrix =\n",
      "[[ 509   43]\n",
      " [ 703 4267]]\n",
      "INFO:tensorflow:Restoring parameters from /Volumes/Mac/GW/model/model-plain3_dropout-1.ckpt\n"
     ]
    },
    {
     "name": "stdout",
     "output_type": "stream",
     "text": [
      "period of prediction = 36.5595297813 (s)\n",
      "confusionmatrix =\n",
      "[[ 519   33]\n",
      " [ 683 4287]]\n",
      "INFO:tensorflow:Restoring parameters from /Volumes/Mac/GW/model/model-plain3_dropout-1.ckpt\n",
      "period of prediction = 36.9059839249 (s)\n",
      "confusionmatrix =\n",
      "[[ 519   33]\n",
      " [ 715 4255]]\n",
      "INFO:tensorflow:Restoring parameters from /Volumes/Mac/GW/model/model-plain3_dropout-1.ckpt\n",
      "period of prediction = 36.691972971 (s)\n",
      "confusionmatrix =\n",
      "[[ 515   37]\n",
      " [ 724 4246]]\n",
      "INFO:tensorflow:Restoring parameters from /Volumes/Mac/GW/model/model-plain3_dropout-1.ckpt\n",
      "period of prediction = 35.7239658833 (s)\n",
      "confusionmatrix =\n",
      "[[ 512   40]\n",
      " [ 713 4257]]\n",
      "INFO:tensorflow:Restoring parameters from /Volumes/Mac/GW/model/model-plain3_dropout-1.ckpt\n",
      "period of prediction = 37.7982740402 (s)\n",
      "confusionmatrix =\n",
      "[[ 511   41]\n",
      " [ 702 4268]]\n",
      "INFO:tensorflow:Restoring parameters from /Volumes/Mac/GW/model/model-plain3_dropout-1.ckpt\n",
      "period of prediction = 37.9920749664 (s)\n",
      "confusionmatrix =\n",
      "[[ 517   35]\n",
      " [ 706 4264]]\n",
      "INFO:tensorflow:Restoring parameters from /Volumes/Mac/GW/model/model-plain3_dropout-1.ckpt\n",
      "period of prediction = 36.7103409767 (s)\n",
      "confusionmatrix =\n",
      "[[ 512   40]\n",
      " [ 672 4298]]\n",
      "INFO:tensorflow:Restoring parameters from /Volumes/Mac/GW/model/model-plain3_dropout-1.ckpt\n",
      "period of prediction = 35.4290339947 (s)\n",
      "confusionmatrix =\n",
      "[[ 525   27]\n",
      " [ 720 4250]]\n",
      "INFO:tensorflow:Restoring parameters from /Volumes/Mac/GW/model/model-plain3_dropout-1.ckpt\n",
      "period of prediction = 37.7904558182 (s)\n",
      "confusionmatrix =\n",
      "[[ 523   29]\n",
      " [ 692 4278]]\n",
      "INFO:tensorflow:Restoring parameters from /Volumes/Mac/GW/model/model-plain3_dropout-1.ckpt\n",
      "period of prediction = 35.9388258457 (s)\n",
      "confusionmatrix =\n",
      "[[ 501   51]\n",
      " [ 720 4250]]\n",
      "INFO:tensorflow:Restoring parameters from /Volumes/Mac/GW/model/model-plain3_dropout-1.ckpt\n",
      "period of prediction = 35.4275209904 (s)\n",
      "confusionmatrix =\n",
      "[[ 507   45]\n",
      " [ 693 4277]]\n",
      "INFO:tensorflow:Restoring parameters from /Volumes/Mac/GW/model/model-plain3_dropout-1.ckpt\n",
      "period of prediction = 37.9086811543 (s)\n",
      "confusionmatrix =\n",
      "[[ 512   40]\n",
      " [ 701 4269]]\n",
      "INFO:tensorflow:Restoring parameters from /Volumes/Mac/GW/model/model-plain3_dropout-1.ckpt\n",
      "period of prediction = 36.0237538815 (s)\n",
      "confusionmatrix =\n",
      "[[ 513   39]\n",
      " [ 703 4267]]\n",
      "INFO:tensorflow:Restoring parameters from /Volumes/Mac/GW/model/model-plain3_dropout-1.ckpt\n",
      "period of prediction = 35.4170069695 (s)\n",
      "confusionmatrix =\n",
      "[[ 524   28]\n",
      " [ 692 4278]]\n",
      "INFO:tensorflow:Restoring parameters from /Volumes/Mac/GW/model/model-plain3_dropout-1.ckpt\n",
      "period of prediction = 38.9634139538 (s)\n",
      "confusionmatrix =\n",
      "[[ 522   30]\n",
      " [ 679 4291]]\n",
      "INFO:tensorflow:Restoring parameters from /Volumes/Mac/GW/model/model-plain3_dropout-1.ckpt\n",
      "period of prediction = 37.2911858559 (s)\n",
      "confusionmatrix =\n",
      "[[ 514   38]\n",
      " [ 725 4245]]\n",
      "INFO:tensorflow:Restoring parameters from /Volumes/Mac/GW/model/model-plain3_dropout-1.ckpt\n",
      "period of prediction = 39.7663121223 (s)\n",
      "confusionmatrix =\n",
      "[[ 517   35]\n",
      " [ 688 4282]]\n",
      "INFO:tensorflow:Restoring parameters from /Volumes/Mac/GW/model/model-plain3_dropout-1.ckpt\n",
      "period of prediction = 39.379994154 (s)\n",
      "confusionmatrix =\n",
      "[[ 517   35]\n",
      " [ 722 4248]]\n",
      "INFO:tensorflow:Restoring parameters from /Volumes/Mac/GW/model/model-plain3_dropout-1.ckpt\n",
      "period of prediction = 35.8723931313 (s)\n",
      "confusionmatrix =\n",
      "[[ 514   38]\n",
      " [ 708 4262]]\n",
      "INFO:tensorflow:Restoring parameters from /Volumes/Mac/GW/model/model-plain3_dropout-1.ckpt\n",
      "period of prediction = 36.0899038315 (s)\n",
      "confusionmatrix =\n",
      "[[ 514   38]\n",
      " [ 699 4271]]\n",
      "INFO:tensorflow:Restoring parameters from /Volumes/Mac/GW/model/model-plain3_dropout-1.ckpt\n",
      "period of prediction = 38.145198822 (s)\n",
      "confusionmatrix =\n",
      "[[ 513   39]\n",
      " [ 701 4269]]\n",
      "INFO:tensorflow:Restoring parameters from /Volumes/Mac/GW/model/model-plain3_dropout-1.ckpt\n",
      "period of prediction = 36.3361837864 (s)\n",
      "confusionmatrix =\n",
      "[[ 522   30]\n",
      " [ 707 4263]]\n",
      "INFO:tensorflow:Restoring parameters from /Volumes/Mac/GW/model/model-plain3_dropout-1.ckpt\n",
      "period of prediction = 35.2990620136 (s)\n",
      "confusionmatrix =\n",
      "[[ 514   38]\n",
      " [ 704 4266]]\n",
      "INFO:tensorflow:Restoring parameters from /Volumes/Mac/GW/model/model-plain3_dropout-1.ckpt\n",
      "period of prediction = 37.6115779877 (s)\n",
      "confusionmatrix =\n",
      "[[ 516   36]\n",
      " [ 697 4273]]\n",
      "INFO:tensorflow:Restoring parameters from /Volumes/Mac/GW/model/model-plain3_dropout-1.ckpt\n",
      "period of prediction = 35.6631720066 (s)\n",
      "confusionmatrix =\n",
      "[[ 527   25]\n",
      " [ 683 4287]]\n",
      "INFO:tensorflow:Restoring parameters from /Volumes/Mac/GW/model/model-plain3_dropout-1.ckpt\n",
      "period of prediction = 35.6558411121 (s)\n",
      "confusionmatrix =\n",
      "[[ 509   43]\n",
      " [ 712 4258]]\n",
      "INFO:tensorflow:Restoring parameters from /Volumes/Mac/GW/model/model-plain3_dropout-1.ckpt\n",
      "period of prediction = 37.0419750214 (s)\n",
      "confusionmatrix =\n",
      "[[ 512   40]\n",
      " [ 652 4318]]\n",
      "INFO:tensorflow:Restoring parameters from /Volumes/Mac/GW/model/model-plain3_dropout-1.ckpt\n",
      "period of prediction = 36.1197109222 (s)\n",
      "confusionmatrix =\n",
      "[[ 511   41]\n",
      " [ 726 4244]]\n",
      "INFO:tensorflow:Restoring parameters from /Volumes/Mac/GW/model/model-plain3_dropout-1.ckpt\n",
      "period of prediction = 47.8233859539 (s)\n",
      "confusionmatrix =\n",
      "[[ 516   36]\n",
      " [ 718 4252]]\n",
      "INFO:tensorflow:Restoring parameters from /Volumes/Mac/GW/model/model-plain3_dropout-1.ckpt\n",
      "period of prediction = 42.1202111244 (s)\n",
      "confusionmatrix =\n",
      "[[ 508   44]\n",
      " [ 716 4254]]\n",
      "INFO:tensorflow:Restoring parameters from /Volumes/Mac/GW/model/model-plain3_dropout-1.ckpt\n",
      "period of prediction = 38.4587368965 (s)\n",
      "confusionmatrix =\n",
      "[[ 522   30]\n",
      " [ 685 4285]]\n",
      "INFO:tensorflow:Restoring parameters from /Volumes/Mac/GW/model/model-plain3_dropout-1.ckpt\n",
      "period of prediction = 39.7049069405 (s)\n",
      "confusionmatrix =\n",
      "[[ 506   46]\n",
      " [ 684 4286]]\n",
      "INFO:tensorflow:Restoring parameters from /Volumes/Mac/GW/model/model-plain3_dropout-1.ckpt\n",
      "period of prediction = 37.7405450344 (s)\n",
      "confusionmatrix =\n",
      "[[ 519   33]\n",
      " [ 698 4272]]\n",
      "INFO:tensorflow:Restoring parameters from /Volumes/Mac/GW/model/model-plain3_dropout-1.ckpt\n",
      "period of prediction = 39.6236739159 (s)\n",
      "confusionmatrix =\n",
      "[[ 509   43]\n",
      " [ 692 4278]]\n",
      "INFO:tensorflow:Restoring parameters from /Volumes/Mac/GW/model/model-plain3_dropout-1.ckpt\n",
      "period of prediction = 48.8020660877 (s)\n",
      "confusionmatrix =\n",
      "[[ 519   33]\n",
      " [ 743 4227]]\n",
      "INFO:tensorflow:Restoring parameters from /Volumes/Mac/GW/model/model-plain3_dropout-1.ckpt\n",
      "period of prediction = 46.0826480389 (s)\n",
      "confusionmatrix =\n",
      "[[ 512   40]\n",
      " [ 685 4285]]\n",
      "INFO:tensorflow:Restoring parameters from /Volumes/Mac/GW/model/model-plain3_dropout-1.ckpt\n",
      "period of prediction = 37.3093080521 (s)\n",
      "confusionmatrix =\n",
      "[[ 518   34]\n",
      " [ 731 4239]]\n",
      "INFO:tensorflow:Restoring parameters from /Volumes/Mac/GW/model/model-plain3_dropout-1.ckpt\n",
      "period of prediction = 35.4220809937 (s)\n",
      "confusionmatrix =\n",
      "[[ 512   40]\n",
      " [ 713 4257]]\n",
      "INFO:tensorflow:Restoring parameters from /Volumes/Mac/GW/model/model-plain3_dropout-1.ckpt\n",
      "period of prediction = 35.894217968 (s)\n",
      "confusionmatrix =\n",
      "[[ 526   26]\n",
      " [ 694 4276]]\n",
      "INFO:tensorflow:Restoring parameters from /Volumes/Mac/GW/model/model-plain3_dropout-1.ckpt\n",
      "period of prediction = 37.6826221943 (s)\n",
      "confusionmatrix =\n",
      "[[ 509   43]\n",
      " [ 697 4273]]\n",
      "INFO:tensorflow:Restoring parameters from /Volumes/Mac/GW/model/model-plain3_dropout-1.ckpt\n",
      "period of prediction = 36.5924088955 (s)\n",
      "confusionmatrix =\n",
      "[[ 512   40]\n",
      " [ 690 4280]]\n",
      "INFO:tensorflow:Restoring parameters from /Volumes/Mac/GW/model/model-plain3_dropout-1.ckpt\n",
      "period of prediction = 36.5124461651 (s)\n",
      "confusionmatrix =\n",
      "[[ 502   50]\n",
      " [ 656 4314]]\n",
      "INFO:tensorflow:Restoring parameters from /Volumes/Mac/GW/model/model-plain3_dropout-1.ckpt\n",
      "period of prediction = 35.8183841705 (s)\n",
      "confusionmatrix =\n",
      "[[ 514   38]\n",
      " [ 687 4283]]\n",
      "INFO:tensorflow:Restoring parameters from /Volumes/Mac/GW/model/model-plain3_dropout-1.ckpt\n",
      "period of prediction = 35.4232058525 (s)\n",
      "confusionmatrix =\n",
      "[[ 523   29]\n",
      " [ 737 4233]]\n",
      "INFO:tensorflow:Restoring parameters from /Volumes/Mac/GW/model/model-plain3_dropout-1.ckpt\n",
      "period of prediction = 35.4585530758 (s)\n",
      "confusionmatrix =\n",
      "[[ 506   46]\n",
      " [ 725 4245]]\n",
      "INFO:tensorflow:Restoring parameters from /Volumes/Mac/GW/model/model-plain3_dropout-1.ckpt\n",
      "period of prediction = 43.4566390514 (s)\n",
      "confusionmatrix =\n",
      "[[ 508   44]\n",
      " [ 722 4248]]\n",
      "INFO:tensorflow:Restoring parameters from /Volumes/Mac/GW/model/model-plain3_dropout-1.ckpt\n",
      "period of prediction = 40.7127921581 (s)\n"
     ]
    },
    {
     "name": "stdout",
     "output_type": "stream",
     "text": [
      "confusionmatrix =\n",
      "[[ 514   38]\n",
      " [ 725 4245]]\n",
      "INFO:tensorflow:Restoring parameters from /Volumes/Mac/GW/model/model-plain3_dropout-1.ckpt\n",
      "period of prediction = 47.6482019424 (s)\n",
      "confusionmatrix =\n",
      "[[ 515   37]\n",
      " [ 671 4299]]\n",
      "INFO:tensorflow:Restoring parameters from /Volumes/Mac/GW/model/model-plain3_dropout-1.ckpt\n",
      "period of prediction = 38.1388940811 (s)\n",
      "confusionmatrix =\n",
      "[[ 526   26]\n",
      " [ 655 4315]]\n",
      "INFO:tensorflow:Restoring parameters from /Volumes/Mac/GW/model/model-plain3_dropout-1.ckpt\n",
      "period of prediction = 37.714204073 (s)\n",
      "confusionmatrix =\n",
      "[[ 508   44]\n",
      " [ 696 4274]]\n",
      "INFO:tensorflow:Restoring parameters from /Volumes/Mac/GW/model/model-plain3_dropout-1.ckpt\n",
      "period of prediction = 35.8090600967 (s)\n",
      "confusionmatrix =\n",
      "[[ 526   26]\n",
      " [ 656 4314]]\n",
      "INFO:tensorflow:Restoring parameters from /Volumes/Mac/GW/model/model-plain3_dropout-1.ckpt\n",
      "period of prediction = 34.661067009 (s)\n",
      "confusionmatrix =\n",
      "[[ 512   40]\n",
      " [ 704 4266]]\n",
      "INFO:tensorflow:Restoring parameters from /Volumes/Mac/GW/model/model-plain3_dropout-1.ckpt\n",
      "period of prediction = 37.5259928703 (s)\n",
      "confusionmatrix =\n",
      "[[ 522   30]\n",
      " [ 755 4215]]\n",
      "INFO:tensorflow:Restoring parameters from /Volumes/Mac/GW/model/model-plain3_dropout-1.ckpt\n",
      "period of prediction = 36.0667910576 (s)\n",
      "confusionmatrix =\n",
      "[[ 520   32]\n",
      " [ 700 4270]]\n",
      "acc = 0.865929011227816\n",
      "sensitivity = 0.8585110663983904\n",
      "false alarm rate = 0.06728260869565217\n"
     ]
    },
    {
     "data": {
      "image/png": "[encoded data removed]",
      "text/plain": [
       "<Figure size 432x288 with 1 Axes>"
      ]
     },
     "metadata": {},
     "output_type": "display_data"
    }
   ],
   "source": [
    "relation(100)"
   ]
  },
  {
   "cell_type": "code",
   "execution_count": null,
   "metadata": {},
   "outputs": [],
   "source": []
  }
 ],
 "metadata": {
  "kernelspec": {
   "display_name": "Python 2",
   "language": "python",
   "name": "python2"
  },
  "language_info": {
   "codemirror_mode": {
    "name": "ipython",
    "version": 2
   },
   "file_extension": ".py",
   "mimetype": "text/x-python",
   "name": "python",
   "nbconvert_exporter": "python",
   "pygments_lexer": "ipython2",
   "version": "2.7.15"
  }
 },
 "nbformat": 4,
 "nbformat_minor": 2
}
