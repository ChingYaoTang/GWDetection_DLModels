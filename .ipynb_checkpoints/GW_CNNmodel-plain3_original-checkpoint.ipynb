{
 "cells": [
  {
   "cell_type": "code",
   "execution_count": 1,
   "metadata": {},
   "outputs": [
    {
     "name": "stderr",
     "output_type": "stream",
     "text": [
      "/anaconda3/envs/anacondapy2/lib/python2.7/site-packages/h5py/__init__.py:36: FutureWarning: Conversion of the second argument of issubdtype from `float` to `np.floating` is deprecated. In future, it will be treated as `np.float64 == np.dtype(float).type`.\n",
      "  from ._conv import register_converters as _register_converters\n"
     ]
    }
   ],
   "source": [
    "import tensorflow as tf"
   ]
  },
  {
   "cell_type": "code",
   "execution_count": 2,
   "metadata": {},
   "outputs": [
    {
     "name": "stderr",
     "output_type": "stream",
     "text": [
      "/anaconda3/envs/anacondapy2/lib/python2.7/site-packages/h5py/__init__.py:36: FutureWarning: Conversion of the second argument of issubdtype from `float` to `np.floating` is deprecated. In future, it will be treated as `np.float64 == np.dtype(float).type`.\n",
      "  from ._conv import register_converters as _register_converters\n"
     ]
    }
   ],
   "source": [
    "import h5py \n",
    "import matplotlib.pyplot as plt\n",
    "import numpy as np\n",
    "import timeit\n",
    "from sklearn import preprocessing"
   ]
  },
  {
   "cell_type": "markdown",
   "metadata": {},
   "source": [
    "# batched data generating function"
   ]
  },
  {
   "cell_type": "code",
   "execution_count": 3,
   "metadata": {},
   "outputs": [],
   "source": [
    "def batch_generator(filename, batch_size):\n",
    "    f = h5py.File(filename, 'r')\n",
    "    batch_count = 0\n",
    "    while True:\n",
    "        if batch_count * batch_size + batch_size > f['label'].shape[0]: #若batchsize不能整除的話，最後餘下的資料永遠不會讀出\n",
    "            batch_count = 0\n",
    "        start_idx = batch_count * batch_size\n",
    "        end_idx = start_idx + batch_size\n",
    "        batch_count += 1\n",
    "        yield f['data'][start_idx : end_idx] , f['label'][start_idx : end_idx]\n",
    "    f.close()"
   ]
  },
  {
   "cell_type": "code",
   "execution_count": 30,
   "metadata": {},
   "outputs": [],
   "source": [
    "d1=batch_generator('/Volumes/Mac/GW/spec/validationdata_spec16-8_freq1024_snr05.h5', 1)"
   ]
  },
  {
   "cell_type": "code",
   "execution_count": 31,
   "metadata": {},
   "outputs": [],
   "source": [
    "x1,y1 = next(d1) #next四次 與 直接呼叫第15~20筆資料相同"
   ]
  },
  {
   "cell_type": "code",
   "execution_count": 32,
   "metadata": {},
   "outputs": [
    {
     "data": {
      "text/plain": [
       "(1, 65, 121)"
      ]
     },
     "execution_count": 32,
     "metadata": {},
     "output_type": "execute_result"
    }
   ],
   "source": [
    "x1.shape"
   ]
  },
  {
   "cell_type": "code",
   "execution_count": 34,
   "metadata": {},
   "outputs": [
    {
     "data": {
      "text/plain": [
       "array([1.], dtype=float32)"
      ]
     },
     "execution_count": 34,
     "metadata": {},
     "output_type": "execute_result"
    }
   ],
   "source": [
    "y1"
   ]
  },
  {
   "cell_type": "code",
   "execution_count": 4,
   "metadata": {},
   "outputs": [],
   "source": [
    "d2=batch_generator('/Volumes/Mac/GW/spec/validationdata_spec16-8_freq1024_snr05.h5', 3)"
   ]
  },
  {
   "cell_type": "code",
   "execution_count": 5,
   "metadata": {},
   "outputs": [],
   "source": [
    "x1,y2 = next(d2) "
   ]
  },
  {
   "cell_type": "code",
   "execution_count": 7,
   "metadata": {},
   "outputs": [
    {
     "data": {
      "text/plain": [
       "array([1., 0., 1.], dtype=float32)"
      ]
     },
     "execution_count": 7,
     "metadata": {},
     "output_type": "execute_result"
    }
   ],
   "source": [
    "y2"
   ]
  },
  {
   "cell_type": "code",
   "execution_count": 8,
   "metadata": {},
   "outputs": [
    {
     "data": {
      "text/plain": [
       "array([[0., 1.],\n",
       "       [1., 0.],\n",
       "       [0., 1.]], dtype=float32)"
      ]
     },
     "execution_count": 8,
     "metadata": {},
     "output_type": "execute_result"
    }
   ],
   "source": [
    "tf.Session().run(tf.one_hot(y2,2))"
   ]
  },
  {
   "cell_type": "code",
   "execution_count": 86,
   "metadata": {},
   "outputs": [
    {
     "data": {
      "text/plain": [
       "7865"
      ]
     },
     "execution_count": 86,
     "metadata": {},
     "output_type": "execute_result"
    }
   ],
   "source": [
    "tf.layers.Flatten()(tf.reshape(x1, [-1, dos1, dos2,1])).shape.as_list()[1]"
   ]
  },
  {
   "cell_type": "markdown",
   "metadata": {},
   "source": [
    "# weight function"
   ]
  },
  {
   "cell_type": "code",
   "execution_count": 4,
   "metadata": {},
   "outputs": [],
   "source": [
    "def w(shape): #weight\n",
    "    return tf.Variable(tf.truncated_normal(shape, stddev=0.1), name='w')\n",
    "\n",
    "def b(shape): #bias\n",
    "    return tf.Variable(tf.constant(0.1,shape=shape), name='b')\n",
    "\n",
    "def conv2d(x,w): #x:輸入影像，須為4維張量。 w:filter權重\n",
    "    return tf.nn.conv2d(x, w, strides=[1,1,1,1], padding='SAME')\n",
    "\n",
    "def maxpool2x2(x):\n",
    "    return tf.nn.max_pool(x, ksize=[1,2,2,1], strides=[1,2,2,1], padding='SAME')\n"
   ]
  },
  {
   "cell_type": "markdown",
   "metadata": {},
   "source": [
    "# model"
   ]
  },
  {
   "cell_type": "code",
   "execution_count": 5,
   "metadata": {},
   "outputs": [],
   "source": [
    "pr = 2\n",
    "traindatafile_ =  '/Volumes/Mac/GW/spec/withoutoverlap/5~75/trainingdatawo_spec16-8_freq1024_pr'+str(pr)+'.h5'\n",
    "modelstore = '/Volumes/Mac/GW/model/model2.ckpt'"
   ]
  },
  {
   "cell_type": "code",
   "execution_count": 6,
   "metadata": {},
   "outputs": [
    {
     "name": "stdout",
     "output_type": "stream",
     "text": [
      "6390\n"
     ]
    }
   ],
   "source": [
    "f = h5py.File(traindatafile, 'r')\n",
    "ll = len(f['data'])\n",
    "print ll"
   ]
  },
  {
   "cell_type": "code",
   "execution_count": 7,
   "metadata": {},
   "outputs": [
    {
     "name": "stdout",
     "output_type": "stream",
     "text": [
      "lenth f = 257\n",
      "lenth t = 121\n",
      "total 31097\n",
      "idx1024= 64\n"
     ]
    }
   ],
   "source": [
    "sample_rate = 8192\n",
    "data_length = 8192 \n",
    "T = data_length / sample_rate\n",
    "\n",
    "nitv = 16.0\n",
    "novl = 8.0\n",
    "#f\n",
    "lenf = int(sample_rate/nitv/2+1)\n",
    "print 'lenth f =',lenf\n",
    "#t\n",
    "lent = int((nitv*T-1)*novl+1)\n",
    "print 'lenth t =',lent\n",
    "#total\n",
    "totalpix = lenf*lent\n",
    "print 'total',totalpix\n",
    "#idx of f=1024\n",
    "idx1024 = (lenf-1)/4\n",
    "print 'idx1024=',idx1024\n",
    "\n",
    "\n",
    "batchSize = 10\n",
    "datasize = ll\n",
    "totalBatchs = datasize/batchSize\n",
    "\n",
    "c1fs = 5 #conv1 filter size\n",
    "c1fn = 8 #conv1 filter number\n",
    "c2fs = 3 #conv2 filter size\n",
    "c2fn = 16 #conv2 filter number\n",
    "c3fs = 3 #conv3 filter size\n",
    "c3fn = 16 #conv3 filter number\n",
    "dos1 = idx1024+1 #1st dim of spectrogram\n",
    "dos2 = lent #2nd din of spectrogram\n",
    "lnn1 = 128 #layer1 neuron number\n",
    "lnn2 =64 #layer1 neuron number"
   ]
  },
  {
   "cell_type": "code",
   "execution_count": 8,
   "metadata": {},
   "outputs": [
    {
     "name": "stdout",
     "output_type": "stream",
     "text": [
      "WARNING:tensorflow:From <ipython-input-8-303e4c1b8616>:58: softmax_cross_entropy_with_logits (from tensorflow.python.ops.nn_ops) is deprecated and will be removed in a future version.\n",
      "Instructions for updating:\n",
      "\n",
      "Future major versions of TensorFlow will allow gradients to flow\n",
      "into the labels input on backprop by default.\n",
      "\n",
      "See @{tf.nn.softmax_cross_entropy_with_logits_v2}.\n",
      "\n"
     ]
    }
   ],
   "source": [
    "with tf.name_scope('input_layer'):\n",
    "    x = tf.placeholder('float', shape=[None, dos1, dos2], name='x')\n",
    "    x_image = tf.reshape(x, [-1, dos1, dos2, 1])\n",
    "    \n",
    "with tf.name_scope('c1_conv'):\n",
    "    w1 = w([c1fs ,c1fs ,1, c1fn])\n",
    "    b1 = b([c1fn])\n",
    "    conv1 = conv2d(x_image, w1) + b1\n",
    "    c1_conv = tf.nn.relu(conv1)\n",
    "    \n",
    "with tf.name_scope('c1_pool'):\n",
    "    c1_pool = maxpool2x2(c1_conv)\n",
    "    \n",
    "with tf.name_scope('c2_conv'):\n",
    "    w2 = w([c2fs ,c2fs , c1fn, c2fn])\n",
    "    b2 = b([c2fn])\n",
    "    conv2 = conv2d(c1_pool,w2) +b2\n",
    "    c2_conv = tf.nn.relu(conv2)\n",
    "    \n",
    "with tf.name_scope('c2_pool'):\n",
    "    c2_pool = maxpool2x2(c2_conv)\n",
    "    \n",
    "with tf.name_scope('c3_conv'):\n",
    "    w3 = w([c3fs ,c3fs ,c2fn, c3fn])\n",
    "    b3 = b([c3fn])\n",
    "    conv3 = conv2d(c2_pool, w3) + b3\n",
    "    c3_conv = tf.nn.relu(conv3)\n",
    "    \n",
    "with tf.name_scope('c3_pool'):\n",
    "    c3_pool = maxpool2x2(c3_conv)    \n",
    "    \n",
    "#neurons = dos1/8*dos2/8*c3fn\n",
    "with tf.name_scope('D_flat'):\n",
    "    D_Flat = tf.layers.Flatten()(c3_pool)\n",
    "\n",
    "with tf.name_scope('D_hidden_layer1'):\n",
    "    inputdim = D_Flat.shape.as_list()[1]\n",
    "    wl1 = w([inputdim, lnn1])\n",
    "    bl1 = b([lnn1])\n",
    "    D_hidden1 = tf.nn.relu(tf.matmul(D_Flat, wl1)+bl1)\n",
    "    D_hidden_dropout1 = tf.nn.dropout(D_hidden1, keep_prob=0.8)\n",
    "    \n",
    "with tf.name_scope('D_hidden_layer2'):\n",
    "    wl2 = w([lnn1, lnn2])\n",
    "    bl2 = b([lnn2])\n",
    "    D_hidden2 = tf.nn.relu(tf.matmul(D_hidden_dropout1, wl2)+bl2)\n",
    "    D_hidden_dropout2 = tf.nn.dropout(D_hidden2, keep_prob=0.8)\n",
    "    \n",
    "with tf.name_scope('output_layer'):\n",
    "    wo = w([lnn2,2])\n",
    "    bo = b([2])\n",
    "    #y_predict = tf.sigmoid(tf.matmul(D_hidden_dropout2,wo)+bo)\n",
    "    y_predict = tf.nn.softmax(tf.matmul(D_hidden_dropout2,wo)+bo)\n",
    "    \n",
    "with tf.name_scope('optimizer'):\n",
    "    y_label = tf.placeholder('float', shape=[None,2], name='y_label')\n",
    "    #lossfunction = tf.reduce_mean(tf.nn.sigmoid_cross_entropy_with_logits(logits=y_predict, labels=y_label))\n",
    "    lossfunction = tf.reduce_mean(tf.nn.softmax_cross_entropy_with_logits(logits=y_predict, labels=y_label))\n",
    "    optimizer = tf.train.AdamOptimizer(learning_rate=0.0001).minimize(lossfunction)\n",
    "    \n",
    "with tf.name_scope('evaluate_model'):\n",
    "    correct_prediction = tf.equal(tf.argmax(y_predict,1), tf.argmax(y_label,1))\n",
    "    accuracy = tf.reduce_mean(tf.cast(correct_prediction,'float'))"
   ]
  },
  {
   "cell_type": "markdown",
   "metadata": {},
   "source": [
    "# evaluate"
   ]
  },
  {
   "cell_type": "code",
   "execution_count": 9,
   "metadata": {},
   "outputs": [],
   "source": [
    "def evaluate(trainEpochs,peakratio):\n",
    "    #loss_list = [] ; epoch_list = [] ; accuracy_list = []\n",
    "\n",
    "    start_time = timeit.default_timer()\n",
    "    sess = tf.Session()\n",
    "\n",
    "    saver = tf.train.Saver()\n",
    "\n",
    "    try: #第一次後執行\n",
    "        saver.restore(sess, modelstore)\n",
    "    except: #第一次跑時執行\n",
    "        sess.run(tf.global_variables_initializer())\n",
    "\n",
    "    traindatafile =  '/Volumes/Mac/GW/spec/withoutoverlap/5~75/trainingdatawo_spec16-8_freq1024_pr'+str(peakratio)+'.h5'\n",
    "    valdatafile = '/Volumes/Mac/GW/spec/overlap/5~75/validationdata_spec16-8_freq1024_pr'+str(peakratio)+'.h5'\n",
    "\n",
    "    bg = batch_generator(traindatafile, batchSize)\n",
    "    fval = h5py.File(valdatafile, 'r')\n",
    "    val_x = fval['data'][...]\n",
    "    val_y = fval['label'][...]\n",
    "    #np_utils.to_categorical\n",
    "    for epoch in range(trainEpochs):\n",
    "        for i in range(totalBatchs):\n",
    "            #每次讀取100筆資料\n",
    "            batch_x, batch_y = next(bg)\n",
    "            #將feature和label輸入並計算執行圖\n",
    "            sess.run(optimizer, feed_dict={x : batch_x, y_label : sess.run(tf.one_hot(batch_y, 2)) })\n",
    "        #使用驗證資料計算一次epoch的loss和acc    \n",
    "        loss, acc = sess.run([lossfunction,accuracy],feed_dict={x : val_x, y_label : sess.run(tf.one_hot(val_y, 2))})\n",
    "    \n",
    "        #epoch_list.append(epoch) ; loss_list.append(loss) ; accuracy_list.append(acc)\n",
    "        print 'Train Epoch:', '%02d'%(epoch+1), 'Loss=', '{:.9f}'.format(loss), 'Accuracy=',acc\n",
    "    \n",
    "\n",
    "    saver.save(sess, modelstore)\n",
    "\n",
    "    fval.close()\n",
    "    stop_time = timeit.default_timer()\n",
    "    print 'period(s) =', stop_time - start_time"
   ]
  },
  {
   "cell_type": "code",
   "execution_count": 12,
   "metadata": {},
   "outputs": [
    {
     "name": "stdout",
     "output_type": "stream",
     "text": [
      "Train Epoch: 01 Loss= 0.314197809 Accuracy= 1.0\n",
      "Train Epoch: 02 Loss= 0.313440830 Accuracy= 1.0\n",
      "Train Epoch: 03 Loss= 0.313323438 Accuracy= 1.0\n",
      "Train Epoch: 04 Loss= 0.313292205 Accuracy= 1.0\n",
      "Train Epoch: 05 Loss= 0.313280880 Accuracy= 1.0\n",
      "period(s) = 982.089798927\n"
     ]
    }
   ],
   "source": [
    "evaluate() #pr=2"
   ]
  },
  {
   "cell_type": "code",
   "execution_count": 18,
   "metadata": {},
   "outputs": [
    {
     "name": "stdout",
     "output_type": "stream",
     "text": [
      "INFO:tensorflow:Restoring parameters from /Volumes/Mac/GW/model/model2.ckpt\n",
      "Train Epoch: 01 Loss= 0.313317209 Accuracy= 1.0\n",
      "Train Epoch: 02 Loss= 0.313329726 Accuracy= 1.0\n",
      "Train Epoch: 03 Loss= 0.313278615 Accuracy= 1.0\n",
      "Train Epoch: 04 Loss= 0.313280910 Accuracy= 1.0\n",
      "Train Epoch: 05 Loss= 0.313270062 Accuracy= 1.0\n",
      "period(s) = 1213.28469515\n"
     ]
    }
   ],
   "source": [
    "evaluate() #pr=1.5"
   ]
  },
  {
   "cell_type": "code",
   "execution_count": 10,
   "metadata": {},
   "outputs": [
    {
     "name": "stdout",
     "output_type": "stream",
     "text": [
      "INFO:tensorflow:Restoring parameters from /Volumes/Mac/GW/model/model2.ckpt\n",
      "Train Epoch: 01 Loss= 0.322875708 Accuracy= 0.99\n",
      "Train Epoch: 02 Loss= 0.317630529 Accuracy= 0.996\n",
      "Train Epoch: 03 Loss= 0.316276163 Accuracy= 0.99733335\n",
      "Train Epoch: 04 Loss= 0.316052169 Accuracy= 0.997\n",
      "Train Epoch: 05 Loss= 0.315192312 Accuracy= 0.99833333\n",
      "period(s) = 840.842375994\n"
     ]
    }
   ],
   "source": [
    "evaluate() #pr=1"
   ]
  },
  {
   "cell_type": "code",
   "execution_count": 11,
   "metadata": {},
   "outputs": [
    {
     "name": "stdout",
     "output_type": "stream",
     "text": [
      "INFO:tensorflow:Restoring parameters from /Volumes/Mac/GW/model/model2.ckpt\n",
      "Train Epoch: 01 Loss= 0.315107435 Accuracy= 0.99833333\n",
      "Train Epoch: 02 Loss= 0.314698160 Accuracy= 0.99833333\n",
      "Train Epoch: 03 Loss= 0.315153360 Accuracy= 0.998\n",
      "Train Epoch: 04 Loss= 0.314962476 Accuracy= 0.99833333\n",
      "Train Epoch: 05 Loss= 0.314590216 Accuracy= 0.999\n",
      "period(s) = 2261.02857494\n"
     ]
    }
   ],
   "source": [
    "evaluate() #pr=1"
   ]
  },
  {
   "cell_type": "code",
   "execution_count": 38,
   "metadata": {},
   "outputs": [
    {
     "name": "stdout",
     "output_type": "stream",
     "text": [
      "INFO:tensorflow:Restoring parameters from /Volumes/Mac/GW/model/model2.ckpt\n",
      "Train Epoch: 01 Loss= 0.460495472 Accuracy= 0.8478\n",
      "Train Epoch: 02 Loss= 0.463608682 Accuracy= 0.8396\n",
      "Train Epoch: 03 Loss= 0.462555259 Accuracy= 0.8448\n",
      "Train Epoch: 04 Loss= 0.468538731 Accuracy= 0.8362\n",
      "Train Epoch: 05 Loss= 0.465177059 Accuracy= 0.8404\n",
      "period(s) = 4544.63080096\n"
     ]
    }
   ],
   "source": [
    "evaluate() #pr=0.5"
   ]
  },
  {
   "cell_type": "code",
   "execution_count": 10,
   "metadata": {},
   "outputs": [
    {
     "name": "stdout",
     "output_type": "stream",
     "text": [
      "INFO:tensorflow:Restoring parameters from /Volumes/Mac/GW/model/model2.ckpt\n",
      "Train Epoch: 01 Loss= 0.414059073 Accuracy= 0.8933333\n",
      "Train Epoch: 02 Loss= 0.419325799 Accuracy= 0.888\n",
      "Train Epoch: 03 Loss= 0.412796706 Accuracy= 0.89566666\n",
      "Train Epoch: 04 Loss= 0.415552765 Accuracy= 0.8936667\n",
      "Train Epoch: 05 Loss= 0.416354030 Accuracy= 0.89133334\n",
      "period(s) = 840.746130943\n"
     ]
    }
   ],
   "source": [
    "evaluate() #pr=0.5"
   ]
  },
  {
   "cell_type": "code",
   "execution_count": 24,
   "metadata": {},
   "outputs": [
    {
     "name": "stdout",
     "output_type": "stream",
     "text": [
      "INFO:tensorflow:Restoring parameters from /Volumes/Mac/GW/model/model2.ckpt\n",
      "Train Epoch: 01 Loss= 0.412819892 Accuracy= 0.89666665\n",
      "Train Epoch: 02 Loss= 0.415157974 Accuracy= 0.89166665\n",
      "Train Epoch: 03 Loss= 0.412605554 Accuracy= 0.8946667\n",
      "Train Epoch: 04 Loss= 0.412350923 Accuracy= 0.897\n",
      "Train Epoch: 05 Loss= 0.412110835 Accuracy= 0.8973333\n",
      "period(s) = 2324.40926003\n"
     ]
    }
   ],
   "source": [
    "evaluate() #pr=0.5"
   ]
  },
  {
   "cell_type": "code",
   "execution_count": 11,
   "metadata": {},
   "outputs": [
    {
     "name": "stdout",
     "output_type": "stream",
     "text": [
      "INFO:tensorflow:Restoring parameters from /Volumes/Mac/GW/model/model2.ckpt\n",
      "Train Epoch: 01 Loss= 0.457782805 Accuracy= 0.851\n",
      "Train Epoch: 02 Loss= 0.458401114 Accuracy= 0.8502\n",
      "Train Epoch: 03 Loss= 0.462454408 Accuracy= 0.8452\n",
      "Train Epoch: 04 Loss= 0.458911330 Accuracy= 0.8482\n",
      "Train Epoch: 05 Loss= 0.453258008 Accuracy= 0.855\n",
      "period(s) = 866.646996975\n"
     ]
    }
   ],
   "source": [
    "evaluate() #pr=0.5"
   ]
  },
  {
   "cell_type": "markdown",
   "metadata": {},
   "source": [
    "# estimate accuracy with test data"
   ]
  },
  {
   "cell_type": "code",
   "execution_count": 10,
   "metadata": {},
   "outputs": [],
   "source": [
    "ftest = h5py.File(testdatafile, 'r')\n",
    "test_x = ftest['data'][...]\n",
    "test_y = ftest['label'][...]\n",
    "ftest.close()"
   ]
  },
  {
   "cell_type": "code",
   "execution_count": 11,
   "metadata": {},
   "outputs": [
    {
     "data": {
      "text/plain": [
       "[31062]"
      ]
     },
     "execution_count": 11,
     "metadata": {},
     "output_type": "execute_result"
    }
   ],
   "source": [
    "list(test_y.shape)"
   ]
  },
  {
   "cell_type": "code",
   "execution_count": 13,
   "metadata": {},
   "outputs": [],
   "source": [
    "def estimate(testdata):\n",
    "    ftest = h5py.File(testdata, 'r')\n",
    "    test_x = ftest['data'][...]\n",
    "    test_y = ftest['label'][...]\n",
    "    ftest.close()\n",
    "    \n",
    "    sess = tf.Session()\n",
    "    saver = tf.train.Saver()\n",
    "    saver.restore(sess, modelstore)\n",
    "    start_time = timeit.default_timer()\n",
    "    print 'acc :', sess.run(accuracy, feed_dict={x : test_x, y_label : sess.run(tf.one_hot(test_y, 2)) })\n",
    "    stop_time = timeit.default_timer()\n",
    "    print 'period of estimate =', stop_time - start_time, '(s)'"
   ]
  },
  {
   "cell_type": "code",
   "execution_count": 14,
   "metadata": {},
   "outputs": [
    {
     "name": "stdout",
     "output_type": "stream",
     "text": [
      "INFO:tensorflow:Restoring parameters from /Volumes/Mac/GW/model/model2.ckpt\n",
      "acc : 0.9991951\n",
      "period(s) = 27.5413908958\n"
     ]
    }
   ],
   "source": [
    "estimate() #pr=1"
   ]
  },
  {
   "cell_type": "markdown",
   "metadata": {},
   "source": [
    "# prediction result"
   ]
  },
  {
   "cell_type": "code",
   "execution_count": 14,
   "metadata": {},
   "outputs": [],
   "source": [
    "def prediction_result(testdata):\n",
    "    ftest = h5py.File(testdata, 'r')\n",
    "    test_x = ftest['data'][...]\n",
    "    test_y = ftest['label'][...]\n",
    "    ftest.close()\n",
    "    \n",
    "    sess = tf.Session()\n",
    "    saver = tf.train.Saver()\n",
    "    saver.restore(sess, modelstore)\n",
    "    start_time = timeit.default_timer()\n",
    "    pr = sess.run(tf.argmax(y_predict, 1), feed_dict={x : test_x, y_label : sess.run(tf.one_hot(test_y, 2))})\n",
    "    stop_time = timeit.default_timer()\n",
    "    print 'period of prediction =', stop_time - start_time, '(s)'\n",
    "    return pr"
   ]
  },
  {
   "cell_type": "code",
   "execution_count": 16,
   "metadata": {},
   "outputs": [
    {
     "name": "stdout",
     "output_type": "stream",
     "text": [
      "INFO:tensorflow:Restoring parameters from /Volumes/Mac/GW/model/model2.ckpt\n",
      "period(s) = 26.778824091\n"
     ]
    }
   ],
   "source": [
    "prediction_result = prediction_result() #pr1"
   ]
  },
  {
   "cell_type": "code",
   "execution_count": 14,
   "metadata": {},
   "outputs": [],
   "source": [
    "testpar = h5py.File(testdatapar, 'r')\n",
    "test_par = testpar['parameter'][...]\n",
    "testpar.close()"
   ]
  },
  {
   "cell_type": "code",
   "execution_count": 15,
   "metadata": {},
   "outputs": [
    {
     "data": {
      "text/plain": [
       "[31062, 2]"
      ]
     },
     "execution_count": 15,
     "metadata": {},
     "output_type": "execute_result"
    }
   ],
   "source": [
    "list(test_par.shape)"
   ]
  },
  {
   "cell_type": "code",
   "execution_count": 67,
   "metadata": {},
   "outputs": [
    {
     "data": {
      "text/plain": [
       "array([[0., 0., 0.],\n",
       "       [0., 0., 2.],\n",
       "       [0., 0., 0.],\n",
       "       [0., 0., 0.],\n",
       "       [0., 0., 0.]])"
      ]
     },
     "execution_count": 67,
     "metadata": {},
     "output_type": "execute_result"
    }
   ],
   "source": [
    "z=np.zeros([5,3])\n",
    "z[1,2] += 2\n",
    "z"
   ]
  },
  {
   "cell_type": "code",
   "execution_count": 65,
   "metadata": {},
   "outputs": [
    {
     "data": {
      "text/plain": [
       "array([ 7.5, 18.5], dtype=float32)"
      ]
     },
     "execution_count": 65,
     "metadata": {},
     "output_type": "execute_result"
    }
   ],
   "source": [
    "test_par[5]"
   ]
  },
  {
   "cell_type": "code",
   "execution_count": 22,
   "metadata": {},
   "outputs": [
    {
     "data": {
      "text/plain": [
       "'2'"
      ]
     },
     "execution_count": 22,
     "metadata": {},
     "output_type": "execute_result"
    }
   ],
   "source": [
    "['1','2'][1]"
   ]
  },
  {
   "cell_type": "code",
   "execution_count": 17,
   "metadata": {},
   "outputs": [],
   "source": [
    "def relation(n):\n",
    "    rm = np.zeros([70,70])\n",
    "    count_total = 0\n",
    "    count_wrong = 0\n",
    "    for j in range(n):\n",
    "        data =  '/Volumes/Mac/GW/spec/withoutoverlap/5.5~74.5/testdatawo_spec16-8_freq1024_pr0.5_2time10_'+str(j)+'.h5'\n",
    "        test = h5py.File(data, 'r')\n",
    "        test_par = test['parameter'][...]\n",
    "        test_lab = test['label'][...]\n",
    "        test.close()\n",
    "        predict = prediction_result(data)\n",
    "        for i in range(len(test_par)):\n",
    "            if test_par[i,0] != 0: #選擇有訊號的數據\n",
    "                count_total += 1.\n",
    "                if test_lab[i] != predict[i]: #預測不正確則顏色加深\n",
    "                    row = int(test_par[i,0]-5.5)\n",
    "                    col =  int(test_par[i,1]-5.5)\n",
    "                    rm[row,col] += 1.\n",
    "                    count_wrong +=1.\n",
    "    print count_wrong/count_total\n",
    "    scale = preprocessing.MinMaxScaler(feature_range=(0,1))\n",
    "    rmr = rm.reshape(70*70,1)\n",
    "    rmrn = scale.fit_transform(rmr)\n",
    "    rm = rmrn.reshape(70, 70)\n",
    "    return rm"
   ]
  },
  {
   "cell_type": "code",
   "execution_count": 4,
   "metadata": {},
   "outputs": [
    {
     "name": "stdout",
     "output_type": "stream",
     "text": [
      "[[1]\n",
      " [2]\n",
      " [3]\n",
      " [4]\n",
      " [5]\n",
      " [6]\n",
      " [7]\n",
      " [8]\n",
      " [9]]\n",
      "[[1 2 3]\n",
      " [4 5 6]\n",
      " [7 8 9]]\n"
     ]
    }
   ],
   "source": [
    "a=np.array([[1,2,3],[4,5,6],[7,8,9]])\n",
    "a=a.reshape(9,1)\n",
    "print a\n",
    "a=a.reshape(3,3)\n",
    "print a"
   ]
  },
  {
   "cell_type": "code",
   "execution_count": 75,
   "metadata": {},
   "outputs": [
    {
     "name": "stdout",
     "output_type": "stream",
     "text": [
      "0.153319919517\n"
     ]
    }
   ],
   "source": [
    "#1倍data"
   ]
  },
  {
   "cell_type": "code",
   "execution_count": 70,
   "metadata": {},
   "outputs": [
    {
     "data": {
      "text/plain": [
       "<matplotlib.image.AxesImage at 0xb2a44d290>"
      ]
     },
     "execution_count": 70,
     "metadata": {},
     "output_type": "execute_result"
    },
    {
     "data": {
      "image/png": "[encoded data removed]",
      "text/plain": [
       "<Figure size 432x288 with 1 Axes>"
      ]
     },
     "metadata": {},
     "output_type": "display_data"
    }
   ],
   "source": [
    "plt.imshow(rm, cmap='binary')"
   ]
  },
  {
   "cell_type": "code",
   "execution_count": 17,
   "metadata": {},
   "outputs": [
    {
     "name": "stdout",
     "output_type": "stream",
     "text": [
      "INFO:tensorflow:Restoring parameters from /Volumes/Mac/GW/model/model2.ckpt\n",
      "period of prediction = 567.698554993 (s)\n",
      "0.149215291751\n"
     ]
    }
   ],
   "source": [
    "rm = relation() #10倍data"
   ]
  },
  {
   "cell_type": "code",
   "execution_count": 20,
   "metadata": {},
   "outputs": [
    {
     "data": {
      "text/plain": [
       "([<matplotlib.axis.XTick at 0x1a596348d0>,\n",
       "  <matplotlib.axis.XTick at 0x1a596343d0>,\n",
       "  <matplotlib.axis.XTick at 0x1a59615e50>,\n",
       "  <matplotlib.axis.XTick at 0x1a59692510>,\n",
       "  <matplotlib.axis.XTick at 0x1a59692a90>,\n",
       "  <matplotlib.axis.XTick at 0x1a596b9050>,\n",
       "  <matplotlib.axis.XTick at 0x1a59692610>],\n",
       " <a list of 7 Text xticklabel objects>)"
      ]
     },
     "execution_count": 20,
     "metadata": {},
     "output_type": "execute_result"
    },
    {
     "data": {
      "image/png": "[encoded data removed]",
      "text/plain": [
       "<Figure size 432x288 with 1 Axes>"
      ]
     },
     "metadata": {},
     "output_type": "display_data"
    }
   ],
   "source": [
    "plt.imshow(rm, cmap='binary')\n",
    "tick_idx = [0,10,20,30,40,50,60]\n",
    "tick_mass = [5.5,15.5,25.5,35.5,45.5,55.5,65.5]\n",
    "plt.yticks(tick_idx , tick_mass)\n",
    "plt.xticks(tick_idx , tick_mass)"
   ]
  },
  {
   "cell_type": "code",
   "execution_count": 19,
   "metadata": {},
   "outputs": [
    {
     "name": "stdout",
     "output_type": "stream",
     "text": [
      "INFO:tensorflow:Restoring parameters from /Volumes/Mac/GW/model/model2.ckpt\n",
      "period of prediction = 21.2880659103 (s)\n",
      "INFO:tensorflow:Restoring parameters from /Volumes/Mac/GW/model/model2.ckpt\n",
      "period of prediction = 20.9698069096 (s)\n",
      "INFO:tensorflow:Restoring parameters from /Volumes/Mac/GW/model/model2.ckpt\n",
      "period of prediction = 20.2705011368 (s)\n",
      "INFO:tensorflow:Restoring parameters from /Volumes/Mac/GW/model/model2.ckpt\n",
      "period of prediction = 20.701474905 (s)\n",
      "INFO:tensorflow:Restoring parameters from /Volumes/Mac/GW/model/model2.ckpt\n",
      "period of prediction = 16.8985579014 (s)\n",
      "INFO:tensorflow:Restoring parameters from /Volumes/Mac/GW/model/model2.ckpt\n",
      "period of prediction = 17.8711230755 (s)\n",
      "INFO:tensorflow:Restoring parameters from /Volumes/Mac/GW/model/model2.ckpt\n",
      "period of prediction = 17.9806771278 (s)\n",
      "INFO:tensorflow:Restoring parameters from /Volumes/Mac/GW/model/model2.ckpt\n",
      "period of prediction = 17.6998639107 (s)\n",
      "INFO:tensorflow:Restoring parameters from /Volumes/Mac/GW/model/model2.ckpt\n",
      "period of prediction = 18.0182979107 (s)\n",
      "INFO:tensorflow:Restoring parameters from /Volumes/Mac/GW/model/model2.ckpt\n",
      "period of prediction = 18.0286340714 (s)\n",
      "INFO:tensorflow:Restoring parameters from /Volumes/Mac/GW/model/model2.ckpt\n",
      "period of prediction = 19.4038589001 (s)\n",
      "INFO:tensorflow:Restoring parameters from /Volumes/Mac/GW/model/model2.ckpt\n",
      "period of prediction = 16.8344311714 (s)\n",
      "INFO:tensorflow:Restoring parameters from /Volumes/Mac/GW/model/model2.ckpt\n",
      "period of prediction = 17.0539741516 (s)\n",
      "INFO:tensorflow:Restoring parameters from /Volumes/Mac/GW/model/model2.ckpt\n",
      "period of prediction = 20.644618988 (s)\n",
      "INFO:tensorflow:Restoring parameters from /Volumes/Mac/GW/model/model2.ckpt\n",
      "period of prediction = 17.1916668415 (s)\n",
      "INFO:tensorflow:Restoring parameters from /Volumes/Mac/GW/model/model2.ckpt\n",
      "period of prediction = 17.2489008904 (s)\n",
      "INFO:tensorflow:Restoring parameters from /Volumes/Mac/GW/model/model2.ckpt\n",
      "period of prediction = 17.0348129272 (s)\n",
      "INFO:tensorflow:Restoring parameters from /Volumes/Mac/GW/model/model2.ckpt\n",
      "period of prediction = 17.8876678944 (s)\n",
      "INFO:tensorflow:Restoring parameters from /Volumes/Mac/GW/model/model2.ckpt\n",
      "period of prediction = 18.2249751091 (s)\n",
      "INFO:tensorflow:Restoring parameters from /Volumes/Mac/GW/model/model2.ckpt\n",
      "period of prediction = 16.8299510479 (s)\n",
      "INFO:tensorflow:Restoring parameters from /Volumes/Mac/GW/model/model2.ckpt\n",
      "period of prediction = 16.9246969223 (s)\n",
      "INFO:tensorflow:Restoring parameters from /Volumes/Mac/GW/model/model2.ckpt\n",
      "period of prediction = 18.5045530796 (s)\n",
      "INFO:tensorflow:Restoring parameters from /Volumes/Mac/GW/model/model2.ckpt\n",
      "period of prediction = 16.9686720371 (s)\n",
      "INFO:tensorflow:Restoring parameters from /Volumes/Mac/GW/model/model2.ckpt\n",
      "period of prediction = 18.6943719387 (s)\n",
      "INFO:tensorflow:Restoring parameters from /Volumes/Mac/GW/model/model2.ckpt\n",
      "period of prediction = 20.1458249092 (s)\n",
      "INFO:tensorflow:Restoring parameters from /Volumes/Mac/GW/model/model2.ckpt\n",
      "period of prediction = 17.7032110691 (s)\n",
      "INFO:tensorflow:Restoring parameters from /Volumes/Mac/GW/model/model2.ckpt\n",
      "period of prediction = 17.7803800106 (s)\n",
      "INFO:tensorflow:Restoring parameters from /Volumes/Mac/GW/model/model2.ckpt\n",
      "period of prediction = 19.7453320026 (s)\n",
      "INFO:tensorflow:Restoring parameters from /Volumes/Mac/GW/model/model2.ckpt\n",
      "period of prediction = 17.701748848 (s)\n",
      "INFO:tensorflow:Restoring parameters from /Volumes/Mac/GW/model/model2.ckpt\n",
      "period of prediction = 17.9189510345 (s)\n",
      "INFO:tensorflow:Restoring parameters from /Volumes/Mac/GW/model/model2.ckpt\n",
      "period of prediction = 17.7733778954 (s)\n",
      "INFO:tensorflow:Restoring parameters from /Volumes/Mac/GW/model/model2.ckpt\n",
      "period of prediction = 17.9866919518 (s)\n",
      "INFO:tensorflow:Restoring parameters from /Volumes/Mac/GW/model/model2.ckpt\n",
      "period of prediction = 17.9504971504 (s)\n",
      "INFO:tensorflow:Restoring parameters from /Volumes/Mac/GW/model/model2.ckpt\n",
      "period of prediction = 17.7325191498 (s)\n",
      "INFO:tensorflow:Restoring parameters from /Volumes/Mac/GW/model/model2.ckpt\n",
      "period of prediction = 19.7588481903 (s)\n",
      "INFO:tensorflow:Restoring parameters from /Volumes/Mac/GW/model/model2.ckpt\n",
      "period of prediction = 23.105629921 (s)\n",
      "INFO:tensorflow:Restoring parameters from /Volumes/Mac/GW/model/model2.ckpt\n",
      "period of prediction = 17.6979379654 (s)\n",
      "INFO:tensorflow:Restoring parameters from /Volumes/Mac/GW/model/model2.ckpt\n",
      "period of prediction = 17.7547619343 (s)\n",
      "INFO:tensorflow:Restoring parameters from /Volumes/Mac/GW/model/model2.ckpt\n",
      "period of prediction = 17.7231972218 (s)\n",
      "INFO:tensorflow:Restoring parameters from /Volumes/Mac/GW/model/model2.ckpt\n",
      "period of prediction = 18.8975601196 (s)\n",
      "INFO:tensorflow:Restoring parameters from /Volumes/Mac/GW/model/model2.ckpt\n",
      "period of prediction = 19.1875178814 (s)\n",
      "INFO:tensorflow:Restoring parameters from /Volumes/Mac/GW/model/model2.ckpt\n",
      "period of prediction = 17.8233039379 (s)\n",
      "INFO:tensorflow:Restoring parameters from /Volumes/Mac/GW/model/model2.ckpt\n",
      "period of prediction = 18.540058136 (s)\n",
      "INFO:tensorflow:Restoring parameters from /Volumes/Mac/GW/model/model2.ckpt\n",
      "period of prediction = 18.2296850681 (s)\n",
      "INFO:tensorflow:Restoring parameters from /Volumes/Mac/GW/model/model2.ckpt\n",
      "period of prediction = 17.7962660789 (s)\n",
      "INFO:tensorflow:Restoring parameters from /Volumes/Mac/GW/model/model2.ckpt\n",
      "period of prediction = 17.7759180069 (s)\n",
      "INFO:tensorflow:Restoring parameters from /Volumes/Mac/GW/model/model2.ckpt\n",
      "period of prediction = 19.8739230633 (s)\n",
      "INFO:tensorflow:Restoring parameters from /Volumes/Mac/GW/model/model2.ckpt\n",
      "period of prediction = 17.8006620407 (s)\n",
      "INFO:tensorflow:Restoring parameters from /Volumes/Mac/GW/model/model2.ckpt\n",
      "period of prediction = 18.3000030518 (s)\n",
      "INFO:tensorflow:Restoring parameters from /Volumes/Mac/GW/model/model2.ckpt\n",
      "period of prediction = 17.8192939758 (s)\n",
      "0.151158953722\n"
     ]
    }
   ],
   "source": [
    "rm = relation(50) #100倍data"
   ]
  },
  {
   "cell_type": "code",
   "execution_count": 20,
   "metadata": {},
   "outputs": [
    {
     "data": {
      "text/plain": [
       "([<matplotlib.axis.XTick at 0x1a2815c4d0>,\n",
       "  <matplotlib.axis.XTick at 0x1a2815c090>,\n",
       "  <matplotlib.axis.XTick at 0x1a2812eb10>,\n",
       "  <matplotlib.axis.XTick at 0x1a1f921d10>,\n",
       "  <matplotlib.axis.XTick at 0x1a1f92e290>,\n",
       "  <matplotlib.axis.XTick at 0x1a1f921390>,\n",
       "  <matplotlib.axis.XTick at 0x1a1f903e50>],\n",
       " <a list of 7 Text xticklabel objects>)"
      ]
     },
     "execution_count": 20,
     "metadata": {},
     "output_type": "execute_result"
    },
    {
     "data": {
      "image/png": "[encoded data removed]",
      "text/plain": [
       "<Figure size 432x288 with 1 Axes>"
      ]
     },
     "metadata": {},
     "output_type": "display_data"
    }
   ],
   "source": [
    "plt.imshow(rm, cmap='binary')\n",
    "tick_idx = [0,10,20,30,40,50,60]\n",
    "tick_mass = [5.5,15.5,25.5,35.5,45.5,55.5,65.5]\n",
    "plt.yticks(tick_idx , tick_mass)\n",
    "plt.xticks(tick_idx , tick_mass)"
   ]
  },
  {
   "cell_type": "code",
   "execution_count": null,
   "metadata": {},
   "outputs": [],
   "source": []
  },
  {
   "cell_type": "markdown",
   "metadata": {},
   "source": [
    "# Confusion matrix"
   ]
  },
  {
   "cell_type": "markdown",
   "metadata": {},
   "source": [
    "true positive rate (TPR, hit) = TP/(TP+FN) = sensitivity  =>  有出現事件的情況，預測正確的比例\n",
    "\n",
    "false positive rate (FPR, false alarm) = FP/(FP+TN)  =>  未出現事件的情況，預測錯誤的比例\n",
    "\n",
    "true negative rate (TNR, correct rejection) = TN/(FP+TN) = specificity  =>  未出現事件的情況，預測正確的比例\n",
    "\n",
    "false negative rate (FNR, miss) = FN/(TP+FN) = 1 - sensitivity  =>  有出現事件的情況，預測錯誤的比例"
   ]
  },
  {
   "cell_type": "code",
   "execution_count": 16,
   "metadata": {},
   "outputs": [],
   "source": [
    "def confusionmatrix(prediction_result):\n",
    "    sess = tf.Session()\n",
    "    cm = sess.run(tf.confusion_matrix(test_y, prediction_result))\n",
    "    print 'confusionmatrix ='\n",
    "    print cm\n",
    "    return cm"
   ]
  },
  {
   "cell_type": "code",
   "execution_count": 34,
   "metadata": {},
   "outputs": [
    {
     "data": {
      "text/plain": [
       "array([[4823,  154],\n",
       "       [ 321, 4702]], dtype=int32)"
      ]
     },
     "execution_count": 34,
     "metadata": {},
     "output_type": "execute_result"
    }
   ],
   "source": [
    "#cm model1"
   ]
  },
  {
   "cell_type": "code",
   "execution_count": 18,
   "metadata": {},
   "outputs": [
    {
     "name": "stdout",
     "output_type": "stream",
     "text": [
      "[[3727    0]\n",
      " [   6 2479]]\n"
     ]
    }
   ],
   "source": [
    "cm = confusionmatrix(prediction_result) #pr1"
   ]
  },
  {
   "cell_type": "code",
   "execution_count": null,
   "metadata": {},
   "outputs": [],
   "source": []
  },
  {
   "cell_type": "code",
   "execution_count": 17,
   "metadata": {},
   "outputs": [],
   "source": [
    "def false_alarm_rate(cm):\n",
    "    fp = cm[0,1].astype('float64')\n",
    "    tn = cm[0,0].astype('float64')\n",
    "    print 'false alarm rate =',fp/(fp+tn) #false alarm rate\n",
    "\n",
    "def sensitivity(cm):\n",
    "    tp = cm[1,1].astype('float64')\n",
    "    fn = cm[1,0].astype('float64')\n",
    "    print 'sensitivity =',tp/(tp+fn) #sensitivity"
   ]
  },
  {
   "cell_type": "code",
   "execution_count": 47,
   "metadata": {},
   "outputs": [
    {
     "data": {
      "text/plain": [
       "0.030942334739803096"
      ]
     },
     "execution_count": 47,
     "metadata": {},
     "output_type": "execute_result"
    }
   ],
   "source": [
    "#far model1"
   ]
  },
  {
   "cell_type": "code",
   "execution_count": 48,
   "metadata": {},
   "outputs": [
    {
     "data": {
      "text/plain": [
       "0.9360939677483575"
      ]
     },
     "execution_count": 48,
     "metadata": {},
     "output_type": "execute_result"
    }
   ],
   "source": [
    "#sensitivity model1"
   ]
  },
  {
   "cell_type": "code",
   "execution_count": 23,
   "metadata": {},
   "outputs": [
    {
     "name": "stdout",
     "output_type": "stream",
     "text": [
      "false alarm rate = 0.0\n",
      "sensitivity = 0.9975855130784709\n"
     ]
    }
   ],
   "source": [
    "#pr1\n",
    "false_alarm_rate(cm)\n",
    "sensitivity(cm)"
   ]
  },
  {
   "cell_type": "markdown",
   "metadata": {},
   "source": [
    "# summary"
   ]
  },
  {
   "cell_type": "code",
   "execution_count": 18,
   "metadata": {},
   "outputs": [],
   "source": [
    "def summary():\n",
    "    estimate()\n",
    "    pr = prediction_result()\n",
    "    cm = confusionmatrix(pr)\n",
    "    false_alarm_rate(cm)\n",
    "    sensitivity(cm)"
   ]
  },
  {
   "cell_type": "code",
   "execution_count": 35,
   "metadata": {},
   "outputs": [
    {
     "name": "stdout",
     "output_type": "stream",
     "text": [
      "INFO:tensorflow:Restoring parameters from /Volumes/Mac/GW/model/model2.ckpt\n",
      "acc : 0.9990341\n",
      "period of estimate = 24.4376358986 (s)\n",
      "INFO:tensorflow:Restoring parameters from /Volumes/Mac/GW/model/model2.ckpt\n",
      "period of prediction = 24.2922389507 (s)\n",
      "confusionmatrix =\n",
      "[[3727    0]\n",
      " [   4 2481]]\n",
      "false alarm rate = 0.0\n",
      "sensitivity = 0.9983903420523139\n"
     ]
    }
   ],
   "source": [
    "summary() #pr1"
   ]
  },
  {
   "cell_type": "code",
   "execution_count": 41,
   "metadata": {},
   "outputs": [
    {
     "name": "stdout",
     "output_type": "stream",
     "text": [
      "INFO:tensorflow:Restoring parameters from /Volumes/Mac/GW/model/model2.ckpt\n",
      "acc : 0.96716034\n",
      "period of estimate = 27.3048739433 (s)\n",
      "INFO:tensorflow:Restoring parameters from /Volumes/Mac/GW/model/model2.ckpt\n",
      "period of prediction = 24.9137570858 (s)\n",
      "confusionmatrix =\n",
      "[[3520  207]\n",
      " [   0 2485]]\n",
      "false alarm rate = 0.055540649315803596\n",
      "sensitivity = 1.0\n"
     ]
    }
   ],
   "source": [
    "summary() #pr0.5"
   ]
  },
  {
   "cell_type": "code",
   "execution_count": 23,
   "metadata": {},
   "outputs": [
    {
     "name": "stdout",
     "output_type": "stream",
     "text": [
      "INFO:tensorflow:Restoring parameters from /Volumes/Mac/GW/model/model2.ckpt\n",
      "acc : 0.8969736\n",
      "period of estimate = 25.4918861389 (s)\n",
      "INFO:tensorflow:Restoring parameters from /Volumes/Mac/GW/model/model2.ckpt\n",
      "period of prediction = 24.1209549904 (s)\n",
      "confusionmatrix =\n",
      "[[3543  184]\n",
      " [ 458 2027]]\n",
      "false alarm rate = 0.04936946605849209\n",
      "sensitivity = 0.8156941649899396\n"
     ]
    }
   ],
   "source": [
    "summary() #pr0.5"
   ]
  },
  {
   "cell_type": "code",
   "execution_count": 25,
   "metadata": {},
   "outputs": [
    {
     "name": "stdout",
     "output_type": "stream",
     "text": [
      "INFO:tensorflow:Restoring parameters from /Volumes/Mac/GW/model/model2.ckpt\n",
      "acc : 0.8969736\n",
      "period of estimate = 26.0284440517 (s)\n",
      "INFO:tensorflow:Restoring parameters from /Volumes/Mac/GW/model/model2.ckpt\n",
      "period of prediction = 24.3907158375 (s)\n",
      "confusionmatrix =\n",
      "[[3493  234]\n",
      " [ 402 2083]]\n",
      "false alarm rate = 0.06278508183525623\n",
      "sensitivity = 0.8382293762575452\n"
     ]
    }
   ],
   "source": [
    "summary() #pr0.5"
   ]
  },
  {
   "cell_type": "code",
   "execution_count": 19,
   "metadata": {},
   "outputs": [
    {
     "name": "stdout",
     "output_type": "stream",
     "text": [
      "INFO:tensorflow:Restoring parameters from /Volumes/Mac/GW/model/model2.ckpt\n",
      "acc : 0.8971346\n",
      "period of estimate = 23.8350851536 (s)\n",
      "INFO:tensorflow:Restoring parameters from /Volumes/Mac/GW/model/model2.ckpt\n",
      "period of prediction = 20.3879311085 (s)\n",
      "confusionmatrix =\n",
      "[[3464  263]\n",
      " [ 378 2107]]\n",
      "false alarm rate = 0.07056613898577944\n",
      "sensitivity = 0.847887323943662\n"
     ]
    }
   ],
   "source": [
    "summary() #pr0.5"
   ]
  },
  {
   "cell_type": "code",
   "execution_count": 5,
   "metadata": {},
   "outputs": [
    {
     "data": {
      "text/plain": [
       "10"
      ]
     },
     "execution_count": 5,
     "metadata": {},
     "output_type": "execute_result"
    }
   ],
   "source": [
    "np.sum(np.array([[1,2],[3,4]]))"
   ]
  },
  {
   "cell_type": "code",
   "execution_count": null,
   "metadata": {},
   "outputs": [],
   "source": []
  },
  {
   "cell_type": "markdown",
   "metadata": {},
   "source": [
    "# tensorboard"
   ]
  },
  {
   "cell_type": "code",
   "execution_count": 9,
   "metadata": {},
   "outputs": [
    {
     "data": {
      "text/plain": [
       "<tensorflow.python.summary.writer.writer.FileWriter at 0xb27da4410>"
      ]
     },
     "execution_count": 9,
     "metadata": {},
     "output_type": "execute_result"
    }
   ],
   "source": [
    "tf.summary.merge_all()\n",
    "tf.summary.FileWriter('log/cnn',sess.graph)"
   ]
  }
 ],
 "metadata": {
  "kernelspec": {
   "display_name": "Python 2",
   "language": "python",
   "name": "python2"
  },
  "language_info": {
   "codemirror_mode": {
    "name": "ipython",
    "version": 2
   },
   "file_extension": ".py",
   "mimetype": "text/x-python",
   "name": "python",
   "nbconvert_exporter": "python",
   "pygments_lexer": "ipython2",
   "version": "2.7.15"
  }
 },
 "nbformat": 4,
 "nbformat_minor": 2
}
