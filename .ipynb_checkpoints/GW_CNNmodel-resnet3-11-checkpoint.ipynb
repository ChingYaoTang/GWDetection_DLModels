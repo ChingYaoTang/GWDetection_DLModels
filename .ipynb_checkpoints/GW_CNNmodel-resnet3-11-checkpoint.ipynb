{
 "cells": [
  {
   "cell_type": "code",
   "execution_count": 1,
   "metadata": {},
   "outputs": [
    {
     "name": "stderr",
     "output_type": "stream",
     "text": [
      "/anaconda3/envs/anacondapy2/lib/python2.7/site-packages/h5py/__init__.py:36: FutureWarning: Conversion of the second argument of issubdtype from `float` to `np.floating` is deprecated. In future, it will be treated as `np.float64 == np.dtype(float).type`.\n",
      "  from ._conv import register_converters as _register_converters\n"
     ]
    }
   ],
   "source": [
    "import tensorflow as tf\n",
    "import h5py \n",
    "import matplotlib.pyplot as plt\n",
    "import numpy as np\n",
    "import timeit\n",
    "from sklearn import preprocessing"
   ]
  },
  {
   "cell_type": "code",
   "execution_count": 2,
   "metadata": {},
   "outputs": [],
   "source": [
    "def batch_generator(filename, batch_size):\n",
    "    f = h5py.File(filename, 'r')\n",
    "    batch_count = 0\n",
    "    while True:\n",
    "        if batch_count * batch_size + batch_size > f['label'].shape[0]: #若batchsize不能整除的話，最後餘下的資料永遠不會讀出\n",
    "            batch_count = 0\n",
    "        start_idx = batch_count * batch_size\n",
    "        end_idx = start_idx + batch_size\n",
    "        batch_count += 1\n",
    "        yield f['data'][start_idx : end_idx] , f['label'][start_idx : end_idx]\n",
    "    f.close()\n",
    "    \n",
    "def w(shape): #weight\n",
    "    return tf.Variable(tf.truncated_normal(shape, stddev=0.1), name='w')\n",
    "\n",
    "def b(shape): #bias\n",
    "    return tf.Variable(tf.constant(0.1,shape=shape), name='b')\n",
    "\n",
    "def conv2d(x,w): #x:輸入影像，須為4維張量。 w:filter權重\n",
    "    return tf.nn.conv2d(x, w, strides=[1,1,1,1], padding='SAME')\n",
    "\n",
    "def maxpool2x2(x):\n",
    "    return tf.nn.max_pool(x, ksize=[1,2,2,1], strides=[1,2,2,1], padding='SAME')"
   ]
  },
  {
   "cell_type": "code",
   "execution_count": 3,
   "metadata": {},
   "outputs": [],
   "source": [
    "pr = 0.5\n",
    "traindatafile =  '/Volumes/Mac/GW/spec/withoutoverlap/5~75/trainingdatawo_spec16-8_freq1024_pr'+str(pr)+'.h5'\n",
    "valdatafile = '/Volumes/Mac/GW/spec/overlap/5~75/validationdata_spec16-8_freq1024_pr'+str(pr)+'.h5'\n",
    "modelstore = '/Volumes/Mac/GW/model/model3.ckpt'\n",
    "testdatafile = '/Volumes/Mac/GW/spec/withoutoverlap/5.5~74.5/testdatawo_spec16-8_freq1024_pr'+str(pr)+'.h5'\n",
    "testdatapar = '/Volumes/Mac/GW/time/withoutoverlap/5.5~74.5/testdata_time_pr0.5.h5'"
   ]
  },
  {
   "cell_type": "code",
   "execution_count": 4,
   "metadata": {},
   "outputs": [
    {
     "name": "stdout",
     "output_type": "stream",
     "text": [
      "6390\n"
     ]
    }
   ],
   "source": [
    "f = h5py.File(traindatafile, 'r')\n",
    "ll = len(f['data'])\n",
    "print ll"
   ]
  },
  {
   "cell_type": "code",
   "execution_count": 5,
   "metadata": {},
   "outputs": [
    {
     "name": "stdout",
     "output_type": "stream",
     "text": [
      "lenth f = 257\n",
      "lenth t = 121\n",
      "total 31097\n",
      "idx1024= 64\n"
     ]
    }
   ],
   "source": [
    "sample_rate = 8192\n",
    "data_length = 8192 \n",
    "T = data_length / sample_rate\n",
    "\n",
    "nitv = 16.0\n",
    "novl = 8.0\n",
    "#f\n",
    "lenf = int(sample_rate/nitv/2+1)\n",
    "print 'lenth f =',lenf\n",
    "#t\n",
    "lent = int((nitv*T-1)*novl+1)\n",
    "print 'lenth t =',lent\n",
    "#total\n",
    "totalpix = lenf*lent\n",
    "print 'total',totalpix\n",
    "#idx of f=1024\n",
    "idx1024 = (lenf-1)/4\n",
    "print 'idx1024=',idx1024\n",
    "\n",
    "\n",
    "batchSize = 10\n",
    "datasize = ll\n",
    "totalBatchs = datasize/batchSize\n",
    "\n",
    "c1fs = 5 #conv1 filter size\n",
    "c1fn = 8 #conv1 filter number\n",
    "c2fs = 3 #conv2 filter size\n",
    "c2fn = 16 #conv2 filter number\n",
    "c3fs = 3 #conv3 filter size\n",
    "c3fn = 16 #conv3 filter number\n",
    "dos1 = idx1024+1 #1st dim of spectrogram\n",
    "dos2 = lent #2nd dim of spectrogram\n",
    "lnn1 = 128 #layer1 neuron number\n",
    "lnn2 =64 #layer1 neuron number"
   ]
  },
  {
   "cell_type": "code",
   "execution_count": 6,
   "metadata": {},
   "outputs": [
    {
     "name": "stdout",
     "output_type": "stream",
     "text": [
      "WARNING:tensorflow:From <ipython-input-6-b4946b4c5101>:60: softmax_cross_entropy_with_logits (from tensorflow.python.ops.nn_ops) is deprecated and will be removed in a future version.\n",
      "Instructions for updating:\n",
      "\n",
      "Future major versions of TensorFlow will allow gradients to flow\n",
      "into the labels input on backprop by default.\n",
      "\n",
      "See @{tf.nn.softmax_cross_entropy_with_logits_v2}.\n",
      "\n"
     ]
    }
   ],
   "source": [
    "with tf.name_scope('input_layer'):\n",
    "    x = tf.placeholder('float', shape=[None, dos1, dos2], name='x')\n",
    "    x_image = tf.reshape(x, [-1, dos1, dos2, 1]) #(筆數,頻率維度,時間維度,顏色維度)\n",
    "    \n",
    "with tf.name_scope('c1_conv'):\n",
    "    w1 = w([c1fs ,c1fs ,1, c1fn])\n",
    "    b1 = b([c1fn])\n",
    "    conv1 = conv2d(x_image, w1) + b1\n",
    "    c1_conv = tf.nn.relu(conv1)\n",
    "    \n",
    "with tf.name_scope('c1_pool'):\n",
    "    c1_pool = maxpool2x2(c1_conv)\n",
    "    x_pool = maxpool2x2(x_image)\n",
    "    \n",
    "with tf.name_scope('c2_conv'):\n",
    "    w2 = w([c2fs ,c2fs , c1fn, c2fn])\n",
    "    b2 = b([c2fn])\n",
    "    conv2 = conv2d(c1_pool,w2) +b2\n",
    "    drl = conv2 + x_pool\n",
    "    c2_conv = tf.nn.relu(drl)\n",
    "    \n",
    "with tf.name_scope('c2_pool'):\n",
    "    c2_pool = maxpool2x2(c2_conv)\n",
    "    \n",
    "with tf.name_scope('c3_conv'):\n",
    "    w3 = w([c3fs ,c3fs ,c2fn, c3fn])\n",
    "    b3 = b([c3fn])\n",
    "    conv3 = conv2d(c2_pool, w3) + b3\n",
    "    c3_conv = tf.nn.relu(conv3)\n",
    "    \n",
    "with tf.name_scope('c3_pool'):\n",
    "    c3_pool = maxpool2x2(c3_conv)    \n",
    "    \n",
    "#neurons = dos1/8*dos2/8*c3fn\n",
    "with tf.name_scope('D_flat'):\n",
    "    D_Flat = tf.layers.Flatten()(c3_pool)\n",
    "\n",
    "with tf.name_scope('D_hidden_layer1'):\n",
    "    inputdim = D_Flat.shape.as_list()[1]\n",
    "    wl1 = w([inputdim, lnn1])\n",
    "    bl1 = b([lnn1])\n",
    "    D_hidden1 = tf.nn.relu(tf.matmul(D_Flat, wl1)+bl1)\n",
    "    \n",
    "with tf.name_scope('D_hidden_layer2'):\n",
    "    wl2 = w([lnn1, lnn2])\n",
    "    bl2 = b([lnn2])\n",
    "    D_hidden2 = tf.nn.relu(tf.matmul(D_hidden1, wl2)+bl2)\n",
    "    \n",
    "with tf.name_scope('output_layer'):\n",
    "    wo = w([lnn2,2])\n",
    "    bo = b([2])\n",
    "    #y_predict = tf.sigmoid(tf.matmul(D_hidden_dropout2,wo)+bo)\n",
    "    y_predict = tf.nn.softmax(tf.matmul(D_hidden2,wo)+bo)\n",
    "    \n",
    "with tf.name_scope('optimizer'):\n",
    "    y_label = tf.placeholder('float', shape=[None,2], name='y_label')\n",
    "    #lossfunction = tf.reduce_mean(tf.nn.sigmoid_cross_entropy_with_logits(logits=y_predict, labels=y_label))\n",
    "    lossfunction = tf.reduce_mean(tf.nn.softmax_cross_entropy_with_logits(logits=y_predict, labels=y_label))\n",
    "    optimizer = tf.train.AdamOptimizer(learning_rate=0.0001).minimize(lossfunction)\n",
    "    \n",
    "with tf.name_scope('evaluate_model'):\n",
    "    correct_prediction = tf.equal(tf.argmax(y_predict,1), tf.argmax(y_label,1))\n",
    "    accuracy = tf.reduce_mean(tf.cast(correct_prediction,'float'))"
   ]
  },
  {
   "cell_type": "code",
   "execution_count": 7,
   "metadata": {},
   "outputs": [],
   "source": [
    "def evaluate(trainEpochs):\n",
    "    loss_list = [] ; epoch_list = [] ; accuracy_list = []\n",
    "\n",
    "    start_time = timeit.default_timer()\n",
    "    sess = tf.Session()\n",
    "\n",
    "    saver = tf.train.Saver()\n",
    "\n",
    "    try: #第一次後執行\n",
    "        saver.restore(sess, modelstore)\n",
    "    except: #第一次跑時執行\n",
    "        sess.run(tf.global_variables_initializer())\n",
    "\n",
    "\n",
    "    bg = batch_generator(traindatafile, batchSize)\n",
    "    fval = h5py.File(valdatafile, 'r')\n",
    "    val_x = fval['data'][...]\n",
    "    val_y = fval['label'][...]\n",
    "    #np_utils.to_categorical\n",
    "    for epoch in range(trainEpochs):\n",
    "        for i in range(totalBatchs):\n",
    "            #每次讀取100筆資料\n",
    "            batch_x, batch_y = next(bg)\n",
    "            #將feature和label輸入並計算執行圖\n",
    "            sess.run(optimizer, feed_dict={x : batch_x, y_label : sess.run(tf.one_hot(batch_y, 2)) })\n",
    "        #使用驗證資料計算一次epoch的loss和acc    \n",
    "        loss, acc = sess.run([lossfunction,accuracy],feed_dict={x : val_x, y_label : sess.run(tf.one_hot(val_y, 2))})\n",
    "    \n",
    "        epoch_list.append(epoch) ; loss_list.append(loss) ; accuracy_list.append(acc)\n",
    "        print 'Train Epoch:', '%02d'%(epoch+1), 'Loss=', '{:.9f}'.format(loss), 'Accuracy=',acc\n",
    "    \n",
    "\n",
    "    saver.save(sess, modelstore)\n",
    "\n",
    "    fval.close()\n",
    "    stop_time = timeit.default_timer()\n",
    "    print 'period(s) =', stop_time - start_time\n",
    "\n",
    "def estimate(testdata):\n",
    "    ftest = h5py.File(testdata, 'r')\n",
    "    test_x = ftest['data'][...]\n",
    "    test_y = ftest['label'][...]\n",
    "    ftest.close()\n",
    "    \n",
    "    sess = tf.Session()\n",
    "    saver = tf.train.Saver()\n",
    "    saver.restore(sess, modelstore)\n",
    "    start_time = timeit.default_timer()\n",
    "    print 'acc :', sess.run(accuracy, feed_dict={x : test_x, y_label : sess.run(tf.one_hot(test_y, 2)) })\n",
    "    stop_time = timeit.default_timer()\n",
    "    print 'period of estimate =', stop_time - start_time, '(s)'\n",
    "    \n",
    "def prediction_result(testdata):\n",
    "    ftest = h5py.File(testdata, 'r')\n",
    "    test_x = ftest['data'][...]\n",
    "    test_y = ftest['label'][...]\n",
    "    ftest.close()\n",
    "    \n",
    "    sess = tf.Session()\n",
    "    saver = tf.train.Saver()\n",
    "    saver.restore(sess, modelstore)\n",
    "    start_time = timeit.default_timer()\n",
    "    pr = sess.run(tf.argmax(y_predict, 1), feed_dict={x : test_x, y_label : sess.run(tf.one_hot(test_y, 2))})\n",
    "    stop_time = timeit.default_timer()\n",
    "    print 'period of prediction =', stop_time - start_time, '(s)'\n",
    "    return pr"
   ]
  },
  {
   "cell_type": "code",
   "execution_count": 13,
   "metadata": {},
   "outputs": [
    {
     "name": "stdout",
     "output_type": "stream",
     "text": [
      "INFO:tensorflow:Restoring parameters from /Volumes/Mac/GW/model/model3.ckpt\n",
      "Train Epoch: 01 Loss= 0.313608140 Accuracy= 1.0\n",
      "Train Epoch: 02 Loss= 0.313361287 Accuracy= 1.0\n",
      "period(s) = 216.279072046\n"
     ]
    }
   ],
   "source": [
    "evaluate(2) #pr=2"
   ]
  },
  {
   "cell_type": "code",
   "execution_count": 16,
   "metadata": {},
   "outputs": [
    {
     "name": "stdout",
     "output_type": "stream",
     "text": [
      "INFO:tensorflow:Restoring parameters from /Volumes/Mac/GW/model/model3.ckpt\n",
      "Train Epoch: 01 Loss= 0.313337326 Accuracy= 1.0\n",
      "Train Epoch: 02 Loss= 0.313300788 Accuracy= 1.0\n",
      "period(s) = 455.740133047\n"
     ]
    }
   ],
   "source": [
    "evaluate(2) #pr=1.5"
   ]
  },
  {
   "cell_type": "code",
   "execution_count": 19,
   "metadata": {},
   "outputs": [
    {
     "name": "stdout",
     "output_type": "stream",
     "text": [
      "INFO:tensorflow:Restoring parameters from /Volumes/Mac/GW/model/model3.ckpt\n",
      "Train Epoch: 01 Loss= 0.323577732 Accuracy= 0.98933333\n",
      "Train Epoch: 02 Loss= 0.318478912 Accuracy= 0.995\n",
      "period(s) = 641.318759918\n"
     ]
    }
   ],
   "source": [
    "evaluate(2) #pr=1"
   ]
  },
  {
   "cell_type": "code",
   "execution_count": 20,
   "metadata": {},
   "outputs": [
    {
     "name": "stdout",
     "output_type": "stream",
     "text": [
      "INFO:tensorflow:Restoring parameters from /Volumes/Mac/GW/model/model3.ckpt\n",
      "Train Epoch: 01 Loss= 0.317096829 Accuracy= 0.997\n",
      "Train Epoch: 02 Loss= 0.317499608 Accuracy= 0.9956667\n",
      "period(s) = 883.858283997\n"
     ]
    }
   ],
   "source": [
    "evaluate(2)"
   ]
  },
  {
   "cell_type": "code",
   "execution_count": 22,
   "metadata": {},
   "outputs": [
    {
     "name": "stdout",
     "output_type": "stream",
     "text": [
      "INFO:tensorflow:Restoring parameters from /Volumes/Mac/GW/model/model3.ckpt\n",
      "Train Epoch: 01 Loss= 0.318272382 Accuracy= 0.995\n",
      "Train Epoch: 02 Loss= 0.314982653 Accuracy= 0.998\n",
      "Train Epoch: 03 Loss= 0.314698279 Accuracy= 0.99866664\n",
      "Train Epoch: 04 Loss= 0.314922273 Accuracy= 0.99833333\n",
      "Train Epoch: 05 Loss= 0.314447463 Accuracy= 0.99866664\n",
      "period(s) = 3650.26217008\n"
     ]
    }
   ],
   "source": [
    "evaluate(5)"
   ]
  },
  {
   "cell_type": "code",
   "execution_count": 9,
   "metadata": {},
   "outputs": [
    {
     "name": "stdout",
     "output_type": "stream",
     "text": [
      "INFO:tensorflow:Restoring parameters from /Volumes/Mac/GW/model/model3.ckpt\n",
      "Train Epoch: 01 Loss= 0.586683273 Accuracy= 0.70966667\n",
      "Train Epoch: 02 Loss= 0.491382658 Accuracy= 0.815\n",
      "Train Epoch: 03 Loss= 0.470551580 Accuracy= 0.834\n",
      "Train Epoch: 04 Loss= 0.455200940 Accuracy= 0.84933335\n",
      "Train Epoch: 05 Loss= 0.452601761 Accuracy= 0.852\n",
      "period(s) = 923.512595892\n"
     ]
    }
   ],
   "source": [
    "evaluate(5) #pr=0.5"
   ]
  },
  {
   "cell_type": "code",
   "execution_count": 10,
   "metadata": {},
   "outputs": [
    {
     "name": "stdout",
     "output_type": "stream",
     "text": [
      "INFO:tensorflow:Restoring parameters from /Volumes/Mac/GW/model/model3.ckpt\n",
      "Train Epoch: 01 Loss= 0.440220296 Accuracy= 0.866\n",
      "Train Epoch: 02 Loss= 0.433893144 Accuracy= 0.87333333\n",
      "Train Epoch: 03 Loss= 0.427937120 Accuracy= 0.8836667\n",
      "Train Epoch: 04 Loss= 0.430351883 Accuracy= 0.8753333\n",
      "Train Epoch: 05 Loss= 0.431922197 Accuracy= 0.87666667\n",
      "Train Epoch: 06 Loss= 0.430370361 Accuracy= 0.8756667\n",
      "Train Epoch: 07 Loss= 0.425056964 Accuracy= 0.882\n",
      "Train Epoch: 08 Loss= 0.424611777 Accuracy= 0.884\n",
      "Train Epoch: 09 Loss= 0.425172031 Accuracy= 0.882\n",
      "Train Epoch: 10 Loss= 0.424155444 Accuracy= 0.8836667\n",
      "period(s) = 7019.78304601\n"
     ]
    }
   ],
   "source": [
    "evaluate(10) #pr=0.5"
   ]
  },
  {
   "cell_type": "code",
   "execution_count": 8,
   "metadata": {},
   "outputs": [],
   "source": [
    "d = '/Volumes/Mac/GW/spec/withoutoverlap/5.5~74.5/testdatawo_spec16-8_freq1024_pr0.5_2time10_'"
   ]
  },
  {
   "cell_type": "code",
   "execution_count": 9,
   "metadata": {},
   "outputs": [],
   "source": [
    "def relation(n):\n",
    "    rm = np.zeros([70,70])\n",
    "    count_total = 0\n",
    "    count_wrong = 0\n",
    "    for j in range(n):\n",
    "        data =  d+str(j)+'.h5'\n",
    "        test = h5py.File(data, 'r')\n",
    "        test_par = test['parameter'][...]\n",
    "        test_lab = test['label'][...]\n",
    "        test.close()\n",
    "        predict = prediction_result(data)\n",
    "        for i in range(len(test_par)):\n",
    "            if test_par[i,0] != 0: #選擇有訊號的數據\n",
    "                count_total += 1.\n",
    "                if test_lab[i] != predict[i]: #預測不正確則顏色加深\n",
    "                    row = int(test_par[i,0]-5.5)\n",
    "                    col =  int(test_par[i,1]-5.5)\n",
    "                    rm[row,col] += 1.\n",
    "                    count_wrong +=1.\n",
    "    print count_wrong/count_total\n",
    "    scale = preprocessing.MinMaxScaler(feature_range=(0,1))\n",
    "    rmr = rm.reshape(70*70,1)\n",
    "    rmrn = scale.fit_transform(rmr)\n",
    "    rm = rmrn.reshape(70, 70)\n",
    "    return rm\n",
    "\n",
    "def confusionmatrix(prediction_result):\n",
    "    sess = tf.Session()\n",
    "    cm = sess.run(tf.confusion_matrix(test_y, prediction_result))\n",
    "    print 'confusionmatrix ='\n",
    "    print cm\n",
    "    return cm\n",
    "\n",
    "def false_alarm_rate(cm):\n",
    "    fp = cm[0,1].astype('float64')\n",
    "    tn = cm[0,0].astype('float64')\n",
    "    print 'false alarm rate =',fp/(fp+tn) #false alarm rate\n",
    "\n",
    "def sensitivity(cm):\n",
    "    tp = cm[1,1].astype('float64')\n",
    "    fn = cm[1,0].astype('float64')\n",
    "    print 'sensitivity =',tp/(tp+fn) #sensitivity\n",
    "    \n",
    "def summary():\n",
    "    estimate()\n",
    "    pr = prediction_result()\n",
    "    cm = confusionmatrix(pr)\n",
    "    false_alarm_rate(cm)\n",
    "    sensitivity(cm)"
   ]
  },
  {
   "cell_type": "code",
   "execution_count": 10,
   "metadata": {},
   "outputs": [
    {
     "name": "stdout",
     "output_type": "stream",
     "text": [
      "INFO:tensorflow:Restoring parameters from /Volumes/Mac/GW/model/model3.ckpt\n",
      "period of prediction = 20.533698082 (s)\n",
      "INFO:tensorflow:Restoring parameters from /Volumes/Mac/GW/model/model3.ckpt\n",
      "period of prediction = 20.0136342049 (s)\n",
      "INFO:tensorflow:Restoring parameters from /Volumes/Mac/GW/model/model3.ckpt\n",
      "period of prediction = 22.212143898 (s)\n",
      "INFO:tensorflow:Restoring parameters from /Volumes/Mac/GW/model/model3.ckpt\n",
      "period of prediction = 21.0090949535 (s)\n",
      "INFO:tensorflow:Restoring parameters from /Volumes/Mac/GW/model/model3.ckpt\n",
      "period of prediction = 19.6757888794 (s)\n",
      "INFO:tensorflow:Restoring parameters from /Volumes/Mac/GW/model/model3.ckpt\n",
      "period of prediction = 19.6111841202 (s)\n",
      "INFO:tensorflow:Restoring parameters from /Volumes/Mac/GW/model/model3.ckpt\n",
      "period of prediction = 19.2658708096 (s)\n",
      "INFO:tensorflow:Restoring parameters from /Volumes/Mac/GW/model/model3.ckpt\n",
      "period of prediction = 19.4742348194 (s)\n",
      "INFO:tensorflow:Restoring parameters from /Volumes/Mac/GW/model/model3.ckpt\n",
      "period of prediction = 19.2512319088 (s)\n",
      "INFO:tensorflow:Restoring parameters from /Volumes/Mac/GW/model/model3.ckpt\n",
      "period of prediction = 22.4409639835 (s)\n",
      "INFO:tensorflow:Restoring parameters from /Volumes/Mac/GW/model/model3.ckpt\n",
      "period of prediction = 19.1738798618 (s)\n",
      "INFO:tensorflow:Restoring parameters from /Volumes/Mac/GW/model/model3.ckpt\n",
      "period of prediction = 19.3143630028 (s)\n",
      "INFO:tensorflow:Restoring parameters from /Volumes/Mac/GW/model/model3.ckpt\n",
      "period of prediction = 19.2957968712 (s)\n",
      "INFO:tensorflow:Restoring parameters from /Volumes/Mac/GW/model/model3.ckpt\n",
      "period of prediction = 20.1364140511 (s)\n",
      "INFO:tensorflow:Restoring parameters from /Volumes/Mac/GW/model/model3.ckpt\n",
      "period of prediction = 19.3165829182 (s)\n",
      "INFO:tensorflow:Restoring parameters from /Volumes/Mac/GW/model/model3.ckpt\n",
      "period of prediction = 19.2671370506 (s)\n",
      "INFO:tensorflow:Restoring parameters from /Volumes/Mac/GW/model/model3.ckpt\n",
      "period of prediction = 19.2281320095 (s)\n",
      "INFO:tensorflow:Restoring parameters from /Volumes/Mac/GW/model/model3.ckpt\n",
      "period of prediction = 20.8776259422 (s)\n",
      "INFO:tensorflow:Restoring parameters from /Volumes/Mac/GW/model/model3.ckpt\n",
      "period of prediction = 19.2506129742 (s)\n",
      "INFO:tensorflow:Restoring parameters from /Volumes/Mac/GW/model/model3.ckpt\n",
      "period of prediction = 20.9771490097 (s)\n",
      "INFO:tensorflow:Restoring parameters from /Volumes/Mac/GW/model/model3.ckpt\n",
      "period of prediction = 19.4402139187 (s)\n",
      "INFO:tensorflow:Restoring parameters from /Volumes/Mac/GW/model/model3.ckpt\n",
      "period of prediction = 19.536864996 (s)\n",
      "INFO:tensorflow:Restoring parameters from /Volumes/Mac/GW/model/model3.ckpt\n",
      "period of prediction = 21.2486112118 (s)\n",
      "INFO:tensorflow:Restoring parameters from /Volumes/Mac/GW/model/model3.ckpt\n",
      "period of prediction = 19.7137298584 (s)\n",
      "INFO:tensorflow:Restoring parameters from /Volumes/Mac/GW/model/model3.ckpt\n",
      "period of prediction = 20.2239971161 (s)\n",
      "INFO:tensorflow:Restoring parameters from /Volumes/Mac/GW/model/model3.ckpt\n",
      "period of prediction = 20.789222002 (s)\n",
      "INFO:tensorflow:Restoring parameters from /Volumes/Mac/GW/model/model3.ckpt\n",
      "period of prediction = 19.2166640759 (s)\n",
      "INFO:tensorflow:Restoring parameters from /Volumes/Mac/GW/model/model3.ckpt\n",
      "period of prediction = 19.3750240803 (s)\n",
      "INFO:tensorflow:Restoring parameters from /Volumes/Mac/GW/model/model3.ckpt\n",
      "period of prediction = 22.1134240627 (s)\n",
      "INFO:tensorflow:Restoring parameters from /Volumes/Mac/GW/model/model3.ckpt\n",
      "period of prediction = 21.8530948162 (s)\n",
      "INFO:tensorflow:Restoring parameters from /Volumes/Mac/GW/model/model3.ckpt\n",
      "period of prediction = 22.7160618305 (s)\n",
      "INFO:tensorflow:Restoring parameters from /Volumes/Mac/GW/model/model3.ckpt\n",
      "period of prediction = 22.76947999 (s)\n",
      "INFO:tensorflow:Restoring parameters from /Volumes/Mac/GW/model/model3.ckpt\n",
      "period of prediction = 18.5791609287 (s)\n",
      "INFO:tensorflow:Restoring parameters from /Volumes/Mac/GW/model/model3.ckpt\n",
      "period of prediction = 18.6444368362 (s)\n",
      "INFO:tensorflow:Restoring parameters from /Volumes/Mac/GW/model/model3.ckpt\n",
      "period of prediction = 19.9275121689 (s)\n",
      "INFO:tensorflow:Restoring parameters from /Volumes/Mac/GW/model/model3.ckpt\n",
      "period of prediction = 21.2563090324 (s)\n",
      "INFO:tensorflow:Restoring parameters from /Volumes/Mac/GW/model/model3.ckpt\n",
      "period of prediction = 20.9750161171 (s)\n",
      "INFO:tensorflow:Restoring parameters from /Volumes/Mac/GW/model/model3.ckpt\n",
      "period of prediction = 22.03256917 (s)\n",
      "INFO:tensorflow:Restoring parameters from /Volumes/Mac/GW/model/model3.ckpt\n",
      "period of prediction = 23.18608284 (s)\n",
      "INFO:tensorflow:Restoring parameters from /Volumes/Mac/GW/model/model3.ckpt\n",
      "period of prediction = 21.5996210575 (s)\n",
      "INFO:tensorflow:Restoring parameters from /Volumes/Mac/GW/model/model3.ckpt\n",
      "period of prediction = 24.5456709862 (s)\n",
      "INFO:tensorflow:Restoring parameters from /Volumes/Mac/GW/model/model3.ckpt\n",
      "period of prediction = 18.8087859154 (s)\n",
      "INFO:tensorflow:Restoring parameters from /Volumes/Mac/GW/model/model3.ckpt\n",
      "period of prediction = 18.6126821041 (s)\n",
      "INFO:tensorflow:Restoring parameters from /Volumes/Mac/GW/model/model3.ckpt\n",
      "period of prediction = 18.4041340351 (s)\n",
      "INFO:tensorflow:Restoring parameters from /Volumes/Mac/GW/model/model3.ckpt\n",
      "period of prediction = 23.7396931648 (s)\n",
      "INFO:tensorflow:Restoring parameters from /Volumes/Mac/GW/model/model3.ckpt\n",
      "period of prediction = 19.1242821217 (s)\n",
      "INFO:tensorflow:Restoring parameters from /Volumes/Mac/GW/model/model3.ckpt\n",
      "period of prediction = 20.5880820751 (s)\n",
      "INFO:tensorflow:Restoring parameters from /Volumes/Mac/GW/model/model3.ckpt\n",
      "period of prediction = 20.1265609264 (s)\n",
      "INFO:tensorflow:Restoring parameters from /Volumes/Mac/GW/model/model3.ckpt\n",
      "period of prediction = 21.4739649296 (s)\n",
      "INFO:tensorflow:Restoring parameters from /Volumes/Mac/GW/model/model3.ckpt\n",
      "period of prediction = 20.6426131725 (s)\n",
      "0.17492555332\n"
     ]
    }
   ],
   "source": [
    "rm = relation(50)"
   ]
  },
  {
   "cell_type": "code",
   "execution_count": 11,
   "metadata": {},
   "outputs": [
    {
     "data": {
      "text/plain": [
       "([<matplotlib.axis.XTick at 0x1a2824a650>,\n",
       "  <matplotlib.axis.XTick at 0x1a2824a050>,\n",
       "  <matplotlib.axis.XTick at 0x1a28220b90>,\n",
       "  <matplotlib.axis.XTick at 0x1a1f7f3e90>,\n",
       "  <matplotlib.axis.XTick at 0x1a1f800410>,\n",
       "  <matplotlib.axis.XTick at 0x1a1f7e8f90>,\n",
       "  <matplotlib.axis.XTick at 0x1a1f800110>],\n",
       " <a list of 7 Text xticklabel objects>)"
      ]
     },
     "execution_count": 11,
     "metadata": {},
     "output_type": "execute_result"
    },
    {
     "data": {
      "image/png": "[encoded data removed]",
      "text/plain": [
       "<Figure size 432x288 with 1 Axes>"
      ]
     },
     "metadata": {},
     "output_type": "display_data"
    }
   ],
   "source": [
    "plt.imshow(rm, cmap='binary')\n",
    "tick_idx = [0,10,20,30,40,50,60]\n",
    "tick_mass = [5.5,15.5,25.5,35.5,45.5,55.5,65.5]\n",
    "plt.yticks(tick_idx , tick_mass)\n",
    "plt.xticks(tick_idx , tick_mass)"
   ]
  },
  {
   "cell_type": "code",
   "execution_count": null,
   "metadata": {},
   "outputs": [],
   "source": []
  },
  {
   "cell_type": "code",
   "execution_count": null,
   "metadata": {},
   "outputs": [],
   "source": []
  },
  {
   "cell_type": "code",
   "execution_count": null,
   "metadata": {},
   "outputs": [],
   "source": []
  },
  {
   "cell_type": "code",
   "execution_count": null,
   "metadata": {},
   "outputs": [],
   "source": []
  },
  {
   "cell_type": "code",
   "execution_count": null,
   "metadata": {},
   "outputs": [],
   "source": []
  }
 ],
 "metadata": {
  "kernelspec": {
   "display_name": "Python 2",
   "language": "python",
   "name": "python2"
  },
  "language_info": {
   "codemirror_mode": {
    "name": "ipython",
    "version": 2
   },
   "file_extension": ".py",
   "mimetype": "text/x-python",
   "name": "python",
   "nbconvert_exporter": "python",
   "pygments_lexer": "ipython2",
   "version": "2.7.15"
  }
 },
 "nbformat": 4,
 "nbformat_minor": 2
}
