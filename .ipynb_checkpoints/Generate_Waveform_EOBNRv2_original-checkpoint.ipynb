{
 "cells": [
  {
   "cell_type": "markdown",
   "metadata": {
    "collapsed": true
   },
   "source": [
    "# Generate Waveform"
   ]
  },
  {
   "cell_type": "markdown",
   "metadata": {},
   "source": [
    "## In this code, I use PyCBC to generate time domain templates, I use EOBNRv2"
   ]
  },
  {
   "cell_type": "markdown",
   "metadata": {},
   "source": [
    "### Import needed librarys"
   ]
  },
  {
   "cell_type": "code",
   "execution_count": 1,
   "metadata": {},
   "outputs": [
    {
     "name": "stdout",
     "output_type": "stream",
     "text": [
      "\n"
     ]
    }
   ],
   "source": [
    "import pycbc\n",
    "from pycbc.waveform import get_td_waveform\n",
    "from pycbc.psd import welch, interpolate\n",
    "import urllib\n",
    "import pylab\n",
    "import numpy as np\n",
    "import timeit\n",
    "import os\n",
    "import matplotlib.mlab as mlab\n",
    "from scipy.interpolate import interp1d\n",
    "import matplotlib.pyplot as plt\n",
    "from scipy.signal import butter, filtfilt, iirdesign, zpk2tf, freqz"
   ]
  },
  {
   "cell_type": "markdown",
   "metadata": {},
   "source": [
    "### Generate and write the time series data"
   ]
  },
  {
   "cell_type": "markdown",
   "metadata": {},
   "source": [
    "Parameters"
   ]
  },
  {
   "cell_type": "code",
   "execution_count": 2,
   "metadata": {
    "collapsed": true
   },
   "outputs": [],
   "source": [
    "# Parameter for generating EOB waveform, I use the function, get_td_waveform, which from PyCBC\n",
    "f_low = 20\n",
    "sample_rate = 8192\n",
    "m1_ini = 5.0\n",
    "m2_ini = 5.0\n",
    "m1 = m1_ini\n",
    "m2 = m2_ini\n",
    "m1_max = 20.0\n",
    "m2_max = 20.0\n",
    "delta_m = 0.5 # step of mass choosing.\n",
    "data_length = 8192 # How long is the data, here I keep 8192 point, which is 1 sec.\n",
    "pure_noise_number = 8000 # number of pure noise data\n",
    "noise_to_signal = 1.9\n",
    "dt = float(1) / sample_rate\n",
    "fband = [43.0, 800.0] # band-pass, for whitening.\n",
    "\n",
    "# Saveing direction.\n",
    "approximation = 'EOBNRv2'\n",
    "apporxi = 'GW_training_data_EOBNRv2_whitened_template'\n",
    "folder_name = 'data_1.9'"
   ]
  },
  {
   "cell_type": "code",
   "execution_count": 6,
   "metadata": {},
   "outputs": [
    {
     "data": {
      "image/png": "[encoded data removed]",
      "text/plain": [
       "<matplotlib.figure.Figure at 0x2ba7bc7af510>"
      ]
     },
     "metadata": {},
     "output_type": "display_data"
    }
   ],
   "source": [
    "# Whitening function.\n",
    "def whiten(strain, interp_psd, dt):\n",
    "    Nt = len(strain)\n",
    "    freqs = np.fft.rfftfreq(Nt, dt)\n",
    "    #freqs1 = np.linspace(0,4096.,Nt/2+1)\n",
    "\n",
    "    hf = np.fft.rfft(strain)\n",
    "    norm = 1./np.sqrt(1./(dt*2))\n",
    "    white_hf = hf / np.sqrt(np.abs(interp_psd(freqs))) * norm\n",
    "    white_ht = np.fft.irfft(white_hf, n=Nt)\n",
    "    bb, ab = butter(4, [fband[0]*2./sample_rate, fband[1]*2./sample_rate], btype='band')\n",
    "    normalization = np.sqrt((fband[1]-fband[0])/(sample_rate/2))\n",
    "    strain_whitenbp = filtfilt(bb, ab, white_ht) / normalization\n",
    "    return strain_whitenbp\n",
    "\n",
    "\n",
    "Pxx = pylab.loadtxt('/home/leo/Leo/Visualization/high.txt') # PSD for whitening.\n",
    "freqs = Pxx[:,0]\n",
    "Pxx = Pxx[:,1]\n",
    "psd_smooth = interp1d(freqs, Pxx, fill_value=\"extrapolate\")\n",
    "\n",
    "plt.plot(freqs, np.log(Pxx))\n",
    "#plt.xlim(0,2000)\n",
    "plt.show()"
   ]
  },
  {
   "cell_type": "markdown",
   "metadata": {},
   "source": [
    "Here, I extract 1 second time series data (before tc)"
   ]
  },
  {
   "cell_type": "code",
   "execution_count": 65,
   "metadata": {},
   "outputs": [
    {
     "name": "stdout",
     "output_type": "stream",
     "text": [
      "235.82896018\n"
     ]
    }
   ],
   "source": [
    "start_time = timeit.default_timer()\n",
    "os.makedirs('/home/leo/Leo/PyCBC/{0}/{1}/1/'.format(apporxi, folder_name)) # Direction, which you can change.\n",
    "m2 = m2_ini\n",
    "m1 = m1_ini\n",
    "while m1 <= m1_max:\n",
    "    m2 = m1\n",
    "    while m2 <= m2_max:\n",
    "            hp, hc = get_td_waveform(approximant=approximation,\n",
    "                                     mass1=m1,\n",
    "                                     mass2=m2,\n",
    "                                     f_lower=f_low,\n",
    "                                     delta_t=1.0/sample_rate)\n",
    "            start_index = len(hp) - data_length\n",
    "            end_index = len(hp)\n",
    "            hp = hp[start_index:end_index]\n",
    "            \n",
    "            # whitening\n",
    "            hp = whiten(hp, psd_smooth, dt)\n",
    "            \n",
    "            hp_max = max(hp)\n",
    "            noise = np.random.normal(0, noise_to_signal * hp_max, data_length)\n",
    "            hp_noise = hp + noise\n",
    "            f = open('/home/leo/Leo/PyCBC/{0}/{1}/1/{2}_and_{3}_uncolor_gaussian.txt'.format(apporxi, folder_name, m1, m2),'wb')\n",
    "            for i in range(np.shape(hp)[0]):\n",
    "                f.write('%.35f\\n'%(hp_noise[i]))\n",
    "            f.close()\n",
    "            m2 = m2 + delta_m\n",
    "            \n",
    "    start_index = len(hp) - data_length\n",
    "    end_index = len(hp)\n",
    "    noise = np.random.normal(0, noise_to_signal * hp_max, data_length)\n",
    "    hp = hp[start_index:end_index]\n",
    "    hp_noise = hp + noise\n",
    "    m1 = m1 + delta_m\n",
    "\n",
    "stop_time = timeit.default_timer()\n",
    "print(stop_time - start_time)"
   ]
  },
  {
   "cell_type": "markdown",
   "metadata": {},
   "source": [
    "##############################################################################################################"
   ]
  },
  {
   "cell_type": "markdown",
   "metadata": {},
   "source": [
    "### Generate data with pure noise"
   ]
  },
  {
   "cell_type": "code",
   "execution_count": 72,
   "metadata": {
    "collapsed": true
   },
   "outputs": [],
   "source": [
    "os.makedirs('/home/leo/Leo/PyCBC/{0}/{1}/0/'.format(apporxi, folder_name))\n",
    "n = 1\n",
    "x = np.arange(0,data_length)\n",
    "for n in range (pure_noise_number - 1):\n",
    "    pure_noise = np.random.normal(0, 1, data_length)\n",
    "    x_noise = np.arange(0,8191) # x-axis of noise\n",
    "    f = open('/home/leo/Leo/PyCBC/{0}/{1}/0/'.format(apporxi, folder_name)+str(n)+'.txt','w')\n",
    "    for i in range(np.shape(x)[0]):\n",
    "            #f.write('%.2f '%(x[i]))\n",
    "            f.write('%.35f\\n'%(pure_noise[i]))\n",
    "    n += 1\n",
    "    f.close()"
   ]
  },
  {
   "cell_type": "markdown",
   "metadata": {},
   "source": [
    "##############################################################################################################"
   ]
  },
  {
   "cell_type": "markdown",
   "metadata": {},
   "source": [
    "### Rename the data (for usage of deep learning)"
   ]
  },
  {
   "cell_type": "code",
   "execution_count": 73,
   "metadata": {
    "collapsed": true
   },
   "outputs": [],
   "source": [
    "import os\n",
    "\n",
    "path_1 = '/home/leo/Leo/PyCBC/{0}/{1}/1/'.format(apporxi, folder_name)\n",
    "files_1 = os.listdir(path_1)\n",
    "i = 1\n",
    "\n",
    "for file in files_1:\n",
    "    os.rename(os.path.join(path_1, file), os.path.join(path_1, str(i)+'.txt'))\n",
    "    i = i + 1\n",
    "\n",
    "\n",
    "path_2 = '/home/leo/Leo/PyCBC/{0}/{1}/0/'.format(apporxi, folder_name)\n",
    "files_2 = os.listdir(path_2)\n",
    "number_files = len(files_1)\n",
    "#print(number_files)\n",
    "\n",
    "j = number_files + 1\n",
    "\n",
    "for file in files_2:\n",
    "    os.rename(os.path.join(path_2, file), os.path.join(path_2, str(j)+'.txt'))\n",
    "    j = j + 1\n"
   ]
  },
  {
   "cell_type": "markdown",
   "metadata": {},
   "source": [
    "# --------------------------------------------------------------------------------------------------------------"
   ]
  }
 ],
 "metadata": {
  "kernelspec": {
   "display_name": "Python 2",
   "language": "python",
   "name": "python2"
  },
  "language_info": {
   "codemirror_mode": {
    "name": "ipython",
    "version": 2
   },
   "file_extension": ".py",
   "mimetype": "text/x-python",
   "name": "python",
   "nbconvert_exporter": "python",
   "pygments_lexer": "ipython2",
   "version": "2.7.15"
  }
 },
 "nbformat": 4,
 "nbformat_minor": 2
}
