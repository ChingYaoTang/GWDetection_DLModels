{
 "cells": [
  {
   "cell_type": "code",
   "execution_count": null,
   "metadata": {},
   "outputs": [],
   "source": [
    "#將個別資料的數據點打亂\n",
    "num = f['data'].shape[1] #一筆資料的長度\n",
    "p = np.random.permutation(num) #亂數排列\n",
    "np.array([d[[p]] for d in f['data']]) #對f['data']內的每一筆資料，以同一個亂數排列打亂\n",
    "#若要每筆資料個別都以不同亂數來打亂的話，就要直接以for迴圈來寫，並且每次都重新產生亂數排列"
   ]
  },
  {
   "cell_type": "code",
   "execution_count": null,
   "metadata": {},
   "outputs": [],
   "source": [
    "#不打亂的情況，以下為datamatrix的切片，兩者的切法是等價的\n",
    "#d按資料的順序從f['data']中取出一組資料的0、1、2、3下標的資料出來 \n",
    "np.array([d[[0,1,2,3]] for d in f['data']]) #只要讓[0,1,2,3]為亂數，就可以達到個別將單一筆資料以亂數打亂\n",
    "#基本的切片方法，第一個下標取全部，第二個下標取0~3\n",
    "f['data'][:,0:4]"
   ]
  },
  {
   "cell_type": "code",
   "execution_count": null,
   "metadata": {},
   "outputs": [],
   "source": [
    "#將資料與資料間的順序打亂\n",
    "#必須以同一個亂數來排列\n",
    "tf = f['data'].transpose() #將資料轉置，因此現在每一行才是一筆資料，之前是一列為一筆資料\n",
    "size = f['data'].shape[0] #資料總筆數\n",
    "p = np.random.permutation(size) #資料總筆數的亂數排列\n",
    "np.array([d[[p]] for d in tf) #將每筆資料的同一個下標的元素以相同的亂數來排列\n",
    "#因此排列完成後，同一筆資料仍會在同一行內，但資料與資料間的順序已經變成是p的排序了"
   ]
  }
 ],
 "metadata": {
  "kernelspec": {
   "display_name": "Python 2",
   "language": "python",
   "name": "python2"
  },
  "language_info": {
   "codemirror_mode": {
    "name": "ipython",
    "version": 2
   },
   "file_extension": ".py",
   "mimetype": "text/x-python",
   "name": "python",
   "nbconvert_exporter": "python",
   "pygments_lexer": "ipython2",
   "version": "2.7.15"
  }
 },
 "nbformat": 4,
 "nbformat_minor": 2
}
