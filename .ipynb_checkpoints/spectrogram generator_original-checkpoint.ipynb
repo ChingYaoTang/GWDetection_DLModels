{
 "cells": [
  {
   "cell_type": "code",
   "execution_count": 2,
   "metadata": {},
   "outputs": [
    {
     "name": "stderr",
     "output_type": "stream",
     "text": [
      "/anaconda3/envs/anacondapy2/lib/python2.7/site-packages/h5py/__init__.py:36: FutureWarning: Conversion of the second argument of issubdtype from `float` to `np.floating` is deprecated. In future, it will be treated as `np.float64 == np.dtype(float).type`.\n",
      "  from ._conv import register_converters as _register_converters\n"
     ]
    }
   ],
   "source": [
    "from scipy.signal import spectrogram\n",
    "import numpy as np\n",
    "import h5py\n",
    "import timeit\n",
    "from sklearn import preprocessing\n",
    "import matplotlib.pyplot as plt"
   ]
  },
  {
   "cell_type": "code",
   "execution_count": 3,
   "metadata": {},
   "outputs": [
    {
     "name": "stdout",
     "output_type": "stream",
     "text": [
      "lenth f = 257\n",
      "lenth t = 121\n",
      "total= 31097\n",
      "idx1024= 64\n"
     ]
    }
   ],
   "source": [
    "sample_rate = 8192\n",
    "data_length = 8192 \n",
    "dt = float(1) / sample_rate\n",
    "T = data_length / sample_rate\n",
    "\n",
    "nitv = 16.0\n",
    "novl = 8.0\n",
    "NITV = int(sample_rate/nitv) #windows中的sample point數目\n",
    "NOVL = int(NITV*(novl-1)/novl) #windows重疊的sample point數目\n",
    "window = np.blackman(NITV)\n",
    "spec_cmap='ocean'\n",
    "\n",
    "#f\n",
    "lenf = int(sample_rate/nitv/2+1)\n",
    "print 'lenth f =',lenf\n",
    "#t\n",
    "lent = int((nitv*T-1)*novl+1) # = sample_rater*T/(NITV-NOVL)-NITV/(NITV-NOVL)+1\n",
    "print 'lenth t =',lent\n",
    "#total\n",
    "totalpix = lenf*lent\n",
    "print 'total=',totalpix\n",
    "#idx of f=1024\n",
    "idx1024 = (lenf-1)/4\n",
    "print 'idx1024=',idx1024"
   ]
  },
  {
   "cell_type": "code",
   "execution_count": 13,
   "metadata": {},
   "outputs": [
    {
     "name": "stdout",
     "output_type": "stream",
     "text": [
      "1025.0\n",
      "28.7109375\n"
     ]
    }
   ],
   "source": [
    "T=1.\n",
    "sr=44100.\n",
    "NITV= 2048.\n",
    "NOVL= 512.\n",
    "print NITV/2+1\n",
    "print sr*T/(NITV-NOVL)-NITV/(NITV-NOVL)+1"
   ]
  },
  {
   "cell_type": "code",
   "execution_count": 10,
   "metadata": {},
   "outputs": [
    {
     "name": "stdout",
     "output_type": "stream",
     "text": [
      "257.0\n",
      "121.0\n",
      "121.0\n"
     ]
    }
   ],
   "source": [
    "T=1.\n",
    "sr=8192.\n",
    "nitv=16.\n",
    "novl=8.\n",
    "NITV= sr/nitv\n",
    "NOVL= NITV*(novl-1)/novl\n",
    "print sr/nitv/2+1\n",
    "print sr*T/(NITV-NOVL)-NITV/(NITV-NOVL)+1\n",
    "print (nitv*T-1)*novl+1"
   ]
  },
  {
   "cell_type": "code",
   "execution_count": null,
   "metadata": {},
   "outputs": [],
   "source": []
  },
  {
   "cell_type": "code",
   "execution_count": 4,
   "metadata": {},
   "outputs": [],
   "source": [
    "def batch_generator(filename, batch_size):\n",
    "    f = h5py.File(filename, 'r')\n",
    "    batch_count = 0\n",
    "    while True:\n",
    "        if batch_count * batch_size + batch_size > f['label'].shape[0]: #若batchsize不能整除的話，最後餘下的資料永遠不會讀出\n",
    "            batch_count = 0\n",
    "        start_idx = batch_count * batch_size\n",
    "        end_idx = start_idx + batch_size\n",
    "        batch_count += 1\n",
    "        yield f['data'][start_idx : end_idx] "
   ]
  },
  {
   "cell_type": "code",
   "execution_count": 8,
   "metadata": {},
   "outputs": [],
   "source": [
    "b = batch_generator('/Volumes/Mac/GW/trainingdata_time_snr05_.h5',1)"
   ]
  },
  {
   "cell_type": "code",
   "execution_count": 22,
   "metadata": {},
   "outputs": [
    {
     "data": {
      "text/plain": [
       "array([-0.93046117, -0.22913635,  0.50869155, ...,  0.98345256,\n",
       "       -0.16595672, -0.81729174], dtype=float32)"
      ]
     },
     "execution_count": 22,
     "metadata": {},
     "output_type": "execute_result"
    }
   ],
   "source": [
    "next(b).reshape(-1,)"
   ]
  },
  {
   "cell_type": "code",
   "execution_count": 23,
   "metadata": {},
   "outputs": [
    {
     "data": {
      "text/plain": [
       "array([-0.93046117, -0.22913635,  0.50869155, ...,  0.98345256,\n",
       "       -0.16595672, -0.81729174], dtype=float32)"
      ]
     },
     "execution_count": 23,
     "metadata": {},
     "output_type": "execute_result"
    }
   ],
   "source": [
    "dd['data'][2]"
   ]
  },
  {
   "cell_type": "code",
   "execution_count": 48,
   "metadata": {},
   "outputs": [],
   "source": [
    "def r():\n",
    "    b = batch_generator('/Volumes/Mac/GW/trainingdata_time_snr05.h5',1)\n",
    "    for i in range(3):\n",
    "        print next(b)[:,:2+1]"
   ]
  },
  {
   "cell_type": "code",
   "execution_count": 49,
   "metadata": {},
   "outputs": [
    {
     "name": "stdout",
     "output_type": "stream",
     "text": [
      "[[-0.5332732  -0.2107256   0.20484139]]\n",
      "[[-0.5158796   0.34144238  1.8034676 ]]\n",
      "[[-0.93046117 -0.22913635  0.50869155]]\n"
     ]
    }
   ],
   "source": [
    "r()"
   ]
  },
  {
   "cell_type": "code",
   "execution_count": 43,
   "metadata": {},
   "outputs": [
    {
     "name": "stdout",
     "output_type": "stream",
     "text": [
      "[[-0.5332732  -0.2107256   0.20484139 ... -0.74014634  1.5235441\n",
      "  -0.5948172 ]]\n",
      "[[-0.5158796   0.34144238  1.8034676  ... -0.18355376  0.20007421\n",
      "  -1.7577941 ]]\n",
      "[[-0.93046117 -0.22913635  0.50869155 ...  0.98345256 -0.16595672\n",
      "  -0.81729174]]\n"
     ]
    }
   ],
   "source": [
    "r()"
   ]
  },
  {
   "cell_type": "code",
   "execution_count": 1,
   "metadata": {},
   "outputs": [],
   "source": [
    "def specdatagenerator(datafile,filename):\n",
    "    #計時\n",
    "    start_time = timeit.default_timer()\n",
    "    \n",
    "    g = h5py.File(datafile,'r') #time domain data\n",
    "    datanumber = len(g['label'])\n",
    "    batch = batch_generator(datafile,1)\n",
    "    \n",
    "    f = h5py.File(filename,'a')\n",
    "    f.create_dataset('label', data = g['label'])\n",
    "    f.create_dataset('data',(datanumber, idx1024+1, lent)) #maxshape=(None,None,None))\n",
    "    #f.create_dataset('parameter', data = g['parameter'])\n",
    "    g.close()\n",
    "    \n",
    "    scale = preprocessing.MinMaxScaler(feature_range=(0,1))\n",
    "    \n",
    "    for idx in range(0,datanumber):\n",
    "        freqs, bins, spec_data = spectrogram(next(batch).reshape(-1,), nfft=NITV, fs=sample_rate, window=window, noverlap=NOVL, detrend=False)\n",
    "        del freqs, bins\n",
    "        spec_dataf = spec_data.reshape(totalpix,1)\n",
    "        del spec_data\n",
    "        specfn = scale.fit_transform(spec_dataf)\n",
    "        del spec_dataf\n",
    "        f['data'][idx] = specfn.reshape(1, lenf, lent)[:, :(idx1024+1), :]\n",
    "        del specfn\n",
    "            \n",
    "    \n",
    "    f.close()\n",
    "    stop_time = timeit.default_timer()\n",
    "    print 'period(s) =', stop_time - start_time\n",
    "    print('finish')"
   ]
  },
  {
   "cell_type": "code",
   "execution_count": 61,
   "metadata": {},
   "outputs": [
    {
     "name": "stdout",
     "output_type": "stream",
     "text": [
      "0\n",
      "1000\n",
      "2000\n",
      "3000\n",
      "4000\n",
      "5000\n",
      "6000\n",
      "7000\n",
      "8000\n",
      "9000\n",
      "10000\n",
      "11000\n",
      "12000\n",
      "13000\n",
      "14000\n",
      "15000\n",
      "16000\n",
      "17000\n",
      "18000\n",
      "19000\n",
      "20000\n",
      "21000\n",
      "22000\n",
      "23000\n",
      "24000\n",
      "25000\n",
      "26000\n",
      "27000\n",
      "28000\n",
      "29000\n",
      "period(s) = 109.200640917\n",
      "finish\n"
     ]
    }
   ],
   "source": [
    "specdatagenerator('/Volumes/Mac/GW/time/trainingdata_time_snr05.h5', '/Volumes/Mac/GW/spec/trainingdata_spec16-8_freq1024_snr05_.h5')"
   ]
  },
  {
   "cell_type": "code",
   "execution_count": 62,
   "metadata": {},
   "outputs": [
    {
     "name": "stdout",
     "output_type": "stream",
     "text": [
      "0\n",
      "1000\n",
      "2000\n",
      "3000\n",
      "4000\n",
      "period(s) = 17.2939178944\n",
      "finish\n"
     ]
    }
   ],
   "source": [
    "specdatagenerator('/Volumes/Mac/GW/time/validationdata_time_snr05.h5', '/Volumes/Mac/GW/spec/validationdata_spec16-8_freq1024_snr05.h5')"
   ]
  },
  {
   "cell_type": "code",
   "execution_count": 6,
   "metadata": {},
   "outputs": [
    {
     "name": "stdout",
     "output_type": "stream",
     "text": [
      "period(s) = 11.4383270741\n",
      "finish\n",
      "period(s) = 11.8094410896\n",
      "finish\n",
      "period(s) = 13.1133642197\n",
      "finish\n"
     ]
    }
   ],
   "source": [
    "specdatagenerator('/Volumes/Mac/GW/time/overlap/validationdata_time_pr2.h5', '/Volumes/Mac/GW/spec/validationdata_spec16-8_freq1024_pr2.h5')\n",
    "specdatagenerator('/Volumes/Mac/GW/time/overlap/validationdata_time_pr1.5.h5', '/Volumes/Mac/GW/spec/validationdata_spec16-8_freq1024_pr1.5.h5')\n",
    "specdatagenerator('/Volumes/Mac/GW/time/overlap/validationdata_time_pr1.h5', '/Volumes/Mac/GW/spec/validationdata_spec16-8_freq1024_pr1.h5')"
   ]
  },
  {
   "cell_type": "code",
   "execution_count": 5,
   "metadata": {},
   "outputs": [
    {
     "name": "stdout",
     "output_type": "stream",
     "text": [
      "period(s) = 16.1640789509\n",
      "finish\n"
     ]
    }
   ],
   "source": [
    "specdatagenerator('/Volumes/Mac/GW/time/overlap/validationdata_time_pr05.h5', '/Volumes/Mac/GW/spec/validationdata_spec16-8_freq1024_pr0.5.h5')"
   ]
  },
  {
   "cell_type": "code",
   "execution_count": 7,
   "metadata": {},
   "outputs": [
    {
     "name": "stdout",
     "output_type": "stream",
     "text": [
      "period(s) = 33.5363440514\n",
      "finish\n",
      "period(s) = 32.9258959293\n",
      "finish\n",
      "period(s) = 32.883852005\n",
      "finish\n",
      "period(s) = 32.9576737881\n",
      "finish\n"
     ]
    }
   ],
   "source": [
    "specdatagenerator('/Volumes/Mac/GW/time/withoutoverlap/trainingdata_time_pr2.h5', '/Volumes/Mac/GW/spec/trainingdatawo_spec16-8_freq1024_pr2.h5')\n",
    "specdatagenerator('/Volumes/Mac/GW/time/withoutoverlap/trainingdata_time_pr1.5.h5', '/Volumes/Mac/GW/spec/trainingdatawo_spec16-8_freq1024_pr1.5.h5')\n",
    "specdatagenerator('/Volumes/Mac/GW/time/withoutoverlap/trainingdata_time_pr1.h5', '/Volumes/Mac/GW/spec/trainingdatawo_spec16-8_freq1024_pr1.h5')\n",
    "specdatagenerator('/Volumes/Mac/GW/time/withoutoverlap/trainingdata_time_pr05.h5', '/Volumes/Mac/GW/spec/trainingdatawo_spec16-8_freq1024_pr05.h5')\n"
   ]
  },
  {
   "cell_type": "code",
   "execution_count": 8,
   "metadata": {},
   "outputs": [
    {
     "name": "stdout",
     "output_type": "stream",
     "text": [
      "period(s) = 32.5034611225\n",
      "finish\n",
      "period(s) = 31.9716320038\n",
      "finish\n",
      "period(s) = 32.2168400288\n",
      "finish\n",
      "period(s) = 32.1232738495\n",
      "finish\n"
     ]
    }
   ],
   "source": [
    "specdatagenerator('/Volumes/Mac/GW/time/withoutoverlap/testdata_time_pr2.h5', '/Volumes/Mac/GW/spec/testdatawo_spec16-8_freq1024_pr2.h5')\n",
    "specdatagenerator('/Volumes/Mac/GW/time/withoutoverlap/testdata_time_pr1.5.h5', '/Volumes/Mac/GW/spec/testdatawo_spec16-8_freq1024_pr1.5.h5')\n",
    "specdatagenerator('/Volumes/Mac/GW/time/withoutoverlap/testdata_time_pr1.h5', '/Volumes/Mac/GW/spec/testdatawo_spec16-8_freq1024_pr1.h5')\n",
    "specdatagenerator('/Volumes/Mac/GW/time/withoutoverlap/testdata_time_pr05.h5', '/Volumes/Mac/GW/spec/testdatawo_spec16-8_freq1024_pr05.h5')"
   ]
  },
  {
   "cell_type": "code",
   "execution_count": 6,
   "metadata": {},
   "outputs": [
    {
     "name": "stdout",
     "output_type": "stream",
     "text": [
      "period(s) = 227.88112998\n",
      "finish\n"
     ]
    }
   ],
   "source": [
    "specdatagenerator('/Volumes/Mac/GW/time/withoutoverlap/5.5~74.5/testdata_time_pr0.5_10time.h5', \n",
    "                  '/Volumes/Mac/GW/spec/withoutoverlap/5.5~74.5/testdatawo_spec16-8_freq1024_pr0.5_10time.h5')"
   ]
  },
  {
   "cell_type": "code",
   "execution_count": 5,
   "metadata": {},
   "outputs": [
    {
     "name": "stdout",
     "output_type": "stream",
     "text": [
      "period(s) = 114.387261868\n",
      "finish\n"
     ]
    }
   ],
   "source": [
    "specdatagenerator('/Volumes/Mac/GW/time/withoutoverlap/5.5~74.5/testdata_time_pr0.5_10time20.h5', \n",
    "                  '/Volumes/Mac/GW/spec/withoutoverlap/5.5~74.5/testdatawo_spec16-8_freq1024_pr0.5_10time20.h5')"
   ]
  },
  {
   "cell_type": "code",
   "execution_count": 19,
   "metadata": {},
   "outputs": [
    {
     "name": "stdout",
     "output_type": "stream",
     "text": [
      "period(s) = 28.2179379463\n",
      "finish\n",
      "period(s) = 29.2812650204\n",
      "finish\n",
      "period(s) = 27.544041872\n",
      "finish\n",
      "period(s) = 26.8350188732\n",
      "finish\n",
      "period(s) = 27.7452299595\n",
      "finish\n",
      "period(s) = 27.6559009552\n",
      "finish\n",
      "period(s) = 27.1390478611\n",
      "finish\n",
      "period(s) = 27.8723790646\n",
      "finish\n",
      "period(s) = 27.2005980015\n",
      "finish\n",
      "period(s) = 26.4588160515\n",
      "finish\n",
      "period(s) = 27.1842420101\n",
      "finish\n",
      "period(s) = 26.944986105\n",
      "finish\n",
      "period(s) = 27.0975701809\n",
      "finish\n",
      "period(s) = 27.1972091198\n",
      "finish\n",
      "period(s) = 27.1959469318\n",
      "finish\n",
      "period(s) = 27.1662230492\n",
      "finish\n",
      "period(s) = 27.4471869469\n",
      "finish\n",
      "period(s) = 27.3799450397\n",
      "finish\n",
      "period(s) = 27.524381876\n",
      "finish\n",
      "period(s) = 27.830933094\n",
      "finish\n",
      "period(s) = 27.6330440044\n",
      "finish\n",
      "period(s) = 26.9093859196\n",
      "finish\n",
      "period(s) = 26.8848500252\n",
      "finish\n",
      "period(s) = 27.0125789642\n",
      "finish\n",
      "period(s) = 27.1650249958\n",
      "finish\n",
      "period(s) = 26.9299659729\n",
      "finish\n",
      "period(s) = 27.2059907913\n",
      "finish\n",
      "period(s) = 27.3581318855\n",
      "finish\n",
      "period(s) = 27.4029588699\n",
      "finish\n",
      "period(s) = 27.4460029602\n",
      "finish\n",
      "period(s) = 27.5684039593\n",
      "finish\n",
      "period(s) = 27.4584929943\n",
      "finish\n",
      "period(s) = 26.851213932\n",
      "finish\n",
      "period(s) = 27.1536099911\n",
      "finish\n",
      "period(s) = 26.9037520885\n",
      "finish\n",
      "period(s) = 27.0846719742\n",
      "finish\n",
      "period(s) = 27.5133180618\n",
      "finish\n",
      "period(s) = 27.5002541542\n",
      "finish\n",
      "period(s) = 27.7045791149\n",
      "finish\n",
      "period(s) = 27.3296229839\n",
      "finish\n",
      "period(s) = 27.8464930058\n",
      "finish\n",
      "period(s) = 27.9535648823\n",
      "finish\n",
      "period(s) = 27.475009203\n",
      "finish\n",
      "period(s) = 26.7162308693\n",
      "finish\n",
      "period(s) = 26.7372841835\n",
      "finish\n",
      "period(s) = 26.8934931755\n",
      "finish\n",
      "period(s) = 27.4824330807\n",
      "finish\n",
      "period(s) = 27.3024919033\n",
      "finish\n",
      "period(s) = 27.719648838\n",
      "finish\n",
      "period(s) = 28.8652329445\n",
      "finish\n"
     ]
    }
   ],
   "source": [
    "for i in range(50):\n",
    "    specdatagenerator('/Volumes/Mac/GW/time/withoutoverlap/5.5~74.5/testdata_time_pr0.5_2time10_'+str(i)+'.h5', \n",
    "                  '/Volumes/Mac/GW/spec/withoutoverlap/5.5~74.5/testdatawo_spec16-8_freq1024_pr0.5_2time10_'+str(i)+'.h5')"
   ]
  },
  {
   "cell_type": "code",
   "execution_count": 5,
   "metadata": {},
   "outputs": [
    {
     "name": "stdout",
     "output_type": "stream",
     "text": [
      "period(s) = 30.4313149452\n",
      "finish\n",
      "period(s) = 27.7287180424\n",
      "finish\n",
      "period(s) = 28.224864006\n",
      "finish\n",
      "period(s) = 28.107738018\n",
      "finish\n",
      "period(s) = 27.9148800373\n",
      "finish\n",
      "period(s) = 27.6353609562\n",
      "finish\n",
      "period(s) = 27.2429590225\n",
      "finish\n",
      "period(s) = 27.4521241188\n",
      "finish\n",
      "period(s) = 32.0446019173\n",
      "finish\n",
      "period(s) = 30.7237210274\n",
      "finish\n",
      "period(s) = 28.169836998\n",
      "finish\n",
      "period(s) = 27.1047298908\n",
      "finish\n",
      "period(s) = 27.9008369446\n",
      "finish\n",
      "period(s) = 28.1467638016\n",
      "finish\n",
      "period(s) = 27.7649459839\n",
      "finish\n",
      "period(s) = 27.6406099796\n",
      "finish\n",
      "period(s) = 27.5779819489\n",
      "finish\n",
      "period(s) = 27.7963740826\n",
      "finish\n",
      "period(s) = 27.5222189426\n",
      "finish\n",
      "period(s) = 27.9178080559\n",
      "finish\n",
      "period(s) = 27.8509771824\n",
      "finish\n",
      "period(s) = 28.0584719181\n",
      "finish\n",
      "period(s) = 27.8562579155\n",
      "finish\n",
      "period(s) = 27.3669300079\n",
      "finish\n",
      "period(s) = 27.2588250637\n",
      "finish\n",
      "period(s) = 29.5674819946\n",
      "finish\n",
      "period(s) = 30.7978789806\n",
      "finish\n",
      "period(s) = 34.4379329681\n",
      "finish\n",
      "period(s) = 31.0841391087\n",
      "finish\n",
      "period(s) = 32.1228590012\n",
      "finish\n",
      "period(s) = 31.8670008183\n",
      "finish\n",
      "period(s) = 37.4220759869\n",
      "finish\n",
      "period(s) = 27.7750499249\n",
      "finish\n",
      "period(s) = 27.9322288036\n",
      "finish\n",
      "period(s) = 28.0690510273\n",
      "finish\n",
      "period(s) = 28.2818229198\n",
      "finish\n",
      "period(s) = 28.3503119946\n",
      "finish\n",
      "period(s) = 29.66918993\n",
      "finish\n",
      "period(s) = 28.7233920097\n",
      "finish\n",
      "period(s) = 27.8853421211\n",
      "finish\n",
      "period(s) = 28.1496920586\n",
      "finish\n",
      "period(s) = 27.6713140011\n",
      "finish\n",
      "period(s) = 27.4564878941\n",
      "finish\n",
      "period(s) = 27.2963829041\n",
      "finish\n",
      "period(s) = 27.7328500748\n",
      "finish\n",
      "period(s) = 27.8682739735\n",
      "finish\n",
      "period(s) = 28.0690121651\n",
      "finish\n",
      "period(s) = 31.4654619694\n",
      "finish\n",
      "period(s) = 28.1644351482\n",
      "finish\n",
      "period(s) = 28.1440000534\n",
      "finish\n"
     ]
    }
   ],
   "source": [
    "for i in range(50):\n",
    "    specdatagenerator('/Volumes/Mac/GW/time/withoutoverlap/5.5~74.5/testdata_time_pr0.5_2time10_'+str(i+50)+'.h5', \n",
    "                  '/Volumes/Mac/GW/spec/withoutoverlap/5.5~74.5/testdatawo_spec16-8_freq1024_pr0.5_2time10_'+str(i+50)+'.h5')"
   ]
  },
  {
   "cell_type": "code",
   "execution_count": 23,
   "metadata": {},
   "outputs": [],
   "source": [
    "dd.close()"
   ]
  },
  {
   "cell_type": "code",
   "execution_count": 20,
   "metadata": {},
   "outputs": [],
   "source": [
    "dd = h5py.File('/Volumes/Mac/GW/spec/withoutoverlap/5.5~74.5/testdatawo_spec16-8_freq1024_pr0.5_2time10_0.h5','r') "
   ]
  },
  {
   "cell_type": "code",
   "execution_count": 22,
   "metadata": {},
   "outputs": [
    {
     "name": "stdout",
     "output_type": "stream",
     "text": [
      "1.0\n",
      "(65, 121)\n",
      "[ 6.5 37.5]\n"
     ]
    },
    {
     "data": {
      "image/png": "[encoded data removed]",
      "text/plain": [
       "<Figure size 432x288 with 1 Axes>"
      ]
     },
     "metadata": {},
     "output_type": "display_data"
    }
   ],
   "source": [
    "i=135\n",
    "plt.imshow(dd['data'][i], cmap='binary')\n",
    "print dd['label'][i]\n",
    "print dd['data'][i].shape\n",
    "print dd['parameter'][i]"
   ]
  },
  {
   "cell_type": "code",
   "execution_count": null,
   "metadata": {},
   "outputs": [],
   "source": [
    "dd"
   ]
  },
  {
   "cell_type": "code",
   "execution_count": 5,
   "metadata": {},
   "outputs": [
    {
     "name": "stdout",
     "output_type": "stream",
     "text": [
      "0\n",
      "1000\n",
      "2000\n",
      "3000\n",
      "4000\n",
      "5000\n",
      "6000\n",
      "7000\n",
      "8000\n",
      "9000\n",
      "period(s) = 51.9468970299\n",
      "finish\n"
     ]
    }
   ],
   "source": [
    "specdatagenerator('/Volumes/Mac/GW/time/testdata_time_snr05.h5', '/Volumes/Mac/GW/spec/testdata_spec16-8_freq1024_snr05.h5')"
   ]
  },
  {
   "cell_type": "code",
   "execution_count": 6,
   "metadata": {},
   "outputs": [
    {
     "name": "stdout",
     "output_type": "stream",
     "text": [
      "period(s) = 36.085392952\n",
      "finish\n",
      "period(s) = 34.0890040398\n",
      "finish\n",
      "period(s) = 34.3374619484\n",
      "finish\n",
      "period(s) = 33.7932269573\n",
      "finish\n"
     ]
    }
   ],
   "source": [
    "specdatagenerator('/Volumes/Mac/GW/time/withoutoverlap/5.5~74.5/testdata_time_pr0.6.h5', \n",
    "                  '/Volumes/Mac/GW/spec/withoutoverlap/5.5~74.5/testdatawo_spec16-8_freq1024_pr0.6.h5')\n",
    "specdatagenerator('/Volumes/Mac/GW/time/withoutoverlap/5.5~74.5/testdata_time_pr0.7.h5', \n",
    "                  '/Volumes/Mac/GW/spec/withoutoverlap/5.5~74.5/testdatawo_spec16-8_freq1024_pr0.7.h5')\n",
    "specdatagenerator('/Volumes/Mac/GW/time/withoutoverlap/5.5~74.5/testdata_time_pr0.8.h5', \n",
    "                  '/Volumes/Mac/GW/spec/withoutoverlap/5.5~74.5/testdatawo_spec16-8_freq1024_pr0.8.h5')\n",
    "specdatagenerator('/Volumes/Mac/GW/time/withoutoverlap/5.5~74.5/testdata_time_pr1.2.h5', \n",
    "                  '/Volumes/Mac/GW/spec/withoutoverlap/5.5~74.5/testdatawo_spec16-8_freq1024_pr1.2.h5')\n"
   ]
  },
  {
   "cell_type": "code",
   "execution_count": 7,
   "metadata": {},
   "outputs": [
    {
     "name": "stdout",
     "output_type": "stream",
     "text": [
      "period(s) = 36.4843261242\n",
      "finish\n",
      "period(s) = 35.8063879013\n",
      "finish\n",
      "period(s) = 34.295593977\n",
      "finish\n",
      "period(s) = 35.3347389698\n",
      "finish\n"
     ]
    }
   ],
   "source": [
    "specdatagenerator('/Volumes/Mac/GW/time/withoutoverlap/5~75/trainingdata_time_pr0.6.h5',\n",
    "                  '/Volumes/Mac/GW/spec/withoutoverlap/5~75/trainingdatawo_spec16-8_freq1024_pr0.6.h5')\n",
    "specdatagenerator('/Volumes/Mac/GW/time/withoutoverlap/5~75/trainingdata_time_pr0.7.h5',\n",
    "                  '/Volumes/Mac/GW/spec/withoutoverlap/5~75/trainingdatawo_spec16-8_freq1024_pr0.7.h5')\n",
    "specdatagenerator('/Volumes/Mac/GW/time/withoutoverlap/5~75/trainingdata_time_pr0.8.h5',\n",
    "                  '/Volumes/Mac/GW/spec/withoutoverlap/5~75/trainingdatawo_spec16-8_freq1024_pr0.8.h5')\n",
    "specdatagenerator('/Volumes/Mac/GW/time/withoutoverlap/5~75/trainingdata_time_pr1.2.h5',\n",
    "                  '/Volumes/Mac/GW/spec/withoutoverlap/5~75/trainingdatawo_spec16-8_freq1024_pr1.2.h5')\n"
   ]
  },
  {
   "cell_type": "code",
   "execution_count": 11,
   "metadata": {},
   "outputs": [
    {
     "name": "stdout",
     "output_type": "stream",
     "text": [
      "period(s) = 15.0484411716\n",
      "finish\n",
      "period(s) = 15.8624739647\n",
      "finish\n",
      "period(s) = 15.3367860317\n",
      "finish\n",
      "period(s) = 15.0930819511\n",
      "finish\n"
     ]
    }
   ],
   "source": [
    "specdatagenerator('/Volumes/Mac/GW/time/overlap/5~75/validationdata_time_pr0.6.h5',\n",
    "                  '/Volumes/Mac/GW/spec/overlap/5~75/validationdata_spec16-8_freq1024_pr0.6.h5')\n",
    "specdatagenerator('/Volumes/Mac/GW/time/overlap/5~75/validationdata_time_pr0.7.h5',\n",
    "                  '/Volumes/Mac/GW/spec/overlap/5~75/validationdata_spec16-8_freq1024_pr0.7.h5')\n",
    "specdatagenerator('/Volumes/Mac/GW/time/overlap/5~75/validationdata_time_pr0.8.h5',\n",
    "                  '/Volumes/Mac/GW/spec/overlap/5~75/validationdata_spec16-8_freq1024_pr0.8.h5')\n",
    "specdatagenerator('/Volumes/Mac/GW/time/overlap/5~75/validationdata_time_pr1.2.h5',\n",
    "                  '/Volumes/Mac/GW/spec/overlap/5~75/validationdata_spec16-8_freq1024_pr1.2.h5')\n"
   ]
  },
  {
   "cell_type": "code",
   "execution_count": null,
   "metadata": {},
   "outputs": [],
   "source": []
  }
 ],
 "metadata": {
  "kernelspec": {
   "display_name": "Python 2",
   "language": "python",
   "name": "python2"
  },
  "language_info": {
   "codemirror_mode": {
    "name": "ipython",
    "version": 2
   },
   "file_extension": ".py",
   "mimetype": "text/x-python",
   "name": "python",
   "nbconvert_exporter": "python",
   "pygments_lexer": "ipython2",
   "version": "2.7.15"
  }
 },
 "nbformat": 4,
 "nbformat_minor": 2
}
