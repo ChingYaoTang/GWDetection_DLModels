{
 "cells": [
  {
   "cell_type": "code",
   "execution_count": 2,
   "metadata": {},
   "outputs": [
    {
     "name": "stderr",
     "output_type": "stream",
     "text": [
      "/anaconda3/lib/python3.6/site-packages/h5py/__init__.py:36: FutureWarning: Conversion of the second argument of issubdtype from `float` to `np.floating` is deprecated. In future, it will be treated as `np.float64 == np.dtype(float).type`.\n",
      "  from ._conv import register_converters as _register_converters\n"
     ]
    }
   ],
   "source": [
    "from scipy.signal import spectrogram\n",
    "import numpy as np\n",
    "import h5py\n",
    "import timeit\n",
    "from sklearn import preprocessing\n",
    "import matplotlib.pyplot as plt"
   ]
  },
  {
   "cell_type": "markdown",
   "metadata": {},
   "source": [
    "# parameters"
   ]
  },
  {
   "cell_type": "code",
   "execution_count": 3,
   "metadata": {},
   "outputs": [
    {
     "name": "stdout",
     "output_type": "stream",
     "text": [
      "512\n",
      "448\n",
      "lenth of f = 257\n",
      "lenth of t = 121\n",
      "total pixel= 31097\n",
      "index of 512hz = 32.0\n",
      "final pixel= 3872.0\n"
     ]
    }
   ],
   "source": [
    "#time data\n",
    "sample_rate = 8192\n",
    "data_length = 8192 \n",
    "dt = float(1) / sample_rate\n",
    "T = data_length / sample_rate\n",
    "\n",
    "#spectrogram data\n",
    "nitv = 16.0\n",
    "novl = 8.0\n",
    "NITV = (sample_rate/nitv)\n",
    "print(NITV)\n",
    "NOVL = (NITV*(novl-1)/novl)\n",
    "print(NOVL)\n",
    "#window = np.blackman(NITV)\n",
    "spec_cmap='ocean'\n",
    "\n",
    "lenf = int(sample_rate/nitv/2+1)\n",
    "print('lenth of f =',lenf)\n",
    "lent = int((nitv*T-1)*novl+1)\n",
    "print('lenth of t =',lent)\n",
    "totalpix = lenf*lent\n",
    "print('total pixel=',totalpix)\n",
    "idx512 = (lenf-1)/8\n",
    "print('index of 512hz =',idx512)\n",
    "finalpix = idx512*lent\n",
    "print('final pixel=',finalpix)"
   ]
  },
  {
   "cell_type": "markdown",
   "metadata": {},
   "source": [
    "# batch generator"
   ]
  },
  {
   "cell_type": "code",
   "execution_count": 4,
   "metadata": {},
   "outputs": [],
   "source": [
    "def batch_generator(filename, batch_size):\n",
    "    f = h5py.File(filename, 'r')\n",
    "    batch_count = 0\n",
    "    while True:\n",
    "        if batch_count * batch_size + batch_size > f['label'].shape[0]: #若batchsize不能整除的話，最後餘下的資料永遠不會讀出\n",
    "            batch_count = 0\n",
    "        start_idx = batch_count * batch_size\n",
    "        end_idx = start_idx + batch_size\n",
    "        batch_count += 1\n",
    "        yield f['data'][start_idx : end_idx] "
   ]
  },
  {
   "cell_type": "markdown",
   "metadata": {},
   "source": [
    "# spectrogram generator"
   ]
  },
  {
   "cell_type": "code",
   "execution_count": 5,
   "metadata": {},
   "outputs": [],
   "source": [
    "def specdatagenerator(datafile,filename):\n",
    "    #計時\n",
    "    start_time = timeit.default_timer()\n",
    "    \n",
    "    g = h5py.File(datafile,'r') #time domain data\n",
    "    datanumber = len(g['label'])\n",
    "    batch = batch_generator(datafile,1)\n",
    "    \n",
    "    f = h5py.File(filename,'a')\n",
    "    f.create_dataset('label', data = g['label'])\n",
    "    f.create_dataset('data',(datanumber, idx512+1, lent)) #maxshape=(None,None,None))\n",
    "    try:\n",
    "        f.create_dataset('parameter', data = g['parameter'])\n",
    "    except:\n",
    "        print 'mass parameter doesnt exist'\n",
    "    g.close()\n",
    "    scale = preprocessing.MinMaxScaler(feature_range=(0,1))\n",
    "    \n",
    "    for idx in range(0,datanumber):\n",
    "        freqs, bins, spec_data = spectrogram(next(batch).reshape(-1,), nfft=NITV, fs=sample_rate, window=window, noverlap=NOVL, detrend=False)\n",
    "        del freqs, bins\n",
    "        spec_dataf = spec_data.reshape(totalpix,1)\n",
    "        del spec_data\n",
    "        specfn = scale.fit_transform(spec_dataf)\n",
    "        del spec_dataf\n",
    "        # 只取頻率到512hz的部分\n",
    "        f['data'][idx] = specfn.reshape(1, lenf, lent)[:, :(idx512+1), :]\n",
    "        del specfn\n",
    "            \n",
    "    \n",
    "    f.close()\n",
    "    stop_time = timeit.default_timer()\n",
    "    print 'period(s) =', stop_time - start_time\n",
    "    print('finish')"
   ]
  },
  {
   "cell_type": "markdown",
   "metadata": {},
   "source": [
    "val data"
   ]
  },
  {
   "cell_type": "code",
   "execution_count": 13,
   "metadata": {
    "collapsed": true
   },
   "outputs": [
    {
     "name": "stdout",
     "output_type": "stream",
     "text": [
      "mass parameter doesnt exist\n",
      "period(s) = 14.959717989\n",
      "finish\n",
      "mass parameter doesnt exist\n",
      "period(s) = 15.5688760281\n",
      "finish\n",
      "mass parameter doesnt exist\n",
      "period(s) = 14.2665760517\n",
      "finish\n",
      "mass parameter doesnt exist\n",
      "period(s) = 14.9510149956\n",
      "finish\n",
      "mass parameter doesnt exist\n",
      "period(s) = 14.8061311245\n",
      "finish\n",
      "mass parameter doesnt exist\n",
      "period(s) = 15.1610438824\n",
      "finish\n",
      "mass parameter doesnt exist\n",
      "period(s) = 16.8220899105\n",
      "finish\n",
      "mass parameter doesnt exist\n",
      "period(s) = 15.7326600552\n",
      "finish\n"
     ]
    }
   ],
   "source": [
    "prlist = [2,1.5,1.2,1,0.8,0.7,0.6,0.5]\n",
    "for n in prlist:\n",
    "    specdatagenerator('/Volumes/Mac/GW/time/overlap/5~75/validationdata_time_pr'+str(n)+'_mr<=10.h5',\n",
    "                  '/Volumes/Mac/GW/spec/overlap/5~75/validationdata_spec16-8_freq512_pr'+str(n)+'_mr<=10.h5')"
   ]
  },
  {
   "cell_type": "code",
   "execution_count": 5,
   "metadata": {
    "collapsed": true
   },
   "outputs": [
    {
     "name": "stdout",
     "output_type": "stream",
     "text": [
      "mass parameter doesnt exist\n",
      "period(s) = 18.4556221962\n",
      "finish\n",
      "mass parameter doesnt exist\n",
      "period(s) = 14.5644688606\n",
      "finish\n",
      "mass parameter doesnt exist\n",
      "period(s) = 17.6502180099\n",
      "finish\n",
      "mass parameter doesnt exist\n",
      "period(s) = 16.5023150444\n",
      "finish\n",
      "mass parameter doesnt exist\n",
      "period(s) = 16.7912068367\n",
      "finish\n",
      "mass parameter doesnt exist\n",
      "period(s) = 16.974601984\n",
      "finish\n",
      "mass parameter doesnt exist\n",
      "period(s) = 16.7527141571\n",
      "finish\n",
      "mass parameter doesnt exist\n",
      "period(s) = 16.6044700146\n",
      "finish\n",
      "mass parameter doesnt exist\n",
      "period(s) = 16.9278249741\n",
      "finish\n"
     ]
    }
   ],
   "source": [
    "prlist = [1.7, 1.4, 1.3, 1.1, 0.9, 0.85, 0.75, 0.65, 0.55]\n",
    "for n in prlist:\n",
    "    specdatagenerator('/Volumes/Mac/GW/time/overlap/5~75/validationdata_time_pr'+str(n)+'_mr<=10.h5',\n",
    "                  '/Volumes/Mac/GW/spec/overlap/5~75/validationdata_spec16-8_freq512_pr'+str(n)+'_mr<=10.h5')"
   ]
  },
  {
   "cell_type": "markdown",
   "metadata": {},
   "source": [
    "training data"
   ]
  },
  {
   "cell_type": "code",
   "execution_count": 14,
   "metadata": {
    "collapsed": true
   },
   "outputs": [
    {
     "name": "stdout",
     "output_type": "stream",
     "text": [
      "period(s) = 38.9455449581\n",
      "finish\n",
      "period(s) = 37.9567210674\n",
      "finish\n",
      "period(s) = 37.2877311707\n",
      "finish\n",
      "period(s) = 36.9237480164\n",
      "finish\n",
      "period(s) = 37.968157053\n",
      "finish\n",
      "period(s) = 39.0253999233\n",
      "finish\n",
      "period(s) = 37.4290521145\n",
      "finish\n",
      "period(s) = 37.7033929825\n",
      "finish\n"
     ]
    }
   ],
   "source": [
    "for n in prlist:\n",
    "    specdatagenerator('/Volumes/Mac/GW/time/withoutoverlap/5~75/trainingdata_time_pr'+str(n)+'_mr<=10.h5',\n",
    "                  '/Volumes/Mac/GW/spec/withoutoverlap/5~75/trainingdatawo_spec16-8_freq512_pr'+str(n)+'_mr<=10.h5')"
   ]
  },
  {
   "cell_type": "code",
   "execution_count": 6,
   "metadata": {
    "collapsed": true
   },
   "outputs": [
    {
     "name": "stdout",
     "output_type": "stream",
     "text": [
      "period(s) = 33.8775508404\n",
      "finish\n",
      "period(s) = 33.9470880032\n",
      "finish\n",
      "period(s) = 34.1838498116\n",
      "finish\n",
      "period(s) = 35.1090400219\n",
      "finish\n",
      "period(s) = 31.6901459694\n",
      "finish\n",
      "period(s) = 29.670899868\n",
      "finish\n",
      "period(s) = 28.8071358204\n",
      "finish\n",
      "period(s) = 29.0386610031\n",
      "finish\n",
      "period(s) = 28.8766620159\n",
      "finish\n"
     ]
    }
   ],
   "source": [
    "for n in prlist:\n",
    "    specdatagenerator('/Volumes/Mac/GW/time/withoutoverlap/5~75/trainingdata_time_pr'+str(n)+'_mr<=10.h5',\n",
    "                  '/Volumes/Mac/GW/spec/withoutoverlap/5~75/trainingdatawo_spec16-8_freq512_pr'+str(n)+'_mr<=10.h5')"
   ]
  },
  {
   "cell_type": "markdown",
   "metadata": {},
   "source": [
    "test data"
   ]
  },
  {
   "cell_type": "code",
   "execution_count": 15,
   "metadata": {
    "collapsed": true
   },
   "outputs": [
    {
     "name": "stdout",
     "output_type": "stream",
     "text": [
      "period(s) = 39.3785271645\n",
      "finish\n",
      "period(s) = 39.0076231956\n",
      "finish\n",
      "period(s) = 39.762253046\n",
      "finish\n",
      "period(s) = 41.4780650139\n",
      "finish\n",
      "period(s) = 39.977191925\n",
      "finish\n",
      "period(s) = 43.6722509861\n",
      "finish\n",
      "period(s) = 42.0169270039\n",
      "finish\n",
      "period(s) = 40.2135951519\n",
      "finish\n"
     ]
    }
   ],
   "source": [
    "for n in prlist:\n",
    "    specdatagenerator('/Volumes/Mac/GW/time/withoutoverlap/5.5~74.5/testdata_time_pr'+str(n)+'_mr<=10.h5', \n",
    "                  '/Volumes/Mac/GW/spec/withoutoverlap/5.5~74.5/testdatawo_spec16-8_freq512_pr'+str(n)+'_mr<=10.h5')"
   ]
  },
  {
   "cell_type": "code",
   "execution_count": 7,
   "metadata": {
    "collapsed": true
   },
   "outputs": [
    {
     "name": "stdout",
     "output_type": "stream",
     "text": [
      "period(s) = 28.0810761452\n",
      "finish\n",
      "period(s) = 28.1946871281\n",
      "finish\n",
      "period(s) = 28.3800208569\n",
      "finish\n",
      "period(s) = 30.6191909313\n",
      "finish\n",
      "period(s) = 28.6282300949\n",
      "finish\n",
      "period(s) = 28.7353317738\n",
      "finish\n",
      "period(s) = 35.435541153\n",
      "finish\n",
      "period(s) = 38.7925388813\n",
      "finish\n",
      "period(s) = 36.350744009\n",
      "finish\n"
     ]
    }
   ],
   "source": [
    "for n in prlist:\n",
    "    specdatagenerator('/Volumes/Mac/GW/time/withoutoverlap/5.5~74.5/testdata_time_pr'+str(n)+'_mr<=10.h5', \n",
    "                  '/Volumes/Mac/GW/spec/withoutoverlap/5.5~74.5/testdatawo_spec16-8_freq512_pr'+str(n)+'_mr<=10.h5')"
   ]
  },
  {
   "cell_type": "code",
   "execution_count": 26,
   "metadata": {},
   "outputs": [
    {
     "name": "stdout",
     "output_type": "stream",
     "text": [
      "0.0\n",
      "(33, 121)\n",
      "[0. 0.]\n"
     ]
    },
    {
     "data": {
      "image/png": "[encoded data removed]",
      "text/plain": [
       "<Figure size 432x288 with 1 Axes>"
      ]
     },
     "metadata": {},
     "output_type": "display_data"
    }
   ],
   "source": [
    "dd = h5py.File('/Volumes/Mac/GW/spec/withoutoverlap/5.5~74.5/testdatawo_spec16-8_freq512_pr1.2_mr<=10.h5','r') \n",
    "i=1007\n",
    "plt.imshow(dd['data'][i], cmap='binary')\n",
    "print dd['label'][i]\n",
    "print dd['data'][i].shape\n",
    "print dd['parameter'][i]\n",
    "dd.close()"
   ]
  },
  {
   "cell_type": "code",
   "execution_count": 27,
   "metadata": {
    "collapsed": true
   },
   "outputs": [
    {
     "name": "stdout",
     "output_type": "stream",
     "text": [
      "period(s) = 27.4275650978\n",
      "finish\n",
      "period(s) = 30.2135140896\n",
      "finish\n",
      "period(s) = 31.7451989651\n",
      "finish\n",
      "period(s) = 28.9059271812\n",
      "finish\n",
      "period(s) = 29.5972640514\n",
      "finish\n",
      "period(s) = 29.7451519966\n",
      "finish\n",
      "period(s) = 29.8790009022\n",
      "finish\n",
      "period(s) = 29.6274690628\n",
      "finish\n",
      "period(s) = 29.3675789833\n",
      "finish\n",
      "period(s) = 28.2623829842\n",
      "finish\n",
      "period(s) = 25.9626438618\n",
      "finish\n",
      "period(s) = 28.7068779469\n",
      "finish\n",
      "period(s) = 29.0282900333\n",
      "finish\n",
      "period(s) = 27.7470359802\n",
      "finish\n",
      "period(s) = 28.0339419842\n",
      "finish\n",
      "period(s) = 30.0427179337\n",
      "finish\n",
      "period(s) = 28.3720140457\n",
      "finish\n",
      "period(s) = 27.8871848583\n",
      "finish\n",
      "period(s) = 27.1625590324\n",
      "finish\n",
      "period(s) = 26.8545601368\n",
      "finish\n",
      "period(s) = 28.2152528763\n",
      "finish\n",
      "period(s) = 28.0061149597\n",
      "finish\n",
      "period(s) = 27.5366802216\n",
      "finish\n",
      "period(s) = 27.8235499859\n",
      "finish\n",
      "period(s) = 27.6018841267\n",
      "finish\n",
      "period(s) = 27.0655648708\n",
      "finish\n",
      "period(s) = 27.4290599823\n",
      "finish\n",
      "period(s) = 27.0108559132\n",
      "finish\n",
      "period(s) = 27.2238729\n",
      "finish\n",
      "period(s) = 33.5068268776\n",
      "finish\n",
      "period(s) = 28.3190438747\n",
      "finish\n",
      "period(s) = 26.4928221703\n",
      "finish\n",
      "period(s) = 26.3931729794\n",
      "finish\n",
      "period(s) = 26.0843989849\n",
      "finish\n",
      "period(s) = 26.3162140846\n",
      "finish\n",
      "period(s) = 27.1526710987\n",
      "finish\n",
      "period(s) = 27.7447488308\n",
      "finish\n",
      "period(s) = 27.1858649254\n",
      "finish\n",
      "period(s) = 27.9993481636\n",
      "finish\n",
      "period(s) = 28.2186501026\n",
      "finish\n",
      "period(s) = 26.8215901852\n",
      "finish\n",
      "period(s) = 27.4735350609\n",
      "finish\n",
      "period(s) = 26.0974640846\n",
      "finish\n",
      "period(s) = 26.1181731224\n",
      "finish\n",
      "period(s) = 27.8823540211\n",
      "finish\n",
      "period(s) = 26.6180620193\n",
      "finish\n",
      "period(s) = 27.5337200165\n",
      "finish\n",
      "period(s) = 28.4859478474\n",
      "finish\n",
      "period(s) = 27.0093221664\n",
      "finish\n",
      "period(s) = 26.3969180584\n",
      "finish\n"
     ]
    }
   ],
   "source": [
    "m=0.5\n",
    "for i in range(50):\n",
    "    specdatagenerator('/Volumes/Mac/GW/time/withoutoverlap/5.5~74.5/testdata_time_pr'+str(m)+'_2time10_'+str(i)+'_mr<=10.h5',\n",
    "                      '/Volumes/Mac/GW/spec/withoutoverlap/5.5~74.5/testdatawo_spec16-8_freq512_pr'+str(m)+'_2time10_'+str(i)+'_mr<=10.h5')"
   ]
  },
  {
   "cell_type": "markdown",
   "metadata": {},
   "source": [
    "# Classification data"
   ]
  },
  {
   "cell_type": "code",
   "execution_count": 6,
   "metadata": {},
   "outputs": [
    {
     "name": "stdout",
     "output_type": "stream",
     "text": [
      "['10.00', '6.67', '5.00', '4.00', '3.33', '2.86', '2.50', '2.22', '2.00', '1.82', '1.67', '1.54', '1.43', '1.33', '1.25', '1.18', '1.11', '1.05', '1.00', '0.95', '0.91', '0.87', '0.83', '0.80', '0.77', '0.74', '0.71', '0.69', '0.67', '0.65', '0.62', '0.61', '0.59', '0.57', '0.56', '0.54', '0.53', '0.51', '0.50']\n"
     ]
    }
   ],
   "source": [
    "prlist = []\n",
    "ns=0.1\n",
    "for i in range(39):\n",
    "    #print '{0:.2f}   {1:.2f}   {2:.2f}'.format(ns, 1/ns, 1/ns*10)\n",
    "    prlist.append('{:.2f}'.format(1/ns))\n",
    "    ns += 0.05\n",
    "print prlist"
   ]
  },
  {
   "cell_type": "code",
   "execution_count": 8,
   "metadata": {
    "collapsed": true
   },
   "outputs": [
    {
     "ename": "RuntimeError",
     "evalue": "Unable to create link (name already exists)",
     "output_type": "error",
     "traceback": [
      "\u001b[0;31m---------------------------------------------------------------------------\u001b[0m",
      "\u001b[0;31mRuntimeError\u001b[0m                              Traceback (most recent call last)",
      "\u001b[0;32m<ipython-input-8-eba8c3f44225>\u001b[0m in \u001b[0;36m<module>\u001b[0;34m()\u001b[0m\n\u001b[1;32m      2\u001b[0m     \u001b[0mpr\u001b[0m\u001b[0;34m=\u001b[0m\u001b[0mfloat\u001b[0m\u001b[0;34m(\u001b[0m\u001b[0mi\u001b[0m\u001b[0;34m)\u001b[0m\u001b[0;34m\u001b[0m\u001b[0m\n\u001b[1;32m      3\u001b[0m     specdatagenerator('/Volumes/Mac/GW/time/withoutoverlap/5~75/trainingdata_time_pr{0}.h5'.format(i), \n\u001b[0;32m----> 4\u001b[0;31m               '/Volumes/Mac/GW/spec/withoutoverlap/5~75/trainingdata_spec_pr{0}.h5'.format(i))\n\u001b[0m",
      "\u001b[0;32m<ipython-input-5-687d50e9dd0c>\u001b[0m in \u001b[0;36mspecdatagenerator\u001b[0;34m(datafile, filename)\u001b[0m\n\u001b[1;32m      8\u001b[0m \u001b[0;34m\u001b[0m\u001b[0m\n\u001b[1;32m      9\u001b[0m     \u001b[0mf\u001b[0m \u001b[0;34m=\u001b[0m \u001b[0mh5py\u001b[0m\u001b[0;34m.\u001b[0m\u001b[0mFile\u001b[0m\u001b[0;34m(\u001b[0m\u001b[0mfilename\u001b[0m\u001b[0;34m,\u001b[0m\u001b[0;34m'a'\u001b[0m\u001b[0;34m)\u001b[0m\u001b[0;34m\u001b[0m\u001b[0m\n\u001b[0;32m---> 10\u001b[0;31m     \u001b[0mf\u001b[0m\u001b[0;34m.\u001b[0m\u001b[0mcreate_dataset\u001b[0m\u001b[0;34m(\u001b[0m\u001b[0;34m'label'\u001b[0m\u001b[0;34m,\u001b[0m \u001b[0mdata\u001b[0m \u001b[0;34m=\u001b[0m \u001b[0mg\u001b[0m\u001b[0;34m[\u001b[0m\u001b[0;34m'label'\u001b[0m\u001b[0;34m]\u001b[0m\u001b[0;34m)\u001b[0m\u001b[0;34m\u001b[0m\u001b[0m\n\u001b[0m\u001b[1;32m     11\u001b[0m     \u001b[0mf\u001b[0m\u001b[0;34m.\u001b[0m\u001b[0mcreate_dataset\u001b[0m\u001b[0;34m(\u001b[0m\u001b[0;34m'data'\u001b[0m\u001b[0;34m,\u001b[0m\u001b[0;34m(\u001b[0m\u001b[0mdatanumber\u001b[0m\u001b[0;34m,\u001b[0m \u001b[0midx512\u001b[0m\u001b[0;34m+\u001b[0m\u001b[0;36m1\u001b[0m\u001b[0;34m,\u001b[0m \u001b[0mlent\u001b[0m\u001b[0;34m)\u001b[0m\u001b[0;34m)\u001b[0m \u001b[0;31m#maxshape=(None,None,None))\u001b[0m\u001b[0;34m\u001b[0m\u001b[0m\n\u001b[1;32m     12\u001b[0m     \u001b[0;32mtry\u001b[0m\u001b[0;34m:\u001b[0m\u001b[0;34m\u001b[0m\u001b[0m\n",
      "\u001b[0;32m/anaconda3/envs/anacondapy2/lib/python2.7/site-packages/h5py/_hl/group.pyc\u001b[0m in \u001b[0;36mcreate_dataset\u001b[0;34m(self, name, shape, dtype, data, **kwds)\u001b[0m\n\u001b[1;32m    107\u001b[0m             \u001b[0mdset\u001b[0m \u001b[0;34m=\u001b[0m \u001b[0mdataset\u001b[0m\u001b[0;34m.\u001b[0m\u001b[0mDataset\u001b[0m\u001b[0;34m(\u001b[0m\u001b[0mdsid\u001b[0m\u001b[0;34m)\u001b[0m\u001b[0;34m\u001b[0m\u001b[0m\n\u001b[1;32m    108\u001b[0m             \u001b[0;32mif\u001b[0m \u001b[0mname\u001b[0m \u001b[0;32mis\u001b[0m \u001b[0;32mnot\u001b[0m \u001b[0mNone\u001b[0m\u001b[0;34m:\u001b[0m\u001b[0;34m\u001b[0m\u001b[0m\n\u001b[0;32m--> 109\u001b[0;31m                 \u001b[0mself\u001b[0m\u001b[0;34m[\u001b[0m\u001b[0mname\u001b[0m\u001b[0;34m]\u001b[0m \u001b[0;34m=\u001b[0m \u001b[0mdset\u001b[0m\u001b[0;34m\u001b[0m\u001b[0m\n\u001b[0m\u001b[1;32m    110\u001b[0m             \u001b[0;32mreturn\u001b[0m \u001b[0mdset\u001b[0m\u001b[0;34m\u001b[0m\u001b[0m\n\u001b[1;32m    111\u001b[0m \u001b[0;34m\u001b[0m\u001b[0m\n",
      "\u001b[0;32m/anaconda3/envs/anacondapy2/lib/python2.7/site-packages/h5py/_hl/group.pyc\u001b[0m in \u001b[0;36m__setitem__\u001b[0;34m(self, name, obj)\u001b[0m\n\u001b[1;32m    275\u001b[0m \u001b[0;34m\u001b[0m\u001b[0m\n\u001b[1;32m    276\u001b[0m             \u001b[0;32mif\u001b[0m \u001b[0misinstance\u001b[0m\u001b[0;34m(\u001b[0m\u001b[0mobj\u001b[0m\u001b[0;34m,\u001b[0m \u001b[0mHLObject\u001b[0m\u001b[0;34m)\u001b[0m\u001b[0;34m:\u001b[0m\u001b[0;34m\u001b[0m\u001b[0m\n\u001b[0;32m--> 277\u001b[0;31m                 \u001b[0mh5o\u001b[0m\u001b[0;34m.\u001b[0m\u001b[0mlink\u001b[0m\u001b[0;34m(\u001b[0m\u001b[0mobj\u001b[0m\u001b[0;34m.\u001b[0m\u001b[0mid\u001b[0m\u001b[0;34m,\u001b[0m \u001b[0mself\u001b[0m\u001b[0;34m.\u001b[0m\u001b[0mid\u001b[0m\u001b[0;34m,\u001b[0m \u001b[0mname\u001b[0m\u001b[0;34m,\u001b[0m \u001b[0mlcpl\u001b[0m\u001b[0;34m=\u001b[0m\u001b[0mlcpl\u001b[0m\u001b[0;34m,\u001b[0m \u001b[0mlapl\u001b[0m\u001b[0;34m=\u001b[0m\u001b[0mself\u001b[0m\u001b[0;34m.\u001b[0m\u001b[0m_lapl\u001b[0m\u001b[0;34m)\u001b[0m\u001b[0;34m\u001b[0m\u001b[0m\n\u001b[0m\u001b[1;32m    278\u001b[0m \u001b[0;34m\u001b[0m\u001b[0m\n\u001b[1;32m    279\u001b[0m             \u001b[0;32melif\u001b[0m \u001b[0misinstance\u001b[0m\u001b[0;34m(\u001b[0m\u001b[0mobj\u001b[0m\u001b[0;34m,\u001b[0m \u001b[0mSoftLink\u001b[0m\u001b[0;34m)\u001b[0m\u001b[0;34m:\u001b[0m\u001b[0;34m\u001b[0m\u001b[0m\n",
      "\u001b[0;32mh5py/_objects.pyx\u001b[0m in \u001b[0;36mh5py._objects.with_phil.wrapper\u001b[0;34m()\u001b[0m\n",
      "\u001b[0;32mh5py/_objects.pyx\u001b[0m in \u001b[0;36mh5py._objects.with_phil.wrapper\u001b[0;34m()\u001b[0m\n",
      "\u001b[0;32mh5py/h5o.pyx\u001b[0m in \u001b[0;36mh5py.h5o.link\u001b[0;34m()\u001b[0m\n",
      "\u001b[0;31mRuntimeError\u001b[0m: Unable to create link (name already exists)"
     ]
    }
   ],
   "source": [
    "for i in prlist:\n",
    "    pr=float(i)\n",
    "    specdatagenerator('/Volumes/Mac/GW/time/withoutoverlap/5~75/trainingdata_time_pr{0}.h5'.format(i), \n",
    "              '/Volumes/Mac/GW/spec/withoutoverlap/5~75/trainingdata_spec_pr{0}.h5'.format(i))"
   ]
  },
  {
   "cell_type": "code",
   "execution_count": 9,
   "metadata": {
    "collapsed": true
   },
   "outputs": [
    {
     "name": "stdout",
     "output_type": "stream",
     "text": [
      "period(s) = 9.22573399544\n",
      "finish\n",
      "period(s) = 8.89777517319\n",
      "finish\n",
      "period(s) = 8.98969602585\n",
      "finish\n",
      "period(s) = 9.19878101349\n",
      "finish\n",
      "period(s) = 9.12988591194\n",
      "finish\n",
      "period(s) = 9.15826296806\n",
      "finish\n",
      "period(s) = 9.17570710182\n",
      "finish\n",
      "period(s) = 9.26500797272\n",
      "finish\n",
      "period(s) = 8.93912482262\n",
      "finish\n",
      "period(s) = 9.23796510696\n",
      "finish\n",
      "period(s) = 9.20009016991\n",
      "finish\n",
      "period(s) = 9.18686413765\n",
      "finish\n",
      "period(s) = 9.0795071125\n",
      "finish\n",
      "period(s) = 9.13843107224\n",
      "finish\n",
      "period(s) = 8.86544704437\n",
      "finish\n",
      "period(s) = 9.05792808533\n",
      "finish\n",
      "period(s) = 9.13377404213\n",
      "finish\n",
      "period(s) = 8.88401484489\n",
      "finish\n",
      "period(s) = 8.78041219711\n",
      "finish\n",
      "period(s) = 8.90260696411\n",
      "finish\n",
      "period(s) = 9.19536781311\n",
      "finish\n",
      "period(s) = 9.23892903328\n",
      "finish\n",
      "period(s) = 8.99122190475\n",
      "finish\n",
      "period(s) = 9.24713301659\n",
      "finish\n",
      "period(s) = 9.14352989197\n",
      "finish\n",
      "period(s) = 8.89031600952\n",
      "finish\n",
      "period(s) = 9.30998706818\n",
      "finish\n",
      "period(s) = 9.1873550415\n",
      "finish\n",
      "period(s) = 9.04927611351\n",
      "finish\n",
      "period(s) = 9.0562069416\n",
      "finish\n",
      "period(s) = 9.4418361187\n",
      "finish\n",
      "period(s) = 9.02437496185\n",
      "finish\n",
      "period(s) = 9.23337197304\n",
      "finish\n",
      "period(s) = 9.26953697205\n",
      "finish\n",
      "period(s) = 10.0802178383\n",
      "finish\n",
      "period(s) = 9.54863595963\n",
      "finish\n",
      "period(s) = 9.45402407646\n",
      "finish\n",
      "period(s) = 563.270662069\n",
      "finish\n",
      "period(s) = 10.5524330139\n",
      "finish\n"
     ]
    }
   ],
   "source": [
    "for i in prlist:\n",
    "    pr=float(i)\n",
    "    specdatagenerator('/Volumes/Mac/GW/time/withoutoverlap/5~75/validationdata_time_pr{0}.h5'.format(i), \n",
    "              '/Volumes/Mac/GW/spec/withoutoverlap/5~75/validationdata_spec_pr{0}.h5'.format(i))"
   ]
  },
  {
   "cell_type": "code",
   "execution_count": 10,
   "metadata": {
    "collapsed": true
   },
   "outputs": [
    {
     "name": "stdout",
     "output_type": "stream",
     "text": [
      "period(s) = 24.9265038967\n",
      "finish\n",
      "period(s) = 24.4828500748\n",
      "finish\n",
      "period(s) = 23.5168869495\n",
      "finish\n",
      "period(s) = 28.9496610165\n",
      "finish\n",
      "period(s) = 31.9483749866\n",
      "finish\n",
      "period(s) = 26.4317369461\n",
      "finish\n",
      "period(s) = 23.0766592026\n",
      "finish\n",
      "period(s) = 24.6062049866\n",
      "finish\n",
      "period(s) = 23.8612048626\n",
      "finish\n",
      "period(s) = 24.172011137\n",
      "finish\n",
      "period(s) = 23.8346951008\n",
      "finish\n",
      "period(s) = 23.3691329956\n",
      "finish\n",
      "period(s) = 24.6962380409\n",
      "finish\n",
      "period(s) = 23.7540128231\n",
      "finish\n",
      "period(s) = 23.4873700142\n",
      "finish\n",
      "period(s) = 23.4735450745\n",
      "finish\n",
      "period(s) = 24.847358942\n",
      "finish\n",
      "period(s) = 23.9954738617\n",
      "finish\n",
      "period(s) = 23.6676180363\n",
      "finish\n",
      "period(s) = 23.6616611481\n",
      "finish\n",
      "period(s) = 26.6247169971\n",
      "finish\n",
      "period(s) = 26.2232990265\n",
      "finish\n",
      "period(s) = 25.5864808559\n",
      "finish\n",
      "period(s) = 27.5648460388\n",
      "finish\n",
      "period(s) = 26.1738541126\n",
      "finish\n",
      "period(s) = 27.6468880177\n",
      "finish\n",
      "period(s) = 29.0433061123\n",
      "finish\n",
      "period(s) = 28.724241972\n",
      "finish\n",
      "period(s) = 29.3198428154\n",
      "finish\n",
      "period(s) = 26.7730770111\n",
      "finish\n",
      "period(s) = 28.746568203\n",
      "finish\n",
      "period(s) = 27.804322958\n",
      "finish\n",
      "period(s) = 27.7375631332\n",
      "finish\n",
      "period(s) = 29.3201730251\n",
      "finish\n",
      "period(s) = 28.9154691696\n",
      "finish\n",
      "period(s) = 29.4457409382\n",
      "finish\n",
      "period(s) = 30.2846679688\n",
      "finish\n",
      "period(s) = 28.7986178398\n",
      "finish\n",
      "period(s) = 27.9854061604\n",
      "finish\n"
     ]
    }
   ],
   "source": [
    "for i in prlist:\n",
    "    pr=float(i)\n",
    "    specdatagenerator('/Volumes/Mac/GW/time/withoutoverlap/5.5~74.5/testdata_time_pr{0}.h5'.format(i), \n",
    "              '/Volumes/Mac/GW/spec/withoutoverlap/5.5~74.5/testdata_spec_pr{0}.h5'.format(i))"
   ]
  },
  {
   "cell_type": "code",
   "execution_count": 11,
   "metadata": {
    "collapsed": true
   },
   "outputs": [
    {
     "name": "stdout",
     "output_type": "stream",
     "text": [
      "period(s) = 16.7440900803\n",
      "finish\n",
      "period(s) = 173.283450842\n",
      "finish\n",
      "period(s) = 165.237542152\n",
      "finish\n"
     ]
    }
   ],
   "source": [
    "specdatagenerator('/Volumes/Mac/GW/time/overlap/5~75/finalvalidationdata_time.h5',\n",
    "                  '/Volumes/Mac/GW/spec/overlap/5~75/finalvalidationdata_spec.h5')\n",
    "specdatagenerator('/Volumes/Mac/GW/time/overlap/5~75/finaltestdata_time.h5',\n",
    "                  '/Volumes/Mac/GW/spec/overlap/5~75/finaltestdata_spec.h5')\n",
    "specdatagenerator('/Volumes/Mac/GW/time/overlap/5~75/finaltrainingdata_time.h5',\n",
    "                  '/Volumes/Mac/GW/spec/overlap/5~75/finaltrainingdata_spec.h5')"
   ]
  },
  {
   "cell_type": "markdown",
   "metadata": {},
   "source": [
    "# PE data"
   ]
  },
  {
   "cell_type": "code",
   "execution_count": 9,
   "metadata": {
    "collapsed": true
   },
   "outputs": [
    {
     "name": "stdout",
     "output_type": "stream",
     "text": [
      "period(s) = 36.2833180428\n",
      "finish\n",
      "period(s) = 36.5603370667\n",
      "finish\n",
      "period(s) = 33.9322860241\n",
      "finish\n",
      "period(s) = 34.1458959579\n",
      "finish\n",
      "period(s) = 34.1926698685\n",
      "finish\n",
      "period(s) = 33.937664032\n",
      "finish\n",
      "period(s) = 33.6298251152\n",
      "finish\n",
      "period(s) = 33.9859519005\n",
      "finish\n",
      "period(s) = 34.2745778561\n",
      "finish\n",
      "period(s) = 34.0154881477\n",
      "finish\n",
      "period(s) = 34.1672189236\n",
      "finish\n",
      "period(s) = 36.5225071907\n",
      "finish\n",
      "period(s) = 44.9939761162\n",
      "finish\n",
      "period(s) = 43.6631829739\n",
      "finish\n",
      "period(s) = 44.5487430096\n",
      "finish\n",
      "period(s) = 46.2634620667\n",
      "finish\n",
      "period(s) = 47.368901968\n",
      "finish\n",
      "period(s) = 45.4099860191\n",
      "finish\n",
      "period(s) = 48.8815329075\n",
      "finish\n",
      "period(s) = 56.7741501331\n",
      "finish\n",
      "period(s) = 56.6294579506\n",
      "finish\n",
      "period(s) = 48.1350929737\n",
      "finish\n",
      "period(s) = 53.6283249855\n",
      "finish\n",
      "period(s) = 53.3461990356\n",
      "finish\n",
      "period(s) = 51.7863759995\n",
      "finish\n",
      "period(s) = 53.5797669888\n",
      "finish\n",
      "period(s) = 54.1969311237\n",
      "finish\n",
      "period(s) = 50.9441850185\n",
      "finish\n",
      "period(s) = 46.15832901\n",
      "finish\n",
      "period(s) = 35.5155580044\n",
      "finish\n",
      "period(s) = 34.7328138351\n",
      "finish\n",
      "period(s) = 34.3860609531\n",
      "finish\n",
      "period(s) = 33.9238250256\n",
      "finish\n",
      "period(s) = 34.346711874\n",
      "finish\n",
      "period(s) = 34.4609451294\n",
      "finish\n",
      "period(s) = 34.2118339539\n",
      "finish\n",
      "period(s) = 34.5303981304\n",
      "finish\n",
      "period(s) = 34.2785680294\n",
      "finish\n",
      "period(s) = 34.0123970509\n",
      "finish\n"
     ]
    }
   ],
   "source": [
    "for i in prlist:\n",
    "    pr=float(i)\n",
    "    specdatagenerator('/Volumes/Mac/GW/time/withoutoverlap/5~75_PE/trainingdata_time_PE_pr{0}.h5'.format(i), \n",
    "              '/Volumes/Mac/GW/spec/withoutoverlap/5~75_PE/trainingdata_spec_PE_pr{0}.h5'.format(i))"
   ]
  },
  {
   "cell_type": "code",
   "execution_count": 8,
   "metadata": {
    "collapsed": true
   },
   "outputs": [
    {
     "name": "stdout",
     "output_type": "stream",
     "text": [
      "period(s) = 12.2437138557\n",
      "finish\n",
      "period(s) = 11.8599591255\n",
      "finish\n",
      "period(s) = 11.7970199585\n",
      "finish\n",
      "period(s) = 15.1280698776\n",
      "finish\n",
      "period(s) = 12.4290230274\n",
      "finish\n",
      "period(s) = 12.299339056\n",
      "finish\n",
      "period(s) = 13.1704230309\n",
      "finish\n",
      "period(s) = 13.086222887\n",
      "finish\n",
      "period(s) = 11.9453601837\n",
      "finish\n",
      "period(s) = 11.2273600101\n",
      "finish\n",
      "period(s) = 11.4805910587\n",
      "finish\n",
      "period(s) = 11.2694251537\n",
      "finish\n",
      "period(s) = 12.3362290859\n",
      "finish\n",
      "period(s) = 12.553581953\n",
      "finish\n",
      "period(s) = 12.173473835\n",
      "finish\n",
      "period(s) = 12.9631159306\n",
      "finish\n",
      "period(s) = 12.567948103\n",
      "finish\n",
      "period(s) = 11.1708059311\n",
      "finish\n",
      "period(s) = 11.107708931\n",
      "finish\n",
      "period(s) = 11.1563169956\n",
      "finish\n",
      "period(s) = 11.2577648163\n",
      "finish\n",
      "period(s) = 11.4335839748\n",
      "finish\n",
      "period(s) = 11.6631479263\n",
      "finish\n",
      "period(s) = 12.0495400429\n",
      "finish\n",
      "period(s) = 11.0589101315\n",
      "finish\n",
      "period(s) = 11.8446211815\n",
      "finish\n",
      "period(s) = 11.3551230431\n",
      "finish\n",
      "period(s) = 11.1665949821\n",
      "finish\n",
      "period(s) = 11.0694060326\n",
      "finish\n",
      "period(s) = 11.335493803\n",
      "finish\n",
      "period(s) = 11.3248591423\n",
      "finish\n",
      "period(s) = 11.9799480438\n",
      "finish\n",
      "period(s) = 13.1371510029\n",
      "finish\n",
      "period(s) = 12.0711560249\n",
      "finish\n",
      "period(s) = 11.4882152081\n",
      "finish\n",
      "period(s) = 12.697510004\n",
      "finish\n",
      "period(s) = 11.7505249977\n",
      "finish\n",
      "period(s) = 11.083933115\n",
      "finish\n",
      "period(s) = 11.0873568058\n",
      "finish\n"
     ]
    }
   ],
   "source": [
    "for i in prlist:\n",
    "    pr=float(i)\n",
    "    specdatagenerator('/Volumes/Mac/GW/time/withoutoverlap/5.5~74.5_PE/testdata_time_PE_pr{0}.h5'.format(i), \n",
    "              '/Volumes/Mac/GW/spec/withoutoverlap/5.5~74.5_PE/testdata_spec_PE_pr{0}.h5'.format(i))"
   ]
  },
  {
   "cell_type": "code",
   "execution_count": 7,
   "metadata": {
    "collapsed": true
   },
   "outputs": [
    {
     "name": "stdout",
     "output_type": "stream",
     "text": [
      "period(s) = 5.31055998802\n",
      "finish\n",
      "period(s) = 4.67932701111\n",
      "finish\n",
      "period(s) = 4.68821287155\n",
      "finish\n",
      "period(s) = 4.98529195786\n",
      "finish\n",
      "period(s) = 4.67136597633\n",
      "finish\n",
      "period(s) = 5.00875902176\n",
      "finish\n",
      "period(s) = 5.07135891914\n",
      "finish\n",
      "period(s) = 6.35536813736\n",
      "finish\n",
      "period(s) = 5.32045483589\n",
      "finish\n",
      "period(s) = 4.83941698074\n",
      "finish\n",
      "period(s) = 4.74957489967\n",
      "finish\n",
      "period(s) = 5.94477200508\n",
      "finish\n",
      "period(s) = 5.92473983765\n",
      "finish\n",
      "period(s) = 5.98885989189\n",
      "finish\n",
      "period(s) = 4.72079086304\n",
      "finish\n",
      "period(s) = 6.35301208496\n",
      "finish\n",
      "period(s) = 5.68964982033\n",
      "finish\n",
      "period(s) = 4.87722706795\n",
      "finish\n",
      "period(s) = 5.50470805168\n",
      "finish\n",
      "period(s) = 5.33774089813\n",
      "finish\n",
      "period(s) = 5.45487904549\n",
      "finish\n",
      "period(s) = 5.20397400856\n",
      "finish\n",
      "period(s) = 5.56776881218\n",
      "finish\n",
      "period(s) = 5.34259009361\n",
      "finish\n",
      "period(s) = 5.31862688065\n",
      "finish\n",
      "period(s) = 5.21310997009\n",
      "finish\n",
      "period(s) = 4.93152689934\n",
      "finish\n",
      "period(s) = 5.06747889519\n",
      "finish\n",
      "period(s) = 5.05778002739\n",
      "finish\n",
      "period(s) = 5.15315413475\n",
      "finish\n",
      "period(s) = 4.92366099358\n",
      "finish\n",
      "period(s) = 5.0015039444\n",
      "finish\n",
      "period(s) = 4.95290207863\n",
      "finish\n",
      "period(s) = 5.23171210289\n",
      "finish\n",
      "period(s) = 5.19048810005\n",
      "finish\n",
      "period(s) = 4.93937897682\n",
      "finish\n",
      "period(s) = 5.17061305046\n",
      "finish\n",
      "period(s) = 5.73679995537\n",
      "finish\n",
      "period(s) = 5.14424490929\n",
      "finish\n"
     ]
    }
   ],
   "source": [
    "for i in prlist:\n",
    "    pr=float(i)\n",
    "    specdatagenerator('/Volumes/Mac/GW/time/withoutoverlap/5~75_PE/validationdata_time_PE_pr{0}.h5'.format(i), \n",
    "              '/Volumes/Mac/GW/spec/withoutoverlap/5~75_PE/validationdata_spec_PE_pr{0}.h5'.format(i))"
   ]
  },
  {
   "cell_type": "code",
   "execution_count": 11,
   "metadata": {},
   "outputs": [
    {
     "name": "stdout",
     "output_type": "stream",
     "text": [
      "period(s) = 295.348781109\n",
      "finish\n"
     ]
    }
   ],
   "source": [
    "specdatagenerator('/Volumes/Mac/GW/time/overlap/5~75_PE/finaltrainingdata_time_PE.h5', \n",
    "              '/Volumes/Mac/GW/spec/overlap/5~75_PE/finaltrainingdata_spec_PE.h5')"
   ]
  },
  {
   "cell_type": "code",
   "execution_count": 13,
   "metadata": {},
   "outputs": [
    {
     "name": "stdout",
     "output_type": "stream",
     "text": [
      "period(s) = 91.8010060787\n",
      "finish\n"
     ]
    }
   ],
   "source": [
    "specdatagenerator('/Volumes/Mac/GW/time/overlap/5~75_PE/finaltestdata_time_PE.h5', \n",
    "              '/Volumes/Mac/GW/spec/overlap/5~75_PE/finaltestdata_spec_PE.h5')"
   ]
  },
  {
   "cell_type": "code",
   "execution_count": 12,
   "metadata": {},
   "outputs": [
    {
     "name": "stdout",
     "output_type": "stream",
     "text": [
      "period(s) = 28.7751278877\n",
      "finish\n"
     ]
    }
   ],
   "source": [
    "specdatagenerator('/Volumes/Mac/GW/time/overlap/5~75_PE/finalvalidationdata_time_PE.h5', \n",
    "              '/Volumes/Mac/GW/spec/overlap/5~75_PE/finalvalidationdata_spec_PE.h5')"
   ]
  },
  {
   "cell_type": "code",
   "execution_count": 7,
   "metadata": {},
   "outputs": [
    {
     "name": "stdout",
     "output_type": "stream",
     "text": [
      "period(s) = 588.989958048\n",
      "finish\n"
     ]
    }
   ],
   "source": [
    "specdatagenerator('/Volumes/Mac/GW/time/withoutoverlap/5.5~74.5/testdata_time_error_relate_mass.h5', \n",
    "              '/Volumes/Mac/GW/spec/withoutoverlap/5.5~74.5/testdata_spec_error_relate_mass.h5')"
   ]
  },
  {
   "cell_type": "code",
   "execution_count": null,
   "metadata": {},
   "outputs": [],
   "source": []
  }
 ],
 "metadata": {
  "kernelspec": {
   "display_name": "Python 2",
   "language": "python",
   "name": "python2"
  },
  "language_info": {
   "codemirror_mode": {
    "name": "ipython",
    "version": 2
   },
   "file_extension": ".py",
   "mimetype": "text/x-python",
   "name": "python",
   "nbconvert_exporter": "python",
   "pygments_lexer": "ipython2",
   "version": "2.7.15"
  }
 },
 "nbformat": 4,
 "nbformat_minor": 2
}
